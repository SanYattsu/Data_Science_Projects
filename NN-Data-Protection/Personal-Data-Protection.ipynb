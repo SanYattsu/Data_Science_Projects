{
 "cells": [
  {
   "cell_type": "markdown",
   "metadata": {},
   "source": [
    "# Защита персональных данных клиентов"
   ]
  },
  {
   "cell_type": "markdown",
   "metadata": {},
   "source": [
    "**Цели:**\n",
    "* Нужно защитить данные клиентов страховой компании.\n",
    "* Разработайте такой метод преобразования данных, чтобы по ним было сложно восстановить персональную информацию. Обоснуйте корректность его работы.\n",
    "* Нужно защитить данные, чтобы при преобразовании качество моделей машинного обучения не ухудшилось."
   ]
  },
  {
   "cell_type": "code",
   "execution_count": 1,
   "metadata": {},
   "outputs": [],
   "source": [
    "import pandas as pd\n",
    "import numpy as np\n",
    "from scipy.stats import linregress\n",
    "\n",
    "from sklearn.preprocessing import StandardScaler\n",
    "from sklearn.model_selection import train_test_split\n",
    "from sklearn.linear_model import LinearRegression\n",
    "\n",
    "from sklearn.ensemble import RandomForestRegressor\n",
    "from sklearn.pipeline import make_pipeline\n",
    "from sklearn.metrics import mean_squared_error, r2_score"
   ]
  },
  {
   "cell_type": "code",
   "execution_count": 2,
   "metadata": {},
   "outputs": [],
   "source": [
    "pd.options.display.float_format = '{:0.3f}'.format\n",
    "np.set_printoptions(formatter={'float': lambda x: \"{0:0.3f}\".format(x)})"
   ]
  },
  {
   "cell_type": "markdown",
   "metadata": {},
   "source": [
    "## Загрузка данных"
   ]
  },
  {
   "cell_type": "code",
   "execution_count": 3,
   "metadata": {},
   "outputs": [
    {
     "data": {
      "text/html": [
       "<div>\n",
       "<style scoped>\n",
       "    .dataframe tbody tr th:only-of-type {\n",
       "        vertical-align: middle;\n",
       "    }\n",
       "\n",
       "    .dataframe tbody tr th {\n",
       "        vertical-align: top;\n",
       "    }\n",
       "\n",
       "    .dataframe thead th {\n",
       "        text-align: right;\n",
       "    }\n",
       "</style>\n",
       "<table border=\"1\" class=\"dataframe\">\n",
       "  <thead>\n",
       "    <tr style=\"text-align: right;\">\n",
       "      <th></th>\n",
       "      <th>Пол</th>\n",
       "      <th>Возраст</th>\n",
       "      <th>Зарплата</th>\n",
       "      <th>Члены семьи</th>\n",
       "      <th>Страховые выплаты</th>\n",
       "    </tr>\n",
       "  </thead>\n",
       "  <tbody>\n",
       "    <tr>\n",
       "      <th>0</th>\n",
       "      <td>1</td>\n",
       "      <td>41.000</td>\n",
       "      <td>49600.000</td>\n",
       "      <td>1</td>\n",
       "      <td>0</td>\n",
       "    </tr>\n",
       "    <tr>\n",
       "      <th>1</th>\n",
       "      <td>0</td>\n",
       "      <td>46.000</td>\n",
       "      <td>38000.000</td>\n",
       "      <td>1</td>\n",
       "      <td>1</td>\n",
       "    </tr>\n",
       "    <tr>\n",
       "      <th>2</th>\n",
       "      <td>0</td>\n",
       "      <td>29.000</td>\n",
       "      <td>21000.000</td>\n",
       "      <td>0</td>\n",
       "      <td>0</td>\n",
       "    </tr>\n",
       "    <tr>\n",
       "      <th>3</th>\n",
       "      <td>0</td>\n",
       "      <td>21.000</td>\n",
       "      <td>41700.000</td>\n",
       "      <td>2</td>\n",
       "      <td>0</td>\n",
       "    </tr>\n",
       "    <tr>\n",
       "      <th>4</th>\n",
       "      <td>1</td>\n",
       "      <td>28.000</td>\n",
       "      <td>26100.000</td>\n",
       "      <td>0</td>\n",
       "      <td>0</td>\n",
       "    </tr>\n",
       "  </tbody>\n",
       "</table>\n",
       "</div>"
      ],
      "text/plain": [
       "   Пол  Возраст  Зарплата  Члены семьи  Страховые выплаты\n",
       "0    1   41.000 49600.000            1                  0\n",
       "1    0   46.000 38000.000            1                  1\n",
       "2    0   29.000 21000.000            0                  0\n",
       "3    0   21.000 41700.000            2                  0\n",
       "4    1   28.000 26100.000            0                  0"
      ]
     },
     "metadata": {},
     "output_type": "display_data"
    }
   ],
   "source": [
    "url = 'https://code.s3.yandex.net/datasets/'\n",
    "\n",
    "try:\n",
    "    df = pd.read_csv(url + 'insurance.csv')\n",
    "    display(df.head())\n",
    "except:\n",
    "    print('Не удалось загрузить файл, проверьте путь.')"
   ]
  },
  {
   "cell_type": "markdown",
   "metadata": {},
   "source": [
    "Проверим наличие пропусков в данных."
   ]
  },
  {
   "cell_type": "code",
   "execution_count": 4,
   "metadata": {},
   "outputs": [
    {
     "data": {
      "text/plain": [
       "Пол                  0\n",
       "Возраст              0\n",
       "Зарплата             0\n",
       "Члены семьи          0\n",
       "Страховые выплаты    0\n",
       "dtype: int64"
      ]
     },
     "execution_count": 4,
     "metadata": {},
     "output_type": "execute_result"
    }
   ],
   "source": [
    "df.isna().sum()"
   ]
  },
  {
   "cell_type": "markdown",
   "metadata": {},
   "source": [
    "Узнаем сколько уникальных значений в целевой переменной."
   ]
  },
  {
   "cell_type": "code",
   "execution_count": 5,
   "metadata": {},
   "outputs": [
    {
     "data": {
      "text/plain": [
       "0    4436\n",
       "1     423\n",
       "2     115\n",
       "3      18\n",
       "4       7\n",
       "5       1\n",
       "Name: Страховые выплаты, dtype: int64"
      ]
     },
     "execution_count": 5,
     "metadata": {},
     "output_type": "execute_result"
    }
   ],
   "source": [
    "df['Страховые выплаты'].value_counts()"
   ]
  },
  {
   "cell_type": "markdown",
   "metadata": {},
   "source": [
    "## Выводы:\n",
    "\n",
    "* Выполнена выгрузка данных.\n",
    "* Пропуски отсутствуют.\n",
    "* Возможно актуальнее было бы решать задачу классификации."
   ]
  },
  {
   "cell_type": "markdown",
   "metadata": {},
   "source": [
    "# Применение обратимых матриц"
   ]
  },
  {
   "cell_type": "markdown",
   "metadata": {
    "tags": []
   },
   "source": [
    "Обозначения:\n",
    "\n",
    "- $X$ — матрица признаков (нулевой столбец состоит из единиц)\n",
    "\n",
    "- $y$ — вектор целевого признака\n",
    "\n",
    "- $P$ — матрица, на которую умножаются признаки\n",
    "\n",
    "- $w$ — вектор весов линейной регрессии (нулевой элемент равен сдвигу)"
   ]
  },
  {
   "cell_type": "markdown",
   "metadata": {},
   "source": [
    "Предсказания:\n",
    "\n",
    "$\\begin{aligned}\n",
    "a = Xw\n",
    "\\end{aligned}$\n",
    "\n",
    "Задача обучения:\n",
    "\n",
    "$\\begin{aligned}\n",
    "w = \\arg\\min_w MSE(Xw, y)\n",
    "\\end{aligned}$\n",
    "\n",
    "Формула обучения:\n",
    "\n",
    "$\\begin{aligned}\n",
    "w = (X^T X)^{-1} X^T y\n",
    "\\end{aligned}$"
   ]
  },
  {
   "cell_type": "markdown",
   "metadata": {},
   "source": [
    "Для примера рассмотрим как будет вести себя RandomForestRegressor."
   ]
  },
  {
   "cell_type": "code",
   "execution_count": 6,
   "metadata": {},
   "outputs": [],
   "source": [
    "pipe_ll = make_pipeline(StandardScaler(), LinearRegression())\n",
    "pipe_rf = make_pipeline(StandardScaler(), RandomForestRegressor())"
   ]
  },
  {
   "cell_type": "markdown",
   "metadata": {},
   "source": [
    "Зададим обратимую матрицу A."
   ]
  },
  {
   "cell_type": "code",
   "execution_count": 7,
   "metadata": {},
   "outputs": [
    {
     "name": "stdout",
     "output_type": "stream",
     "text": [
      "-11334711.000000024\n",
      "\n",
      "[[1.000 -0.000 -0.000 0.000]\n",
      " [-0.000 1.000 -0.000 -0.000]\n",
      " [-0.000 -0.000 1.000 0.000]\n",
      " [-0.000 0.000 0.000 1.000]]\n"
     ]
    }
   ],
   "source": [
    "A = np.random.randint(100,size=(4, 4))\n",
    "print(np.linalg.det(A), end='\\n\\n')\n",
    "print(A @ np.linalg.inv(A))"
   ]
  },
  {
   "cell_type": "markdown",
   "metadata": {},
   "source": [
    "Разделим выборку на тренировочную и тестовую."
   ]
  },
  {
   "cell_type": "code",
   "execution_count": 8,
   "metadata": {},
   "outputs": [],
   "source": [
    "features = df.drop('Страховые выплаты', axis=1).values\n",
    "target = df['Страховые выплаты'].values\n",
    "X_train, X_test, y_train, y_test = train_test_split(\n",
    "    features, target, test_size=0.25, random_state=38)\n",
    "\n",
    "y_hat_1 = pipe_ll.fit(X_train, y_train).predict(X_test)\n",
    "y_hat_rf_1 = pipe_rf.fit(X_train, y_train).predict(X_test)"
   ]
  },
  {
   "cell_type": "markdown",
   "metadata": {},
   "source": [
    "Для второго варианта будем применять признаки, умноженные на обратимую матрицу."
   ]
  },
  {
   "cell_type": "code",
   "execution_count": 9,
   "metadata": {},
   "outputs": [
    {
     "name": "stdout",
     "output_type": "stream",
     "text": [
      "(5000, 4)\n",
      "\n",
      "[[645583.000 1044542.000 3821472.000 793954.000]\n",
      " [494788.000 801216.000 2928480.000 608345.000]\n",
      " [273435.000 443001.000 1618508.000 336203.000]\n",
      " ...\n",
      " [441196.000 713364.000 2611516.000 542586.000]\n",
      " [425794.000 688415.000 2519360.000 523467.000]\n",
      " [528388.000 854645.000 3127796.000 649863.000]]\n"
     ]
    }
   ],
   "source": [
    "features_inv = (A @ features.T).T\n",
    "print(features_inv.shape, end='\\n\\n')\n",
    "print(features_inv)"
   ]
  },
  {
   "cell_type": "code",
   "execution_count": 10,
   "metadata": {},
   "outputs": [],
   "source": [
    "features_inv = (A @ features.T).T\n",
    "features_inv.shape\n",
    "X_train, X_test, y_train, y_test = train_test_split(\n",
    "    features_inv, target, test_size=0.25, random_state=38)\n",
    "\n",
    "y_hat_2 = pipe_ll.fit(X_train, y_train).predict(X_test)\n",
    "y_hat_rf_2 = pipe_rf.fit(X_train, y_train).predict(X_test)"
   ]
  },
  {
   "cell_type": "markdown",
   "metadata": {},
   "source": [
    "Найдем MSE между предсказанными результатами."
   ]
  },
  {
   "cell_type": "code",
   "execution_count": 11,
   "metadata": {},
   "outputs": [
    {
     "data": {
      "text/plain": [
       "8.134282713704109e-27"
      ]
     },
     "execution_count": 11,
     "metadata": {},
     "output_type": "execute_result"
    }
   ],
   "source": [
    "mean_squared_error(y_hat_1, y_hat_2)"
   ]
  },
  {
   "cell_type": "markdown",
   "metadata": {},
   "source": [
    "Округлим предсказанные значения, так как страховые выплаты не могут быть дробными."
   ]
  },
  {
   "cell_type": "code",
   "execution_count": 12,
   "metadata": {},
   "outputs": [
    {
     "data": {
      "text/plain": [
       "0.0"
      ]
     },
     "execution_count": 12,
     "metadata": {},
     "output_type": "execute_result"
    }
   ],
   "source": [
    "mean_squared_error(np.round(y_hat_1), np.round(y_hat_2))"
   ]
  },
  {
   "cell_type": "markdown",
   "metadata": {},
   "source": [
    "Для случайного леса ошибка получилась выше."
   ]
  },
  {
   "cell_type": "code",
   "execution_count": 13,
   "metadata": {},
   "outputs": [
    {
     "data": {
      "text/plain": [
       "0.20902367999999996"
      ]
     },
     "execution_count": 13,
     "metadata": {},
     "output_type": "execute_result"
    }
   ],
   "source": [
    "mean_squared_error(y_hat_rf_1, y_hat_rf_2)"
   ]
  },
  {
   "cell_type": "code",
   "execution_count": 14,
   "metadata": {},
   "outputs": [
    {
     "data": {
      "text/plain": [
       "0.2304"
      ]
     },
     "execution_count": 14,
     "metadata": {},
     "output_type": "execute_result"
    }
   ],
   "source": [
    "mean_squared_error(np.round(y_hat_rf_1), np.round(y_hat_rf_2))"
   ]
  },
  {
   "cell_type": "markdown",
   "metadata": {},
   "source": [
    "**Обоснование:** \n",
    "\n",
    "\n",
    "$a_1 = Xw_1$\n",
    "\n",
    "$w_1 = (X^T X)^{-1} X^T y$\n",
    "\n",
    "$a_2 = (A \\cdot X^T)^T w_2$\n",
    "\n",
    "$w_2 = ((A \\cdot X^T) (A \\cdot X^T)^T)^{-1} (A \\cdot X^T) y$\n",
    "\n",
    "$ X \\cdot (X^T X)^{-1} X^T y = (A \\cdot X^T)^T \\cdot ((A \\cdot X^T) (A \\cdot X^T)^T)^{-1} (A \\cdot X^T) y$"
   ]
  },
  {
   "cell_type": "markdown",
   "metadata": {},
   "source": [
    "Для проверки решим простую задачу из которой видно равенство получаемых $a_1$ и $a_2$."
   ]
  },
  {
   "cell_type": "code",
   "execution_count": 15,
   "metadata": {},
   "outputs": [],
   "source": [
    "X = np.array([[ 2,  5],\n",
    "              [ 7,  4],\n",
    "              [22,  9]])\n",
    "y = np.array([[ 5],\n",
    "              [8],\n",
    "              [19]])"
   ]
  },
  {
   "cell_type": "code",
   "execution_count": 16,
   "metadata": {},
   "outputs": [],
   "source": [
    "A = np.random.randint(100, size=(2, 2))"
   ]
  },
  {
   "cell_type": "code",
   "execution_count": 17,
   "metadata": {},
   "outputs": [
    {
     "data": {
      "text/plain": [
       "array([[5.250],\n",
       "       [7.082],\n",
       "       [19.270]])"
      ]
     },
     "execution_count": 17,
     "metadata": {},
     "output_type": "execute_result"
    }
   ],
   "source": [
    "w = np.linalg.inv(X.T @ X) @ X.T @ y\n",
    "X @ w"
   ]
  },
  {
   "cell_type": "code",
   "execution_count": 18,
   "metadata": {},
   "outputs": [
    {
     "data": {
      "text/plain": [
       "array([[5.250],\n",
       "       [7.082],\n",
       "       [19.270]])"
      ]
     },
     "execution_count": 18,
     "metadata": {},
     "output_type": "execute_result"
    }
   ],
   "source": [
    "X_inv = (A @ X.T).T\n",
    "w_inv = np.linalg.inv(X_inv.T @ X_inv) @ X_inv.T @ y\n",
    "X_inv @ w_inv"
   ]
  },
  {
   "cell_type": "markdown",
   "metadata": {},
   "source": [
    "Коэффициенты линейной регрессии имеют идеальную положительную корреляцию."
   ]
  },
  {
   "cell_type": "code",
   "execution_count": 19,
   "metadata": {},
   "outputs": [
    {
     "data": {
      "text/plain": [
       "array([[1.000, 1.000],\n",
       "       [1.000, 1.000]])"
      ]
     },
     "execution_count": 19,
     "metadata": {},
     "output_type": "execute_result"
    }
   ],
   "source": [
    "np.corrcoef(w.reshape(-1,),\n",
    "            w_inv.reshape(-1,))"
   ]
  },
  {
   "cell_type": "code",
   "execution_count": 20,
   "metadata": {},
   "outputs": [],
   "source": [
    "linregress_res = linregress(w_inv.reshape(-1,),\n",
    "                            w.reshape(-1,))"
   ]
  },
  {
   "cell_type": "markdown",
   "metadata": {},
   "source": [
    "Следовательно:\n",
    "\n",
    "$ w = A \\cdot w_{inv} + B$"
   ]
  },
  {
   "cell_type": "code",
   "execution_count": 21,
   "metadata": {},
   "outputs": [
    {
     "data": {
      "text/plain": [
       "array([[5.250],\n",
       "       [7.082],\n",
       "       [19.270]])"
      ]
     },
     "execution_count": 21,
     "metadata": {},
     "output_type": "execute_result"
    }
   ],
   "source": [
    "X @ (w_inv * linregress_res.slope + linregress_res.intercept)"
   ]
  },
  {
   "cell_type": "markdown",
   "metadata": {},
   "source": [
    "## Выводы:\n",
    "\n",
    "* Ошибка MSE фактически равна нулю.\n",
    "* Можно считать, что умножение признаков на обратимую матрицу не влияет на качество предсказаний, получаемых линейной регрессии.\n",
    "* Качество предсказания линейной модели не меняется из-за сильной линейной взаимосвязи."
   ]
  },
  {
   "cell_type": "markdown",
   "metadata": {},
   "source": [
    "# Алгоритм преобразования"
   ]
  },
  {
   "cell_type": "markdown",
   "metadata": {},
   "source": [
    "1. Создать обратимую матрицу.\n",
    "2. Проверить определитель матрицы. Если равен 0 - пересоздать матрицу.\n",
    "3. Преобразовать признаки."
   ]
  },
  {
   "cell_type": "code",
   "execution_count": 22,
   "metadata": {},
   "outputs": [],
   "source": [
    "def feature_transform(X, A='None'):\n",
    "    if type(A) != str:\n",
    "        return (A @ X.T).T\n",
    "    \n",
    "    while(True):\n",
    "        A = np.random.randint(100, size=(X.shape[1], X.shape[1]))\n",
    "        if np.linalg.det(A) != 0:\n",
    "            break\n",
    "    return (A @ X.T).T, A"
   ]
  },
  {
   "cell_type": "markdown",
   "metadata": {},
   "source": [
    "# Проверка алгоритма"
   ]
  },
  {
   "cell_type": "markdown",
   "metadata": {},
   "source": [
    "Создадим свой регрессор."
   ]
  },
  {
   "cell_type": "code",
   "execution_count": 23,
   "metadata": {
    "tags": []
   },
   "outputs": [],
   "source": [
    "class CustomRegressor:\n",
    "    def __init__(self):\n",
    "        return None\n",
    "    \n",
    "    def X_tranform(self, X):\n",
    "        return np.concatenate((np.ones([X.shape[0], 1]),\n",
    "                               np.array(X)), axis=1)\n",
    "    \n",
    "    def fit(self, X, y):\n",
    "        X = self.X_tranform(X)\n",
    "        y = np.array(y)\n",
    "        self.w = np.linalg.inv(X.T @ X) @ X.T @ y\n",
    "        return self\n",
    "\n",
    "    def predict(self, X):\n",
    "        X = self.X_tranform(X)\n",
    "        return X @ self.w\n",
    "    \n",
    "pipe = make_pipeline(StandardScaler(),\n",
    "                     CustomRegressor())"
   ]
  },
  {
   "cell_type": "markdown",
   "metadata": {},
   "source": [
    "Заново разделим датафрейм на features и target."
   ]
  },
  {
   "cell_type": "code",
   "execution_count": 24,
   "metadata": {},
   "outputs": [],
   "source": [
    "features = df.drop('Страховые выплаты', axis=1).values\n",
    "target = df['Страховые выплаты'].values\n",
    "X_train, X_test, y_train, y_test = train_test_split(\n",
    "    features, target, test_size=0.25, random_state=38)\n",
    "\n",
    "X_train_transformed, A = feature_transform(X_train)"
   ]
  },
  {
   "cell_type": "markdown",
   "metadata": {},
   "source": [
    "Измерим R2 для случая с и без преобразования."
   ]
  },
  {
   "cell_type": "code",
   "execution_count": 25,
   "metadata": {},
   "outputs": [
    {
     "data": {
      "text/plain": [
       "0.4362964410800213"
      ]
     },
     "execution_count": 25,
     "metadata": {},
     "output_type": "execute_result"
    }
   ],
   "source": [
    "r2_score(y_test,\n",
    "         pipe.fit(X_train, y_train)\n",
    "         .predict(X_test))"
   ]
  },
  {
   "cell_type": "code",
   "execution_count": 26,
   "metadata": {},
   "outputs": [
    {
     "data": {
      "text/plain": [
       "0.4362964415264372"
      ]
     },
     "execution_count": 26,
     "metadata": {},
     "output_type": "execute_result"
    }
   ],
   "source": [
    "r2_score(y_test,\n",
    "         pipe.fit(X_train_transformed, y_train)\n",
    "         .predict(feature_transform(X_test, A)))"
   ]
  },
  {
   "cell_type": "markdown",
   "metadata": {},
   "source": [
    "# Выводы\n",
    "\n",
    "* Предложите алгоритм преобразования данных для решения задачи.\n",
    "* Проведено сравнение качества моделей до и после преобразования."
   ]
  },
  {
   "cell_type": "code",
   "execution_count": null,
   "metadata": {},
   "outputs": [],
   "source": []
  }
 ],
 "metadata": {
  "kernelspec": {
   "display_name": "Python 3 (ipykernel)",
   "language": "python",
   "name": "python3"
  },
  "language_info": {
   "codemirror_mode": {
    "name": "ipython",
    "version": 3
   },
   "file_extension": ".py",
   "mimetype": "text/x-python",
   "name": "python",
   "nbconvert_exporter": "python",
   "pygments_lexer": "ipython3",
   "version": "3.9.9"
  },
  "toc": {
   "base_numbering": 1,
   "nav_menu": {},
   "number_sections": true,
   "sideBar": true,
   "skip_h1_title": true,
   "title_cell": "Содержание",
   "title_sidebar": "Contents",
   "toc_cell": true,
   "toc_position": {},
   "toc_section_display": true,
   "toc_window_display": true
  }
 },
 "nbformat": 4,
 "nbformat_minor": 4
}
