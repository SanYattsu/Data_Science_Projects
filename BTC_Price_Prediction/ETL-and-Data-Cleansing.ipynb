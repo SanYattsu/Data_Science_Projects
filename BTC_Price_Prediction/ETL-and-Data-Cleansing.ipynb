{
 "cells": [
  {
   "cell_type": "markdown",
   "metadata": {},
   "source": [
    "# Import Libraries"
   ]
  },
  {
   "cell_type": "code",
   "execution_count": 1,
   "metadata": {},
   "outputs": [],
   "source": [
    "import pandas as pd\n",
    "from datetime import datetime, timedelta\n",
    "\n",
    "# Need praw for WebScraping from Reddit.com \n",
    "import praw\n",
    "from requests import Session"
   ]
  },
  {
   "cell_type": "markdown",
   "metadata": {},
   "source": [
    "Praw is a Python wrapper for the Reddit API, which enables us to use the Reddit API with a clean Python interface. The API can be used for webscraping, creating a bot as well as many others."
   ]
  },
  {
   "cell_type": "markdown",
   "metadata": {},
   "source": [
    "# Extract Transform Load (ETL)"
   ]
  },
  {
   "cell_type": "markdown",
   "metadata": {},
   "source": [
    "First, we need to create a Session and connect to praw."
   ]
  },
  {
   "cell_type": "code",
   "execution_count": 3,
   "metadata": {},
   "outputs": [],
   "source": [
    "# Start new session to use praw\n",
    "session = Session()\n",
    "\n",
    "reddit = praw.Reddit(\n",
    "    client_id=client_id,\n",
    "    client_secret=client_secret,\n",
    "    requestor_kwargs={\"session\": session},\n",
    "    user_agent=\"WebScraping by u/SanYattsu\",\n",
    ")"
   ]
  },
  {
   "cell_type": "code",
   "execution_count": 4,
   "metadata": {},
   "outputs": [
    {
     "name": "stdout",
     "output_type": "stream",
     "text": [
      "Bitcoin             \tBitcoinMining       \tconspiracy          \tBitcoinBeginners    \tMonero              \tCryptoCurrencies    \t\n",
      "CryptoMarkets       \tdogecoin            \tBitcoinMarkets      \tbitcoinxt           \tbtc                 \tlitecoin            \t\n",
      "bitcoin_uncensored  \tworldnews           \tBitcoincash         \tethtrader           \tButtcoin            \tCryptoCurrency      \t\n",
      "BitcoinCA           \tRipple              \tbitcoincashSV       \tWallstreetsilver    \tethereum            \tmicrosoftsoftwareswap\t\n",
      "technology          \tSatoshiStreetBets   \tCrypto_Currency_News\tAnarcho_Capitalism  \tBitcoinUK           \tdashpay             \t\n",
      "SafeMoon            \tCoinBase            \tEnoughLibertarianSpam\tSHIBArmy            \tLibertarian         \tnews                \t\n",
      "EscapefromTarkov    \tSubredditDrama      \tnanocurrency        \tCryptoCurrencyTrading\tGoldandBlack        \teconomy             \t\n",
      "cryptocurrencymemes \tindia               \tEconomics           \tbinance             \tbrasil              \tCryptoMoonShots     \t\n"
     ]
    }
   ],
   "source": [
    "# Find where bitcoin discussed\n",
    "reddit_search = reddit.subreddits.search('Bitcoin')\n",
    "reddit_search = [str(item) for item in reddit_search]\n",
    "\n",
    "# Print results\n",
    "i = 0\n",
    "for n in reddit_search:\n",
    "    i += 1\n",
    "    print(f'{n:<20}', end='\\t')\n",
    "    if i > 5:\n",
    "        i = 0; print('')"
   ]
  },
  {
   "cell_type": "markdown",
   "metadata": {},
   "source": [
    "Pick up most relevant to the work topics and web scrape the data."
   ]
  },
  {
   "cell_type": "code",
   "execution_count": 5,
   "metadata": {},
   "outputs": [
    {
     "data": {
      "text/html": [
       "<div>\n",
       "<style scoped>\n",
       "    .dataframe tbody tr th:only-of-type {\n",
       "        vertical-align: middle;\n",
       "    }\n",
       "\n",
       "    .dataframe tbody tr th {\n",
       "        vertical-align: top;\n",
       "    }\n",
       "\n",
       "    .dataframe thead th {\n",
       "        text-align: right;\n",
       "    }\n",
       "</style>\n",
       "<table border=\"1\" class=\"dataframe\">\n",
       "  <thead>\n",
       "    <tr style=\"text-align: right;\">\n",
       "      <th></th>\n",
       "      <th>post_id</th>\n",
       "      <th>post_time</th>\n",
       "      <th>post_topic</th>\n",
       "      <th>post_title</th>\n",
       "      <th>post_upvotes</th>\n",
       "      <th>upvote_ratio</th>\n",
       "    </tr>\n",
       "  </thead>\n",
       "  <tbody>\n",
       "    <tr>\n",
       "      <th>760</th>\n",
       "      <td>mkg97q</td>\n",
       "      <td>2021-04-05 11:58:39</td>\n",
       "      <td>CryptoMarkets</td>\n",
       "      <td>iOS App Stole $1.6 Million In Bitcoins From Users</td>\n",
       "      <td>374</td>\n",
       "      <td>0.95</td>\n",
       "    </tr>\n",
       "    <tr>\n",
       "      <th>1595</th>\n",
       "      <td>nxmf6f</td>\n",
       "      <td>2021-06-11 21:11:54</td>\n",
       "      <td>CryptoMarkets</td>\n",
       "      <td>Alonzo, Cardano's public testnet, has first sm...</td>\n",
       "      <td>809</td>\n",
       "      <td>0.97</td>\n",
       "    </tr>\n",
       "    <tr>\n",
       "      <th>2236</th>\n",
       "      <td>oz3hzz</td>\n",
       "      <td>2021-08-06 12:49:26</td>\n",
       "      <td>CryptoMarkets</td>\n",
       "      <td>A great move indeed</td>\n",
       "      <td>1270</td>\n",
       "      <td>0.96</td>\n",
       "    </tr>\n",
       "    <tr>\n",
       "      <th>2297</th>\n",
       "      <td>p2dvuk</td>\n",
       "      <td>2021-08-11 17:13:54</td>\n",
       "      <td>investing</td>\n",
       "      <td>Investing advice from the book 'The Intelligen...</td>\n",
       "      <td>1344</td>\n",
       "      <td>0.86</td>\n",
       "    </tr>\n",
       "    <tr>\n",
       "      <th>729</th>\n",
       "      <td>mi3jr8</td>\n",
       "      <td>2021-04-01 22:55:38</td>\n",
       "      <td>Crypto_Currency_News</td>\n",
       "      <td>Masternodes: Earning Passive Crypto</td>\n",
       "      <td>34</td>\n",
       "      <td>1.0</td>\n",
       "    </tr>\n",
       "  </tbody>\n",
       "</table>\n",
       "</div>"
      ],
      "text/plain": [
       "     post_id           post_time            post_topic  \\\n",
       "760   mkg97q 2021-04-05 11:58:39         CryptoMarkets   \n",
       "1595  nxmf6f 2021-06-11 21:11:54         CryptoMarkets   \n",
       "2236  oz3hzz 2021-08-06 12:49:26         CryptoMarkets   \n",
       "2297  p2dvuk 2021-08-11 17:13:54             investing   \n",
       "729   mi3jr8 2021-04-01 22:55:38  Crypto_Currency_News   \n",
       "\n",
       "                                             post_title post_upvotes  \\\n",
       "760   iOS App Stole $1.6 Million In Bitcoins From Users          374   \n",
       "1595  Alonzo, Cardano's public testnet, has first sm...          809   \n",
       "2236                                A great move indeed         1270   \n",
       "2297  Investing advice from the book 'The Intelligen...         1344   \n",
       "729                 Masternodes: Earning Passive Crypto           34   \n",
       "\n",
       "     upvote_ratio  \n",
       "760          0.95  \n",
       "1595         0.97  \n",
       "2236         0.96  \n",
       "2297         0.86  \n",
       "729           1.0  "
      ]
     },
     "execution_count": 5,
     "metadata": {},
     "output_type": "execute_result"
    }
   ],
   "source": [
    "topics = ['investing', 'Crypto_Currency_News', 'CryptoMarkets', 'economy']\n",
    "# Create a dictionary to store news\n",
    "bit_dic = {}\n",
    "# Let's collect titles of top posts\n",
    "for topic in topics:\n",
    "    top_posts = reddit.subreddit(topic).top(\"year\", limit=2000)\n",
    "    for post in top_posts:\n",
    "        bit_dic[post.id] = [datetime.fromtimestamp(post.created_utc),\n",
    "                            topic,\n",
    "                            post.title,\n",
    "                            post.ups,\n",
    "                            post.upvote_ratio]\n",
    "\n",
    "bit_news_df = pd.DataFrame(bit_dic).T.reset_index()\n",
    "\n",
    "# Define bit_news_df.columns and sort the dataframe.\n",
    "bit_news_df.columns = ['post_id', 'post_time', 'post_topic', 'post_title', 'post_upvotes', 'upvote_ratio']\n",
    "bit_news_df.sort_values('post_time', inplace=True)\n",
    "bit_news_df = bit_news_df.reset_index(drop=True)\n",
    "# Take a sample\n",
    "bit_news_df.sample(5)"
   ]
  },
  {
   "cell_type": "markdown",
   "metadata": {
    "tags": []
   },
   "source": [
    "From [CryptoDataDownload.com](https://www.cryptodatadownload.com/data/gemini/) we download gemini_BTCUSD_1hr.csv with needed data."
   ]
  },
  {
   "cell_type": "code",
   "execution_count": 6,
   "metadata": {},
   "outputs": [
    {
     "data": {
      "text/html": [
       "<div>\n",
       "<style scoped>\n",
       "    .dataframe tbody tr th:only-of-type {\n",
       "        vertical-align: middle;\n",
       "    }\n",
       "\n",
       "    .dataframe tbody tr th {\n",
       "        vertical-align: top;\n",
       "    }\n",
       "\n",
       "    .dataframe thead th {\n",
       "        text-align: right;\n",
       "    }\n",
       "</style>\n",
       "<table border=\"1\" class=\"dataframe\">\n",
       "  <thead>\n",
       "    <tr style=\"text-align: right;\">\n",
       "      <th></th>\n",
       "      <th>Unix Timestamp</th>\n",
       "      <th>Date</th>\n",
       "      <th>Symbol</th>\n",
       "      <th>Open</th>\n",
       "      <th>High</th>\n",
       "      <th>Low</th>\n",
       "      <th>Close</th>\n",
       "      <th>Volume</th>\n",
       "    </tr>\n",
       "  </thead>\n",
       "  <tbody>\n",
       "    <tr>\n",
       "      <th>0</th>\n",
       "      <td>1644019200000</td>\n",
       "      <td>2022-02-05 00:00:00</td>\n",
       "      <td>BTCUSD</td>\n",
       "      <td>41603.46</td>\n",
       "      <td>41633.13</td>\n",
       "      <td>41388.06</td>\n",
       "      <td>41462.36</td>\n",
       "      <td>11.990468</td>\n",
       "    </tr>\n",
       "    <tr>\n",
       "      <th>1</th>\n",
       "      <td>1644015600000</td>\n",
       "      <td>2022-02-04 23:00:00</td>\n",
       "      <td>BTCUSD</td>\n",
       "      <td>40661.29</td>\n",
       "      <td>41800.00</td>\n",
       "      <td>40591.89</td>\n",
       "      <td>41603.46</td>\n",
       "      <td>103.042307</td>\n",
       "    </tr>\n",
       "    <tr>\n",
       "      <th>2</th>\n",
       "      <td>1644012000000</td>\n",
       "      <td>2022-02-04 22:00:00</td>\n",
       "      <td>BTCUSD</td>\n",
       "      <td>40630.94</td>\n",
       "      <td>40762.01</td>\n",
       "      <td>40410.96</td>\n",
       "      <td>40661.29</td>\n",
       "      <td>49.559238</td>\n",
       "    </tr>\n",
       "    <tr>\n",
       "      <th>3</th>\n",
       "      <td>1644008400000</td>\n",
       "      <td>2022-02-04 21:00:00</td>\n",
       "      <td>BTCUSD</td>\n",
       "      <td>40609.92</td>\n",
       "      <td>40654.14</td>\n",
       "      <td>40442.47</td>\n",
       "      <td>40630.94</td>\n",
       "      <td>45.356625</td>\n",
       "    </tr>\n",
       "    <tr>\n",
       "      <th>4</th>\n",
       "      <td>1644004800000</td>\n",
       "      <td>2022-02-04 20:00:00</td>\n",
       "      <td>BTCUSD</td>\n",
       "      <td>40752.66</td>\n",
       "      <td>40908.07</td>\n",
       "      <td>40478.11</td>\n",
       "      <td>40609.92</td>\n",
       "      <td>73.447614</td>\n",
       "    </tr>\n",
       "  </tbody>\n",
       "</table>\n",
       "</div>"
      ],
      "text/plain": [
       "   Unix Timestamp                 Date  Symbol      Open      High       Low  \\\n",
       "0   1644019200000  2022-02-05 00:00:00  BTCUSD  41603.46  41633.13  41388.06   \n",
       "1   1644015600000  2022-02-04 23:00:00  BTCUSD  40661.29  41800.00  40591.89   \n",
       "2   1644012000000  2022-02-04 22:00:00  BTCUSD  40630.94  40762.01  40410.96   \n",
       "3   1644008400000  2022-02-04 21:00:00  BTCUSD  40609.92  40654.14  40442.47   \n",
       "4   1644004800000  2022-02-04 20:00:00  BTCUSD  40752.66  40908.07  40478.11   \n",
       "\n",
       "      Close      Volume  \n",
       "0  41462.36   11.990468  \n",
       "1  41603.46  103.042307  \n",
       "2  40661.29   49.559238  \n",
       "3  40630.94   45.356625  \n",
       "4  40609.92   73.447614  "
      ]
     },
     "execution_count": 6,
     "metadata": {},
     "output_type": "execute_result"
    }
   ],
   "source": [
    "# Direct link to .csv provided below.\n",
    "bit_usd_df = pd.read_csv('https://www.cryptodatadownload.com/cdd/gemini_BTCUSD_1hr.csv', skiprows=1)\n",
    "bit_usd_df.head()"
   ]
  },
  {
   "cell_type": "markdown",
   "metadata": {},
   "source": [
    "Reshape columns to pythonic style."
   ]
  },
  {
   "cell_type": "code",
   "execution_count": 7,
   "metadata": {},
   "outputs": [],
   "source": [
    "# Rename columns and cast time objects to datetime.\n",
    "columns = list(bit_usd_df.columns.map(str.lower).map(lambda x: x.strip()))\n",
    "# if we can split columns name with ' ' than we join the split result with '_'\n",
    "for i in range(len(columns)):\n",
    "    if len(columns[i].split(' ')) != 1:\n",
    "        columns[i] = '_'.join(columns[i].split(' '))\n",
    "bit_usd_df.columns = columns\n",
    "\n",
    "bit_usd_df.date = pd.to_datetime(bit_usd_df.date, infer_datetime_format=True)\n",
    "bit_news_df.post_time = pd.to_datetime(bit_news_df.post_time, infer_datetime_format=True)"
   ]
  },
  {
   "cell_type": "code",
   "execution_count": 8,
   "metadata": {},
   "outputs": [],
   "source": [
    "# We only need bit/usd data for a year.\n",
    "bit_usd_df = bit_usd_df[bit_usd_df.date > bit_news_df.post_time.min() - timedelta(days=10) ]\n",
    "# Drop unrelevant columns\n",
    "bit_usd_df = bit_usd_df.drop(columns=['unix_timestamp', 'symbol'])\n",
    "# Sort bit_usd_df\n",
    "bit_usd_df = bit_usd_df.sort_values('date')\n",
    "bit_usd_df = bit_usd_df.reset_index(drop=True)"
   ]
  },
  {
   "cell_type": "markdown",
   "metadata": {},
   "source": [
    "## Check and Save dataframes to .csv files"
   ]
  },
  {
   "cell_type": "code",
   "execution_count": 9,
   "metadata": {},
   "outputs": [
    {
     "data": {
      "text/html": [
       "<div>\n",
       "<style scoped>\n",
       "    .dataframe tbody tr th:only-of-type {\n",
       "        vertical-align: middle;\n",
       "    }\n",
       "\n",
       "    .dataframe tbody tr th {\n",
       "        vertical-align: top;\n",
       "    }\n",
       "\n",
       "    .dataframe thead th {\n",
       "        text-align: right;\n",
       "    }\n",
       "</style>\n",
       "<table border=\"1\" class=\"dataframe\">\n",
       "  <thead>\n",
       "    <tr style=\"text-align: right;\">\n",
       "      <th></th>\n",
       "      <th>post_id</th>\n",
       "      <th>post_time</th>\n",
       "      <th>post_topic</th>\n",
       "      <th>post_title</th>\n",
       "      <th>post_upvotes</th>\n",
       "      <th>upvote_ratio</th>\n",
       "    </tr>\n",
       "  </thead>\n",
       "  <tbody>\n",
       "    <tr>\n",
       "      <th>0</th>\n",
       "      <td>lcc24v</td>\n",
       "      <td>2021-02-04 12:26:13</td>\n",
       "      <td>investing</td>\n",
       "      <td>Gamestop Big Picture: Evolution of a Trade</td>\n",
       "      <td>522</td>\n",
       "      <td>0.92</td>\n",
       "    </tr>\n",
       "    <tr>\n",
       "      <th>1</th>\n",
       "      <td>lce7o5</td>\n",
       "      <td>2021-02-04 15:03:38</td>\n",
       "      <td>CryptoMarkets</td>\n",
       "      <td>Elon Musk Sends Dogecoin To The Moon With New ...</td>\n",
       "      <td>595</td>\n",
       "      <td>0.9</td>\n",
       "    </tr>\n",
       "    <tr>\n",
       "      <th>2</th>\n",
       "      <td>lcfmfq</td>\n",
       "      <td>2021-02-04 16:28:13</td>\n",
       "      <td>economy</td>\n",
       "      <td>76% of young people, compared to 53% of senior...</td>\n",
       "      <td>1617</td>\n",
       "      <td>0.95</td>\n",
       "    </tr>\n",
       "    <tr>\n",
       "      <th>3</th>\n",
       "      <td>lcftzc</td>\n",
       "      <td>2021-02-04 16:39:29</td>\n",
       "      <td>investing</td>\n",
       "      <td>10 interesting and useful ETFs with less than ...</td>\n",
       "      <td>4138</td>\n",
       "      <td>0.98</td>\n",
       "    </tr>\n",
       "    <tr>\n",
       "      <th>4</th>\n",
       "      <td>lcgbyl</td>\n",
       "      <td>2021-02-04 17:05:40</td>\n",
       "      <td>investing</td>\n",
       "      <td>NOK Q4 2020 earnings: EPS beaten by 29.67%</td>\n",
       "      <td>366</td>\n",
       "      <td>0.94</td>\n",
       "    </tr>\n",
       "  </tbody>\n",
       "</table>\n",
       "</div>"
      ],
      "text/plain": [
       "  post_id           post_time     post_topic  \\\n",
       "0  lcc24v 2021-02-04 12:26:13      investing   \n",
       "1  lce7o5 2021-02-04 15:03:38  CryptoMarkets   \n",
       "2  lcfmfq 2021-02-04 16:28:13        economy   \n",
       "3  lcftzc 2021-02-04 16:39:29      investing   \n",
       "4  lcgbyl 2021-02-04 17:05:40      investing   \n",
       "\n",
       "                                          post_title post_upvotes upvote_ratio  \n",
       "0         Gamestop Big Picture: Evolution of a Trade          522         0.92  \n",
       "1  Elon Musk Sends Dogecoin To The Moon With New ...          595          0.9  \n",
       "2  76% of young people, compared to 53% of senior...         1617         0.95  \n",
       "3  10 interesting and useful ETFs with less than ...         4138         0.98  \n",
       "4         NOK Q4 2020 earnings: EPS beaten by 29.67%          366         0.94  "
      ]
     },
     "execution_count": 9,
     "metadata": {},
     "output_type": "execute_result"
    }
   ],
   "source": [
    "bit_news_df.head()"
   ]
  },
  {
   "cell_type": "code",
   "execution_count": 10,
   "metadata": {},
   "outputs": [
    {
     "name": "stdout",
     "output_type": "stream",
     "text": [
      "<class 'pandas.core.frame.DataFrame'>\n",
      "RangeIndex: 3999 entries, 0 to 3998\n",
      "Data columns (total 6 columns):\n",
      " #   Column        Non-Null Count  Dtype         \n",
      "---  ------        --------------  -----         \n",
      " 0   post_id       3999 non-null   object        \n",
      " 1   post_time     3999 non-null   datetime64[ns]\n",
      " 2   post_topic    3999 non-null   object        \n",
      " 3   post_title    3999 non-null   object        \n",
      " 4   post_upvotes  3999 non-null   object        \n",
      " 5   upvote_ratio  3999 non-null   object        \n",
      "dtypes: datetime64[ns](1), object(5)\n",
      "memory usage: 187.6+ KB\n"
     ]
    }
   ],
   "source": [
    "bit_news_df.info()"
   ]
  },
  {
   "cell_type": "code",
   "execution_count": 11,
   "metadata": {},
   "outputs": [
    {
     "data": {
      "text/html": [
       "<div>\n",
       "<style scoped>\n",
       "    .dataframe tbody tr th:only-of-type {\n",
       "        vertical-align: middle;\n",
       "    }\n",
       "\n",
       "    .dataframe tbody tr th {\n",
       "        vertical-align: top;\n",
       "    }\n",
       "\n",
       "    .dataframe thead th {\n",
       "        text-align: right;\n",
       "    }\n",
       "</style>\n",
       "<table border=\"1\" class=\"dataframe\">\n",
       "  <thead>\n",
       "    <tr style=\"text-align: right;\">\n",
       "      <th></th>\n",
       "      <th>date</th>\n",
       "      <th>open</th>\n",
       "      <th>high</th>\n",
       "      <th>low</th>\n",
       "      <th>close</th>\n",
       "      <th>volume</th>\n",
       "    </tr>\n",
       "  </thead>\n",
       "  <tbody>\n",
       "    <tr>\n",
       "      <th>0</th>\n",
       "      <td>2021-01-25 13:00:00</td>\n",
       "      <td>34188.20</td>\n",
       "      <td>34700.00</td>\n",
       "      <td>34146.04</td>\n",
       "      <td>34573.98</td>\n",
       "      <td>110.218633</td>\n",
       "    </tr>\n",
       "    <tr>\n",
       "      <th>1</th>\n",
       "      <td>2021-01-25 14:00:00</td>\n",
       "      <td>34573.98</td>\n",
       "      <td>34885.56</td>\n",
       "      <td>34381.37</td>\n",
       "      <td>34469.49</td>\n",
       "      <td>230.929038</td>\n",
       "    </tr>\n",
       "    <tr>\n",
       "      <th>2</th>\n",
       "      <td>2021-01-25 15:00:00</td>\n",
       "      <td>34469.49</td>\n",
       "      <td>34604.93</td>\n",
       "      <td>34200.62</td>\n",
       "      <td>34449.91</td>\n",
       "      <td>180.777225</td>\n",
       "    </tr>\n",
       "    <tr>\n",
       "      <th>3</th>\n",
       "      <td>2021-01-25 16:00:00</td>\n",
       "      <td>34449.91</td>\n",
       "      <td>34630.74</td>\n",
       "      <td>33616.56</td>\n",
       "      <td>33901.01</td>\n",
       "      <td>155.614301</td>\n",
       "    </tr>\n",
       "    <tr>\n",
       "      <th>4</th>\n",
       "      <td>2021-01-25 17:00:00</td>\n",
       "      <td>33901.01</td>\n",
       "      <td>34262.94</td>\n",
       "      <td>33696.05</td>\n",
       "      <td>33776.89</td>\n",
       "      <td>133.073085</td>\n",
       "    </tr>\n",
       "  </tbody>\n",
       "</table>\n",
       "</div>"
      ],
      "text/plain": [
       "                 date      open      high       low     close      volume\n",
       "0 2021-01-25 13:00:00  34188.20  34700.00  34146.04  34573.98  110.218633\n",
       "1 2021-01-25 14:00:00  34573.98  34885.56  34381.37  34469.49  230.929038\n",
       "2 2021-01-25 15:00:00  34469.49  34604.93  34200.62  34449.91  180.777225\n",
       "3 2021-01-25 16:00:00  34449.91  34630.74  33616.56  33901.01  155.614301\n",
       "4 2021-01-25 17:00:00  33901.01  34262.94  33696.05  33776.89  133.073085"
      ]
     },
     "execution_count": 11,
     "metadata": {},
     "output_type": "execute_result"
    }
   ],
   "source": [
    "bit_usd_df.head()"
   ]
  },
  {
   "cell_type": "code",
   "execution_count": 12,
   "metadata": {},
   "outputs": [
    {
     "name": "stdout",
     "output_type": "stream",
     "text": [
      "<class 'pandas.core.frame.DataFrame'>\n",
      "RangeIndex: 9012 entries, 0 to 9011\n",
      "Data columns (total 6 columns):\n",
      " #   Column  Non-Null Count  Dtype         \n",
      "---  ------  --------------  -----         \n",
      " 0   date    9012 non-null   datetime64[ns]\n",
      " 1   open    9012 non-null   float64       \n",
      " 2   high    9012 non-null   float64       \n",
      " 3   low     9012 non-null   float64       \n",
      " 4   close   9012 non-null   float64       \n",
      " 5   volume  9012 non-null   float64       \n",
      "dtypes: datetime64[ns](1), float64(5)\n",
      "memory usage: 422.6 KB\n"
     ]
    }
   ],
   "source": [
    "bit_usd_df.info()"
   ]
  },
  {
   "cell_type": "markdown",
   "metadata": {},
   "source": [
    "Data is good, no NaN and all types are correct."
   ]
  },
  {
   "cell_type": "code",
   "execution_count": 13,
   "metadata": {},
   "outputs": [],
   "source": [
    "pd.DataFrame(bit_news_df).to_csv('bit_news.csv', index=False)\n",
    "pd.DataFrame(bit_usd_df).to_csv('BTCUSD_refined.csv', index=False)"
   ]
  },
  {
   "cell_type": "code",
   "execution_count": null,
   "metadata": {},
   "outputs": [],
   "source": []
  }
 ],
 "metadata": {
  "kernelspec": {
   "display_name": "Python 3 (ipykernel)",
   "language": "python",
   "name": "python3"
  },
  "language_info": {
   "codemirror_mode": {
    "name": "ipython",
    "version": 3
   },
   "file_extension": ".py",
   "mimetype": "text/x-python",
   "name": "python",
   "nbconvert_exporter": "python",
   "pygments_lexer": "ipython3",
   "version": "3.9.9"
  }
 },
 "nbformat": 4,
 "nbformat_minor": 4
}
