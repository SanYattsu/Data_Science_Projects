{
 "cells": [
  {
   "cell_type": "markdown",
   "metadata": {},
   "source": [
    "# Import Libraries and Load the data"
   ]
  },
  {
   "cell_type": "code",
   "execution_count": 1,
   "metadata": {},
   "outputs": [],
   "source": [
    "import pandas as pd\n",
    "import numpy as np\n",
    "import re\n",
    "from datetime import datetime\n",
    "\n",
    "import matplotlib.pyplot as plt\n",
    "import matplotlib.dates as mdates"
   ]
  },
  {
   "cell_type": "code",
   "execution_count": 2,
   "metadata": {},
   "outputs": [],
   "source": [
    "bit_news_df = pd.read_csv('bit_news.csv')\n",
    "bit_usd_df = pd.read_csv('BTCUSD_refined.csv')\n",
    "bit_news_df.post_time = pd.to_datetime(bit_news_df.post_time, infer_datetime_format=True)\n",
    "bit_usd_df.date = pd.to_datetime(bit_usd_df.date, infer_datetime_format=True)"
   ]
  },
  {
   "cell_type": "markdown",
   "metadata": {},
   "source": [
    "# Feature Enginering"
   ]
  },
  {
   "cell_type": "markdown",
   "metadata": {},
   "source": [
    "We need to clean news from unrelated to BTC titles."
   ]
  },
  {
   "cell_type": "code",
   "execution_count": 3,
   "metadata": {},
   "outputs": [
    {
     "data": {
      "text/plain": [
       "array(['investing', 'CryptoMarkets', 'economy', 'Crypto_Currency_News'],\n",
       "      dtype=object)"
      ]
     },
     "execution_count": 3,
     "metadata": {},
     "output_type": "execute_result"
    }
   ],
   "source": [
    "# It's good to keep titles from CryptoMarkets and Crypto_Currency_News.\n",
    "bit_news_df.post_topic.unique()"
   ]
  },
  {
   "cell_type": "code",
   "execution_count": 4,
   "metadata": {},
   "outputs": [],
   "source": [
    "# We need only rows with related to crypto.\n",
    "crypto_terms = ['Bitcoin','BTC','Ethereum','ETH ','Dogecoin','DOGE ','cryptocurrency','Altcoin','$'\n",
    "                'blockchain','cybercash','e-cash','digital','e-money','electronic cash','virtual','USD']\n",
    "crypto_terms = [term.lower() for term in crypto_terms]\n",
    "\n",
    "crypto_topics = ['CryptoMarkets','Crypto_Currency_News']\n",
    "crypto_topics = [topic.lower() for topic in crypto_topics]"
   ]
  },
  {
   "cell_type": "code",
   "execution_count": 5,
   "metadata": {},
   "outputs": [
    {
     "data": {
      "text/plain": [
       "(2068, 6)"
      ]
     },
     "execution_count": 5,
     "metadata": {},
     "output_type": "execute_result"
    }
   ],
   "source": [
    "# Make the True/False masks and apply them.\n",
    "news_mask_1 = bit_news_df.post_title.apply(lambda _title: len( [term for term in crypto_terms if (term in _title.lower())] ) > 0)\n",
    "news_mask_2 = bit_news_df.post_topic.apply(lambda _topic: len( [topic for topic in crypto_topics if (topic in _topic.lower())] ) > 0)\n",
    "\n",
    "bit_news_df = bit_news_df[news_mask_1+news_mask_2]\n",
    "bit_news_df = bit_news_df.reset_index(drop=True)\n",
    "bit_news_df.shape"
   ]
  },
  {
   "cell_type": "code",
   "execution_count": 6,
   "metadata": {},
   "outputs": [
    {
     "data": {
      "text/html": [
       "<div>\n",
       "<style scoped>\n",
       "    .dataframe tbody tr th:only-of-type {\n",
       "        vertical-align: middle;\n",
       "    }\n",
       "\n",
       "    .dataframe tbody tr th {\n",
       "        vertical-align: top;\n",
       "    }\n",
       "\n",
       "    .dataframe thead th {\n",
       "        text-align: right;\n",
       "    }\n",
       "</style>\n",
       "<table border=\"1\" class=\"dataframe\">\n",
       "  <thead>\n",
       "    <tr style=\"text-align: right;\">\n",
       "      <th></th>\n",
       "      <th>post_id</th>\n",
       "      <th>post_time</th>\n",
       "      <th>post_topic</th>\n",
       "      <th>post_title</th>\n",
       "      <th>post_upvotes</th>\n",
       "      <th>upvote_ratio</th>\n",
       "    </tr>\n",
       "  </thead>\n",
       "  <tbody>\n",
       "    <tr>\n",
       "      <th>0</th>\n",
       "      <td>lce7o5</td>\n",
       "      <td>2021-02-04 15:03:38</td>\n",
       "      <td>CryptoMarkets</td>\n",
       "      <td>Elon Musk Sends Dogecoin To The Moon With New ...</td>\n",
       "      <td>595</td>\n",
       "      <td>0.90</td>\n",
       "    </tr>\n",
       "    <tr>\n",
       "      <th>1</th>\n",
       "      <td>lcjsxy</td>\n",
       "      <td>2021-02-04 19:42:31</td>\n",
       "      <td>Crypto_Currency_News</td>\n",
       "      <td>Divi Interview with Nick and NEM</td>\n",
       "      <td>39</td>\n",
       "      <td>1.00</td>\n",
       "    </tr>\n",
       "    <tr>\n",
       "      <th>2</th>\n",
       "      <td>ld4ypc</td>\n",
       "      <td>2021-02-05 14:06:44</td>\n",
       "      <td>CryptoMarkets</td>\n",
       "      <td>Total Market Value Of Cryptocurrencies Hits Ne...</td>\n",
       "      <td>141</td>\n",
       "      <td>0.97</td>\n",
       "    </tr>\n",
       "    <tr>\n",
       "      <th>3</th>\n",
       "      <td>ldcaec</td>\n",
       "      <td>2021-02-05 20:29:39</td>\n",
       "      <td>CryptoMarkets</td>\n",
       "      <td>You again ?</td>\n",
       "      <td>1108</td>\n",
       "      <td>0.98</td>\n",
       "    </tr>\n",
       "    <tr>\n",
       "      <th>4</th>\n",
       "      <td>ldj6hk</td>\n",
       "      <td>2021-02-06 01:33:21</td>\n",
       "      <td>Crypto_Currency_News</td>\n",
       "      <td>BITCOIN News I Krypto Friday Ep87: Masternode ...</td>\n",
       "      <td>42</td>\n",
       "      <td>0.98</td>\n",
       "    </tr>\n",
       "  </tbody>\n",
       "</table>\n",
       "</div>"
      ],
      "text/plain": [
       "  post_id           post_time            post_topic  \\\n",
       "0  lce7o5 2021-02-04 15:03:38         CryptoMarkets   \n",
       "1  lcjsxy 2021-02-04 19:42:31  Crypto_Currency_News   \n",
       "2  ld4ypc 2021-02-05 14:06:44         CryptoMarkets   \n",
       "3  ldcaec 2021-02-05 20:29:39         CryptoMarkets   \n",
       "4  ldj6hk 2021-02-06 01:33:21  Crypto_Currency_News   \n",
       "\n",
       "                                          post_title  post_upvotes  \\\n",
       "0  Elon Musk Sends Dogecoin To The Moon With New ...           595   \n",
       "1                   Divi Interview with Nick and NEM            39   \n",
       "2  Total Market Value Of Cryptocurrencies Hits Ne...           141   \n",
       "3                                        You again ?          1108   \n",
       "4  BITCOIN News I Krypto Friday Ep87: Masternode ...            42   \n",
       "\n",
       "   upvote_ratio  \n",
       "0          0.90  \n",
       "1          1.00  \n",
       "2          0.97  \n",
       "3          0.98  \n",
       "4          0.98  "
      ]
     },
     "execution_count": 6,
     "metadata": {},
     "output_type": "execute_result"
    }
   ],
   "source": [
    "bit_news_df.head()"
   ]
  },
  {
   "cell_type": "code",
   "execution_count": 7,
   "metadata": {},
   "outputs": [],
   "source": [
    "# In case bit_usd_df.date hour: %4 != 0\n",
    "# bit_usd_df = bit_usd_df.drop(index=[0,1,2])\n",
    "# bit_usd_df = bit_usd_df.reset_index(drop=True)"
   ]
  },
  {
   "cell_type": "code",
   "execution_count": 8,
   "metadata": {},
   "outputs": [],
   "source": [
    "# Define bit_usd_df_4h\n",
    "btc_4h_df = pd.DataFrame()\n",
    "\n",
    "# Fill new dataframe\n",
    "for i, row in bit_usd_df.iterrows():\n",
    "    if row.date.hour % 4 == 0:\n",
    "        add_row = {'date': row.date,\n",
    "                   'open': bit_usd_df.open[i-3],\n",
    "                   'high': bit_usd_df.high[i-3:i+1].max(),\n",
    "                   'low': bit_usd_df.low[i-3:i+1].min(),\n",
    "                   'close': row.close,\n",
    "                   'volume': bit_usd_df.low[i-3:i+1].sum()}\n",
    "        btc_4h_df = btc_4h_df.append(add_row, ignore_index = True)"
   ]
  },
  {
   "cell_type": "code",
   "execution_count": 9,
   "metadata": {},
   "outputs": [],
   "source": [
    "# Add new feature price_var\n",
    "btc_4h_df['price_var'] = (btc_4h_df['close'] - btc_4h_df['open'])/btc_4h_df['open']"
   ]
  },
  {
   "cell_type": "code",
   "execution_count": 10,
   "metadata": {},
   "outputs": [
    {
     "data": {
      "text/html": [
       "<div>\n",
       "<style scoped>\n",
       "    .dataframe tbody tr th:only-of-type {\n",
       "        vertical-align: middle;\n",
       "    }\n",
       "\n",
       "    .dataframe tbody tr th {\n",
       "        vertical-align: top;\n",
       "    }\n",
       "\n",
       "    .dataframe thead th {\n",
       "        text-align: right;\n",
       "    }\n",
       "</style>\n",
       "<table border=\"1\" class=\"dataframe\">\n",
       "  <thead>\n",
       "    <tr style=\"text-align: right;\">\n",
       "      <th></th>\n",
       "      <th>date</th>\n",
       "      <th>open</th>\n",
       "      <th>high</th>\n",
       "      <th>low</th>\n",
       "      <th>close</th>\n",
       "      <th>volume</th>\n",
       "      <th>price_var</th>\n",
       "    </tr>\n",
       "  </thead>\n",
       "  <tbody>\n",
       "    <tr>\n",
       "      <th>0</th>\n",
       "      <td>2021-01-25 16:00:00</td>\n",
       "      <td>34188.20</td>\n",
       "      <td>34885.56</td>\n",
       "      <td>33616.56</td>\n",
       "      <td>33901.01</td>\n",
       "      <td>136344.59</td>\n",
       "      <td>-0.008400</td>\n",
       "    </tr>\n",
       "    <tr>\n",
       "      <th>1</th>\n",
       "      <td>2021-01-25 20:00:00</td>\n",
       "      <td>33901.01</td>\n",
       "      <td>34262.94</td>\n",
       "      <td>33055.00</td>\n",
       "      <td>33476.34</td>\n",
       "      <td>133618.13</td>\n",
       "      <td>-0.012527</td>\n",
       "    </tr>\n",
       "    <tr>\n",
       "      <th>2</th>\n",
       "      <td>2021-01-26 00:00:00</td>\n",
       "      <td>33476.34</td>\n",
       "      <td>33476.34</td>\n",
       "      <td>31775.00</td>\n",
       "      <td>32518.40</td>\n",
       "      <td>128086.22</td>\n",
       "      <td>-0.028615</td>\n",
       "    </tr>\n",
       "    <tr>\n",
       "      <th>3</th>\n",
       "      <td>2021-01-26 04:00:00</td>\n",
       "      <td>32518.40</td>\n",
       "      <td>32850.88</td>\n",
       "      <td>31459.59</td>\n",
       "      <td>32038.79</td>\n",
       "      <td>127412.83</td>\n",
       "      <td>-0.014749</td>\n",
       "    </tr>\n",
       "    <tr>\n",
       "      <th>4</th>\n",
       "      <td>2021-01-26 08:00:00</td>\n",
       "      <td>32038.79</td>\n",
       "      <td>32353.33</td>\n",
       "      <td>31149.86</td>\n",
       "      <td>31914.98</td>\n",
       "      <td>125831.07</td>\n",
       "      <td>-0.003864</td>\n",
       "    </tr>\n",
       "  </tbody>\n",
       "</table>\n",
       "</div>"
      ],
      "text/plain": [
       "                 date      open      high       low     close     volume  \\\n",
       "0 2021-01-25 16:00:00  34188.20  34885.56  33616.56  33901.01  136344.59   \n",
       "1 2021-01-25 20:00:00  33901.01  34262.94  33055.00  33476.34  133618.13   \n",
       "2 2021-01-26 00:00:00  33476.34  33476.34  31775.00  32518.40  128086.22   \n",
       "3 2021-01-26 04:00:00  32518.40  32850.88  31459.59  32038.79  127412.83   \n",
       "4 2021-01-26 08:00:00  32038.79  32353.33  31149.86  31914.98  125831.07   \n",
       "\n",
       "   price_var  \n",
       "0  -0.008400  \n",
       "1  -0.012527  \n",
       "2  -0.028615  \n",
       "3  -0.014749  \n",
       "4  -0.003864  "
      ]
     },
     "execution_count": 10,
     "metadata": {},
     "output_type": "execute_result"
    }
   ],
   "source": [
    "btc_4h_df.head()"
   ]
  },
  {
   "cell_type": "markdown",
   "metadata": {},
   "source": [
    "Combine two dataframes in one."
   ]
  },
  {
   "cell_type": "code",
   "execution_count": 11,
   "metadata": {},
   "outputs": [],
   "source": [
    "# Bind news to specific time in bit_news_df\n",
    "news_list = []\n",
    "df_len = len(bit_news_df.post_time)-1\n",
    "\n",
    "j = 0\n",
    "for i, row in btc_4h_df.iterrows():\n",
    "    most_liked_news = 0\n",
    "    # In case there no news in the time period.\n",
    "    if (bit_news_df.post_time[j] > row.date) or (j >= df_len):\n",
    "        news_list.append('none')\n",
    "    # We need just one news title, so if we have more than one we pick the title with more likes.\n",
    "    else:\n",
    "        while (bit_news_df.post_time[j] <= row.date) and (j < df_len):\n",
    "            if most_liked_news == 0:\n",
    "                news_list.append(bit_news_df.post_title[j])\n",
    "            elif bit_news_df.post_upvotes[j] > most_liked_news:\n",
    "                news_list.pop()\n",
    "                news_list.append(bit_news_df.post_title[j])\n",
    "            most_liked_news = max(bit_news_df.post_upvotes[j], most_liked_news)\n",
    "            j += 1\n",
    "\n",
    "# Delete everything except letters\n",
    "news_list = [re.sub(r'[^A-Za-z]', ' ', item.lower()) for item in news_list]\n",
    "news_list = [re.sub(' +', ' ', item.strip()) for item in news_list]\n",
    "btc_4h_df['news'] = news_list\n",
    "btc_4h_df['news'] = btc_4h_df['news'].replace('', 'none')"
   ]
  },
  {
   "cell_type": "code",
   "execution_count": 12,
   "metadata": {},
   "outputs": [
    {
     "data": {
      "text/html": [
       "<div>\n",
       "<style scoped>\n",
       "    .dataframe tbody tr th:only-of-type {\n",
       "        vertical-align: middle;\n",
       "    }\n",
       "\n",
       "    .dataframe tbody tr th {\n",
       "        vertical-align: top;\n",
       "    }\n",
       "\n",
       "    .dataframe thead th {\n",
       "        text-align: right;\n",
       "    }\n",
       "</style>\n",
       "<table border=\"1\" class=\"dataframe\">\n",
       "  <thead>\n",
       "    <tr style=\"text-align: right;\">\n",
       "      <th></th>\n",
       "      <th>date</th>\n",
       "      <th>open</th>\n",
       "      <th>high</th>\n",
       "      <th>low</th>\n",
       "      <th>close</th>\n",
       "      <th>volume</th>\n",
       "      <th>price_var</th>\n",
       "      <th>news</th>\n",
       "    </tr>\n",
       "  </thead>\n",
       "  <tbody>\n",
       "    <tr>\n",
       "      <th>796</th>\n",
       "      <td>2021-06-07 08:00:00</td>\n",
       "      <td>36274.84</td>\n",
       "      <td>36443.40</td>\n",
       "      <td>35865.32</td>\n",
       "      <td>36120.96</td>\n",
       "      <td>143953.86</td>\n",
       "      <td>-0.004242</td>\n",
       "      <td>none</td>\n",
       "    </tr>\n",
       "    <tr>\n",
       "      <th>1351</th>\n",
       "      <td>2021-09-07 20:00:00</td>\n",
       "      <td>47514.82</td>\n",
       "      <td>47624.58</td>\n",
       "      <td>46010.01</td>\n",
       "      <td>46829.37</td>\n",
       "      <td>185559.12</td>\n",
       "      <td>-0.014426</td>\n",
       "      <td>none</td>\n",
       "    </tr>\n",
       "    <tr>\n",
       "      <th>1990</th>\n",
       "      <td>2021-12-23 08:00:00</td>\n",
       "      <td>48378.74</td>\n",
       "      <td>48579.18</td>\n",
       "      <td>48072.35</td>\n",
       "      <td>48366.20</td>\n",
       "      <td>192748.76</td>\n",
       "      <td>-0.000259</td>\n",
       "      <td>none</td>\n",
       "    </tr>\n",
       "    <tr>\n",
       "      <th>837</th>\n",
       "      <td>2021-06-14 04:00:00</td>\n",
       "      <td>39116.28</td>\n",
       "      <td>39816.72</td>\n",
       "      <td>38766.15</td>\n",
       "      <td>39278.50</td>\n",
       "      <td>155452.31</td>\n",
       "      <td>0.004147</td>\n",
       "      <td>none</td>\n",
       "    </tr>\n",
       "    <tr>\n",
       "      <th>487</th>\n",
       "      <td>2021-04-16 20:00:00</td>\n",
       "      <td>61817.74</td>\n",
       "      <td>62101.32</td>\n",
       "      <td>61226.46</td>\n",
       "      <td>62015.25</td>\n",
       "      <td>246100.08</td>\n",
       "      <td>0.003195</td>\n",
       "      <td>dread it run from it doge still arrives</td>\n",
       "    </tr>\n",
       "    <tr>\n",
       "      <th>1755</th>\n",
       "      <td>2021-11-14 04:00:00</td>\n",
       "      <td>65000.46</td>\n",
       "      <td>65102.38</td>\n",
       "      <td>64560.11</td>\n",
       "      <td>64743.14</td>\n",
       "      <td>258537.50</td>\n",
       "      <td>-0.003959</td>\n",
       "      <td>none</td>\n",
       "    </tr>\n",
       "    <tr>\n",
       "      <th>1775</th>\n",
       "      <td>2021-11-17 12:00:00</td>\n",
       "      <td>59593.62</td>\n",
       "      <td>60831.30</td>\n",
       "      <td>58434.80</td>\n",
       "      <td>60500.01</td>\n",
       "      <td>238066.11</td>\n",
       "      <td>0.015210</td>\n",
       "      <td>telos evm mainnet goes live the evm allows the...</td>\n",
       "    </tr>\n",
       "    <tr>\n",
       "      <th>1275</th>\n",
       "      <td>2021-08-26 04:00:00</td>\n",
       "      <td>49311.99</td>\n",
       "      <td>49358.05</td>\n",
       "      <td>47622.88</td>\n",
       "      <td>47886.93</td>\n",
       "      <td>192880.69</td>\n",
       "      <td>-0.028899</td>\n",
       "      <td>none</td>\n",
       "    </tr>\n",
       "    <tr>\n",
       "      <th>1919</th>\n",
       "      <td>2021-12-11 12:00:00</td>\n",
       "      <td>48410.20</td>\n",
       "      <td>48647.17</td>\n",
       "      <td>48166.08</td>\n",
       "      <td>48564.71</td>\n",
       "      <td>192977.20</td>\n",
       "      <td>0.003192</td>\n",
       "      <td>mecca of mining brazil considers zero tax on g...</td>\n",
       "    </tr>\n",
       "    <tr>\n",
       "      <th>731</th>\n",
       "      <td>2021-05-27 12:00:00</td>\n",
       "      <td>38886.24</td>\n",
       "      <td>39969.60</td>\n",
       "      <td>38875.38</td>\n",
       "      <td>39350.29</td>\n",
       "      <td>156590.10</td>\n",
       "      <td>0.011934</td>\n",
       "      <td>very promising new crypto coin hakunamatata</td>\n",
       "    </tr>\n",
       "  </tbody>\n",
       "</table>\n",
       "</div>"
      ],
      "text/plain": [
       "                    date      open      high       low     close     volume  \\\n",
       "796  2021-06-07 08:00:00  36274.84  36443.40  35865.32  36120.96  143953.86   \n",
       "1351 2021-09-07 20:00:00  47514.82  47624.58  46010.01  46829.37  185559.12   \n",
       "1990 2021-12-23 08:00:00  48378.74  48579.18  48072.35  48366.20  192748.76   \n",
       "837  2021-06-14 04:00:00  39116.28  39816.72  38766.15  39278.50  155452.31   \n",
       "487  2021-04-16 20:00:00  61817.74  62101.32  61226.46  62015.25  246100.08   \n",
       "1755 2021-11-14 04:00:00  65000.46  65102.38  64560.11  64743.14  258537.50   \n",
       "1775 2021-11-17 12:00:00  59593.62  60831.30  58434.80  60500.01  238066.11   \n",
       "1275 2021-08-26 04:00:00  49311.99  49358.05  47622.88  47886.93  192880.69   \n",
       "1919 2021-12-11 12:00:00  48410.20  48647.17  48166.08  48564.71  192977.20   \n",
       "731  2021-05-27 12:00:00  38886.24  39969.60  38875.38  39350.29  156590.10   \n",
       "\n",
       "      price_var                                               news  \n",
       "796   -0.004242                                               none  \n",
       "1351  -0.014426                                               none  \n",
       "1990  -0.000259                                               none  \n",
       "837    0.004147                                               none  \n",
       "487    0.003195            dread it run from it doge still arrives  \n",
       "1755  -0.003959                                               none  \n",
       "1775   0.015210  telos evm mainnet goes live the evm allows the...  \n",
       "1275  -0.028899                                               none  \n",
       "1919   0.003192  mecca of mining brazil considers zero tax on g...  \n",
       "731    0.011934        very promising new crypto coin hakunamatata  "
      ]
     },
     "execution_count": 12,
     "metadata": {},
     "output_type": "execute_result"
    }
   ],
   "source": [
    "btc_4h_df.sample(10)"
   ]
  },
  {
   "cell_type": "markdown",
   "metadata": {},
   "source": [
    "## Visulising the BTC-USD"
   ]
  },
  {
   "cell_type": "code",
   "execution_count": 13,
   "metadata": {},
   "outputs": [
    {
     "data": {
      "image/png": "[encoded data removed]",
      "text/plain": [
       "<Figure size 864x360 with 1 Axes>"
      ]
     },
     "metadata": {
      "needs_background": "light"
     },
     "output_type": "display_data"
    }
   ],
   "source": [
    "plt.figure(figsize=(12,5))\n",
    "plt.plot_date(x=btc_4h_df.date, y=btc_4h_df.close, label='BTC-USD',\n",
    "              linestyle='solid', linewidth=1, markersize=0,\n",
    "              fillstyle='none', alpha=0.7\n",
    ")\n",
    "\n",
    "plt.fill_between(x=btc_4h_df.date, y1=btc_4h_df.close, alpha=0.4)\n",
    "plt.plot()\n",
    "\n",
    "plt.title('BTC-USD')\n",
    "plt.xlabel('Time')\n",
    "plt.ylabel(r'Price [\\$]')\n",
    "plt.legend('')\n",
    "\n",
    "plt.gca().xaxis.set_major_locator(mdates.MonthLocator())\n",
    "plt.gca().xaxis.set_minor_locator(mdates.WeekdayLocator())\n",
    "plt.grid(True)\n",
    "\n",
    "plt.xlim(btc_4h_df.date.min(),)\n",
    "plt.ylim(np.ceil(btc_4h_df.close.min()*0.75),)\n",
    "\n",
    "plt.xticks(rotation=20)\n",
    "plt.show()"
   ]
  },
  {
   "cell_type": "markdown",
   "metadata": {},
   "source": [
    "And the last thing is creating trend (up/down) column for classification task."
   ]
  },
  {
   "cell_type": "code",
   "execution_count": 14,
   "metadata": {},
   "outputs": [],
   "source": [
    "# We will see how news impact the price on 30*4-hour horizon.\n",
    "for i in range(len(btc_4h_df)):\n",
    "    btc_4h_df.loc[i,'trend'] = (btc_4h_df.loc[i+30,'close']-btc_4h_df.loc[i,'close'] > 0).astype(int)\n",
    "    if i >= len(btc_4h_df) - 31: break"
   ]
  },
  {
   "cell_type": "markdown",
   "metadata": {
    "tags": []
   },
   "source": [
    "## Save the final dataframe to .csv file"
   ]
  },
  {
   "cell_type": "code",
   "execution_count": 15,
   "metadata": {},
   "outputs": [],
   "source": [
    "pd.DataFrame(btc_4h_df).to_csv('BTC_Finale.csv', index=False)"
   ]
  },
  {
   "cell_type": "code",
   "execution_count": null,
   "metadata": {},
   "outputs": [],
   "source": []
  }
 ],
 "metadata": {
  "kernelspec": {
   "display_name": "Python 3 (ipykernel)",
   "language": "python",
   "name": "python3"
  },
  "language_info": {
   "codemirror_mode": {
    "name": "ipython",
    "version": 3
   },
   "file_extension": ".py",
   "mimetype": "text/x-python",
   "name": "python",
   "nbconvert_exporter": "python",
   "pygments_lexer": "ipython3",
   "version": "3.9.9"
  }
 },
 "nbformat": 4,
 "nbformat_minor": 4
}
