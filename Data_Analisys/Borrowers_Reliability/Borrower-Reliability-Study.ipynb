{
 "cells": [
  {
   "cell_type": "markdown",
   "id": "804bde25-6916-4fef-b39a-15b719a1db52",
   "metadata": {},
   "source": [
    "# Исследование надежности заемщиков"
   ]
  },
  {
   "cell_type": "markdown",
   "id": "081207b9-e60d-43f2-a28e-b66453b356a8",
   "metadata": {
    "tags": []
   },
   "source": [
    "## Шаг 1. Обзор данных"
   ]
  },
  {
   "cell_type": "markdown",
   "id": "97cacbe5-7089-4022-9c87-4d27618b0b64",
   "metadata": {},
   "source": [
    "Импортируем используемые в проекте библиотеки и загружаем .csv"
   ]
  },
  {
   "cell_type": "code",
   "execution_count": 1,
   "id": "d7209b53-f3d6-4e83-8473-221a3cf7226b",
   "metadata": {},
   "outputs": [],
   "source": [
    "import pandas as pd\n",
    "import numpy as np"
   ]
  },
  {
   "cell_type": "code",
   "execution_count": 2,
   "id": "219e0681-a0a5-4db3-a96c-46d2cf5a61bf",
   "metadata": {},
   "outputs": [],
   "source": [
    "try:\n",
    "    df = pd.read_csv('***/data.csv')\n",
    "    df.head()\n",
    "except:\n",
    "    print('Не удалось загрузить файл, проверьте путь.')"
   ]
  },
  {
   "cell_type": "markdown",
   "id": "0c122689-507b-4b72-95fc-d48b921a4869",
   "metadata": {
    "tags": []
   },
   "source": [
    "## Шаг 2.Предобработка данных"
   ]
  },
  {
   "cell_type": "markdown",
   "id": "caa49b05-76f3-440c-ab6a-4f2717e00363",
   "metadata": {
    "tags": []
   },
   "source": [
    "### Шаг 2.1 Заполнение пропусков"
   ]
  },
  {
   "cell_type": "markdown",
   "id": "d72d0a18-fb6b-44e8-8afd-07f147ebda93",
   "metadata": {},
   "source": [
    "Определим долю пропущенные значения в каждом из столбцов с пропусками."
   ]
  },
  {
   "cell_type": "code",
   "execution_count": 3,
   "id": "b3a1aba6-97e1-48c5-a7cf-7ed65d7b633a",
   "metadata": {},
   "outputs": [
    {
     "data": {
      "text/plain": [
       "<AxesSubplot:>"
      ]
     },
     "execution_count": 3,
     "metadata": {},
     "output_type": "execute_result"
    },
    {
     "data": {
      "image/png": "[encoded data removed]",
      "text/plain": [
       "<Figure size 432x288 with 1 Axes>"
      ]
     },
     "metadata": {
      "needs_background": "light"
     },
     "output_type": "display_data"
    }
   ],
   "source": [
    "is_null_list = df.isna().mean().sort_values(ascending=False)\n",
    "is_null_list[is_null_list > 0].plot.barh()"
   ]
  },
  {
   "cell_type": "markdown",
   "id": "ddc28315-792f-4bff-ab20-0ad1fb416f23",
   "metadata": {
    "tags": []
   },
   "source": [
    "Пропуски есть в days_employed и total_income. Их значения равны и составляют 10%. и total_income. Их значения равны и составляют 10%."
   ]
  },
  {
   "cell_type": "code",
   "execution_count": 4,
   "id": "1c0b0848-4398-4e49-8d9b-51379d0be56d",
   "metadata": {},
   "outputs": [
    {
     "data": {
      "text/html": [
       "<div>\n",
       "<style scoped>\n",
       "    .dataframe tbody tr th:only-of-type {\n",
       "        vertical-align: middle;\n",
       "    }\n",
       "\n",
       "    .dataframe tbody tr th {\n",
       "        vertical-align: top;\n",
       "    }\n",
       "\n",
       "    .dataframe thead th {\n",
       "        text-align: right;\n",
       "    }\n",
       "</style>\n",
       "<table border=\"1\" class=\"dataframe\">\n",
       "  <thead>\n",
       "    <tr style=\"text-align: right;\">\n",
       "      <th></th>\n",
       "      <th>children</th>\n",
       "      <th>days_employed</th>\n",
       "      <th>dob_years</th>\n",
       "      <th>education</th>\n",
       "      <th>education_id</th>\n",
       "      <th>family_status</th>\n",
       "      <th>family_status_id</th>\n",
       "      <th>gender</th>\n",
       "      <th>income_type</th>\n",
       "      <th>debt</th>\n",
       "      <th>total_income</th>\n",
       "      <th>purpose</th>\n",
       "    </tr>\n",
       "  </thead>\n",
       "  <tbody>\n",
       "  </tbody>\n",
       "</table>\n",
       "</div>"
      ],
      "text/plain": [
       "Empty DataFrame\n",
       "Columns: [children, days_employed, dob_years, education, education_id, family_status, family_status_id, gender, income_type, debt, total_income, purpose]\n",
       "Index: []"
      ]
     },
     "execution_count": 4,
     "metadata": {},
     "output_type": "execute_result"
    }
   ],
   "source": [
    "# Проверяем есть ли строки в которых days_employed и total_income не являются NaN одновременно.\n",
    "df[(df.days_employed.isna()) & (df.total_income.isna() == False)].head()"
   ]
  },
  {
   "cell_type": "markdown",
   "id": "31381e31-ec2a-4030-af26-d4ab6cd31518",
   "metadata": {
    "tags": []
   },
   "source": [
    "Очевидно что NaN в колоннах связаны. У людей без заработка (пенсионер и т.п.) и в days_employed указан NaN."
   ]
  },
  {
   "cell_type": "markdown",
   "id": "b4f98c24-4222-4936-9847-ecbace65a7ed",
   "metadata": {},
   "source": [
    "<div class=\"alert alert-success\">Медианные значения более устойчивы к выбросам чем средние значения, поэтому для количественных переменных используют их.</div>"
   ]
  },
  {
   "cell_type": "markdown",
   "id": "42d8635c-8b20-4b66-8fab-e6f51bc0a8cd",
   "metadata": {
    "tags": []
   },
   "source": [
    "Заполним пропущенные значения медианным значением по столбцу с учетом категории income_type."
   ]
  },
  {
   "cell_type": "code",
   "execution_count": 5,
   "id": "380ba1d0-5a18-458d-ad63-0941773385a3",
   "metadata": {},
   "outputs": [
    {
     "data": {
      "text/plain": [
       "0"
      ]
     },
     "execution_count": 5,
     "metadata": {},
     "output_type": "execute_result"
    }
   ],
   "source": [
    "df.total_income = df.total_income.fillna(df.groupby(['education','income_type'])['total_income'].transform('median'))\n",
    "df.days_employed = df.days_employed.fillna(df.groupby(['education','income_type'])['days_employed'].transform('median'))\n",
    "\n",
    "# Результат выполненной операции - пропусков больше нет.\n",
    "df.isna().sum().sum()"
   ]
  },
  {
   "cell_type": "markdown",
   "id": "cbfb3dcd-e483-4672-8936-e159f9ac6762",
   "metadata": {
    "tags": []
   },
   "source": [
    "### Шаг 2.3. Изменение типов данных."
   ]
  },
  {
   "cell_type": "markdown",
   "id": "61529cff-6a10-4ccc-aa05-62af4fca811b",
   "metadata": {},
   "source": [
    "Выведем общие данные по фрейму:"
   ]
  },
  {
   "cell_type": "code",
   "execution_count": 6,
   "id": "0291a1b5-581c-44aa-8418-ed5b0708eb18",
   "metadata": {},
   "outputs": [
    {
     "data": {
      "text/html": [
       "<div>\n",
       "<style scoped>\n",
       "    .dataframe tbody tr th:only-of-type {\n",
       "        vertical-align: middle;\n",
       "    }\n",
       "\n",
       "    .dataframe tbody tr th {\n",
       "        vertical-align: top;\n",
       "    }\n",
       "\n",
       "    .dataframe thead th {\n",
       "        text-align: right;\n",
       "    }\n",
       "</style>\n",
       "<table border=\"1\" class=\"dataframe\">\n",
       "  <thead>\n",
       "    <tr style=\"text-align: right;\">\n",
       "      <th></th>\n",
       "      <th>children</th>\n",
       "      <th>days_employed</th>\n",
       "      <th>dob_years</th>\n",
       "      <th>education_id</th>\n",
       "      <th>family_status_id</th>\n",
       "      <th>debt</th>\n",
       "      <th>total_income</th>\n",
       "    </tr>\n",
       "  </thead>\n",
       "  <tbody>\n",
       "    <tr>\n",
       "      <th>count</th>\n",
       "      <td>21525.000000</td>\n",
       "      <td>21525.000000</td>\n",
       "      <td>21525.000000</td>\n",
       "      <td>21525.000000</td>\n",
       "      <td>21525.000000</td>\n",
       "      <td>21525.000000</td>\n",
       "      <td>2.152500e+04</td>\n",
       "    </tr>\n",
       "    <tr>\n",
       "      <th>mean</th>\n",
       "      <td>0.538908</td>\n",
       "      <td>63551.101784</td>\n",
       "      <td>43.293380</td>\n",
       "      <td>0.817236</td>\n",
       "      <td>0.972544</td>\n",
       "      <td>0.080883</td>\n",
       "      <td>1.653759e+05</td>\n",
       "    </tr>\n",
       "    <tr>\n",
       "      <th>std</th>\n",
       "      <td>1.381587</td>\n",
       "      <td>141154.503593</td>\n",
       "      <td>12.574584</td>\n",
       "      <td>0.548138</td>\n",
       "      <td>1.420324</td>\n",
       "      <td>0.272661</td>\n",
       "      <td>9.816425e+04</td>\n",
       "    </tr>\n",
       "    <tr>\n",
       "      <th>min</th>\n",
       "      <td>-1.000000</td>\n",
       "      <td>-18388.949901</td>\n",
       "      <td>0.000000</td>\n",
       "      <td>0.000000</td>\n",
       "      <td>0.000000</td>\n",
       "      <td>0.000000</td>\n",
       "      <td>2.066726e+04</td>\n",
       "    </tr>\n",
       "    <tr>\n",
       "      <th>25%</th>\n",
       "      <td>0.000000</td>\n",
       "      <td>-2566.981734</td>\n",
       "      <td>33.000000</td>\n",
       "      <td>1.000000</td>\n",
       "      <td>0.000000</td>\n",
       "      <td>0.000000</td>\n",
       "      <td>1.077142e+05</td>\n",
       "    </tr>\n",
       "    <tr>\n",
       "      <th>50%</th>\n",
       "      <td>0.000000</td>\n",
       "      <td>-1342.072911</td>\n",
       "      <td>42.000000</td>\n",
       "      <td>1.000000</td>\n",
       "      <td>0.000000</td>\n",
       "      <td>0.000000</td>\n",
       "      <td>1.431116e+05</td>\n",
       "    </tr>\n",
       "    <tr>\n",
       "      <th>75%</th>\n",
       "      <td>1.000000</td>\n",
       "      <td>-316.240646</td>\n",
       "      <td>53.000000</td>\n",
       "      <td>1.000000</td>\n",
       "      <td>1.000000</td>\n",
       "      <td>0.000000</td>\n",
       "      <td>1.981056e+05</td>\n",
       "    </tr>\n",
       "    <tr>\n",
       "      <th>max</th>\n",
       "      <td>20.000000</td>\n",
       "      <td>401755.400475</td>\n",
       "      <td>75.000000</td>\n",
       "      <td>4.000000</td>\n",
       "      <td>4.000000</td>\n",
       "      <td>1.000000</td>\n",
       "      <td>2.265604e+06</td>\n",
       "    </tr>\n",
       "  </tbody>\n",
       "</table>\n",
       "</div>"
      ],
      "text/plain": [
       "           children  days_employed     dob_years  education_id  \\\n",
       "count  21525.000000   21525.000000  21525.000000  21525.000000   \n",
       "mean       0.538908   63551.101784     43.293380      0.817236   \n",
       "std        1.381587  141154.503593     12.574584      0.548138   \n",
       "min       -1.000000  -18388.949901      0.000000      0.000000   \n",
       "25%        0.000000   -2566.981734     33.000000      1.000000   \n",
       "50%        0.000000   -1342.072911     42.000000      1.000000   \n",
       "75%        1.000000    -316.240646     53.000000      1.000000   \n",
       "max       20.000000  401755.400475     75.000000      4.000000   \n",
       "\n",
       "       family_status_id          debt  total_income  \n",
       "count      21525.000000  21525.000000  2.152500e+04  \n",
       "mean           0.972544      0.080883  1.653759e+05  \n",
       "std            1.420324      0.272661  9.816425e+04  \n",
       "min            0.000000      0.000000  2.066726e+04  \n",
       "25%            0.000000      0.000000  1.077142e+05  \n",
       "50%            0.000000      0.000000  1.431116e+05  \n",
       "75%            1.000000      0.000000  1.981056e+05  \n",
       "max            4.000000      1.000000  2.265604e+06  "
      ]
     },
     "execution_count": 6,
     "metadata": {},
     "output_type": "execute_result"
    }
   ],
   "source": [
    "df.describe()"
   ]
  },
  {
   "cell_type": "code",
   "execution_count": 7,
   "id": "6e2dcccc-c4a6-47b8-bc41-57f5563a07c2",
   "metadata": {},
   "outputs": [
    {
     "data": {
      "text/html": [
       "<div>\n",
       "<style scoped>\n",
       "    .dataframe tbody tr th:only-of-type {\n",
       "        vertical-align: middle;\n",
       "    }\n",
       "\n",
       "    .dataframe tbody tr th {\n",
       "        vertical-align: top;\n",
       "    }\n",
       "\n",
       "    .dataframe thead th {\n",
       "        text-align: right;\n",
       "    }\n",
       "</style>\n",
       "<table border=\"1\" class=\"dataframe\">\n",
       "  <thead>\n",
       "    <tr style=\"text-align: right;\">\n",
       "      <th></th>\n",
       "      <th>education</th>\n",
       "      <th>family_status</th>\n",
       "      <th>gender</th>\n",
       "      <th>income_type</th>\n",
       "      <th>purpose</th>\n",
       "    </tr>\n",
       "  </thead>\n",
       "  <tbody>\n",
       "    <tr>\n",
       "      <th>count</th>\n",
       "      <td>21525</td>\n",
       "      <td>21525</td>\n",
       "      <td>21525</td>\n",
       "      <td>21525</td>\n",
       "      <td>21525</td>\n",
       "    </tr>\n",
       "    <tr>\n",
       "      <th>unique</th>\n",
       "      <td>15</td>\n",
       "      <td>5</td>\n",
       "      <td>3</td>\n",
       "      <td>8</td>\n",
       "      <td>38</td>\n",
       "    </tr>\n",
       "    <tr>\n",
       "      <th>top</th>\n",
       "      <td>среднее</td>\n",
       "      <td>женат / замужем</td>\n",
       "      <td>F</td>\n",
       "      <td>сотрудник</td>\n",
       "      <td>свадьба</td>\n",
       "    </tr>\n",
       "    <tr>\n",
       "      <th>freq</th>\n",
       "      <td>13750</td>\n",
       "      <td>12380</td>\n",
       "      <td>14236</td>\n",
       "      <td>11119</td>\n",
       "      <td>797</td>\n",
       "    </tr>\n",
       "  </tbody>\n",
       "</table>\n",
       "</div>"
      ],
      "text/plain": [
       "       education    family_status gender income_type  purpose\n",
       "count      21525            21525  21525       21525    21525\n",
       "unique        15                5      3           8       38\n",
       "top      среднее  женат / замужем      F   сотрудник  свадьба\n",
       "freq       13750            12380  14236       11119      797"
      ]
     },
     "execution_count": 7,
     "metadata": {},
     "output_type": "execute_result"
    }
   ],
   "source": [
    "df.describe(exclude=np.number)"
   ]
  },
  {
   "cell_type": "markdown",
   "id": "e7579471-7eaa-4b25-8906-c41a6f99f62f",
   "metadata": {},
   "source": [
    "Выявленные артефакты:\n",
    "- children: минимум равен -1 и максимум аж 20.\n",
    "- days_employed: отрицательные, дробные и слишком большие значения.\n",
    "- dob_years: возраст клиента 0.\n",
    "- gender: выявлен третий гендер."
   ]
  },
  {
   "cell_type": "markdown",
   "id": "9e9b115c-25f1-479a-856b-10764882615f",
   "metadata": {},
   "source": [
    "Посмотрим на данные в которых есть аномалии."
   ]
  },
  {
   "cell_type": "code",
   "execution_count": 8,
   "id": "3568ce06-642a-45ed-843a-a375fc6252eb",
   "metadata": {},
   "outputs": [
    {
     "data": {
      "text/html": [
       "<div>\n",
       "<style scoped>\n",
       "    .dataframe tbody tr th:only-of-type {\n",
       "        vertical-align: middle;\n",
       "    }\n",
       "\n",
       "    .dataframe tbody tr th {\n",
       "        vertical-align: top;\n",
       "    }\n",
       "\n",
       "    .dataframe thead th {\n",
       "        text-align: right;\n",
       "    }\n",
       "</style>\n",
       "<table border=\"1\" class=\"dataframe\">\n",
       "  <thead>\n",
       "    <tr style=\"text-align: right;\">\n",
       "      <th></th>\n",
       "      <th>children</th>\n",
       "      <th>days_employed</th>\n",
       "      <th>dob_years</th>\n",
       "      <th>education</th>\n",
       "      <th>education_id</th>\n",
       "      <th>family_status</th>\n",
       "      <th>family_status_id</th>\n",
       "      <th>gender</th>\n",
       "      <th>income_type</th>\n",
       "      <th>debt</th>\n",
       "      <th>total_income</th>\n",
       "      <th>purpose</th>\n",
       "    </tr>\n",
       "  </thead>\n",
       "  <tbody>\n",
       "    <tr>\n",
       "      <th>7101</th>\n",
       "      <td>0</td>\n",
       "      <td>-1641.324632</td>\n",
       "      <td>51</td>\n",
       "      <td>среднее</td>\n",
       "      <td>1</td>\n",
       "      <td>женат / замужем</td>\n",
       "      <td>0</td>\n",
       "      <td>M</td>\n",
       "      <td>сотрудник</td>\n",
       "      <td>0</td>\n",
       "      <td>85644.678836</td>\n",
       "      <td>строительство собственной недвижимости</td>\n",
       "    </tr>\n",
       "    <tr>\n",
       "      <th>8319</th>\n",
       "      <td>0</td>\n",
       "      <td>-109.342362</td>\n",
       "      <td>53</td>\n",
       "      <td>среднее</td>\n",
       "      <td>1</td>\n",
       "      <td>Не женат / не замужем</td>\n",
       "      <td>4</td>\n",
       "      <td>M</td>\n",
       "      <td>сотрудник</td>\n",
       "      <td>0</td>\n",
       "      <td>124770.017063</td>\n",
       "      <td>операции с жильем</td>\n",
       "    </tr>\n",
       "    <tr>\n",
       "      <th>20370</th>\n",
       "      <td>1</td>\n",
       "      <td>-2621.903545</td>\n",
       "      <td>39</td>\n",
       "      <td>среднее</td>\n",
       "      <td>1</td>\n",
       "      <td>женат / замужем</td>\n",
       "      <td>0</td>\n",
       "      <td>F</td>\n",
       "      <td>сотрудник</td>\n",
       "      <td>0</td>\n",
       "      <td>144832.645057</td>\n",
       "      <td>на покупку автомобиля</td>\n",
       "    </tr>\n",
       "  </tbody>\n",
       "</table>\n",
       "</div>"
      ],
      "text/plain": [
       "       children  days_employed  dob_years education  education_id  \\\n",
       "7101          0   -1641.324632         51   среднее             1   \n",
       "8319          0    -109.342362         53   среднее             1   \n",
       "20370         1   -2621.903545         39   среднее             1   \n",
       "\n",
       "               family_status  family_status_id gender income_type  debt  \\\n",
       "7101         женат / замужем                 0      M   сотрудник     0   \n",
       "8319   Не женат / не замужем                 4      M   сотрудник     0   \n",
       "20370        женат / замужем                 0      F   сотрудник     0   \n",
       "\n",
       "        total_income                                 purpose  \n",
       "7101    85644.678836  строительство собственной недвижимости  \n",
       "8319   124770.017063                       операции с жильем  \n",
       "20370  144832.645057                   на покупку автомобиля  "
      ]
     },
     "execution_count": 8,
     "metadata": {},
     "output_type": "execute_result"
    }
   ],
   "source": [
    "df[df.days_employed < 0].sample(3)"
   ]
  },
  {
   "cell_type": "code",
   "execution_count": 9,
   "id": "2da4b106-9f45-4729-8cb7-240cd92bbf6f",
   "metadata": {},
   "outputs": [
    {
     "data": {
      "text/html": [
       "<div>\n",
       "<style scoped>\n",
       "    .dataframe tbody tr th:only-of-type {\n",
       "        vertical-align: middle;\n",
       "    }\n",
       "\n",
       "    .dataframe tbody tr th {\n",
       "        vertical-align: top;\n",
       "    }\n",
       "\n",
       "    .dataframe thead th {\n",
       "        text-align: right;\n",
       "    }\n",
       "</style>\n",
       "<table border=\"1\" class=\"dataframe\">\n",
       "  <thead>\n",
       "    <tr style=\"text-align: right;\">\n",
       "      <th></th>\n",
       "      <th>children</th>\n",
       "      <th>days_employed</th>\n",
       "      <th>dob_years</th>\n",
       "      <th>education</th>\n",
       "      <th>education_id</th>\n",
       "      <th>family_status</th>\n",
       "      <th>family_status_id</th>\n",
       "      <th>gender</th>\n",
       "      <th>income_type</th>\n",
       "      <th>debt</th>\n",
       "      <th>total_income</th>\n",
       "      <th>purpose</th>\n",
       "    </tr>\n",
       "  </thead>\n",
       "  <tbody>\n",
       "    <tr>\n",
       "      <th>7685</th>\n",
       "      <td>-1</td>\n",
       "      <td>-3237.360455</td>\n",
       "      <td>53</td>\n",
       "      <td>среднее</td>\n",
       "      <td>1</td>\n",
       "      <td>вдовец / вдова</td>\n",
       "      <td>2</td>\n",
       "      <td>F</td>\n",
       "      <td>сотрудник</td>\n",
       "      <td>0</td>\n",
       "      <td>159676.174958</td>\n",
       "      <td>строительство жилой недвижимости</td>\n",
       "    </tr>\n",
       "    <tr>\n",
       "      <th>16129</th>\n",
       "      <td>-1</td>\n",
       "      <td>-457.861760</td>\n",
       "      <td>33</td>\n",
       "      <td>среднее</td>\n",
       "      <td>1</td>\n",
       "      <td>женат / замужем</td>\n",
       "      <td>0</td>\n",
       "      <td>F</td>\n",
       "      <td>сотрудник</td>\n",
       "      <td>1</td>\n",
       "      <td>149641.079451</td>\n",
       "      <td>автомобиль</td>\n",
       "    </tr>\n",
       "    <tr>\n",
       "      <th>11109</th>\n",
       "      <td>-1</td>\n",
       "      <td>-3438.463024</td>\n",
       "      <td>59</td>\n",
       "      <td>среднее</td>\n",
       "      <td>1</td>\n",
       "      <td>женат / замужем</td>\n",
       "      <td>0</td>\n",
       "      <td>F</td>\n",
       "      <td>сотрудник</td>\n",
       "      <td>0</td>\n",
       "      <td>219874.012345</td>\n",
       "      <td>операции с жильем</td>\n",
       "    </tr>\n",
       "  </tbody>\n",
       "</table>\n",
       "</div>"
      ],
      "text/plain": [
       "       children  days_employed  dob_years education  education_id  \\\n",
       "7685         -1   -3237.360455         53   среднее             1   \n",
       "16129        -1    -457.861760         33   среднее             1   \n",
       "11109        -1   -3438.463024         59   среднее             1   \n",
       "\n",
       "         family_status  family_status_id gender income_type  debt  \\\n",
       "7685    вдовец / вдова                 2      F   сотрудник     0   \n",
       "16129  женат / замужем                 0      F   сотрудник     1   \n",
       "11109  женат / замужем                 0      F   сотрудник     0   \n",
       "\n",
       "        total_income                           purpose  \n",
       "7685   159676.174958  строительство жилой недвижимости  \n",
       "16129  149641.079451                        автомобиль  \n",
       "11109  219874.012345                 операции с жильем  "
      ]
     },
     "execution_count": 9,
     "metadata": {},
     "output_type": "execute_result"
    }
   ],
   "source": [
    "df[df.children < 0].sample(3)"
   ]
  },
  {
   "cell_type": "markdown",
   "id": "ff541733-1c3d-4a15-bba2-5aa5805ef812",
   "metadata": {},
   "source": [
    "У 76 человек 20 детей. Явная ошибка."
   ]
  },
  {
   "cell_type": "code",
   "execution_count": 10,
   "id": "36cdc7a1-0c97-4106-8383-9bfc20dec0aa",
   "metadata": {},
   "outputs": [
    {
     "data": {
      "text/plain": [
       "children\n",
       " 0     14149\n",
       " 1      4818\n",
       " 2      2055\n",
       " 3       330\n",
       " 20       76\n",
       "-1        47\n",
       " 4        41\n",
       " 5         9\n",
       "dtype: int64"
      ]
     },
     "execution_count": 10,
     "metadata": {},
     "output_type": "execute_result"
    }
   ],
   "source": [
    "df.value_counts('children')"
   ]
  },
  {
   "cell_type": "markdown",
   "id": "ac773836-dc1a-4115-a0f1-ccabfe384664",
   "metadata": {},
   "source": [
    "Обратится за кредитом в 0 лет тоже странно, такого быть не может."
   ]
  },
  {
   "cell_type": "code",
   "execution_count": 11,
   "id": "0cbe4de4-7c41-4cb9-9520-b7fa60cfe16a",
   "metadata": {},
   "outputs": [
    {
     "data": {
      "text/html": [
       "<div>\n",
       "<style scoped>\n",
       "    .dataframe tbody tr th:only-of-type {\n",
       "        vertical-align: middle;\n",
       "    }\n",
       "\n",
       "    .dataframe tbody tr th {\n",
       "        vertical-align: top;\n",
       "    }\n",
       "\n",
       "    .dataframe thead th {\n",
       "        text-align: right;\n",
       "    }\n",
       "</style>\n",
       "<table border=\"1\" class=\"dataframe\">\n",
       "  <thead>\n",
       "    <tr style=\"text-align: right;\">\n",
       "      <th></th>\n",
       "      <th>children</th>\n",
       "      <th>days_employed</th>\n",
       "      <th>dob_years</th>\n",
       "      <th>education</th>\n",
       "      <th>education_id</th>\n",
       "      <th>family_status</th>\n",
       "      <th>family_status_id</th>\n",
       "      <th>gender</th>\n",
       "      <th>income_type</th>\n",
       "      <th>debt</th>\n",
       "      <th>total_income</th>\n",
       "      <th>purpose</th>\n",
       "    </tr>\n",
       "  </thead>\n",
       "  <tbody>\n",
       "    <tr>\n",
       "      <th>4064</th>\n",
       "      <td>1</td>\n",
       "      <td>-1645.331963</td>\n",
       "      <td>0</td>\n",
       "      <td>среднее</td>\n",
       "      <td>1</td>\n",
       "      <td>гражданский брак</td>\n",
       "      <td>1</td>\n",
       "      <td>M</td>\n",
       "      <td>компаньон</td>\n",
       "      <td>0</td>\n",
       "      <td>159652.900458</td>\n",
       "      <td>ремонт жилью</td>\n",
       "    </tr>\n",
       "    <tr>\n",
       "      <th>3147</th>\n",
       "      <td>2</td>\n",
       "      <td>-906.519446</td>\n",
       "      <td>0</td>\n",
       "      <td>высшее</td>\n",
       "      <td>0</td>\n",
       "      <td>женат / замужем</td>\n",
       "      <td>0</td>\n",
       "      <td>F</td>\n",
       "      <td>компаньон</td>\n",
       "      <td>0</td>\n",
       "      <td>215477.004597</td>\n",
       "      <td>операции с жильем</td>\n",
       "    </tr>\n",
       "    <tr>\n",
       "      <th>14608</th>\n",
       "      <td>0</td>\n",
       "      <td>-1641.341284</td>\n",
       "      <td>0</td>\n",
       "      <td>среднее</td>\n",
       "      <td>1</td>\n",
       "      <td>гражданский брак</td>\n",
       "      <td>1</td>\n",
       "      <td>M</td>\n",
       "      <td>сотрудник</td>\n",
       "      <td>1</td>\n",
       "      <td>129945.107346</td>\n",
       "      <td>сыграть свадьбу</td>\n",
       "    </tr>\n",
       "  </tbody>\n",
       "</table>\n",
       "</div>"
      ],
      "text/plain": [
       "       children  days_employed  dob_years education  education_id  \\\n",
       "4064          1   -1645.331963          0   среднее             1   \n",
       "3147          2    -906.519446          0    высшее             0   \n",
       "14608         0   -1641.341284          0   среднее             1   \n",
       "\n",
       "          family_status  family_status_id gender income_type  debt  \\\n",
       "4064   гражданский брак                 1      M   компаньон     0   \n",
       "3147    женат / замужем                 0      F   компаньон     0   \n",
       "14608  гражданский брак                 1      M   сотрудник     1   \n",
       "\n",
       "        total_income            purpose  \n",
       "4064   159652.900458       ремонт жилью  \n",
       "3147   215477.004597  операции с жильем  \n",
       "14608  129945.107346    сыграть свадьбу  "
      ]
     },
     "execution_count": 11,
     "metadata": {},
     "output_type": "execute_result"
    }
   ],
   "source": [
    "df[df.dob_years == 0].sample(3)"
   ]
  },
  {
   "cell_type": "markdown",
   "id": "c7210732-db8d-4438-bc77-a67dd1ec9759",
   "metadata": {},
   "source": [
    "Аномалии в children и dob_years вероятно вызваны отсутствием данных по клиентам. Можно заменить медианными значениями."
   ]
  },
  {
   "cell_type": "code",
   "execution_count": 12,
   "id": "0c2c5596-6a94-4367-b068-b758be3a96e9",
   "metadata": {},
   "outputs": [
    {
     "data": {
      "text/plain": [
       "days_employed       1.000000\n",
       "dob_years           0.581618\n",
       "education_id        0.081911\n",
       "family_status_id    0.005847\n",
       "debt               -0.041161\n",
       "children           -0.137149\n",
       "total_income       -0.143151\n",
       "Name: days_employed, dtype: float64"
      ]
     },
     "execution_count": 12,
     "metadata": {},
     "output_type": "execute_result"
    }
   ],
   "source": [
    "# Видно, что days_employed коррелирует dob_years, а значит значения в столюце имеются смысл, но какой понять не удалось.\n",
    "df.corr()['days_employed'].sort_values(ascending=False)"
   ]
  },
  {
   "cell_type": "code",
   "execution_count": 13,
   "id": "ea59e018-3f0c-4870-8ca9-57e4c58715af",
   "metadata": {},
   "outputs": [],
   "source": [
    "# Сначала заменяем неправильные значения на NaN, а потом применяем заполнение (для replace() такого нет)\n",
    "df.children = df.children.replace(-1, np.nan).replace(20, np.nan)\n",
    "df.children = df.children.fillna(df.groupby(['family_status', 'education'])['children'].transform('median')).astype(int)\n",
    "df.dob_years = df.dob_years.replace(0, np.nan)\n",
    "df.dob_years = df.dob_years.fillna(df.groupby(['family_status', 'education'])['dob_years'].transform('median')).astype(int)"
   ]
  },
  {
   "cell_type": "code",
   "execution_count": 14,
   "id": "14b079ef-97d3-48c2-aae6-df3b01f09889",
   "metadata": {},
   "outputs": [
    {
     "data": {
      "text/plain": [
       "0"
      ]
     },
     "execution_count": 14,
     "metadata": {},
     "output_type": "execute_result"
    }
   ],
   "source": [
    "# Делаем повторную проверку на NaN\n",
    "df.isna().sum().sum()"
   ]
  },
  {
   "cell_type": "code",
   "execution_count": 15,
   "id": "5210a0af-6f32-4463-8ef9-781b8f2114c0",
   "metadata": {},
   "outputs": [],
   "source": [
    "# Заменим вещественный тип данных в столбце total_income\n",
    "df.total_income = df.total_income.astype(int)"
   ]
  },
  {
   "cell_type": "markdown",
   "id": "60defa64-af4c-4ae2-82bf-490402a0f909",
   "metadata": {
    "tags": []
   },
   "source": [
    "### Шаг 2.4. Удаление дубликатов."
   ]
  },
  {
   "cell_type": "markdown",
   "id": "b6bb7257-af53-4bdd-97d4-7e458085ac32",
   "metadata": {},
   "source": [
    "Определим категориальные переменные."
   ]
  },
  {
   "cell_type": "code",
   "execution_count": 16,
   "id": "87660329-9e1e-4b4e-abb5-27df53c36f4a",
   "metadata": {},
   "outputs": [
    {
     "data": {
      "text/plain": [
       "['education', 'family_status', 'gender', 'income_type', 'purpose']"
      ]
     },
     "execution_count": 16,
     "metadata": {},
     "output_type": "execute_result"
    }
   ],
   "source": [
    "qualitative = list(df.describe(include='object').columns)\n",
    "qualitative"
   ]
  },
  {
   "cell_type": "markdown",
   "id": "5e514e84-b282-43d9-bfd4-2e093d6165d1",
   "metadata": {},
   "source": [
    "Применим lower() ко всем данным содержащим строки (object)."
   ]
  },
  {
   "cell_type": "code",
   "execution_count": 17,
   "id": "5c634211-646c-44d0-83c3-a0fe07b5ca61",
   "metadata": {},
   "outputs": [],
   "source": [
    "df[qualitative] = df[qualitative].applymap(str.lower)"
   ]
  },
  {
   "cell_type": "markdown",
   "id": "bb77616a-1af3-4b10-be2d-5423eec2b7ad",
   "metadata": {},
   "source": [
    "Пройдемся по датафрейму и найдем уникальные значения для каждой категории."
   ]
  },
  {
   "cell_type": "code",
   "execution_count": 18,
   "id": "7ca7b0ba-f474-42d7-b79e-18395ec3353a",
   "metadata": {},
   "outputs": [
    {
     "data": {
      "text/plain": [
       "array(['высшее', 'среднее', 'неоконченное высшее', 'начальное',\n",
       "       'ученая степень'], dtype=object)"
      ]
     },
     "execution_count": 18,
     "metadata": {},
     "output_type": "execute_result"
    }
   ],
   "source": [
    "df.education.unique()"
   ]
  },
  {
   "cell_type": "code",
   "execution_count": 19,
   "id": "a68c2af8-f645-417c-b900-4f9c0f07d471",
   "metadata": {},
   "outputs": [
    {
     "data": {
      "text/plain": [
       "array(['женат / замужем', 'гражданский брак', 'вдовец / вдова',\n",
       "       'в разводе', 'не женат / не замужем'], dtype=object)"
      ]
     },
     "execution_count": 19,
     "metadata": {},
     "output_type": "execute_result"
    }
   ],
   "source": [
    "df.family_status.unique()"
   ]
  },
  {
   "cell_type": "code",
   "execution_count": 20,
   "id": "ab46ba61-1b66-4aa9-aa4a-6a1e465598fa",
   "metadata": {},
   "outputs": [
    {
     "data": {
      "text/plain": [
       "array(['сотрудник', 'пенсионер', 'компаньон', 'госслужащий',\n",
       "       'безработный', 'предприниматель', 'студент', 'в декрете'],\n",
       "      dtype=object)"
      ]
     },
     "execution_count": 20,
     "metadata": {},
     "output_type": "execute_result"
    }
   ],
   "source": [
    "df.income_type.unique()"
   ]
  },
  {
   "cell_type": "code",
   "execution_count": 21,
   "id": "8d6d1803-1275-4304-9052-8b7be9b2ba32",
   "metadata": {},
   "outputs": [
    {
     "data": {
      "text/plain": [
       "array(['покупка жилья', 'приобретение автомобиля',\n",
       "       'дополнительное образование', 'сыграть свадьбу',\n",
       "       'операции с жильем', 'образование', 'на проведение свадьбы',\n",
       "       'покупка жилья для семьи', 'покупка недвижимости',\n",
       "       'покупка коммерческой недвижимости', 'покупка жилой недвижимости',\n",
       "       'строительство собственной недвижимости', 'недвижимость',\n",
       "       'строительство недвижимости', 'на покупку подержанного автомобиля',\n",
       "       'на покупку своего автомобиля',\n",
       "       'операции с коммерческой недвижимостью',\n",
       "       'строительство жилой недвижимости', 'жилье',\n",
       "       'операции со своей недвижимостью', 'автомобили',\n",
       "       'заняться образованием', 'сделка с подержанным автомобилем',\n",
       "       'получение образования', 'автомобиль', 'свадьба',\n",
       "       'получение дополнительного образования', 'покупка своего жилья',\n",
       "       'операции с недвижимостью', 'получение высшего образования',\n",
       "       'свой автомобиль', 'сделка с автомобилем',\n",
       "       'профильное образование', 'высшее образование',\n",
       "       'покупка жилья для сдачи', 'на покупку автомобиля', 'ремонт жилью',\n",
       "       'заняться высшим образованием'], dtype=object)"
      ]
     },
     "execution_count": 21,
     "metadata": {},
     "output_type": "execute_result"
    }
   ],
   "source": [
    "df.purpose.unique()"
   ]
  },
  {
   "cell_type": "markdown",
   "id": "fe040ccd-fd67-4b5d-abff-33ab0f7dae16",
   "metadata": {},
   "source": [
    "Как видим, только в purpose много неявных дубликатов."
   ]
  },
  {
   "cell_type": "markdown",
   "id": "5bb14478-7fff-4ba2-9d15-d2317f220f4e",
   "metadata": {},
   "source": [
    "<div class=\"alert alert-success\">Осовная проблема появления неявных дубликатов в том что сотрудники или клиенты набирают строки вручную, должна быть возмоность выбора категории только из списка. Тогда проблема бы сошла на нет.</div>"
   ]
  },
  {
   "cell_type": "markdown",
   "id": "96095c00-3c41-4e1b-a4f7-208040900d62",
   "metadata": {},
   "source": [
    "Подсчитаем число явных дубликатов и удалим их:"
   ]
  },
  {
   "cell_type": "code",
   "execution_count": 22,
   "id": "f2934ab1-e3c2-4852-b85d-6af3a4ec431f",
   "metadata": {},
   "outputs": [
    {
     "name": "stdout",
     "output_type": "stream",
     "text": [
      "Дубликатов до удаления: 54\n"
     ]
    }
   ],
   "source": [
    "print(f'Дубликатов до удаления: {df.duplicated().sum()}')\n",
    "df = df.drop_duplicates().reset_index(drop=True)"
   ]
  },
  {
   "cell_type": "markdown",
   "id": "ddc07912-a7cb-46b0-8e86-42478cff95dc",
   "metadata": {
    "tags": []
   },
   "source": [
    "### Шаг 2.5. Формирование дополнительных датафреймов словарей, декомпозиция исходного датафрейма."
   ]
  },
  {
   "cell_type": "markdown",
   "id": "ce5c4623-3c56-46ea-aad6-54d2b0ae256f",
   "metadata": {},
   "source": [
    "Создадим новые датафреймы."
   ]
  },
  {
   "cell_type": "code",
   "execution_count": 23,
   "id": "0a33a955-5aaa-4752-b61b-e70af951b0f3",
   "metadata": {},
   "outputs": [],
   "source": [
    "education_df = df[['education','education_id']]\n",
    "family_status_df = df[['family_status','family_status_id']]"
   ]
  },
  {
   "cell_type": "markdown",
   "id": "9b84a4f4-3a69-4f27-a372-676db31add6e",
   "metadata": {},
   "source": [
    "Удалим из исходного датафрейма столбцы education и family_status."
   ]
  },
  {
   "cell_type": "code",
   "execution_count": 24,
   "id": "361e6cc0-70e9-44e4-af86-4bfe8cb279af",
   "metadata": {},
   "outputs": [],
   "source": [
    "df = df.drop(columns=['education','family_status'])"
   ]
  },
  {
   "cell_type": "markdown",
   "id": "4db6e42b-b580-4625-995e-bc6da2f60583",
   "metadata": {},
   "source": [
    "### Шаг 2.6. Категоризация дохода."
   ]
  },
  {
   "cell_type": "markdown",
   "id": "4ebd72e1-6025-4428-8dc1-0ee3d4fc9e9c",
   "metadata": {},
   "source": [
    "Получим новый столбец total_income_category с категориями."
   ]
  },
  {
   "cell_type": "code",
   "execution_count": 25,
   "id": "e9554f90-53ea-49b9-b54b-6b52f676b30f",
   "metadata": {},
   "outputs": [
    {
     "data": {
      "text/html": [
       "<div>\n",
       "<style scoped>\n",
       "    .dataframe tbody tr th:only-of-type {\n",
       "        vertical-align: middle;\n",
       "    }\n",
       "\n",
       "    .dataframe tbody tr th {\n",
       "        vertical-align: top;\n",
       "    }\n",
       "\n",
       "    .dataframe thead th {\n",
       "        text-align: right;\n",
       "    }\n",
       "</style>\n",
       "<table border=\"1\" class=\"dataframe\">\n",
       "  <thead>\n",
       "    <tr style=\"text-align: right;\">\n",
       "      <th></th>\n",
       "      <th>children</th>\n",
       "      <th>days_employed</th>\n",
       "      <th>dob_years</th>\n",
       "      <th>education_id</th>\n",
       "      <th>family_status_id</th>\n",
       "      <th>gender</th>\n",
       "      <th>income_type</th>\n",
       "      <th>debt</th>\n",
       "      <th>total_income</th>\n",
       "      <th>purpose</th>\n",
       "      <th>total_income_category</th>\n",
       "    </tr>\n",
       "  </thead>\n",
       "  <tbody>\n",
       "    <tr>\n",
       "      <th>0</th>\n",
       "      <td>1</td>\n",
       "      <td>-8437.673028</td>\n",
       "      <td>42</td>\n",
       "      <td>0</td>\n",
       "      <td>0</td>\n",
       "      <td>f</td>\n",
       "      <td>сотрудник</td>\n",
       "      <td>0</td>\n",
       "      <td>253875</td>\n",
       "      <td>покупка жилья</td>\n",
       "      <td>B</td>\n",
       "    </tr>\n",
       "    <tr>\n",
       "      <th>1</th>\n",
       "      <td>1</td>\n",
       "      <td>-4024.803754</td>\n",
       "      <td>36</td>\n",
       "      <td>1</td>\n",
       "      <td>0</td>\n",
       "      <td>f</td>\n",
       "      <td>сотрудник</td>\n",
       "      <td>0</td>\n",
       "      <td>112080</td>\n",
       "      <td>приобретение автомобиля</td>\n",
       "      <td>C</td>\n",
       "    </tr>\n",
       "    <tr>\n",
       "      <th>2</th>\n",
       "      <td>0</td>\n",
       "      <td>-5623.422610</td>\n",
       "      <td>33</td>\n",
       "      <td>1</td>\n",
       "      <td>0</td>\n",
       "      <td>m</td>\n",
       "      <td>сотрудник</td>\n",
       "      <td>0</td>\n",
       "      <td>145885</td>\n",
       "      <td>покупка жилья</td>\n",
       "      <td>C</td>\n",
       "    </tr>\n",
       "    <tr>\n",
       "      <th>3</th>\n",
       "      <td>3</td>\n",
       "      <td>-4124.747207</td>\n",
       "      <td>32</td>\n",
       "      <td>1</td>\n",
       "      <td>0</td>\n",
       "      <td>m</td>\n",
       "      <td>сотрудник</td>\n",
       "      <td>0</td>\n",
       "      <td>267628</td>\n",
       "      <td>дополнительное образование</td>\n",
       "      <td>B</td>\n",
       "    </tr>\n",
       "    <tr>\n",
       "      <th>4</th>\n",
       "      <td>0</td>\n",
       "      <td>340266.072047</td>\n",
       "      <td>53</td>\n",
       "      <td>1</td>\n",
       "      <td>1</td>\n",
       "      <td>f</td>\n",
       "      <td>пенсионер</td>\n",
       "      <td>0</td>\n",
       "      <td>158616</td>\n",
       "      <td>сыграть свадьбу</td>\n",
       "      <td>C</td>\n",
       "    </tr>\n",
       "  </tbody>\n",
       "</table>\n",
       "</div>"
      ],
      "text/plain": [
       "   children  days_employed  dob_years  education_id  family_status_id gender  \\\n",
       "0         1   -8437.673028         42             0                 0      f   \n",
       "1         1   -4024.803754         36             1                 0      f   \n",
       "2         0   -5623.422610         33             1                 0      m   \n",
       "3         3   -4124.747207         32             1                 0      m   \n",
       "4         0  340266.072047         53             1                 1      f   \n",
       "\n",
       "  income_type  debt  total_income                     purpose  \\\n",
       "0   сотрудник     0        253875               покупка жилья   \n",
       "1   сотрудник     0        112080     приобретение автомобиля   \n",
       "2   сотрудник     0        145885               покупка жилья   \n",
       "3   сотрудник     0        267628  дополнительное образование   \n",
       "4   пенсионер     0        158616             сыграть свадьбу   \n",
       "\n",
       "  total_income_category  \n",
       "0                     B  \n",
       "1                     C  \n",
       "2                     C  \n",
       "3                     B  \n",
       "4                     C  "
      ]
     },
     "execution_count": 25,
     "metadata": {},
     "output_type": "execute_result"
    }
   ],
   "source": [
    "# Зададим bins для разбиения total_income и определим лейблы.\n",
    "bins = [0, 30000, 50000, 200000, 1000000, np.infty]\n",
    "labels = ['E','D','C','B','A']\n",
    "df['total_income_category'] = pd.cut(df.total_income, bins=bins, labels=labels)\n",
    "\n",
    "df.head()"
   ]
  },
  {
   "cell_type": "markdown",
   "id": "512372fb-02ba-45a9-abdc-49b7a278be64",
   "metadata": {},
   "source": [
    "### Шаг 2.7. Категоризация целей кредита."
   ]
  },
  {
   "cell_type": "markdown",
   "id": "c3eb9446-e499-4588-ac24-e5cc0e2f39da",
   "metadata": {},
   "source": [
    "Создадим список уникальных значений purpose."
   ]
  },
  {
   "cell_type": "code",
   "execution_count": 26,
   "id": "0cc9c288-36b4-4621-adae-334f57647fbe",
   "metadata": {},
   "outputs": [],
   "source": [
    "purpose_full = df.purpose.unique()"
   ]
  },
  {
   "cell_type": "markdown",
   "id": "d6714ede-8a8f-483d-bd73-742e1b9e5aa3",
   "metadata": {},
   "source": [
    "Сформируем лист категорий (сокращений) по которым будем производить поиск."
   ]
  },
  {
   "cell_type": "code",
   "execution_count": 27,
   "id": "678583c5-2ec3-4bca-9e33-ef1cec2b9a6f",
   "metadata": {},
   "outputs": [],
   "source": [
    "# Проверка идет сверху вниз, поэтому бизнес расположен выше\n",
    "cat_list = {'бизнес': ['коммерческ', 'нежил', 'сдач', 'операц'], # выделил отдельно\n",
    "            'операции с автомобилем': ['авто','машин','транспор'],\n",
    "            'операции с недвижимостью': ['жилья', 'жилье', 'недвиж', 'строительств', 'квартир', 'ремонт'],\n",
    "            'получение образования': ['образован'],\n",
    "            'проведение свадьбы': ['свадьб']\n",
    "}"
   ]
  },
  {
   "cell_type": "markdown",
   "id": "0d7743fe-91bd-4923-a4ec-5a0d23a4f847",
   "metadata": {},
   "source": [
    "В соответствии с алгоритмом заполним словарь correction_list (значение для правки : категория)."
   ]
  },
  {
   "cell_type": "code",
   "execution_count": 28,
   "id": "eeb7fd64-7849-4935-be34-78acddc2642a",
   "metadata": {},
   "outputs": [],
   "source": [
    "# Зададим лист с помощью которого потом внесем правки в purpose\n",
    "correction_list = {}\n",
    "# Проходим по листу purpose_full чтобы создать связку ключ-значение (значение для правки : категория)\n",
    "for purpose in purpose_full:\n",
    "    for cat_key, cat_val in cat_list.items():\n",
    "        for word in cat_val:\n",
    "            # Если поиск выдает -1, то часть слова в строке не найдена иначе меняем категорию\n",
    "            if purpose.find(word) != -1:\n",
    "                correction_list[purpose] = cat_key\n",
    "                break\n",
    "        # Чтобы не спускаться ниже по списку и сохранить категорию (бизнес).      \n",
    "        if correction_list.get(purpose) is not None: break\n",
    "    # Если не получилось заменить purpose на категорию из cat_list, то добавляем оригинальное значение в словарь correction_list\n",
    "    # и выводим его на экран\n",
    "    if correction_list.get(purpose) is None:\n",
    "        correction_list[purpose] = purpose\n",
    "        print(purpose)"
   ]
  },
  {
   "cell_type": "code",
   "execution_count": 29,
   "id": "1767522c-745b-44be-bc2b-ed18195f14bc",
   "metadata": {},
   "outputs": [
    {
     "data": {
      "text/plain": [
       "array(['операции с недвижимостью', 'операции с автомобилем',\n",
       "       'получение образования', 'проведение свадьбы', 'бизнес'],\n",
       "      dtype=object)"
      ]
     },
     "execution_count": 29,
     "metadata": {},
     "output_type": "execute_result"
    }
   ],
   "source": [
    "# Формируем новый столбец purpose_category\n",
    "df['purpose_category'] = df.purpose.map(correction_list)\n",
    "df.purpose_category.unique()"
   ]
  },
  {
   "cell_type": "markdown",
   "id": "6a566c68-9be5-4260-827a-46337254fe7f",
   "metadata": {},
   "source": [
    "## Ответы на вопросы"
   ]
  },
  {
   "cell_type": "markdown",
   "id": "d9bb50f6-80c1-497b-99a1-0d539927539f",
   "metadata": {},
   "source": [
    "### Вопрос 1: Есть ли зависимость между количеством детей и возвратом кредита в срок?"
   ]
  },
  {
   "cell_type": "markdown",
   "id": "5f937bf4-7c7e-452d-9add-3dd2fc0a3189",
   "metadata": {},
   "source": [
    "- Сложно сказать однозначно, так как debt (задолженность по возврату кредитов) могла возникнуть в момент когда детей не было, а сейчас они есть и debt уже часть кредитной истории.\n",
    "- Заёмщики без детей платят лучше, но возможно это просто их первый кредит и у них не успела образоваться задолженность.\n",
    "- Мужчины, у которых 2-3 ребенка самые надежные. А женщины в целом более ответственно относятся к взятым кредитным обязательствам."
   ]
  },
  {
   "cell_type": "code",
   "execution_count": 30,
   "id": "bf20ec35-0caf-4015-83ab-cb1822df2207",
   "metadata": {},
   "outputs": [
    {
     "data": {
      "text/html": [
       "<div>\n",
       "<style scoped>\n",
       "    .dataframe tbody tr th:only-of-type {\n",
       "        vertical-align: middle;\n",
       "    }\n",
       "\n",
       "    .dataframe tbody tr th {\n",
       "        vertical-align: top;\n",
       "    }\n",
       "\n",
       "    .dataframe thead tr th {\n",
       "        text-align: left;\n",
       "    }\n",
       "</style>\n",
       "<table border=\"1\" class=\"dataframe\">\n",
       "  <thead>\n",
       "    <tr>\n",
       "      <th></th>\n",
       "      <th>children</th>\n",
       "      <th>count</th>\n",
       "      <th>mean</th>\n",
       "    </tr>\n",
       "    <tr>\n",
       "      <th></th>\n",
       "      <th></th>\n",
       "      <th>debt</th>\n",
       "      <th>debt</th>\n",
       "    </tr>\n",
       "  </thead>\n",
       "  <tbody>\n",
       "    <tr>\n",
       "      <th>0</th>\n",
       "      <td>0</td>\n",
       "      <td>14230</td>\n",
       "      <td>0.075334</td>\n",
       "    </tr>\n",
       "    <tr>\n",
       "      <th>1</th>\n",
       "      <td>1</td>\n",
       "      <td>4809</td>\n",
       "      <td>0.092327</td>\n",
       "    </tr>\n",
       "    <tr>\n",
       "      <th>2</th>\n",
       "      <td>2</td>\n",
       "      <td>2052</td>\n",
       "      <td>0.094542</td>\n",
       "    </tr>\n",
       "    <tr>\n",
       "      <th>3</th>\n",
       "      <td>3</td>\n",
       "      <td>330</td>\n",
       "      <td>0.081818</td>\n",
       "    </tr>\n",
       "    <tr>\n",
       "      <th>4</th>\n",
       "      <td>4</td>\n",
       "      <td>41</td>\n",
       "      <td>0.097561</td>\n",
       "    </tr>\n",
       "    <tr>\n",
       "      <th>5</th>\n",
       "      <td>5</td>\n",
       "      <td>9</td>\n",
       "      <td>0.000000</td>\n",
       "    </tr>\n",
       "  </tbody>\n",
       "</table>\n",
       "</div>"
      ],
      "text/plain": [
       "  children  count      mean\n",
       "             debt      debt\n",
       "0        0  14230  0.075334\n",
       "1        1   4809  0.092327\n",
       "2        2   2052  0.094542\n",
       "3        3    330  0.081818\n",
       "4        4     41  0.097561\n",
       "5        5      9  0.000000"
      ]
     },
     "execution_count": 30,
     "metadata": {},
     "output_type": "execute_result"
    }
   ],
   "source": [
    "df.pivot_table(index='children', values='debt', aggfunc=['count','mean']).reset_index()"
   ]
  },
  {
   "cell_type": "code",
   "execution_count": 31,
   "id": "a13b3961-a839-4f76-984c-08eb561c65d9",
   "metadata": {},
   "outputs": [
    {
     "data": {
      "text/html": [
       "<div>\n",
       "<style scoped>\n",
       "    .dataframe tbody tr th:only-of-type {\n",
       "        vertical-align: middle;\n",
       "    }\n",
       "\n",
       "    .dataframe tbody tr th {\n",
       "        vertical-align: top;\n",
       "    }\n",
       "\n",
       "    .dataframe thead tr th {\n",
       "        text-align: left;\n",
       "    }\n",
       "</style>\n",
       "<table border=\"1\" class=\"dataframe\">\n",
       "  <thead>\n",
       "    <tr>\n",
       "      <th></th>\n",
       "      <th>children</th>\n",
       "      <th colspan=\"3\" halign=\"left\">count</th>\n",
       "      <th colspan=\"3\" halign=\"left\">mean</th>\n",
       "    </tr>\n",
       "    <tr>\n",
       "      <th>gender</th>\n",
       "      <th></th>\n",
       "      <th>f</th>\n",
       "      <th>m</th>\n",
       "      <th>xna</th>\n",
       "      <th>f</th>\n",
       "      <th>m</th>\n",
       "      <th>xna</th>\n",
       "    </tr>\n",
       "  </thead>\n",
       "  <tbody>\n",
       "    <tr>\n",
       "      <th>0</th>\n",
       "      <td>0</td>\n",
       "      <td>9616.0</td>\n",
       "      <td>4613.0</td>\n",
       "      <td>1.0</td>\n",
       "      <td>0.062084</td>\n",
       "      <td>0.102970</td>\n",
       "      <td>0.0</td>\n",
       "    </tr>\n",
       "    <tr>\n",
       "      <th>1</th>\n",
       "      <td>1</td>\n",
       "      <td>3086.0</td>\n",
       "      <td>1723.0</td>\n",
       "      <td>NaN</td>\n",
       "      <td>0.079391</td>\n",
       "      <td>0.115496</td>\n",
       "      <td>NaN</td>\n",
       "    </tr>\n",
       "    <tr>\n",
       "      <th>2</th>\n",
       "      <td>2</td>\n",
       "      <td>1256.0</td>\n",
       "      <td>796.0</td>\n",
       "      <td>NaN</td>\n",
       "      <td>0.106688</td>\n",
       "      <td>0.075377</td>\n",
       "      <td>NaN</td>\n",
       "    </tr>\n",
       "    <tr>\n",
       "      <th>3</th>\n",
       "      <td>3</td>\n",
       "      <td>196.0</td>\n",
       "      <td>134.0</td>\n",
       "      <td>NaN</td>\n",
       "      <td>0.086735</td>\n",
       "      <td>0.074627</td>\n",
       "      <td>NaN</td>\n",
       "    </tr>\n",
       "    <tr>\n",
       "      <th>4</th>\n",
       "      <td>4</td>\n",
       "      <td>28.0</td>\n",
       "      <td>13.0</td>\n",
       "      <td>NaN</td>\n",
       "      <td>0.035714</td>\n",
       "      <td>0.230769</td>\n",
       "      <td>NaN</td>\n",
       "    </tr>\n",
       "    <tr>\n",
       "      <th>5</th>\n",
       "      <td>5</td>\n",
       "      <td>7.0</td>\n",
       "      <td>2.0</td>\n",
       "      <td>NaN</td>\n",
       "      <td>0.000000</td>\n",
       "      <td>0.000000</td>\n",
       "      <td>NaN</td>\n",
       "    </tr>\n",
       "  </tbody>\n",
       "</table>\n",
       "</div>"
      ],
      "text/plain": [
       "       children   count                   mean               \n",
       "gender                f       m  xna         f         m  xna\n",
       "0             0  9616.0  4613.0  1.0  0.062084  0.102970  0.0\n",
       "1             1  3086.0  1723.0  NaN  0.079391  0.115496  NaN\n",
       "2             2  1256.0   796.0  NaN  0.106688  0.075377  NaN\n",
       "3             3   196.0   134.0  NaN  0.086735  0.074627  NaN\n",
       "4             4    28.0    13.0  NaN  0.035714  0.230769  NaN\n",
       "5             5     7.0     2.0  NaN  0.000000  0.000000  NaN"
      ]
     },
     "execution_count": 31,
     "metadata": {},
     "output_type": "execute_result"
    }
   ],
   "source": [
    "df.pivot_table(index='children', columns='gender', values='debt', aggfunc=['count','mean']).reset_index()"
   ]
  },
  {
   "cell_type": "markdown",
   "id": "177d2b49-cf70-4faf-ae46-13ae6edf1620",
   "metadata": {},
   "source": [
    "### Вопрос 2: Есть ли зависимость между семейным положением и возвратом кредита в срок?"
   ]
  },
  {
   "cell_type": "markdown",
   "id": "e9dbbb82-1c29-44e4-9e8d-86712f58f885",
   "metadata": {},
   "source": [
    "- Люди с family_status_id 3 самые благонадежные. В то время как family_status_id 1 и 4 имеют чуть более высокую тенденцию к невозврату кредита"
   ]
  },
  {
   "cell_type": "code",
   "execution_count": 32,
   "id": "51966e5d-cbea-430f-a683-6defef70d01c",
   "metadata": {},
   "outputs": [
    {
     "data": {
      "text/html": [
       "<div>\n",
       "<style scoped>\n",
       "    .dataframe tbody tr th:only-of-type {\n",
       "        vertical-align: middle;\n",
       "    }\n",
       "\n",
       "    .dataframe tbody tr th {\n",
       "        vertical-align: top;\n",
       "    }\n",
       "\n",
       "    .dataframe thead tr th {\n",
       "        text-align: left;\n",
       "    }\n",
       "</style>\n",
       "<table border=\"1\" class=\"dataframe\">\n",
       "  <thead>\n",
       "    <tr>\n",
       "      <th></th>\n",
       "      <th>family_status_id</th>\n",
       "      <th>count</th>\n",
       "      <th>mean</th>\n",
       "    </tr>\n",
       "    <tr>\n",
       "      <th></th>\n",
       "      <th></th>\n",
       "      <th>debt</th>\n",
       "      <th>debt</th>\n",
       "    </tr>\n",
       "  </thead>\n",
       "  <tbody>\n",
       "    <tr>\n",
       "      <th>0</th>\n",
       "      <td>0</td>\n",
       "      <td>12344</td>\n",
       "      <td>0.075421</td>\n",
       "    </tr>\n",
       "    <tr>\n",
       "      <th>1</th>\n",
       "      <td>1</td>\n",
       "      <td>4163</td>\n",
       "      <td>0.093202</td>\n",
       "    </tr>\n",
       "    <tr>\n",
       "      <th>2</th>\n",
       "      <td>2</td>\n",
       "      <td>959</td>\n",
       "      <td>0.065693</td>\n",
       "    </tr>\n",
       "    <tr>\n",
       "      <th>3</th>\n",
       "      <td>3</td>\n",
       "      <td>1195</td>\n",
       "      <td>0.071130</td>\n",
       "    </tr>\n",
       "    <tr>\n",
       "      <th>4</th>\n",
       "      <td>4</td>\n",
       "      <td>2810</td>\n",
       "      <td>0.097509</td>\n",
       "    </tr>\n",
       "  </tbody>\n",
       "</table>\n",
       "</div>"
      ],
      "text/plain": [
       "  family_status_id  count      mean\n",
       "                     debt      debt\n",
       "0                0  12344  0.075421\n",
       "1                1   4163  0.093202\n",
       "2                2    959  0.065693\n",
       "3                3   1195  0.071130\n",
       "4                4   2810  0.097509"
      ]
     },
     "execution_count": 32,
     "metadata": {},
     "output_type": "execute_result"
    }
   ],
   "source": [
    "df.pivot_table(index='family_status_id', values='debt', aggfunc=['count','mean']).reset_index()"
   ]
  },
  {
   "cell_type": "markdown",
   "id": "55ca2745-450b-44b8-9ee1-ba4b339529ee",
   "metadata": {},
   "source": [
    "### Вопрос 3: Есть ли зависимость между уровнем дохода и возвратом кредита в срок?"
   ]
  },
  {
   "cell_type": "markdown",
   "id": "3431097c-fbdc-40f8-82eb-65852d668a35",
   "metadata": {},
   "source": [
    "- Клиенты с минимальным доходом ожидаемо показывают худший результат, но их всего 22 человека.\n",
    "- В то время как категория *D* не допускает просроченных задолженностей.\n",
    "- У большей части клиентов банка (категория *С*) второй результат по проблемам с долгами."
   ]
  },
  {
   "cell_type": "code",
   "execution_count": 33,
   "id": "04c18019-adf2-4f9e-aa87-2e5502326d72",
   "metadata": {},
   "outputs": [
    {
     "data": {
      "text/html": [
       "<div>\n",
       "<style scoped>\n",
       "    .dataframe tbody tr th:only-of-type {\n",
       "        vertical-align: middle;\n",
       "    }\n",
       "\n",
       "    .dataframe tbody tr th {\n",
       "        vertical-align: top;\n",
       "    }\n",
       "\n",
       "    .dataframe thead tr th {\n",
       "        text-align: left;\n",
       "    }\n",
       "</style>\n",
       "<table border=\"1\" class=\"dataframe\">\n",
       "  <thead>\n",
       "    <tr>\n",
       "      <th></th>\n",
       "      <th>total_income_category</th>\n",
       "      <th>count</th>\n",
       "      <th>mean</th>\n",
       "    </tr>\n",
       "    <tr>\n",
       "      <th></th>\n",
       "      <th></th>\n",
       "      <th>debt</th>\n",
       "      <th>debt</th>\n",
       "    </tr>\n",
       "  </thead>\n",
       "  <tbody>\n",
       "    <tr>\n",
       "      <th>0</th>\n",
       "      <td>E</td>\n",
       "      <td>22</td>\n",
       "      <td>0.090909</td>\n",
       "    </tr>\n",
       "    <tr>\n",
       "      <th>1</th>\n",
       "      <td>D</td>\n",
       "      <td>350</td>\n",
       "      <td>0.060000</td>\n",
       "    </tr>\n",
       "    <tr>\n",
       "      <th>2</th>\n",
       "      <td>C</td>\n",
       "      <td>15850</td>\n",
       "      <td>0.085300</td>\n",
       "    </tr>\n",
       "    <tr>\n",
       "      <th>3</th>\n",
       "      <td>B</td>\n",
       "      <td>5224</td>\n",
       "      <td>0.069678</td>\n",
       "    </tr>\n",
       "    <tr>\n",
       "      <th>4</th>\n",
       "      <td>A</td>\n",
       "      <td>25</td>\n",
       "      <td>0.080000</td>\n",
       "    </tr>\n",
       "  </tbody>\n",
       "</table>\n",
       "</div>"
      ],
      "text/plain": [
       "  total_income_category  count      mean\n",
       "                          debt      debt\n",
       "0                     E     22  0.090909\n",
       "1                     D    350  0.060000\n",
       "2                     C  15850  0.085300\n",
       "3                     B   5224  0.069678\n",
       "4                     A     25  0.080000"
      ]
     },
     "execution_count": 33,
     "metadata": {},
     "output_type": "execute_result"
    }
   ],
   "source": [
    "df.pivot_table(index='total_income_category', values='debt', aggfunc=['count','mean']).reset_index()"
   ]
  },
  {
   "cell_type": "markdown",
   "id": "ae5911ce-0631-458e-863d-b48ad95724f7",
   "metadata": {},
   "source": [
    "### Вопрос 4: Как разные цели кредита влияют на его возврат в срок?"
   ]
  },
  {
   "cell_type": "markdown",
   "id": "c5b74796-48bf-45dd-b84e-040df2b31616",
   "metadata": {},
   "source": [
    "- С недвижимость проблем меньше всего, а кредиты под авто и образования могут стать невозвратными."
   ]
  },
  {
   "cell_type": "code",
   "execution_count": 34,
   "id": "919586c0-9918-4004-a2b9-ff04ddc0b885",
   "metadata": {},
   "outputs": [
    {
     "data": {
      "text/html": [
       "<div>\n",
       "<style scoped>\n",
       "    .dataframe tbody tr th:only-of-type {\n",
       "        vertical-align: middle;\n",
       "    }\n",
       "\n",
       "    .dataframe tbody tr th {\n",
       "        vertical-align: top;\n",
       "    }\n",
       "\n",
       "    .dataframe thead tr th {\n",
       "        text-align: left;\n",
       "    }\n",
       "</style>\n",
       "<table border=\"1\" class=\"dataframe\">\n",
       "  <thead>\n",
       "    <tr>\n",
       "      <th></th>\n",
       "      <th>purpose_category</th>\n",
       "      <th colspan=\"2\" halign=\"left\">debt</th>\n",
       "    </tr>\n",
       "    <tr>\n",
       "      <th></th>\n",
       "      <th></th>\n",
       "      <th>count</th>\n",
       "      <th>mean</th>\n",
       "    </tr>\n",
       "  </thead>\n",
       "  <tbody>\n",
       "    <tr>\n",
       "      <th>0</th>\n",
       "      <td>бизнес</td>\n",
       "      <td>3918</td>\n",
       "      <td>0.077591</td>\n",
       "    </tr>\n",
       "    <tr>\n",
       "      <th>1</th>\n",
       "      <td>операции с автомобилем</td>\n",
       "      <td>4308</td>\n",
       "      <td>0.093547</td>\n",
       "    </tr>\n",
       "    <tr>\n",
       "      <th>2</th>\n",
       "      <td>операции с недвижимостью</td>\n",
       "      <td>6896</td>\n",
       "      <td>0.069316</td>\n",
       "    </tr>\n",
       "    <tr>\n",
       "      <th>3</th>\n",
       "      <td>получение образования</td>\n",
       "      <td>4014</td>\n",
       "      <td>0.092177</td>\n",
       "    </tr>\n",
       "    <tr>\n",
       "      <th>4</th>\n",
       "      <td>проведение свадьбы</td>\n",
       "      <td>2335</td>\n",
       "      <td>0.079657</td>\n",
       "    </tr>\n",
       "  </tbody>\n",
       "</table>\n",
       "</div>"
      ],
      "text/plain": [
       "           purpose_category  debt          \n",
       "                            count      mean\n",
       "0                    бизнес  3918  0.077591\n",
       "1    операции с автомобилем  4308  0.093547\n",
       "2  операции с недвижимостью  6896  0.069316\n",
       "3     получение образования  4014  0.092177\n",
       "4        проведение свадьбы  2335  0.079657"
      ]
     },
     "execution_count": 34,
     "metadata": {},
     "output_type": "execute_result"
    }
   ],
   "source": [
    "df.groupby('purpose_category').agg({'debt': ['count', 'mean']}).reset_index()"
   ]
  },
  {
   "cell_type": "markdown",
   "id": "fb9ab127-130a-4e3c-a96e-49cd43de7388",
   "metadata": {
    "tags": []
   },
   "source": [
    "Прежде чем давать вывод, рассмотрим ещё замисимость debt от возраста заёмщика.\n",
    "- Из таблицы следует четкая зависимость - с возрастом клиенты становятся более надёжными."
   ]
  },
  {
   "cell_type": "code",
   "execution_count": 35,
   "id": "fa9f3912-03e6-4316-950c-17a0a2d9c88c",
   "metadata": {},
   "outputs": [
    {
     "data": {
      "text/html": [
       "<div>\n",
       "<style scoped>\n",
       "    .dataframe tbody tr th:only-of-type {\n",
       "        vertical-align: middle;\n",
       "    }\n",
       "\n",
       "    .dataframe tbody tr th {\n",
       "        vertical-align: top;\n",
       "    }\n",
       "\n",
       "    .dataframe thead tr th {\n",
       "        text-align: left;\n",
       "    }\n",
       "</style>\n",
       "<table border=\"1\" class=\"dataframe\">\n",
       "  <thead>\n",
       "    <tr>\n",
       "      <th></th>\n",
       "      <th>dob_years_category</th>\n",
       "      <th>count</th>\n",
       "      <th>mean</th>\n",
       "    </tr>\n",
       "    <tr>\n",
       "      <th></th>\n",
       "      <th></th>\n",
       "      <th>debt</th>\n",
       "      <th>debt</th>\n",
       "    </tr>\n",
       "  </thead>\n",
       "  <tbody>\n",
       "    <tr>\n",
       "      <th>0</th>\n",
       "      <td>VY</td>\n",
       "      <td>6597</td>\n",
       "      <td>0.105806</td>\n",
       "    </tr>\n",
       "    <tr>\n",
       "      <th>1</th>\n",
       "      <td>Y</td>\n",
       "      <td>2893</td>\n",
       "      <td>0.087452</td>\n",
       "    </tr>\n",
       "    <tr>\n",
       "      <th>2</th>\n",
       "      <td>M</td>\n",
       "      <td>11277</td>\n",
       "      <td>0.066950</td>\n",
       "    </tr>\n",
       "    <tr>\n",
       "      <th>3</th>\n",
       "      <td>O</td>\n",
       "      <td>704</td>\n",
       "      <td>0.049716</td>\n",
       "    </tr>\n",
       "  </tbody>\n",
       "</table>\n",
       "</div>"
      ],
      "text/plain": [
       "  dob_years_category  count      mean\n",
       "                       debt      debt\n",
       "0                 VY   6597  0.105806\n",
       "1                  Y   2893  0.087452\n",
       "2                  M  11277  0.066950\n",
       "3                  O    704  0.049716"
      ]
     },
     "execution_count": 35,
     "metadata": {},
     "output_type": "execute_result"
    }
   ],
   "source": [
    "# Зададим bins для разбиения dob_years и определим лейблы.\n",
    "bins = [17, 35, 40, 65,  np.infty]\n",
    "labels = ['VY','Y','M','O']\n",
    "df['dob_years_category'] = pd.cut(df.dob_years, bins=bins, labels=labels)\n",
    "df.pivot_table(index='dob_years_category', values='debt', aggfunc=['count','mean']).reset_index()"
   ]
  },
  {
   "cell_type": "markdown",
   "id": "7cdd3d35-4bfd-4911-bcd5-4e526a8e6d0e",
   "metadata": {},
   "source": [
    "## Общий вывод:"
   ]
  },
  {
   "cell_type": "markdown",
   "id": "09084ffc-ecf9-4ddf-8872-ae26d94b0111",
   "metadata": {},
   "source": [
    "1. **В результате исследования получены данные по надежности заемщиков в зависимости от гендера, уровня дохода, возрастной группы и цели кредита.**\n",
    "2. **Введены новые, удобные категории.**\n",
    "3. **Данные очищенны от дубликатов и пропусков.**\n",
    "4. **Выявлена проблема со столбцом days_employed. Требуется уточнение формата или причина ошибки**"
   ]
  },
  {
   "cell_type": "code",
   "execution_count": null,
   "id": "ed02cb8c-bb00-4c99-8c61-da283a028f1f",
   "metadata": {},
   "outputs": [],
   "source": []
  }
 ],
 "metadata": {
  "kernelspec": {
   "display_name": "Python 3 (ipykernel)",
   "language": "python",
   "name": "python3"
  },
  "language_info": {
   "codemirror_mode": {
    "name": "ipython",
    "version": 3
   },
   "file_extension": ".py",
   "mimetype": "text/x-python",
   "name": "python",
   "nbconvert_exporter": "python",
   "pygments_lexer": "ipython3",
   "version": "3.9.9"
  }
 },
 "nbformat": 4,
 "nbformat_minor": 5
}
