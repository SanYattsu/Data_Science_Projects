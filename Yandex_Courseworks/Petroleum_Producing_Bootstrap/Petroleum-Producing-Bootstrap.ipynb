{
 "cells": [
  {
   "cell_type": "markdown",
   "metadata": {},
   "source": [
    "# Выбор локации для скважины"
   ]
  },
  {
   "cell_type": "markdown",
   "metadata": {},
   "source": [
    "Допустим, вы работаете в добывающей компании «ГлавРосГосНефть». Нужно решить, где бурить новую скважину.\n",
    "\n",
    "Вам предоставлены пробы нефти в трёх регионах: в каждом 10 000 месторождений, где измерили качество нефти и объём её запасов. Постройте модель машинного обучения, которая поможет определить регион, где добыча принесёт наибольшую прибыль. Проанализируйте возможную прибыль и риски техникой *Bootstrap.*\n",
    "\n",
    "Шаги для выбора локации:\n",
    "\n",
    "- В избранном регионе ищут месторождения, для каждого определяют значения признаков;\n",
    "- Строят модель и оценивают объём запасов;\n",
    "- Выбирают месторождения с самым высокими оценками значений. Количество месторождений зависит от бюджета компании и стоимости разработки одной скважины;\n",
    "- Прибыль равна суммарной прибыли отобранных месторождений."
   ]
  },
  {
   "cell_type": "markdown",
   "metadata": {},
   "source": [
    "## Загрузка и подготовка данных"
   ]
  },
  {
   "cell_type": "code",
   "execution_count": 1,
   "metadata": {},
   "outputs": [],
   "source": [
    "import pandas as pd\n",
    "import numpy as np\n",
    "import seaborn as sns\n",
    "import matplotlib.pyplot as plt\n",
    "\n",
    "from sklearn.preprocessing import StandardScaler\n",
    "from sklearn.model_selection import train_test_split, cross_validate\n",
    "from sklearn.linear_model import LinearRegression\n",
    "\n",
    "from sklearn.pipeline import make_pipeline\n",
    "from sklearn.metrics import mean_squared_error"
   ]
  },
  {
   "cell_type": "code",
   "execution_count": 2,
   "metadata": {},
   "outputs": [],
   "source": [
    "# Ограничим число знаков после запятой для вывода табличных данных.\n",
    "pd.options.display.float_format = '{:0.3f}'.format"
   ]
  },
  {
   "cell_type": "markdown",
   "metadata": {},
   "source": [
    "Загрузим и посмотрим данные."
   ]
  },
  {
   "cell_type": "code",
   "execution_count": 3,
   "metadata": {},
   "outputs": [],
   "source": [
    "url = 'https://code.s3.yandex.net/datasets/'"
   ]
  },
  {
   "cell_type": "code",
   "execution_count": 4,
   "metadata": {},
   "outputs": [],
   "source": [
    "try:\n",
    "    geo_df_0 = pd.read_csv(url +'geo_data_0.csv')\n",
    "    geo_df_1 = pd.read_csv(url +'geo_data_1.csv')\n",
    "    geo_df_2 = pd.read_csv(url +'geo_data_2.csv')\n",
    "except:\n",
    "    print('Не удалось загрузить файл, проверьте путь.')"
   ]
  },
  {
   "cell_type": "code",
   "execution_count": 5,
   "metadata": {},
   "outputs": [
    {
     "data": {
      "text/html": [
       "<div>\n",
       "<style scoped>\n",
       "    .dataframe tbody tr th:only-of-type {\n",
       "        vertical-align: middle;\n",
       "    }\n",
       "\n",
       "    .dataframe tbody tr th {\n",
       "        vertical-align: top;\n",
       "    }\n",
       "\n",
       "    .dataframe thead th {\n",
       "        text-align: right;\n",
       "    }\n",
       "</style>\n",
       "<table border=\"1\" class=\"dataframe\">\n",
       "  <thead>\n",
       "    <tr style=\"text-align: right;\">\n",
       "      <th></th>\n",
       "      <th>id</th>\n",
       "      <th>f0</th>\n",
       "      <th>f1</th>\n",
       "      <th>f2</th>\n",
       "      <th>product</th>\n",
       "    </tr>\n",
       "  </thead>\n",
       "  <tbody>\n",
       "    <tr>\n",
       "      <th>38465</th>\n",
       "      <td>eN9cU</td>\n",
       "      <td>-1.067</td>\n",
       "      <td>-0.038</td>\n",
       "      <td>3.445</td>\n",
       "      <td>84.301</td>\n",
       "    </tr>\n",
       "  </tbody>\n",
       "</table>\n",
       "</div>"
      ],
      "text/plain": [
       "          id     f0     f1    f2  product\n",
       "38465  eN9cU -1.067 -0.038 3.445   84.301"
      ]
     },
     "metadata": {},
     "output_type": "display_data"
    },
    {
     "data": {
      "text/html": [
       "<div>\n",
       "<style scoped>\n",
       "    .dataframe tbody tr th:only-of-type {\n",
       "        vertical-align: middle;\n",
       "    }\n",
       "\n",
       "    .dataframe tbody tr th {\n",
       "        vertical-align: top;\n",
       "    }\n",
       "\n",
       "    .dataframe thead th {\n",
       "        text-align: right;\n",
       "    }\n",
       "</style>\n",
       "<table border=\"1\" class=\"dataframe\">\n",
       "  <thead>\n",
       "    <tr style=\"text-align: right;\">\n",
       "      <th></th>\n",
       "      <th>id</th>\n",
       "      <th>f0</th>\n",
       "      <th>f1</th>\n",
       "      <th>f2</th>\n",
       "      <th>product</th>\n",
       "    </tr>\n",
       "  </thead>\n",
       "  <tbody>\n",
       "    <tr>\n",
       "      <th>40207</th>\n",
       "      <td>ssmlI</td>\n",
       "      <td>9.697</td>\n",
       "      <td>-3.732</td>\n",
       "      <td>2.997</td>\n",
       "      <td>80.860</td>\n",
       "    </tr>\n",
       "  </tbody>\n",
       "</table>\n",
       "</div>"
      ],
      "text/plain": [
       "          id    f0     f1    f2  product\n",
       "40207  ssmlI 9.697 -3.732 2.997   80.860"
      ]
     },
     "metadata": {},
     "output_type": "display_data"
    },
    {
     "data": {
      "text/html": [
       "<div>\n",
       "<style scoped>\n",
       "    .dataframe tbody tr th:only-of-type {\n",
       "        vertical-align: middle;\n",
       "    }\n",
       "\n",
       "    .dataframe tbody tr th {\n",
       "        vertical-align: top;\n",
       "    }\n",
       "\n",
       "    .dataframe thead th {\n",
       "        text-align: right;\n",
       "    }\n",
       "</style>\n",
       "<table border=\"1\" class=\"dataframe\">\n",
       "  <thead>\n",
       "    <tr style=\"text-align: right;\">\n",
       "      <th></th>\n",
       "      <th>id</th>\n",
       "      <th>f0</th>\n",
       "      <th>f1</th>\n",
       "      <th>f2</th>\n",
       "      <th>product</th>\n",
       "    </tr>\n",
       "  </thead>\n",
       "  <tbody>\n",
       "    <tr>\n",
       "      <th>50662</th>\n",
       "      <td>n0K4U</td>\n",
       "      <td>0.365</td>\n",
       "      <td>2.839</td>\n",
       "      <td>3.393</td>\n",
       "      <td>108.687</td>\n",
       "    </tr>\n",
       "  </tbody>\n",
       "</table>\n",
       "</div>"
      ],
      "text/plain": [
       "          id    f0    f1    f2  product\n",
       "50662  n0K4U 0.365 2.839 3.393  108.687"
      ]
     },
     "metadata": {},
     "output_type": "display_data"
    }
   ],
   "source": [
    "# Отобразим первые строки для каждого датафрейма.\n",
    "geo_dfs = [geo_df_0, geo_df_1, geo_df_2]\n",
    "[display(df.sample()) for df in geo_dfs];"
   ]
  },
  {
   "cell_type": "markdown",
   "metadata": {},
   "source": [
    "Проверим наличие пропусков и тип данных."
   ]
  },
  {
   "cell_type": "code",
   "execution_count": 6,
   "metadata": {},
   "outputs": [
    {
     "name": "stdout",
     "output_type": "stream",
     "text": [
      "<class 'pandas.core.frame.DataFrame'>\n",
      "Int64Index: 300000 entries, 0 to 99999\n",
      "Data columns (total 5 columns):\n",
      " #   Column   Non-Null Count   Dtype  \n",
      "---  ------   --------------   -----  \n",
      " 0   id       300000 non-null  object \n",
      " 1   f0       300000 non-null  float64\n",
      " 2   f1       300000 non-null  float64\n",
      " 3   f2       300000 non-null  float64\n",
      " 4   product  300000 non-null  float64\n",
      "dtypes: float64(4), object(1)\n",
      "memory usage: 13.7+ MB\n"
     ]
    }
   ],
   "source": [
    "pd.concat([geo_df_0] + [geo_df_1] + [geo_df_2]).info()"
   ]
  },
  {
   "cell_type": "markdown",
   "metadata": {},
   "source": [
    "Никаких проблем с данными не обнаружено. При этом встречаются одинаковые id."
   ]
  },
  {
   "cell_type": "code",
   "execution_count": 7,
   "metadata": {},
   "outputs": [
    {
     "data": {
      "text/html": [
       "<div>\n",
       "<style scoped>\n",
       "    .dataframe tbody tr th:only-of-type {\n",
       "        vertical-align: middle;\n",
       "    }\n",
       "\n",
       "    .dataframe tbody tr th {\n",
       "        vertical-align: top;\n",
       "    }\n",
       "\n",
       "    .dataframe thead th {\n",
       "        text-align: right;\n",
       "    }\n",
       "</style>\n",
       "<table border=\"1\" class=\"dataframe\">\n",
       "  <thead>\n",
       "    <tr style=\"text-align: right;\">\n",
       "      <th></th>\n",
       "      <th>id</th>\n",
       "      <th>f0</th>\n",
       "      <th>f1</th>\n",
       "      <th>f2</th>\n",
       "      <th>product</th>\n",
       "    </tr>\n",
       "  </thead>\n",
       "  <tbody>\n",
       "    <tr>\n",
       "      <th>count</th>\n",
       "      <td>300000</td>\n",
       "      <td>300000.000</td>\n",
       "      <td>300000.000</td>\n",
       "      <td>300000.000</td>\n",
       "      <td>300000.000</td>\n",
       "    </tr>\n",
       "    <tr>\n",
       "      <th>unique</th>\n",
       "      <td>299951</td>\n",
       "      <td>NaN</td>\n",
       "      <td>NaN</td>\n",
       "      <td>NaN</td>\n",
       "      <td>NaN</td>\n",
       "    </tr>\n",
       "    <tr>\n",
       "      <th>top</th>\n",
       "      <td>uSye4</td>\n",
       "      <td>NaN</td>\n",
       "      <td>NaN</td>\n",
       "      <td>NaN</td>\n",
       "      <td>NaN</td>\n",
       "    </tr>\n",
       "    <tr>\n",
       "      <th>freq</th>\n",
       "      <td>2</td>\n",
       "      <td>NaN</td>\n",
       "      <td>NaN</td>\n",
       "      <td>NaN</td>\n",
       "      <td>NaN</td>\n",
       "    </tr>\n",
       "    <tr>\n",
       "      <th>mean</th>\n",
       "      <td>NaN</td>\n",
       "      <td>0.548</td>\n",
       "      <td>-1.516</td>\n",
       "      <td>2.497</td>\n",
       "      <td>85.442</td>\n",
       "    </tr>\n",
       "    <tr>\n",
       "      <th>std</th>\n",
       "      <td>NaN</td>\n",
       "      <td>5.317</td>\n",
       "      <td>3.900</td>\n",
       "      <td>2.917</td>\n",
       "      <td>46.519</td>\n",
       "    </tr>\n",
       "    <tr>\n",
       "      <th>min</th>\n",
       "      <td>NaN</td>\n",
       "      <td>-31.610</td>\n",
       "      <td>-26.359</td>\n",
       "      <td>-12.088</td>\n",
       "      <td>0.000</td>\n",
       "    </tr>\n",
       "    <tr>\n",
       "      <th>25%</th>\n",
       "      <td>NaN</td>\n",
       "      <td>-1.003</td>\n",
       "      <td>-2.479</td>\n",
       "      <td>0.648</td>\n",
       "      <td>52.667</td>\n",
       "    </tr>\n",
       "    <tr>\n",
       "      <th>50%</th>\n",
       "      <td>NaN</td>\n",
       "      <td>0.348</td>\n",
       "      <td>-0.230</td>\n",
       "      <td>2.491</td>\n",
       "      <td>84.039</td>\n",
       "    </tr>\n",
       "    <tr>\n",
       "      <th>75%</th>\n",
       "      <td>NaN</td>\n",
       "      <td>1.755</td>\n",
       "      <td>0.679</td>\n",
       "      <td>4.345</td>\n",
       "      <td>124.174</td>\n",
       "    </tr>\n",
       "    <tr>\n",
       "      <th>max</th>\n",
       "      <td>NaN</td>\n",
       "      <td>29.422</td>\n",
       "      <td>18.734</td>\n",
       "      <td>16.739</td>\n",
       "      <td>190.030</td>\n",
       "    </tr>\n",
       "  </tbody>\n",
       "</table>\n",
       "</div>"
      ],
      "text/plain": [
       "            id         f0         f1         f2    product\n",
       "count   300000 300000.000 300000.000 300000.000 300000.000\n",
       "unique  299951        NaN        NaN        NaN        NaN\n",
       "top      uSye4        NaN        NaN        NaN        NaN\n",
       "freq         2        NaN        NaN        NaN        NaN\n",
       "mean       NaN      0.548     -1.516      2.497     85.442\n",
       "std        NaN      5.317      3.900      2.917     46.519\n",
       "min        NaN    -31.610    -26.359    -12.088      0.000\n",
       "25%        NaN     -1.003     -2.479      0.648     52.667\n",
       "50%        NaN      0.348     -0.230      2.491     84.039\n",
       "75%        NaN      1.755      0.679      4.345    124.174\n",
       "max        NaN     29.422     18.734     16.739    190.030"
      ]
     },
     "execution_count": 7,
     "metadata": {},
     "output_type": "execute_result"
    }
   ],
   "source": [
    "pd.concat([geo_df_0] + [geo_df_1] + [geo_df_2]).describe(include='all')"
   ]
  },
  {
   "cell_type": "markdown",
   "metadata": {},
   "source": [
    "Посмотрим, как данные коррелируют между собой."
   ]
  },
  {
   "cell_type": "code",
   "execution_count": 8,
   "metadata": {},
   "outputs": [
    {
     "data": {
      "image/png": "[encoded data removed]",
      "text/plain": [
       "<Figure size 360x360 with 2 Axes>"
      ]
     },
     "metadata": {
      "needs_background": "light"
     },
     "output_type": "display_data"
    },
    {
     "data": {
      "image/png": "[encoded data removed]",
      "text/plain": [
       "<Figure size 360x360 with 2 Axes>"
      ]
     },
     "metadata": {
      "needs_background": "light"
     },
     "output_type": "display_data"
    },
    {
     "data": {
      "image/png": "[encoded data removed]",
      "text/plain": [
       "<Figure size 360x360 with 2 Axes>"
      ]
     },
     "metadata": {
      "needs_background": "light"
     },
     "output_type": "display_data"
    }
   ],
   "source": [
    "for df in geo_dfs:\n",
    "    fig = plt.figure(figsize=(5,5))\n",
    "    ax = sns.heatmap(df.corr(), annot=True, square=True)"
   ]
  },
  {
   "cell_type": "markdown",
   "metadata": {},
   "source": [
    "Целевая переменная product сильнее всего зависит от признака f2, при этом для 1 региона (geo_df_1) получилась идеальная линейная зависимость."
   ]
  },
  {
   "cell_type": "code",
   "execution_count": 9,
   "metadata": {},
   "outputs": [
    {
     "data": {
      "image/png": "[encoded data removed]",
      "text/plain": [
       "<Figure size 432x288 with 1 Axes>"
      ]
     },
     "metadata": {
      "needs_background": "light"
     },
     "output_type": "display_data"
    }
   ],
   "source": [
    "geo_df_1.plot.scatter(x='f2', y='product');"
   ]
  },
  {
   "cell_type": "markdown",
   "metadata": {},
   "source": [
    "## Обучение и проверка модели"
   ]
  },
  {
   "cell_type": "markdown",
   "metadata": {},
   "source": [
    "Удалим признак id, так как он не нужен в нашей задаче."
   ]
  },
  {
   "cell_type": "code",
   "execution_count": 10,
   "metadata": {},
   "outputs": [],
   "source": [
    "geo_df_0.drop(columns='id', inplace=True)\n",
    "geo_df_1.drop(columns='id', inplace=True)\n",
    "geo_df_2.drop(columns='id', inplace=True)"
   ]
  },
  {
   "cell_type": "markdown",
   "metadata": {},
   "source": [
    "Создадим несколько вспомогательных функций."
   ]
  },
  {
   "cell_type": "code",
   "execution_count": 11,
   "metadata": {},
   "outputs": [],
   "source": [
    "# Разбивка данных на features и target, а затем на train и test.\n",
    "def features_target_get(df):\n",
    "    features = df.drop(columns=['product'])\n",
    "    target = df['product']\n",
    "    # Разобьём данные на тренировочную и тестовую выборки.\n",
    "    return train_test_split(\n",
    "        features, target, test_size=0.25, random_state=38\n",
    "    )"
   ]
  },
  {
   "cell_type": "code",
   "execution_count": 12,
   "metadata": {},
   "outputs": [],
   "source": [
    "# Вывод RMSE и среднего запаса для разных регионов.\n",
    "def comparison_and_pred(model, dfs):\n",
    "    dict_ = {}\n",
    "    \n",
    "    for region in range(len(dfs)):\n",
    "        X_train, X_test, y_train, y_test = features_target_get(dfs[region])\n",
    "\n",
    "        # Сформируем пайплайн.\n",
    "        pipe = make_pipeline(StandardScaler(), model) \n",
    "\n",
    "        # Найдем коэффициенты детерминации.\n",
    "        r2_scores = cross_validate(pipe, X_train, y_train,\n",
    "                                   cv=4, n_jobs=-1)['test_score']\n",
    "\n",
    "        # Предскажем запас (product).\n",
    "        y_hat = pipe.fit(X_train, y_train).predict(X_test)\n",
    "\n",
    "        dict_['Region_' + str(region)] = {\n",
    "            'RMSE': mean_squared_error(y_test, y_hat, squared=False),\n",
    "            'Cредний запас': np.mean(y_hat),\n",
    "            'R2: mean и std': np.mean(r2_scores)\n",
    "        }\n",
    "\n",
    "        # Запишем результаты.\n",
    "        results['y_hat_' + str(region)] = y_hat\n",
    "        results['y_' + str(region)] = y_test.reset_index(drop=True)\n",
    "    \n",
    "    # Выведем метрики и средние на экран.\n",
    "    display(pd.DataFrame.from_dict(dict_, orient='index'))"
   ]
  },
  {
   "cell_type": "markdown",
   "metadata": {},
   "source": [
    "### Cредний запас предсказанного сырья и RMSE модели"
   ]
  },
  {
   "cell_type": "code",
   "execution_count": 13,
   "metadata": {},
   "outputs": [
    {
     "data": {
      "text/html": [
       "<div>\n",
       "<style scoped>\n",
       "    .dataframe tbody tr th:only-of-type {\n",
       "        vertical-align: middle;\n",
       "    }\n",
       "\n",
       "    .dataframe tbody tr th {\n",
       "        vertical-align: top;\n",
       "    }\n",
       "\n",
       "    .dataframe thead th {\n",
       "        text-align: right;\n",
       "    }\n",
       "</style>\n",
       "<table border=\"1\" class=\"dataframe\">\n",
       "  <thead>\n",
       "    <tr style=\"text-align: right;\">\n",
       "      <th></th>\n",
       "      <th>RMSE</th>\n",
       "      <th>Cредний запас</th>\n",
       "      <th>R2: mean и std</th>\n",
       "    </tr>\n",
       "  </thead>\n",
       "  <tbody>\n",
       "    <tr>\n",
       "      <th>Region_0</th>\n",
       "      <td>37.565</td>\n",
       "      <td>92.506</td>\n",
       "      <td>0.274</td>\n",
       "    </tr>\n",
       "    <tr>\n",
       "      <th>Region_1</th>\n",
       "      <td>0.893</td>\n",
       "      <td>68.367</td>\n",
       "      <td>1.000</td>\n",
       "    </tr>\n",
       "    <tr>\n",
       "      <th>Region_2</th>\n",
       "      <td>39.896</td>\n",
       "      <td>95.167</td>\n",
       "      <td>0.197</td>\n",
       "    </tr>\n",
       "  </tbody>\n",
       "</table>\n",
       "</div>"
      ],
      "text/plain": [
       "           RMSE  Cредний запас  R2: mean и std\n",
       "Region_0 37.565         92.506           0.274\n",
       "Region_1  0.893         68.367           1.000\n",
       "Region_2 39.896         95.167           0.197"
      ]
     },
     "metadata": {},
     "output_type": "display_data"
    }
   ],
   "source": [
    "results = pd.DataFrame()\n",
    "\n",
    "# Используем LinearRegression (выше надежность предсказаний - условие задачи).\n",
    "# Бустинги выдают чуть лучшее R2 ~ 0.3.\n",
    "comparison_and_pred(\n",
    "    LinearRegression(),\n",
    "    geo_dfs\n",
    ")"
   ]
  },
  {
   "cell_type": "markdown",
   "metadata": {},
   "source": [
    "Предсказания и правильные ответы запасов сырья на тестовой выборке."
   ]
  },
  {
   "cell_type": "code",
   "execution_count": 14,
   "metadata": {},
   "outputs": [
    {
     "data": {
      "text/html": [
       "<div>\n",
       "<style scoped>\n",
       "    .dataframe tbody tr th:only-of-type {\n",
       "        vertical-align: middle;\n",
       "    }\n",
       "\n",
       "    .dataframe tbody tr th {\n",
       "        vertical-align: top;\n",
       "    }\n",
       "\n",
       "    .dataframe thead th {\n",
       "        text-align: right;\n",
       "    }\n",
       "</style>\n",
       "<table border=\"1\" class=\"dataframe\">\n",
       "  <thead>\n",
       "    <tr style=\"text-align: right;\">\n",
       "      <th></th>\n",
       "      <th>y_hat_0</th>\n",
       "      <th>y_0</th>\n",
       "      <th>y_hat_1</th>\n",
       "      <th>y_1</th>\n",
       "      <th>y_hat_2</th>\n",
       "      <th>y_2</th>\n",
       "    </tr>\n",
       "  </thead>\n",
       "  <tbody>\n",
       "    <tr>\n",
       "      <th>0</th>\n",
       "      <td>110.331</td>\n",
       "      <td>160.983</td>\n",
       "      <td>109.190</td>\n",
       "      <td>107.813</td>\n",
       "      <td>128.222</td>\n",
       "      <td>77.821</td>\n",
       "    </tr>\n",
       "    <tr>\n",
       "      <th>1</th>\n",
       "      <td>99.009</td>\n",
       "      <td>83.829</td>\n",
       "      <td>55.371</td>\n",
       "      <td>53.907</td>\n",
       "      <td>62.963</td>\n",
       "      <td>2.394</td>\n",
       "    </tr>\n",
       "    <tr>\n",
       "      <th>2</th>\n",
       "      <td>87.564</td>\n",
       "      <td>28.363</td>\n",
       "      <td>82.623</td>\n",
       "      <td>84.039</td>\n",
       "      <td>126.183</td>\n",
       "      <td>167.922</td>\n",
       "    </tr>\n",
       "    <tr>\n",
       "      <th>3</th>\n",
       "      <td>70.145</td>\n",
       "      <td>56.037</td>\n",
       "      <td>108.733</td>\n",
       "      <td>107.813</td>\n",
       "      <td>76.578</td>\n",
       "      <td>36.976</td>\n",
       "    </tr>\n",
       "    <tr>\n",
       "      <th>4</th>\n",
       "      <td>97.230</td>\n",
       "      <td>76.174</td>\n",
       "      <td>28.681</td>\n",
       "      <td>30.132</td>\n",
       "      <td>63.736</td>\n",
       "      <td>57.176</td>\n",
       "    </tr>\n",
       "  </tbody>\n",
       "</table>\n",
       "</div>"
      ],
      "text/plain": [
       "   y_hat_0     y_0  y_hat_1     y_1  y_hat_2     y_2\n",
       "0  110.331 160.983  109.190 107.813  128.222  77.821\n",
       "1   99.009  83.829   55.371  53.907   62.963   2.394\n",
       "2   87.564  28.363   82.623  84.039  126.183 167.922\n",
       "3   70.145  56.037  108.733 107.813   76.578  36.976\n",
       "4   97.230  76.174   28.681  30.132   63.736  57.176"
      ]
     },
     "execution_count": 14,
     "metadata": {},
     "output_type": "execute_result"
    }
   ],
   "source": [
    "results.head()"
   ]
  },
  {
   "cell_type": "markdown",
   "metadata": {},
   "source": [
    "### Выводы\n",
    "\n",
    "* Для регионов 0 и 2 коэффициенты детерминации ниже 0.5, что говорит о неудовлетворительной работе модели в данных регионах.\n",
    "* В регионе 1 получились ожидаемо хорошие результаты, RMSE ниже 1. Модель выдает очень точные предсказания.\n",
    "* Средний запас сырья выше в регионах 0 и 2."
   ]
  },
  {
   "cell_type": "markdown",
   "metadata": {},
   "source": [
    "## Подготовка к расчёту прибыли"
   ]
  },
  {
   "cell_type": "markdown",
   "metadata": {},
   "source": [
    "### Исходные данные"
   ]
  },
  {
   "cell_type": "code",
   "execution_count": 15,
   "metadata": {},
   "outputs": [],
   "source": [
    "# Число исследуемых точек.\n",
    "RESEARCH_POINTS = 500\n",
    "# Число лучших точек.\n",
    "BEST_POINTS = 200\n",
    "# Бюджет на разработку скважин в регионе [₽].\n",
    "BUDGET = 10 * 10**9\n",
    "# Доход с каждой единицы продукта (1000 баррелей сырья) [₽].\n",
    "REVENUE = 450000\n",
    "# Квантиль для построения 95%-й доверительного интервала.\n",
    "QUANTILE = 0.025"
   ]
  },
  {
   "cell_type": "markdown",
   "metadata": {},
   "source": [
    "В регионе выбирается 200 лучших точек для разработки, соответственно новая скважина должна приносить cvp единиц продукции или больше, чтобы быть безубыточной."
   ]
  },
  {
   "cell_type": "code",
   "execution_count": 16,
   "metadata": {},
   "outputs": [
    {
     "data": {
      "text/plain": [
       "112.0"
      ]
     },
     "execution_count": 16,
     "metadata": {},
     "output_type": "execute_result"
    }
   ],
   "source": [
    "# Минимальное среднее количество продукта в месторождениях региона, достаточное для разработки.\n",
    "np.ceil((BUDGET / BEST_POINTS) / REVENUE)"
   ]
  },
  {
   "cell_type": "markdown",
   "metadata": {},
   "source": [
    "### Функция расчёта прибыли"
   ]
  },
  {
   "cell_type": "code",
   "execution_count": 17,
   "metadata": {},
   "outputs": [],
   "source": [
    "def profit(sample, y_hat, y):\n",
    "    # Отсортируем данные по предсказанным запасам и выберем реальные значения.\n",
    "    product = sample.sort_values(y_hat, ascending=False)[y]\n",
    "    # Посчитаем валовую прибыль в млрд рублей.\n",
    "    return (REVENUE * product[:BEST_POINTS].sum() - BUDGET) / (10**9)"
   ]
  },
  {
   "cell_type": "markdown",
   "metadata": {},
   "source": [
    "Рассчитайте прибыль для полученного объёма сырья в 3 разных регионах (млрд рублей)."
   ]
  },
  {
   "cell_type": "code",
   "execution_count": 18,
   "metadata": {},
   "outputs": [
    {
     "data": {
      "text/html": [
       "<div>\n",
       "<style scoped>\n",
       "    .dataframe tbody tr th:only-of-type {\n",
       "        vertical-align: middle;\n",
       "    }\n",
       "\n",
       "    .dataframe tbody tr th {\n",
       "        vertical-align: top;\n",
       "    }\n",
       "\n",
       "    .dataframe thead th {\n",
       "        text-align: right;\n",
       "    }\n",
       "</style>\n",
       "<table border=\"1\" class=\"dataframe\">\n",
       "  <thead>\n",
       "    <tr style=\"text-align: right;\">\n",
       "      <th></th>\n",
       "      <th>0</th>\n",
       "      <th>1</th>\n",
       "      <th>2</th>\n",
       "    </tr>\n",
       "  </thead>\n",
       "  <tbody>\n",
       "    <tr>\n",
       "      <th>Валовая прибыль</th>\n",
       "      <td>3.480</td>\n",
       "      <td>2.415</td>\n",
       "      <td>2.363</td>\n",
       "    </tr>\n",
       "  </tbody>\n",
       "</table>\n",
       "</div>"
      ],
      "text/plain": [
       "                    0     1     2\n",
       "Валовая прибыль 3.480 2.415 2.363"
      ]
     },
     "metadata": {},
     "output_type": "display_data"
    }
   ],
   "source": [
    "display(pd.DataFrame.from_dict({'Валовая прибыль':\n",
    "[\n",
    "    profit(results, 'y_hat_0', 'y_0'),\n",
    "    profit(results, 'y_hat_1', 'y_1'),\n",
    "    profit(results, 'y_hat_2', 'y_2')\n",
    "]}, orient='index'))"
   ]
  },
  {
   "cell_type": "markdown",
   "metadata": {
    "jp-MarkdownHeadingCollapsed": true,
    "tags": []
   },
   "source": [
    "### Выводы\n",
    "\n",
    "* Точка безубыточности расположена выше чем средние запасы предсказанного сырья в регионах.\n",
    "* Средние запасы в регионе 1 почти в 1.5 раза ниже требуемых для достижения безубыточности.\n",
    "* Самая высокая прибыль 3.5 млрд рублей получена для региона 0."
   ]
  },
  {
   "cell_type": "markdown",
   "metadata": {},
   "source": [
    "## Расчёт прибыли и рисков "
   ]
  },
  {
   "cell_type": "code",
   "execution_count": 19,
   "metadata": {},
   "outputs": [],
   "source": [
    "# Задаем Random State чтобы были разные подвыборки (subsample).\n",
    "state = np.random.RandomState(38)\n",
    "\n",
    "# Определим bootstrap функцию.\n",
    "def bootstrap(y_hat, y, bootstrap_samples, RESEARCH_POINTS):\n",
    "    values = []\n",
    "    risk = 0\n",
    "    for i in range(bootstrap_samples):\n",
    "        # Выбираем 500 случайных точек, а из них 200 лучших для подсчета выручки.\n",
    "        subsample = results.sample(RESEARCH_POINTS,\n",
    "                                   replace=True,\n",
    "                                   random_state=state)\n",
    "        values.append(\n",
    "            profit(subsample, y_hat, y)\n",
    "        )\n",
    "\n",
    "    values = pd.Series(values)\n",
    "    \n",
    "    # Построим гистограмму распределения прибыли.\n",
    "    ax = sns.histplot(data=values, stat='probability',\n",
    "                      cumulative=True)\n",
    "    ax.axhline(0.025, color='red', linewidth=2.5)\n",
    "    ax.set_ylim(0, 0.2)\n",
    "\n",
    "    print(f'Средняя прибыль: {values.mean():.2f}')\n",
    "    print(f'Риск убытков: {values.map(lambda x: x < 0).mean():.1%}')\n",
    "    print(f'95%-й доверительный интервал: [{values.quantile(QUANTILE):.2f}, {values.quantile(1 - QUANTILE):.2f}]\\n')"
   ]
  },
  {
   "cell_type": "code",
   "execution_count": 20,
   "metadata": {},
   "outputs": [
    {
     "name": "stdout",
     "output_type": "stream",
     "text": [
      "Средняя прибыль: 0.45\n",
      "Риск убытков: 5.4%\n",
      "95%-й доверительный интервал: [-0.08, 0.95]\n",
      "\n"
     ]
    },
    {
     "data": {
      "image/png": "[encoded data removed]",
      "text/plain": [
       "<Figure size 432x288 with 1 Axes>"
      ]
     },
     "metadata": {
      "needs_background": "light"
     },
     "output_type": "display_data"
    }
   ],
   "source": [
    "bootstrap('y_hat_0', 'y_0',\n",
    "          bootstrap_samples=1000,\n",
    "          RESEARCH_POINTS=500)"
   ]
  },
  {
   "cell_type": "code",
   "execution_count": 21,
   "metadata": {},
   "outputs": [
    {
     "name": "stdout",
     "output_type": "stream",
     "text": [
      "Средняя прибыль: 0.44\n",
      "Риск убытков: 1.6%\n",
      "95%-й доверительный интервал: [0.02, 0.82]\n",
      "\n"
     ]
    },
    {
     "data": {
      "image/png": "[encoded data removed]",
      "text/plain": [
       "<Figure size 432x288 with 1 Axes>"
      ]
     },
     "metadata": {
      "needs_background": "light"
     },
     "output_type": "display_data"
    }
   ],
   "source": [
    "bootstrap('y_hat_1', 'y_1',\n",
    "          bootstrap_samples=1000,\n",
    "          RESEARCH_POINTS=500)"
   ]
  },
  {
   "cell_type": "code",
   "execution_count": 22,
   "metadata": {},
   "outputs": [
    {
     "name": "stdout",
     "output_type": "stream",
     "text": [
      "Средняя прибыль: 0.42\n",
      "Риск убытков: 4.9%\n",
      "95%-й доверительный интервал: [-0.08, 0.88]\n",
      "\n"
     ]
    },
    {
     "data": {
      "image/png": "[encoded data removed]",
      "text/plain": [
       "<Figure size 432x288 with 1 Axes>"
      ]
     },
     "metadata": {
      "needs_background": "light"
     },
     "output_type": "display_data"
    }
   ],
   "source": [
    "bootstrap('y_hat_2', 'y_2',\n",
    "          bootstrap_samples=1000,\n",
    "          RESEARCH_POINTS=500)"
   ]
  },
  {
   "cell_type": "markdown",
   "metadata": {},
   "source": [
    "# Выводы:\n",
    "\n",
    "* Определен регион с максимальной суммарной прибылью отобранных скважин.\n",
    "* Проанализированы возможные прибыль и риски техникой Bootstrap.\n",
    "* В соответствии с условиями задачи оптимальным для разработки скважин является регионом 1 (geo_data_1). Несмотря на то, что средний запас предсказанного сырья в нем наименьший, только в этом регионе вероятность убытков меньше 2.5% при разведке региона в 500 точек. Это связано с тем, что модель значительно лучше работает на данных из 1 региона. \n",
    "* Если увеличить разведку, то вероятность отобрать максимально доходные точки растет. Так, при research_points равной 3500, регион 0 становится прибыльнее 1, а вероятность получить убыток стремится к нулю."
   ]
  },
  {
   "cell_type": "code",
   "execution_count": null,
   "metadata": {},
   "outputs": [],
   "source": []
  }
 ],
 "metadata": {
  "kernelspec": {
   "display_name": "Python 3 (ipykernel)",
   "language": "python",
   "name": "python3"
  },
  "language_info": {
   "codemirror_mode": {
    "name": "ipython",
    "version": 3
   },
   "file_extension": ".py",
   "mimetype": "text/x-python",
   "name": "python",
   "nbconvert_exporter": "python",
   "pygments_lexer": "ipython3",
   "version": "3.9.9"
  },
  "toc": {
   "base_numbering": 1,
   "nav_menu": {},
   "number_sections": true,
   "sideBar": true,
   "skip_h1_title": true,
   "title_cell": "Table of Contents",
   "title_sidebar": "Contents",
   "toc_cell": false,
   "toc_position": {},
   "toc_section_display": true,
   "toc_window_display": false
  }
 },
 "nbformat": 4,
 "nbformat_minor": 4
}
