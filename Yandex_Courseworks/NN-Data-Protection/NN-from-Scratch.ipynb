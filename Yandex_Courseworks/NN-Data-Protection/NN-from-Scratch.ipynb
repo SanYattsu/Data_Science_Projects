{
 "cells": [
  {
   "cell_type": "markdown",
   "metadata": {},
   "source": [
    "# Создание нейронной сети без фреймворков"
   ]
  },
  {
   "cell_type": "markdown",
   "metadata": {},
   "source": [
    "**Цели**:\n",
    "* Создать модель классификации, не используя PyTorch или TensorFlow.\n",
    "* Получить accuracy модели не ниже 0.9."
   ]
  },
  {
   "cell_type": "code",
   "execution_count": 1,
   "metadata": {},
   "outputs": [],
   "source": [
    "import pandas as pd\n",
    "import numpy as np\n",
    "\n",
    "from sklearn.preprocessing import StandardScaler\n",
    "from sklearn.model_selection import train_test_split\n",
    "from sklearn.pipeline import make_pipeline\n",
    "from sklearn.metrics import classification_report, f1_score"
   ]
  },
  {
   "cell_type": "code",
   "execution_count": 2,
   "metadata": {},
   "outputs": [],
   "source": [
    "pd.options.display.float_format = '{:0.3f}'.format"
   ]
  },
  {
   "cell_type": "markdown",
   "metadata": {},
   "source": [
    "## Загрузка данных"
   ]
  },
  {
   "cell_type": "code",
   "execution_count": 3,
   "metadata": {},
   "outputs": [],
   "source": [
    "url = 'https://code.s3.yandex.net/datasets/'"
   ]
  },
  {
   "cell_type": "code",
   "execution_count": 4,
   "metadata": {},
   "outputs": [
    {
     "data": {
      "text/html": [
       "<div>\n",
       "<style scoped>\n",
       "    .dataframe tbody tr th:only-of-type {\n",
       "        vertical-align: middle;\n",
       "    }\n",
       "\n",
       "    .dataframe tbody tr th {\n",
       "        vertical-align: top;\n",
       "    }\n",
       "\n",
       "    .dataframe thead th {\n",
       "        text-align: right;\n",
       "    }\n",
       "</style>\n",
       "<table border=\"1\" class=\"dataframe\">\n",
       "  <thead>\n",
       "    <tr style=\"text-align: right;\">\n",
       "      <th></th>\n",
       "      <th>Пол</th>\n",
       "      <th>Возраст</th>\n",
       "      <th>Зарплата</th>\n",
       "      <th>Члены семьи</th>\n",
       "      <th>Страховые выплаты</th>\n",
       "    </tr>\n",
       "  </thead>\n",
       "  <tbody>\n",
       "    <tr>\n",
       "      <th>0</th>\n",
       "      <td>1</td>\n",
       "      <td>41.000</td>\n",
       "      <td>49600.000</td>\n",
       "      <td>1</td>\n",
       "      <td>0</td>\n",
       "    </tr>\n",
       "    <tr>\n",
       "      <th>1</th>\n",
       "      <td>0</td>\n",
       "      <td>46.000</td>\n",
       "      <td>38000.000</td>\n",
       "      <td>1</td>\n",
       "      <td>1</td>\n",
       "    </tr>\n",
       "    <tr>\n",
       "      <th>2</th>\n",
       "      <td>0</td>\n",
       "      <td>29.000</td>\n",
       "      <td>21000.000</td>\n",
       "      <td>0</td>\n",
       "      <td>0</td>\n",
       "    </tr>\n",
       "    <tr>\n",
       "      <th>3</th>\n",
       "      <td>0</td>\n",
       "      <td>21.000</td>\n",
       "      <td>41700.000</td>\n",
       "      <td>2</td>\n",
       "      <td>0</td>\n",
       "    </tr>\n",
       "    <tr>\n",
       "      <th>4</th>\n",
       "      <td>1</td>\n",
       "      <td>28.000</td>\n",
       "      <td>26100.000</td>\n",
       "      <td>0</td>\n",
       "      <td>0</td>\n",
       "    </tr>\n",
       "  </tbody>\n",
       "</table>\n",
       "</div>"
      ],
      "text/plain": [
       "   Пол  Возраст  Зарплата  Члены семьи  Страховые выплаты\n",
       "0    1   41.000 49600.000            1                  0\n",
       "1    0   46.000 38000.000            1                  1\n",
       "2    0   29.000 21000.000            0                  0\n",
       "3    0   21.000 41700.000            2                  0\n",
       "4    1   28.000 26100.000            0                  0"
      ]
     },
     "metadata": {},
     "output_type": "display_data"
    }
   ],
   "source": [
    "df = pd.read_csv(url + 'insurance.csv')\n",
    "display(df.head())"
   ]
  },
  {
   "cell_type": "markdown",
   "metadata": {},
   "source": [
    "# Предобработка данных"
   ]
  },
  {
   "cell_type": "markdown",
   "metadata": {},
   "source": [
    "Проверим наличие пропусков в данных."
   ]
  },
  {
   "cell_type": "code",
   "execution_count": 5,
   "metadata": {},
   "outputs": [
    {
     "data": {
      "text/plain": [
       "Пол                  0\n",
       "Возраст              0\n",
       "Зарплата             0\n",
       "Члены семьи          0\n",
       "Страховые выплаты    0\n",
       "dtype: int64"
      ]
     },
     "execution_count": 5,
     "metadata": {},
     "output_type": "execute_result"
    }
   ],
   "source": [
    "df.isna().sum()"
   ]
  },
  {
   "cell_type": "markdown",
   "metadata": {},
   "source": [
    "Сформируем признаки и выберем в качестве целевой переменной – \"Страховые выплаты\".\n",
    "\n",
    "Сгруппируем данные чтобы свести задачу к бинарной."
   ]
  },
  {
   "cell_type": "code",
   "execution_count": 6,
   "metadata": {},
   "outputs": [
    {
     "data": {
      "text/plain": [
       "0    4436\n",
       "1     423\n",
       "2     115\n",
       "3      18\n",
       "4       7\n",
       "5       1\n",
       "Name: Страховые выплаты, dtype: int64"
      ]
     },
     "execution_count": 6,
     "metadata": {},
     "output_type": "execute_result"
    }
   ],
   "source": [
    "df['Страховые выплаты'].value_counts()"
   ]
  },
  {
   "cell_type": "code",
   "execution_count": 7,
   "metadata": {},
   "outputs": [],
   "source": [
    "df['insurance'] = df['Страховые выплаты'] > 0\n",
    "df.drop(columns='Страховые выплаты', inplace=True)"
   ]
  },
  {
   "cell_type": "code",
   "execution_count": 8,
   "metadata": {},
   "outputs": [
    {
     "data": {
      "text/plain": [
       "False    4436\n",
       "True      564\n",
       "Name: insurance, dtype: int64"
      ]
     },
     "execution_count": 8,
     "metadata": {},
     "output_type": "execute_result"
    }
   ],
   "source": [
    "df['insurance'].value_counts()"
   ]
  },
  {
   "cell_type": "markdown",
   "metadata": {},
   "source": [
    "# Построение модели"
   ]
  },
  {
   "cell_type": "markdown",
   "metadata": {},
   "source": [
    "Разделим выборку на тренировочную и тестовую."
   ]
  },
  {
   "cell_type": "code",
   "execution_count": 9,
   "metadata": {},
   "outputs": [],
   "source": [
    "features = df.drop('insurance', axis=1)\n",
    "target = df['insurance']\n",
    "\n",
    "X_train, X_test, y_train, y_test = train_test_split(\n",
    "    features, target, test_size=0.25, random_state=38)"
   ]
  },
  {
   "cell_type": "markdown",
   "metadata": {},
   "source": [
    "Создадим класс нейронной сети, реализовав стандартные методы fit и predict."
   ]
  },
  {
   "cell_type": "code",
   "execution_count": 10,
   "metadata": {},
   "outputs": [],
   "source": [
    "class CustomNN:\n",
    "    def __init__(self):\n",
    "        # Зададим альфа-коэффициент чтобы избежать избыточной коррекции весов.\n",
    "        self.alpha = 0.01\n",
    "        # Ограничим число итераций.\n",
    "        self.iterations = 120\n",
    "        # Установим величину скрытого слоя.\n",
    "        self.hidden_size = 32\n",
    "        return None\n",
    "    \n",
    "    # Чтобы у модели появилась нелинейность используем ReLU.\n",
    "    def relu(self, k):\n",
    "        return k * (k > 0)\n",
    "    # Производная от ReLU.\n",
    "    def relu_derivative(self, k):\n",
    "        return k > 0\n",
    "    # Функция активации для выходного слоя.\n",
    "    def sigmoid(self, k):\n",
    "        return 1 / (1 + np.exp(-k))\n",
    "    \n",
    "    def fit(self, X, y):        \n",
    "        X = np.array(X)\n",
    "        # Преобразуем \"y\" в вектор с 1 столбцом.\n",
    "        y = np.array(y).reshape(-1, 1)\n",
    "        \n",
    "        np.random.seed(38)\n",
    "        \n",
    "        # Инициируем веса для слоев.\n",
    "        epsilon_init = 1\n",
    "        w_0_1 = epsilon_init * np.random.random((X.shape[1], self.hidden_size)) - epsilon_init*0.5\n",
    "        w_1_2 = epsilon_init * np.random.random((self.hidden_size, y.shape[1])) - epsilon_init*0.5\n",
    "        \n",
    "        for j in range(self.iterations):\n",
    "            for i in range(X.shape[0]):\n",
    "                # Первый слой - входные признаки.\n",
    "                layer_0 = X[[i]]\n",
    "                \n",
    "                # Скалярное произведение первого слоя и весов.\n",
    "                # Общая схема матричных операций 1x4 @ 4x32 @ 32x1\n",
    "                layer_1 = self.relu(layer_0 @ w_0_1)\n",
    "                # Применем регуляризацию чтобы модель не переобучилась.\n",
    "                # После умножения слоя 1 на маску дополнительно умножаем на 2 для усиления.\n",
    "                dropout = np.random.randint(2, size=layer_1.shape)  \n",
    "                layer_1 *= dropout * 2\n",
    "                layer_2 = self.sigmoid(layer_1 @ w_1_2)\n",
    "\n",
    "                # Посчитаем веса используя градиентный спуск.\n",
    "                layer_2_delta = y[[i]] - np.round(layer_2)\n",
    "                layer_1_delta = (layer_2_delta @ w_1_2.T) * self.relu_derivative(layer_1)\n",
    "                layer_1_delta *= dropout\n",
    "                \n",
    "                # Обратное распространение.\n",
    "                w_1_2 += self.alpha * layer_1.T @ layer_2_delta\n",
    "                w_0_1 += self.alpha * layer_0.T @ layer_1_delta\n",
    "            \n",
    "            if j%5 == 0:\n",
    "                # Раз в 5 итераций будем обновлять F1 метрику для контроля переобучения.\n",
    "                y_hat = self.sigmoid(self.relu(X @ w_0_1) @ w_1_2) > 0.5\n",
    "                print(f'\\rF1 Score на {j} итерации: {f1_score(y, y_hat):.3f}'.rjust(16, ' '), end='')\n",
    "        \n",
    "        self.w_0_1 = w_0_1\n",
    "        self.w_1_2 = w_1_2\n",
    "        return self\n",
    "\n",
    "    def predict(self, X):\n",
    "        X = np.array(X)\n",
    "        \n",
    "        # Возвращаем предсказания.\n",
    "        return self.sigmoid(self.relu(X @ self.w_0_1) @ self.w_1_2) > 0.5"
   ]
  },
  {
   "cell_type": "markdown",
   "metadata": {},
   "source": [
    "Составим pipeline и выведем отчет с основными метриками."
   ]
  },
  {
   "cell_type": "code",
   "execution_count": 11,
   "metadata": {},
   "outputs": [
    {
     "name": "stdout",
     "output_type": "stream",
     "text": [
      "F1 Score на 115 итерации: 0.923\n",
      "               precision    recall  f1-score   support\n",
      "\n",
      "       False       1.00      1.00      1.00      1106\n",
      "        True       0.99      1.00      0.99       144\n",
      "\n",
      "    accuracy                           1.00      1250\n",
      "   macro avg       0.99      1.00      1.00      1250\n",
      "weighted avg       1.00      1.00      1.00      1250\n",
      "\n"
     ]
    }
   ],
   "source": [
    "pipe_nn = make_pipeline(StandardScaler(), CustomNN())\n",
    "y_hat = pipe_nn.fit(X_train, y_train).predict(X_test)\n",
    "print('\\n',classification_report(y_test, y_hat))"
   ]
  },
  {
   "cell_type": "markdown",
   "metadata": {},
   "source": [
    "# Выводы\n",
    "\n",
    "* Получена нейронная сеть, позволяющая эффективно решать задачу классификации.\n",
    "* Достигнута требуемая метрика качества, удалось избежать переобучения модели."
   ]
  },
  {
   "cell_type": "code",
   "execution_count": null,
   "metadata": {},
   "outputs": [],
   "source": []
  }
 ],
 "metadata": {
  "kernelspec": {
   "display_name": "Python 3 (ipykernel)",
   "language": "python",
   "name": "python3"
  },
  "language_info": {
   "codemirror_mode": {
    "name": "ipython",
    "version": 3
   },
   "file_extension": ".py",
   "mimetype": "text/x-python",
   "name": "python",
   "nbconvert_exporter": "python",
   "pygments_lexer": "ipython3",
   "version": "3.9.9"
  },
  "toc": {
   "base_numbering": 1,
   "nav_menu": {},
   "number_sections": true,
   "sideBar": true,
   "skip_h1_title": true,
   "title_cell": "Содержание",
   "title_sidebar": "Contents",
   "toc_cell": true,
   "toc_position": {},
   "toc_section_display": true,
   "toc_window_display": true
  }
 },
 "nbformat": 4,
 "nbformat_minor": 4
}
