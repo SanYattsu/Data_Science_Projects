{
 "cells": [
  {
   "cell_type": "markdown",
   "id": "ce4698da-6675-4a4d-a4fb-180c346052a6",
   "metadata": {},
   "source": [
    "# Импорт библиотек"
   ]
  },
  {
   "cell_type": "code",
   "execution_count": 1,
   "id": "c02ce980-5d7a-4401-a4f3-a8b2f6155726",
   "metadata": {},
   "outputs": [],
   "source": [
    "from sqlalchemy import create_engine, inspect\n",
    "import psycopg2"
   ]
  },
  {
   "cell_type": "markdown",
   "id": "ea715595-96df-457c-90d2-f199bd86089f",
   "metadata": {},
   "source": [
    "# Соединение к базе данных"
   ]
  },
  {
   "cell_type": "code",
   "execution_count": 2,
   "id": "2d8fa4b9-9442-49ee-81f0-38ebc5210a56",
   "metadata": {},
   "outputs": [],
   "source": [
    "connection = 'postgresql://{}:{}@{}:{}/{}'.format(\n",
    "    'postgres',\n",
    "    'postgres',\n",
    "    'postgres',\n",
    "    '5432',\n",
    "    'postgres')\n",
    "\n",
    "engine = create_engine(connection)"
   ]
  },
  {
   "cell_type": "code",
   "execution_count": 3,
   "id": "96274158-a0e4-466b-8b12-0bd346d8d461",
   "metadata": {},
   "outputs": [],
   "source": [
    "# Вспомогательная функция.\n",
    "def get_data(query, e=engine):\n",
    "    return pd.read_sql(query, e)"
   ]
  },
  {
   "cell_type": "markdown",
   "id": "ab43b598-6e56-47ca-8d34-69685491bbd3",
   "metadata": {},
   "source": [
    "Убедимся что никаких таблиц в базе нет."
   ]
  },
  {
   "cell_type": "code",
   "execution_count": 4,
   "id": "ddb3cb37-8d9e-45ba-8571-594291f8f7e2",
   "metadata": {},
   "outputs": [
    {
     "data": {
      "text/plain": [
       "[]"
      ]
     },
     "execution_count": 4,
     "metadata": {},
     "output_type": "execute_result"
    }
   ],
   "source": [
    "inspect(engine).get_table_names()"
   ]
  },
  {
   "cell_type": "markdown",
   "id": "09f311a5-293b-4062-a13c-19163ab8becd",
   "metadata": {},
   "source": [
    "Создадим таблицы orders и users."
   ]
  },
  {
   "cell_type": "code",
   "execution_count": 5,
   "id": "3fae5756-95a2-48ed-ab2c-1ba1bbcdd777",
   "metadata": {},
   "outputs": [
    {
     "data": {
      "text/html": [
       "<div>\n",
       "<style scoped>\n",
       "    .dataframe tbody tr th:only-of-type {\n",
       "        vertical-align: middle;\n",
       "    }\n",
       "\n",
       "    .dataframe tbody tr th {\n",
       "        vertical-align: top;\n",
       "    }\n",
       "\n",
       "    .dataframe thead th {\n",
       "        text-align: right;\n",
       "    }\n",
       "</style>\n",
       "<table border=\"1\" class=\"dataframe\">\n",
       "  <thead>\n",
       "    <tr style=\"text-align: right;\">\n",
       "      <th></th>\n",
       "      <th>id</th>\n",
       "      <th>phone</th>\n",
       "      <th>amount</th>\n",
       "    </tr>\n",
       "  </thead>\n",
       "  <tbody>\n",
       "    <tr>\n",
       "      <th>0</th>\n",
       "      <td>2335</td>\n",
       "      <td>89651753289</td>\n",
       "      <td>20000</td>\n",
       "    </tr>\n",
       "    <tr>\n",
       "      <th>1</th>\n",
       "      <td>2903</td>\n",
       "      <td>9068941202</td>\n",
       "      <td>15000</td>\n",
       "    </tr>\n",
       "    <tr>\n",
       "      <th>2</th>\n",
       "      <td>3345</td>\n",
       "      <td>+74953574500</td>\n",
       "      <td>75000</td>\n",
       "    </tr>\n",
       "    <tr>\n",
       "      <th>3</th>\n",
       "      <td>3782</td>\n",
       "      <td>9651753289</td>\n",
       "      <td>12000</td>\n",
       "    </tr>\n",
       "    <tr>\n",
       "      <th>4</th>\n",
       "      <td>4774</td>\n",
       "      <td>89256412531</td>\n",
       "      <td>50000</td>\n",
       "    </tr>\n",
       "    <tr>\n",
       "      <th>5</th>\n",
       "      <td>5684</td>\n",
       "      <td>9159873256</td>\n",
       "      <td>125000</td>\n",
       "    </tr>\n",
       "    <tr>\n",
       "      <th>6</th>\n",
       "      <td>6017</td>\n",
       "      <td>79159873256</td>\n",
       "      <td>90000</td>\n",
       "    </tr>\n",
       "    <tr>\n",
       "      <th>7</th>\n",
       "      <td>6337</td>\n",
       "      <td>9068941202</td>\n",
       "      <td>25000</td>\n",
       "    </tr>\n",
       "    <tr>\n",
       "      <th>8</th>\n",
       "      <td>6560</td>\n",
       "      <td>4953574500</td>\n",
       "      <td>17500</td>\n",
       "    </tr>\n",
       "    <tr>\n",
       "      <th>9</th>\n",
       "      <td>8412</td>\n",
       "      <td>+79256412531</td>\n",
       "      <td>55000</td>\n",
       "    </tr>\n",
       "  </tbody>\n",
       "</table>\n",
       "</div>"
      ],
      "text/plain": [
       "     id         phone  amount\n",
       "0  2335   89651753289   20000\n",
       "1  2903    9068941202   15000\n",
       "2  3345  +74953574500   75000\n",
       "3  3782    9651753289   12000\n",
       "4  4774   89256412531   50000\n",
       "5  5684    9159873256  125000\n",
       "6  6017   79159873256   90000\n",
       "7  6337    9068941202   25000\n",
       "8  6560    4953574500   17500\n",
       "9  8412  +79256412531   55000"
      ]
     },
     "execution_count": 5,
     "metadata": {},
     "output_type": "execute_result"
    }
   ],
   "source": [
    "q = '''\n",
    "\n",
    "DROP TABLE IF EXISTS orders;\n",
    "\n",
    "CREATE TABLE orders (id int NOT NULL,\n",
    "                     phone varchar(15),\n",
    "                     amount int);\n",
    "\n",
    "INSERT INTO orders\n",
    "VALUES (2335, '89651753289', 20000),\n",
    "       (2903, '9068941202', 15000),\n",
    "       (3345, '+74953574500', 75000),\n",
    "       (3782, '9651753289', 12000),\n",
    "       (4774, '89256412531', 50000),\n",
    "       (5684, '9159873256', 125000),\n",
    "       (6017, '79159873256', 90000),\n",
    "       (6337, '9068941202', 25000),\n",
    "       (6560, '4953574500', 17500),\n",
    "       (8412, '+79256412531', 55000);\n",
    "\n",
    "SELECT *\n",
    "FROM orders;\n",
    "\n",
    "'''\n",
    "get_data(q)"
   ]
  },
  {
   "cell_type": "code",
   "execution_count": 6,
   "id": "502ee8a3-23e9-4b3b-bf53-cbb4bad519ab",
   "metadata": {},
   "outputs": [
    {
     "data": {
      "text/html": [
       "<div>\n",
       "<style scoped>\n",
       "    .dataframe tbody tr th:only-of-type {\n",
       "        vertical-align: middle;\n",
       "    }\n",
       "\n",
       "    .dataframe tbody tr th {\n",
       "        vertical-align: top;\n",
       "    }\n",
       "\n",
       "    .dataframe thead th {\n",
       "        text-align: right;\n",
       "    }\n",
       "</style>\n",
       "<table border=\"1\" class=\"dataframe\">\n",
       "  <thead>\n",
       "    <tr style=\"text-align: right;\">\n",
       "      <th></th>\n",
       "      <th>phone</th>\n",
       "      <th>surname</th>\n",
       "      <th>sex</th>\n",
       "    </tr>\n",
       "  </thead>\n",
       "  <tbody>\n",
       "    <tr>\n",
       "      <th>0</th>\n",
       "      <td>9651753289</td>\n",
       "      <td>Иванов</td>\n",
       "      <td>man</td>\n",
       "    </tr>\n",
       "    <tr>\n",
       "      <th>1</th>\n",
       "      <td>9256412531</td>\n",
       "      <td>Васечкина</td>\n",
       "      <td>woman</td>\n",
       "    </tr>\n",
       "    <tr>\n",
       "      <th>2</th>\n",
       "      <td>9159873256</td>\n",
       "      <td>Семенов</td>\n",
       "      <td>man</td>\n",
       "    </tr>\n",
       "    <tr>\n",
       "      <th>3</th>\n",
       "      <td>9068941202</td>\n",
       "      <td>Петров</td>\n",
       "      <td>man</td>\n",
       "    </tr>\n",
       "    <tr>\n",
       "      <th>4</th>\n",
       "      <td>4953574500</td>\n",
       "      <td>Зуева</td>\n",
       "      <td>woman</td>\n",
       "    </tr>\n",
       "  </tbody>\n",
       "</table>\n",
       "</div>"
      ],
      "text/plain": [
       "        phone    surname    sex\n",
       "0  9651753289     Иванов    man\n",
       "1  9256412531  Васечкина  woman\n",
       "2  9159873256    Семенов    man\n",
       "3  9068941202     Петров    man\n",
       "4  4953574500      Зуева  woman"
      ]
     },
     "execution_count": 6,
     "metadata": {},
     "output_type": "execute_result"
    }
   ],
   "source": [
    "q = '''\n",
    "\n",
    "DROP TABLE IF EXISTS users;\n",
    "\n",
    "CREATE TABLE users (phone varchar(15) NOT NULL,\n",
    "                    surname varchar(25),\n",
    "                    sex varchar(10));\n",
    "\n",
    "INSERT INTO users\n",
    "VALUES ('9651753289', 'Иванов', 'man'),\n",
    "       ('9256412531', 'Васечкина', 'woman'),\n",
    "       ('9159873256', 'Семенов', 'man'),\n",
    "       ('9068941202', 'Петров', 'man'),\n",
    "       ('4953574500', 'Зуева', 'woman');\n",
    "\n",
    "SELECT *\n",
    "FROM users;\n",
    "\n",
    "'''\n",
    "get_data(q)"
   ]
  },
  {
   "cell_type": "markdown",
   "id": "7e7b0d4f-7403-4acd-bd65-dab435517cc9",
   "metadata": {},
   "source": [
    "Выполним запрос чтобы найти id с максимальной транзакцией для пользователя."
   ]
  },
  {
   "cell_type": "code",
   "execution_count": 7,
   "id": "bbdac83a-bc43-434e-be11-c3f8775aaa09",
   "metadata": {},
   "outputs": [
    {
     "data": {
      "text/html": [
       "<div>\n",
       "<style scoped>\n",
       "    .dataframe tbody tr th:only-of-type {\n",
       "        vertical-align: middle;\n",
       "    }\n",
       "\n",
       "    .dataframe tbody tr th {\n",
       "        vertical-align: top;\n",
       "    }\n",
       "\n",
       "    .dataframe thead th {\n",
       "        text-align: right;\n",
       "    }\n",
       "</style>\n",
       "<table border=\"1\" class=\"dataframe\">\n",
       "  <thead>\n",
       "    <tr style=\"text-align: right;\">\n",
       "      <th></th>\n",
       "      <th>surname</th>\n",
       "      <th>id</th>\n",
       "      <th>max_amount</th>\n",
       "    </tr>\n",
       "  </thead>\n",
       "  <tbody>\n",
       "    <tr>\n",
       "      <th>0</th>\n",
       "      <td>Семенов</td>\n",
       "      <td>5684</td>\n",
       "      <td>125000</td>\n",
       "    </tr>\n",
       "    <tr>\n",
       "      <th>1</th>\n",
       "      <td>Петров</td>\n",
       "      <td>6337</td>\n",
       "      <td>25000</td>\n",
       "    </tr>\n",
       "    <tr>\n",
       "      <th>2</th>\n",
       "      <td>Иванов</td>\n",
       "      <td>2335</td>\n",
       "      <td>20000</td>\n",
       "    </tr>\n",
       "  </tbody>\n",
       "</table>\n",
       "</div>"
      ],
      "text/plain": [
       "   surname    id  max_amount\n",
       "0  Семенов  5684      125000\n",
       "1   Петров  6337       25000\n",
       "2   Иванов  2335       20000"
      ]
     },
     "execution_count": 7,
     "metadata": {},
     "output_type": "execute_result"
    }
   ],
   "source": [
    "q = '''\n",
    "\n",
    "WITH t AS\n",
    "  (SELECT u.surname,\n",
    "          o.id,\n",
    "          o.amount,\n",
    "          max(o.amount) OVER (PARTITION BY u.surname) max_amount\n",
    "   FROM orders o\n",
    "   LEFT JOIN users u ON u.phone = right(o.phone, 10)\n",
    "   WHERE u.sex = 'man')\n",
    "SELECT surname,\n",
    "       id,\n",
    "       max_amount\n",
    "FROM t\n",
    "WHERE amount = max_amount\n",
    "ORDER BY max_amount DESC\n",
    "\n",
    "'''\n",
    "get_data(q)"
   ]
  },
  {
   "cell_type": "code",
   "execution_count": null,
   "id": "1559a863-5b7e-49d2-8e27-d5b266d8ecf1",
   "metadata": {},
   "outputs": [],
   "source": []
  }
 ],
 "metadata": {
  "kernelspec": {
   "display_name": "Python 3 (ipykernel)",
   "language": "python",
   "name": "python3"
  },
  "language_info": {
   "codemirror_mode": {
    "name": "ipython",
    "version": 3
   },
   "file_extension": ".py",
   "mimetype": "text/x-python",
   "name": "python",
   "nbconvert_exporter": "python",
   "pygments_lexer": "ipython3",
   "version": "3.9.9"
  }
 },
 "nbformat": 4,
 "nbformat_minor": 5
}
