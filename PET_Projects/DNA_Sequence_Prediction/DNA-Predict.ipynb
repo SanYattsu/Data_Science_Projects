{
 "cells": [
  {
   "cell_type": "markdown",
   "id": "40a7e487-2f89-4fa5-9833-338ee7a163a1",
   "metadata": {},
   "source": [
    "# Предсказание последовательности ДНК"
   ]
  },
  {
   "cell_type": "markdown",
   "id": "1be4a387-d037-4296-84a5-57106a7e855b",
   "metadata": {},
   "source": [
    "Есть последовательность ДНК. Как известно, она состоит из букв A, C, T, G. В биоинформатике есть такая задача - предсказывать недостающие данные (пропуски) в последовательности генов. Например, есть пропуск в последовательности. Знаем, что есть 5-30 известных символов слева, 5-30 известных символов - справа от этого пропуска.\n",
    "\n",
    "* Ваша задача - написать код, который позволяет подготовить данные модели на обучение, а также саму модель с необходимыми метриками.\n",
    "* Как будут входные данные подаваться на вход - на ваше усмотрение.\n",
    "\n",
    "**Замечание.**\n",
    "\n",
    "В некоторых строках вначале стоят буквы N - от них можно избавиться. \n",
    "Строки, в которых содержаться символы, кроме TCGA можно не использовать."
   ]
  },
  {
   "cell_type": "markdown",
   "id": "1605be46-7ddf-4edd-bf26-76f33eca5b28",
   "metadata": {},
   "source": [
    "# Импорт библиотек и загрузка данных"
   ]
  },
  {
   "cell_type": "code",
   "execution_count": 1,
   "id": "a618f0e6-3c95-479f-ac18-7b6d4da82101",
   "metadata": {},
   "outputs": [],
   "source": [
    "import pyarrow.parquet as pq\n",
    "import pandas as pd\n",
    "import numpy as np\n",
    "import seaborn as sns\n",
    "import regex as re\n",
    "import zipfile\n",
    "from collections import Counter\n",
    "\n",
    "from tqdm import tqdm, notebook\n",
    "tqdm.pandas(desc='Progress bar ')\n",
    "\n",
    "from sklearn.model_selection import train_test_split\n",
    "from sklearn.metrics import classification_report\n",
    "\n",
    "from catboost import CatBoostClassifier, Pool\n",
    "from catboost.utils import eval_metric"
   ]
  },
  {
   "cell_type": "markdown",
   "id": "8c43a10e-0de9-4e8c-a8af-a0ec8c982ff6",
   "metadata": {},
   "source": [
    "Произведем выгрузку."
   ]
  },
  {
   "cell_type": "code",
   "execution_count": 2,
   "id": "1781c1cb-d416-44f8-8498-a1e3421765b2",
   "metadata": {},
   "outputs": [
    {
     "data": {
      "text/html": [
       "<div>\n",
       "<style scoped>\n",
       "    .dataframe tbody tr th:only-of-type {\n",
       "        vertical-align: middle;\n",
       "    }\n",
       "\n",
       "    .dataframe tbody tr th {\n",
       "        vertical-align: top;\n",
       "    }\n",
       "\n",
       "    .dataframe thead th {\n",
       "        text-align: right;\n",
       "    }\n",
       "</style>\n",
       "<table border=\"1\" class=\"dataframe\">\n",
       "  <thead>\n",
       "    <tr style=\"text-align: right;\">\n",
       "      <th></th>\n",
       "      <th>code1</th>\n",
       "      <th>code2</th>\n",
       "      <th>code3</th>\n",
       "      <th>code4</th>\n",
       "      <th>sequence</th>\n",
       "    </tr>\n",
       "  </thead>\n",
       "  <tbody>\n",
       "    <tr>\n",
       "      <th>0</th>\n",
       "      <td>ENSG00000004776</td>\n",
       "      <td>ENSG00000004776.13</td>\n",
       "      <td>ENST00000004982</td>\n",
       "      <td>ENST00000004982.6</td>\n",
       "      <td>ATGGAGATCCCTGTGCCTGTGCAGCCGTCTTGGCTGCGCCGCGCCT...</td>\n",
       "    </tr>\n",
       "    <tr>\n",
       "      <th>1</th>\n",
       "      <td>ENSG00000001626</td>\n",
       "      <td>ENSG00000001626.15</td>\n",
       "      <td>ENST00000003084</td>\n",
       "      <td>ENST00000003084.10</td>\n",
       "      <td>ATGCAGAGGTCGCCTCTGGAAAAGGCCAGCGTTGTCTCCAAACTTT...</td>\n",
       "    </tr>\n",
       "    <tr>\n",
       "      <th>2</th>\n",
       "      <td>ENSG00000001461</td>\n",
       "      <td>ENSG00000001461.17</td>\n",
       "      <td>ENST00000003912</td>\n",
       "      <td>ENST00000003912.7</td>\n",
       "      <td>ATGCTTCTGGGCGAGCTGGGTGTGTTCGCCTCCTACGCCTTCGCGC...</td>\n",
       "    </tr>\n",
       "    <tr>\n",
       "      <th>3</th>\n",
       "      <td>ENSG00000001036</td>\n",
       "      <td>ENSG00000001036.14</td>\n",
       "      <td>ENST00000002165</td>\n",
       "      <td>ENST00000002165.11</td>\n",
       "      <td>ATGCGGCCCCAGGAGCTCCCCAGGCTCGCGTTCCCGTTGCTGCTGT...</td>\n",
       "    </tr>\n",
       "    <tr>\n",
       "      <th>4</th>\n",
       "      <td>ENSG00000003137</td>\n",
       "      <td>ENSG00000003137.8</td>\n",
       "      <td>ENST00000001146</td>\n",
       "      <td>ENST00000001146.6</td>\n",
       "      <td>ATGCTCTTTGAGGGCTTGGATCTGGTGTCGGCGCTGGCCACCCTCG...</td>\n",
       "    </tr>\n",
       "  </tbody>\n",
       "</table>\n",
       "</div>"
      ],
      "text/plain": [
       "             code1               code2            code3               code4  \\\n",
       "0  ENSG00000004776  ENSG00000004776.13  ENST00000004982   ENST00000004982.6   \n",
       "1  ENSG00000001626  ENSG00000001626.15  ENST00000003084  ENST00000003084.10   \n",
       "2  ENSG00000001461  ENSG00000001461.17  ENST00000003912   ENST00000003912.7   \n",
       "3  ENSG00000001036  ENSG00000001036.14  ENST00000002165  ENST00000002165.11   \n",
       "4  ENSG00000003137   ENSG00000003137.8  ENST00000001146   ENST00000001146.6   \n",
       "\n",
       "                                            sequence  \n",
       "0  ATGGAGATCCCTGTGCCTGTGCAGCCGTCTTGGCTGCGCCGCGCCT...  \n",
       "1  ATGCAGAGGTCGCCTCTGGAAAAGGCCAGCGTTGTCTCCAAACTTT...  \n",
       "2  ATGCTTCTGGGCGAGCTGGGTGTGTTCGCCTCCTACGCCTTCGCGC...  \n",
       "3  ATGCGGCCCCAGGAGCTCCCCAGGCTCGCGTTCCCGTTGCTGCTGT...  \n",
       "4  ATGCTCTTTGAGGGCTTGGATCTGGTGTCGGCGCTGGCCACCCTCG...  "
      ]
     },
     "execution_count": 2,
     "metadata": {},
     "output_type": "execute_result"
    }
   ],
   "source": [
    "try:\n",
    "    df = pq.read_table(source='dna.parquet').to_pandas()\n",
    "except:\n",
    "    \n",
    "    # Прочтем файл.\n",
    "    lines = []\n",
    "    with zipfile.ZipFile('mart_export.zip', 'r').open('mart_export.txt') as f:\n",
    "        for line in f:\n",
    "            filtered_line = line.decode(\"utf-8\").strip()\n",
    "            if(filtered_line == ''):\n",
    "                continue\n",
    "            if(filtered_line[0] == '>'):\n",
    "                filtered_line = filtered_line[1:] + '|'\n",
    "                lines.append(filtered_line)\n",
    "            else:\n",
    "                try:\n",
    "                    match = re.fullmatch(r'[TCGA_]+', filtered_line.strip('N'))\n",
    "                    lines[-1] += match[0]\n",
    "                except:\n",
    "                    None\n",
    "    \n",
    "    # Сформируем датафрейм. Удалим NaN (Sequence unavailable и строки, содержащие символы, кроме TCGA) в последовательности.\n",
    "    df = pd.DataFrame([line.split('|') for line in lines])\n",
    "    df.columns= ['code1', 'code2', 'code3', 'code4', 'sequence']\n",
    "    \n",
    "    # Удалим объекты, в которых последовательность короче 11 символов, руководствуясь условиями задачи.\n",
    "    df = df.where(df['sequence'].map(len) > 10).dropna()\n",
    "    df = df.reset_index(drop=True)\n",
    "    \n",
    "    # Сохраним результат обработки.\n",
    "    df.to_parquet('dna.parquet')\n",
    "\n",
    "df.head()"
   ]
  },
  {
   "cell_type": "markdown",
   "id": "c877e083-26ce-4eaa-a11e-73c505e92546",
   "metadata": {},
   "source": [
    "Сформируем датафрейм отбросив неиспользуемые признаки."
   ]
  },
  {
   "cell_type": "code",
   "execution_count": 3,
   "id": "233dfd9d-9bba-456b-837d-9a186ce55edc",
   "metadata": {},
   "outputs": [
    {
     "name": "stdout",
     "output_type": "stream",
     "text": [
      "(110720,)\n"
     ]
    },
    {
     "data": {
      "text/plain": [
       "0    ATGGAGATCCCTGTGCCTGTGCAGCCGTCTTGGCTGCGCCGCGCCT...\n",
       "1    ATGCAGAGGTCGCCTCTGGAAAAGGCCAGCGTTGTCTCCAAACTTT...\n",
       "2    ATGCTTCTGGGCGAGCTGGGTGTGTTCGCCTCCTACGCCTTCGCGC...\n",
       "3    ATGCGGCCCCAGGAGCTCCCCAGGCTCGCGTTCCCGTTGCTGCTGT...\n",
       "4    ATGCTCTTTGAGGGCTTGGATCTGGTGTCGGCGCTGGCCACCCTCG...\n",
       "Name: sequence, dtype: object"
      ]
     },
     "execution_count": 3,
     "metadata": {},
     "output_type": "execute_result"
    }
   ],
   "source": [
    "sequence_df = df['sequence'].copy()\n",
    "print(sequence_df.shape)\n",
    "sequence_df.head()"
   ]
  },
  {
   "cell_type": "markdown",
   "id": "40314a26-d2fe-4d42-8e09-5254635ffea9",
   "metadata": {},
   "source": [
    "Очевидно, что последовательности будут повторятся. Визуализируем как их длина влияет на количество дубликатов.\n",
    "\n",
    "* Обнаружен резкий переход после того, как длина последовательности становится выше 10 символов.\n",
    "* Для оптимизации времени расчетов будет использовать длину последовательности равную 11 (10 признаков + таргет)."
   ]
  },
  {
   "cell_type": "code",
   "execution_count": 4,
   "id": "65118221-4dd3-45e8-ad9c-d051572cc56e",
   "metadata": {},
   "outputs": [
    {
     "data": {
      "image/png": "[encoded data removed]",
      "text/plain": [
       "<Figure size 432x288 with 1 Axes>"
      ]
     },
     "metadata": {
      "needs_background": "light"
     },
     "output_type": "display_data"
    }
   ],
   "source": [
    "duplicates = []\n",
    "for i in range(1, 60, 1):\n",
    "    duplicates.append(\n",
    "        sequence_df[sequence_df.map(len) > 60].map(lambda x: x[:i]).duplicated().sum()\n",
    "    )\n",
    "    \n",
    "sns.lineplot(data=duplicates);"
   ]
  },
  {
   "cell_type": "markdown",
   "id": "60c5f657-d305-4b19-b3ec-45eaf797be65",
   "metadata": {
    "tags": []
   },
   "source": [
    "# Решение с использованием регулярных выражений"
   ]
  },
  {
   "cell_type": "markdown",
   "id": "00829ef1-3c47-41d0-a03d-816af056bf88",
   "metadata": {},
   "source": [
    "Функция поиска."
   ]
  },
  {
   "cell_type": "code",
   "execution_count": 5,
   "id": "acf4082c-c8a8-4176-93a3-7fe4f704af72",
   "metadata": {},
   "outputs": [],
   "source": [
    "def prediction(x, s, i, j):\n",
    "    # Глубина пропуска.\n",
    "    gap = s.count('_')\n",
    "    # Разделение строки.\n",
    "    arr = s.split('_')\n",
    "    try:\n",
    "        m = re.match(fr'.+ {arr[0][-i:]} (?P<match>.{{{gap}}}) {arr[-1][:j]} .+', x, re.X)\n",
    "        return m['match']\n",
    "    except:\n",
    "        return None"
   ]
  },
  {
   "cell_type": "markdown",
   "id": "f61de8d8-1863-4f34-888d-e33d100b96cd",
   "metadata": {},
   "source": [
    "Запустим алгоритм поиска совпадений нашей последовательности с теми, что есть базе.\n",
    "\n",
    "В результате получаем пропущенный ген и вероятность оценки."
   ]
  },
  {
   "cell_type": "code",
   "execution_count": 6,
   "id": "c72cb305-fba5-4ec6-b82a-c5537ca3e97e",
   "metadata": {},
   "outputs": [],
   "source": [
    "def re_predict(df, sequences):\n",
    "    result = {\n",
    "        'prediction': [],\n",
    "        'proba': []\n",
    "    }\n",
    "\n",
    "    for s in sequences:\n",
    "        i = j = 30\n",
    "        \n",
    "        # Начальные значения. Вместо 'А' можно было задать 'error’ на случай, если совпадений совсем нет\n",
    "        # и даже последовательность минимальной длины уникальна.\n",
    "        missed_gen ='A'\n",
    "        prob = 0\n",
    "        prob_last = 0\n",
    "        \n",
    "        # Количество известных символов.\n",
    "        while(i + j > 5):\n",
    "            d = Counter(\n",
    "                df.map(lambda x: prediction(x, s, i, j)).dropna()\n",
    "            )\n",
    "            \n",
    "            # Обновляем missed_gen и prob если есть совпадения.\n",
    "            try:\n",
    "                missed_gen = sorted(d.items(), key=lambda x: x[1])[0][0]\n",
    "                prob = d[missed_gen] / sum(d.values())\n",
    "            except:\n",
    "                None\n",
    "\n",
    "            if(i >= j):\n",
    "                j -= 1\n",
    "            else:\n",
    "                i -= 1\n",
    "                \n",
    "            # Важное условие чтобы вовремя остановится иначе подбор продолжится и будет\n",
    "            # выбран ген с более высокой вероятностью, но для меньшей последовательности.\n",
    "            if prob >= prob_last:\n",
    "                break\n",
    "        \n",
    "        result['prediction'].append(missed_gen)\n",
    "        result['proba'].append(prob)\n",
    "        \n",
    "    return result"
   ]
  },
  {
   "cell_type": "markdown",
   "id": "6b7a9f0f-c8dc-47c2-95df-a6cbea250f5c",
   "metadata": {},
   "source": [
    "Смоделируем пропуски в последовательности и найдем их, используя функцию re_predict."
   ]
  },
  {
   "cell_type": "code",
   "execution_count": 7,
   "id": "e77cfdc9-ea20-4f42-8875-764880625399",
   "metadata": {},
   "outputs": [
    {
     "name": "stdout",
     "output_type": "stream",
     "text": [
      "(109720,) (1000,)\n"
     ]
    }
   ],
   "source": [
    "X_test = sequence_df[(sequence_df.map(len) > 250) & (sequence_df.map(len) < 5000)].sample(1000, random_state=38).apply(lambda x: x[:123] + '_' + x[124:])\n",
    "y_test = sequence_df[(sequence_df.map(len) > 250) & (sequence_df.map(len) < 5000)].sample(1000, random_state=38).apply(lambda x: x[123])\n",
    "\n",
    "# Для тренировочного набора используем объекты с противоположным индексом.\n",
    "train = sequence_df[~sequence_df.index.isin(X_test.index)]\n",
    "\n",
    "print(train.shape, X_test.shape)"
   ]
  },
  {
   "cell_type": "markdown",
   "id": "1f5a92ef-1284-46ef-9a10-2c9e4578b4fe",
   "metadata": {},
   "source": [
    "Более низкий precision у класса А объясняется тем, что все уникальные последовательности мы отправляем в него."
   ]
  },
  {
   "cell_type": "code",
   "execution_count": 8,
   "id": "6438250c-5ec6-4115-9bde-20a141aa73a1",
   "metadata": {},
   "outputs": [
    {
     "name": "stdout",
     "output_type": "stream",
     "text": [
      "              precision    recall  f1-score   support\n",
      "\n",
      "           A       0.77      1.00      0.87       235\n",
      "           C       1.00      0.92      0.96       241\n",
      "           G       1.00      0.91      0.95       325\n",
      "           T       1.00      0.89      0.94       199\n",
      "\n",
      "    accuracy                           0.93      1000\n",
      "   macro avg       0.94      0.93      0.93      1000\n",
      "weighted avg       0.95      0.93      0.93      1000\n",
      "\n"
     ]
    }
   ],
   "source": [
    "y_hat = re_predict(train, X_test.values)\n",
    "print(classification_report(y_test, y_hat['prediction']))"
   ]
  },
  {
   "cell_type": "markdown",
   "id": "60454584-c81e-471d-878e-2212f770be9d",
   "metadata": {},
   "source": [
    "Алгоритм получил отличный результат, он почти не требует подготовки данных и не имеет ограничения на глубину пропусков."
   ]
  },
  {
   "cell_type": "markdown",
   "id": "15805c96-8e60-4c3e-9a25-4a4a180cc6dc",
   "metadata": {},
   "source": [
    "# ML решение с CatBoost"
   ]
  },
  {
   "cell_type": "markdown",
   "id": "9377852d-6e2f-48ad-a321-28d306ba3ca5",
   "metadata": {
    "tags": []
   },
   "source": [
    "## Подготовка данных. Разделение на признаки и таргет"
   ]
  },
  {
   "cell_type": "markdown",
   "id": "6737d8dc-2a2f-4b32-8c83-295054d5be5a",
   "metadata": {},
   "source": [
    "Вспомогательные функции для выделения признаков и целевой переменной."
   ]
  },
  {
   "cell_type": "code",
   "execution_count": 9,
   "id": "5249fa8d-9f20-4b1d-97f8-0da6811a57a1",
   "metadata": {},
   "outputs": [],
   "source": [
    "def c_left(x, i):\n",
    "    try:\n",
    "        return x[i:i+5]\n",
    "    except:\n",
    "        return np.nan\n",
    "\n",
    "def c_right(x, i):\n",
    "    try:\n",
    "        if len(x[i+6:i+11]) == 5:\n",
    "            return x[i+6:i+11]\n",
    "        else:\n",
    "            return np.nan\n",
    "    except:\n",
    "        return np.nan\n",
    "\n",
    "def c_target(x, i):\n",
    "    try:\n",
    "        return x[i+5]\n",
    "    except:\n",
    "        return np.nan"
   ]
  },
  {
   "cell_type": "code",
   "execution_count": 10,
   "id": "1ffa6c5e-6ea0-4a17-a114-937f95df7267",
   "metadata": {},
   "outputs": [
    {
     "data": {
      "application/vnd.jupyter.widget-view+json": {
       "model_id": "c6a2dc2e808e4b21aa3f66c3ff94a4ec",
       "version_major": 2,
       "version_minor": 0
      },
      "text/plain": [
       "  0%|          | 0/500 [00:00<?, ?it/s]"
      ]
     },
     "metadata": {},
     "output_type": "display_data"
    }
   ],
   "source": [
    "sequence_lists = []\n",
    "\n",
    "for i in notebook.tqdm(range(500)):\n",
    "    df = pd.concat([sequence_df.map(lambda x: c_left(x, i)),\n",
    "                    sequence_df.map(lambda x: c_right(x, i)),\n",
    "                    sequence_df.map(lambda x: c_target(x, i))\n",
    "                   ], axis=1)\n",
    "    sequence_lists.append(df)\n",
    "    \n",
    "prepared_data = np.concatenate(sequence_lists)"
   ]
  },
  {
   "cell_type": "markdown",
   "id": "56573830-9d28-46c9-a33d-8cce6d23e585",
   "metadata": {},
   "source": [
    "Оставим только объеты без пропусков."
   ]
  },
  {
   "cell_type": "code",
   "execution_count": 11,
   "id": "374efd7d-babb-4b4a-b507-5ef6b465f160",
   "metadata": {},
   "outputs": [
    {
     "name": "stdout",
     "output_type": "stream",
     "text": [
      "(46376195, 3)\n"
     ]
    },
    {
     "data": {
      "text/plain": [
       "array([['ATGGA', 'ATCCC', 'G'],\n",
       "       ['ATGCA', 'AGGTC', 'G'],\n",
       "       ['ATGCT', 'CTGGG', 'T'],\n",
       "       ...,\n",
       "       ['AAGTA', 'AACAA', 'C'],\n",
       "       ['GGACA', 'CCAAG', 'T'],\n",
       "       ['ATCCA', 'TGGAT', 'G']], dtype=object)"
      ]
     },
     "execution_count": 11,
     "metadata": {},
     "output_type": "execute_result"
    }
   ],
   "source": [
    "prepared_data = prepared_data[(~pd.isna(prepared_data)).all(axis=1)]\n",
    "print(prepared_data.shape)\n",
    "prepared_data"
   ]
  },
  {
   "cell_type": "markdown",
   "id": "5120b79b-22d3-469c-92a6-609ed0040f32",
   "metadata": {},
   "source": [
    "## Модель"
   ]
  },
  {
   "cell_type": "markdown",
   "id": "800b12c7-ff7e-43ba-81df-436abea42ca9",
   "metadata": {},
   "source": [
    "Оценим сбалансированность классов."
   ]
  },
  {
   "cell_type": "code",
   "execution_count": 12,
   "id": "bf2e9408-b750-4d38-b64e-12627eb856e4",
   "metadata": {},
   "outputs": [
    {
     "data": {
      "text/plain": [
       "{'A': 11620609, 'C': 12160295, 'G': 12544311, 'T': 10050980}"
      ]
     },
     "execution_count": 12,
     "metadata": {},
     "output_type": "execute_result"
    }
   ],
   "source": [
    "unique, counts = np.unique(prepared_data[:, 2], return_counts=True)\n",
    "\n",
    "dict(zip(unique, counts))"
   ]
  },
  {
   "cell_type": "markdown",
   "id": "15d4e1e2-8592-4ef5-bb2b-9c538562213e",
   "metadata": {},
   "source": [
    "Подготовим pool'ы для CatBoostClassifier."
   ]
  },
  {
   "cell_type": "code",
   "execution_count": 13,
   "id": "d617d10e-d8ee-400d-9390-154ed36636ad",
   "metadata": {},
   "outputs": [],
   "source": [
    "# Ограничение по данным, обусловленное вычислительной мощностью системы.\n",
    "limit = 1000000\n",
    "\n",
    "X = prepared_data[:limit,:2]\n",
    "y = prepared_data[:limit,2]\n",
    "\n",
    "X_train, X_eval, y_train, y_eval = train_test_split(\n",
    "    X, y, test_size=0.1, stratify=y, random_state=38)\n",
    "\n",
    "X_train, X_test, y_train, y_test = train_test_split(\n",
    "    X_train, y_train, test_size=0.1, stratify=y_train, random_state=38)\n",
    "\n",
    "train_pool = Pool(X_train, y_train, cat_features=[0,1])\n",
    "eval_pool = Pool(X_eval, y_eval, cat_features=[0,1])"
   ]
  },
  {
   "cell_type": "code",
   "execution_count": 14,
   "id": "84da2d2d-b299-4259-91d3-2a90c42c0cbf",
   "metadata": {},
   "outputs": [
    {
     "data": {
      "application/vnd.jupyter.widget-view+json": {
       "model_id": "cf2f1bef965f42168400d714ad00ecb0",
       "version_major": 2,
       "version_minor": 0
      },
      "text/plain": [
       "MetricVisualizer(layout=Layout(align_self='stretch', height='500px'))"
      ]
     },
     "metadata": {},
     "output_type": "display_data"
    },
    {
     "name": "stdout",
     "output_type": "stream",
     "text": [
      "0:\tlearn: 0.3567938\ttest: 0.2734100\tbest: 0.2734100 (0)\ttotal: 601ms\tremaining: 1m 59s\n",
      "100:\tlearn: 0.3413296\ttest: 0.2632600\tbest: 0.2628700 (72)\ttotal: 35.4s\tremaining: 34.7s\n",
      "199:\tlearn: 0.3398988\ttest: 0.2628100\tbest: 0.2627600 (180)\ttotal: 1m 9s\tremaining: 0us\n",
      "\n",
      "bestTest = 0.26276\n",
      "bestIteration = 180\n",
      "\n",
      "Shrink model to first 181 iterations.\n"
     ]
    }
   ],
   "source": [
    "# Гиперпараметры.\n",
    "params = {\n",
    "    'loss_function': 'MultiClass',\n",
    "    'eval_metric': 'HammingLoss',\n",
    "    # 'task_type': 'GPU',\n",
    "    # 'devices': '0:1',\n",
    "    'learning_rate': 0.1,\n",
    "    'iterations': 200,\n",
    "    'class_names': ['G', 'A', 'T', 'C']\n",
    "}\n",
    "\n",
    "cb = CatBoostClassifier(random_state=38, **params)\n",
    "cb.fit(train_pool,\n",
    "       eval_set=eval_pool,\n",
    "       plot=True,\n",
    "       verbose=100);"
   ]
  },
  {
   "cell_type": "markdown",
   "id": "0159981c-b2b1-4e99-944f-7048de75cf97",
   "metadata": {},
   "source": [
    "Результат во многом зависит от количества последовательностей, которые нам доступны. С их ростом, точность должна будет возрастать."
   ]
  },
  {
   "cell_type": "code",
   "execution_count": 15,
   "id": "24f04f21-7db6-479e-9740-2a26c1d6eb98",
   "metadata": {},
   "outputs": [
    {
     "name": "stdout",
     "output_type": "stream",
     "text": [
      "              precision    recall  f1-score   support\n",
      "\n",
      "           A       0.75      0.71      0.73     21280\n",
      "           C       0.74      0.75      0.75     24494\n",
      "           G       0.72      0.79      0.75     26033\n",
      "           T       0.76      0.68      0.72     18193\n",
      "\n",
      "    accuracy                           0.74     90000\n",
      "   macro avg       0.74      0.73      0.74     90000\n",
      "weighted avg       0.74      0.74      0.74     90000\n",
      "\n"
     ]
    }
   ],
   "source": [
    "y_hat = cb.predict(X_test)\n",
    "print(classification_report(y_test, y_hat))"
   ]
  },
  {
   "cell_type": "markdown",
   "id": "a4c8f37e-9e84-4c62-af78-770bcef43a14",
   "metadata": {},
   "source": [
    "# Выводы\n",
    "\n",
    "* Подготовлены дынные, сформированы признаки и таргет.\n",
    "* Создана модель с необходимыми метриками. Проведена её валидация."
   ]
  },
  {
   "cell_type": "code",
   "execution_count": null,
   "id": "43268f0a-5b07-4190-a12c-3d266bafec52",
   "metadata": {},
   "outputs": [],
   "source": []
  }
 ],
 "metadata": {
  "kernelspec": {
   "display_name": "Python 3 (ipykernel)",
   "language": "python",
   "name": "python3"
  },
  "language_info": {
   "codemirror_mode": {
    "name": "ipython",
    "version": 3
   },
   "file_extension": ".py",
   "mimetype": "text/x-python",
   "name": "python",
   "nbconvert_exporter": "python",
   "pygments_lexer": "ipython3",
   "version": "3.10.13"
  }
 },
 "nbformat": 4,
 "nbformat_minor": 5
}
