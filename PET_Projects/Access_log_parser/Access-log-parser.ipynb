{
 "cells": [
  {
   "cell_type": "markdown",
   "id": "c9dab7f8-2aea-49aa-9899-ef1f5f960d26",
   "metadata": {},
   "source": [
    "# Программа парсер на Python\n",
    "## Цели\n",
    "* Скачать access.log\n",
    "* Сформировать CSV файл со списком уникальных IP-адресов из get-запросов. Для каждого из них должно быть указано успешных get-запросов с этого адреса, и количество всех остальных get-запросов.\n",
    "* Вывести на экран список TOP30 IP адресов, с наибольшим количеством успешных get-запросов."
   ]
  },
  {
   "cell_type": "markdown",
   "id": "c3e5b90b-bdc5-4448-9564-d2ecad76b13e",
   "metadata": {},
   "source": [
    "# Импорт библиотек и загрузка данных"
   ]
  },
  {
   "cell_type": "code",
   "execution_count": 1,
   "id": "93ac5e4c-562a-4af6-b645-32708b2d0946",
   "metadata": {},
   "outputs": [],
   "source": [
    "import pandas as pd\n",
    "import numpy as np\n",
    "import wget\n",
    "import regex as re\n",
    "\n",
    "import urllib\n",
    "from apachelogs import LogParser"
   ]
  },
  {
   "cell_type": "markdown",
   "id": "5043766a-64b7-4a01-9618-85ce0c661978",
   "metadata": {},
   "source": [
    "Задачу будем решать двумя разными способами, используя как регулярные выражения, так и apachelogs.LogParser."
   ]
  },
  {
   "cell_type": "code",
   "execution_count": 2,
   "id": "fbdcff2b-04ba-43b0-a04c-495529687e3f",
   "metadata": {},
   "outputs": [],
   "source": [
    "url = 'http://www.almhuette-raith.at/apache-log/access.log'"
   ]
  },
  {
   "cell_type": "markdown",
   "id": "5819d4b4-2e2f-4fb1-9c65-710d09248f06",
   "metadata": {},
   "source": [
    "Сформируем паттерны для модулей re и apachelogs:"
   ]
  },
  {
   "cell_type": "code",
   "execution_count": 3,
   "id": "9fdd4085-228e-4432-98e1-4479c62fa3a1",
   "metadata": {},
   "outputs": [],
   "source": [
    "re_compiled = re.compile(r\"\"\"\n",
    "    (?P<ip> ^ (\\d{0,3} [\\.|\\S]) {4} \\S+) # ip\n",
    "    .+\n",
    "    \\\" (?P<request> GET|POST|HEAD|OPTIONS) # запрос\n",
    "    .+\n",
    "    \\D\\s (?P<status> \\d\\d\\d) \\s # статус\n",
    "\"\"\", re.X)\n",
    "\n",
    "parser = LogParser(\"%h %l %u %t \\\"%r\\\" %>s %b \\\"%{Referer}i\\\" \\\"%{User-Agent}i\\\"\")"
   ]
  },
  {
   "cell_type": "markdown",
   "id": "3bc7e862-b2c0-4544-a56b-6b0f344cf648",
   "metadata": {},
   "source": [
    "Спарсим нужные данные."
   ]
  },
  {
   "cell_type": "code",
   "execution_count": 4,
   "id": "246982d5-569c-452b-b33e-b31cf7c81e56",
   "metadata": {},
   "outputs": [
    {
     "name": "stdout",
     "output_type": "stream",
     "text": [
      "Количество проблемных логов: 1\n"
     ]
    }
   ],
   "source": [
    "# Создадим два словаря в которые будем записывать построчно интересующие нас логи.\n",
    "dict_re = {}\n",
    "dict_apache = {}\n",
    "incorrect_logs = 0\n",
    "\n",
    "with urllib.request.urlopen(url) as fp:\n",
    "    for i in range(100000):\n",
    "        # Прочитаем строчку из лог файла.\n",
    "        log_line = fp.readline().decode(\"utf-8\").strip()\n",
    "\n",
    "        # На случай если в файле есть пустые строки или не корректные данные зададим блок try / except\n",
    "        try:\n",
    "            entry_apache = parser.parse(log_line[:-4])\n",
    "            dict_apache[i] = [entry_apache.remote_host, entry_apache.request_line.split()[0], entry_apache.final_status]\n",
    "        except:\n",
    "            incorrect_logs += 1\n",
    "            \n",
    "        entry_re = re_compiled.match(log_line)\n",
    "        # Добавляем данные в если строка содержит интересующие данные.\n",
    "        if entry_re:\n",
    "            dict_re[i] = [entry_re['ip'], entry_re['request'].upper(), int(entry_re['status'])]\n",
    "\n",
    "print('Количество проблемных логов:', incorrect_logs)"
   ]
  },
  {
   "cell_type": "markdown",
   "id": "4eca6a7d-d674-4b3e-bc95-3c1154b82445",
   "metadata": {},
   "source": [
    "*В данном случае не получилось спарсить только первую пустую строку.*"
   ]
  },
  {
   "cell_type": "markdown",
   "id": "5e4269d7-8453-41ef-8b9e-981a58189a76",
   "metadata": {},
   "source": [
    "Так же файл целиком можно загрузить через wget. А потом прочитать.\n",
    "\n",
    "    wget.download(url)\n",
    "    \n",
    "    with open('access.log') as fp:\n",
    "        logs = []\n",
    "        [logs.append(fp.readline().strip()) for _ in range(20000)]"
   ]
  },
  {
   "cell_type": "markdown",
   "id": "50204f99-7d04-4414-9224-ff73656e30f3",
   "metadata": {},
   "source": [
    "# Формирование CSV файл со списком уникальных IP-адресов из get-запросов"
   ]
  },
  {
   "cell_type": "markdown",
   "id": "eb9afbaa-0aad-4e66-a152-422510d8f1a7",
   "metadata": {},
   "source": [
    "Преобразуем словари в датафреймы."
   ]
  },
  {
   "cell_type": "code",
   "execution_count": 5,
   "id": "c5bd3349-d6bc-43eb-ad82-b321385156b2",
   "metadata": {},
   "outputs": [],
   "source": [
    "df_apache = pd.DataFrame.from_dict(dict_apache, orient='index', columns=['ip','request','status']).reset_index(drop=True)\n",
    "df_re = pd.DataFrame.from_dict(dict_re, orient='index', columns=['ip','request','status']).reset_index(drop=True)"
   ]
  },
  {
   "cell_type": "markdown",
   "id": "9eea2e65-0d77-48c6-be79-5b381b5bb165",
   "metadata": {
    "tags": []
   },
   "source": [
    "Выполним сверку полученных результатов."
   ]
  },
  {
   "cell_type": "code",
   "execution_count": 6,
   "id": "d2d5b7c1-8a65-40fe-bb45-1346fea93636",
   "metadata": {},
   "outputs": [
    {
     "data": {
      "text/plain": [
       "True"
      ]
     },
     "execution_count": 6,
     "metadata": {},
     "output_type": "execute_result"
    }
   ],
   "source": [
    "df_apache.equals(df_re)"
   ]
  },
  {
   "cell_type": "markdown",
   "id": "76e30028-9f75-4779-9db6-5e4ebc444509",
   "metadata": {},
   "source": [
    "**Данные совпадают. Оба метода работают.**"
   ]
  },
  {
   "cell_type": "markdown",
   "id": "9fbe63fd-1479-4568-b5ea-d918e38f75ec",
   "metadata": {},
   "source": [
    "Оставим только логи содержащие GET запросы."
   ]
  },
  {
   "cell_type": "code",
   "execution_count": 7,
   "id": "cf7af5ad-a3f8-48b1-9115-fddac7c3f84e",
   "metadata": {},
   "outputs": [],
   "source": [
    "df_re = df_re.query('request == \"GET\"')"
   ]
  },
  {
   "cell_type": "markdown",
   "id": "e4cbb39b-b7f2-48bc-b35c-e2196f13de18",
   "metadata": {},
   "source": [
    "Определим новый столбец, выделив является ли запрос успешным (2**) или нет."
   ]
  },
  {
   "cell_type": "code",
   "execution_count": 8,
   "id": "25e52e4d-dee4-4b53-baa8-c572ca1a3c06",
   "metadata": {
    "tags": []
   },
   "outputs": [],
   "source": [
    "df_re['status_2**'] = df_re.status.apply(lambda x: 200<=x<300)"
   ]
  },
  {
   "cell_type": "code",
   "execution_count": 9,
   "id": "73c3ae0e-4640-4f33-8a3a-1b5083491464",
   "metadata": {},
   "outputs": [
    {
     "data": {
      "text/html": [
       "<div>\n",
       "<style scoped>\n",
       "    .dataframe tbody tr th:only-of-type {\n",
       "        vertical-align: middle;\n",
       "    }\n",
       "\n",
       "    .dataframe tbody tr th {\n",
       "        vertical-align: top;\n",
       "    }\n",
       "\n",
       "    .dataframe thead th {\n",
       "        text-align: right;\n",
       "    }\n",
       "</style>\n",
       "<table border=\"1\" class=\"dataframe\">\n",
       "  <thead>\n",
       "    <tr style=\"text-align: right;\">\n",
       "      <th></th>\n",
       "      <th>ip</th>\n",
       "      <th>request</th>\n",
       "      <th>status</th>\n",
       "      <th>status_2**</th>\n",
       "    </tr>\n",
       "  </thead>\n",
       "  <tbody>\n",
       "    <tr>\n",
       "      <th>3570</th>\n",
       "      <td>45.138.145.106</td>\n",
       "      <td>GET</td>\n",
       "      <td>200</td>\n",
       "      <td>True</td>\n",
       "    </tr>\n",
       "    <tr>\n",
       "      <th>12208</th>\n",
       "      <td>45.144.0.179</td>\n",
       "      <td>GET</td>\n",
       "      <td>200</td>\n",
       "      <td>True</td>\n",
       "    </tr>\n",
       "    <tr>\n",
       "      <th>21045</th>\n",
       "      <td>194.60.76.9</td>\n",
       "      <td>GET</td>\n",
       "      <td>200</td>\n",
       "      <td>True</td>\n",
       "    </tr>\n",
       "    <tr>\n",
       "      <th>22999</th>\n",
       "      <td>45.138.6.188</td>\n",
       "      <td>GET</td>\n",
       "      <td>200</td>\n",
       "      <td>True</td>\n",
       "    </tr>\n",
       "    <tr>\n",
       "      <th>38020</th>\n",
       "      <td>173.242.124.14</td>\n",
       "      <td>GET</td>\n",
       "      <td>404</td>\n",
       "      <td>False</td>\n",
       "    </tr>\n",
       "    <tr>\n",
       "      <th>72723</th>\n",
       "      <td>45.15.143.155</td>\n",
       "      <td>GET</td>\n",
       "      <td>200</td>\n",
       "      <td>True</td>\n",
       "    </tr>\n",
       "    <tr>\n",
       "      <th>36614</th>\n",
       "      <td>173.255.176.5</td>\n",
       "      <td>GET</td>\n",
       "      <td>404</td>\n",
       "      <td>False</td>\n",
       "    </tr>\n",
       "    <tr>\n",
       "      <th>93493</th>\n",
       "      <td>178.44.47.170</td>\n",
       "      <td>GET</td>\n",
       "      <td>206</td>\n",
       "      <td>True</td>\n",
       "    </tr>\n",
       "    <tr>\n",
       "      <th>14461</th>\n",
       "      <td>45.132.51.36</td>\n",
       "      <td>GET</td>\n",
       "      <td>200</td>\n",
       "      <td>True</td>\n",
       "    </tr>\n",
       "    <tr>\n",
       "      <th>50258</th>\n",
       "      <td>193.83.238.138</td>\n",
       "      <td>GET</td>\n",
       "      <td>200</td>\n",
       "      <td>True</td>\n",
       "    </tr>\n",
       "  </tbody>\n",
       "</table>\n",
       "</div>"
      ],
      "text/plain": [
       "                   ip request  status  status_2**\n",
       "3570   45.138.145.106     GET     200        True\n",
       "12208    45.144.0.179     GET     200        True\n",
       "21045     194.60.76.9     GET     200        True\n",
       "22999    45.138.6.188     GET     200        True\n",
       "38020  173.242.124.14     GET     404       False\n",
       "72723   45.15.143.155     GET     200        True\n",
       "36614   173.255.176.5     GET     404       False\n",
       "93493   178.44.47.170     GET     206        True\n",
       "14461    45.132.51.36     GET     200        True\n",
       "50258  193.83.238.138     GET     200        True"
      ]
     },
     "execution_count": 9,
     "metadata": {},
     "output_type": "execute_result"
    }
   ],
   "source": [
    "df_re.sample(10)"
   ]
  },
  {
   "cell_type": "markdown",
   "id": "fb4c658c-6a66-4750-96e8-10a767b7b6b1",
   "metadata": {},
   "source": [
    "Сгруппируем данные по ip."
   ]
  },
  {
   "cell_type": "code",
   "execution_count": 10,
   "id": "692200af-d31f-4b2b-9e1a-c021f4b03e76",
   "metadata": {
    "tags": []
   },
   "outputs": [],
   "source": [
    "pivot = df_re.pivot_table(index='ip', columns='status_2**', values='request',\n",
    "                          aggfunc='count') \\\n",
    "             .reset_index()\n",
    "# Дадим столбцам адекватные имена.\n",
    "pivot.columns = ['ip','other_req','success_req']"
   ]
  },
  {
   "cell_type": "markdown",
   "id": "9e1e7d5b-2745-4d2f-94fa-688eb1e22edd",
   "metadata": {},
   "source": [
    "Сохраним .csv"
   ]
  },
  {
   "cell_type": "code",
   "execution_count": 11,
   "id": "18a8c63c-4349-4a1c-a6c0-66de378c6ffd",
   "metadata": {},
   "outputs": [],
   "source": [
    "pivot.to_csv('logs_filtered.csv')"
   ]
  },
  {
   "cell_type": "markdown",
   "id": "9a3ad926-2f74-4235-b4e6-5afee26295a7",
   "metadata": {
    "tags": []
   },
   "source": [
    "# TOP30 IP адресов, с наибольшим количеством успешных get-запросов"
   ]
  },
  {
   "cell_type": "code",
   "execution_count": 12,
   "id": "f7021367-59bb-4781-a6ab-e76274ae1b32",
   "metadata": {},
   "outputs": [
    {
     "name": "stdout",
     "output_type": "stream",
     "text": [
      "Уникальных IP: 2212\n"
     ]
    },
    {
     "data": {
      "text/html": [
       "<div>\n",
       "<style scoped>\n",
       "    .dataframe tbody tr th:only-of-type {\n",
       "        vertical-align: middle;\n",
       "    }\n",
       "\n",
       "    .dataframe tbody tr th {\n",
       "        vertical-align: top;\n",
       "    }\n",
       "\n",
       "    .dataframe thead th {\n",
       "        text-align: right;\n",
       "    }\n",
       "</style>\n",
       "<table border=\"1\" class=\"dataframe\">\n",
       "  <thead>\n",
       "    <tr style=\"text-align: right;\">\n",
       "      <th></th>\n",
       "      <th>ip</th>\n",
       "      <th>other_req</th>\n",
       "      <th>success_req</th>\n",
       "    </tr>\n",
       "  </thead>\n",
       "  <tbody>\n",
       "    <tr>\n",
       "      <th>604</th>\n",
       "      <td>178.44.47.170</td>\n",
       "      <td>11.0</td>\n",
       "      <td>2771.0</td>\n",
       "    </tr>\n",
       "    <tr>\n",
       "      <th>1588</th>\n",
       "      <td>51.210.183.78</td>\n",
       "      <td>NaN</td>\n",
       "      <td>2684.0</td>\n",
       "    </tr>\n",
       "    <tr>\n",
       "      <th>1445</th>\n",
       "      <td>45.15.143.155</td>\n",
       "      <td>NaN</td>\n",
       "      <td>1285.0</td>\n",
       "    </tr>\n",
       "    <tr>\n",
       "      <th>538</th>\n",
       "      <td>173.255.176.5</td>\n",
       "      <td>2800.0</td>\n",
       "      <td>1234.0</td>\n",
       "    </tr>\n",
       "    <tr>\n",
       "      <th>1440</th>\n",
       "      <td>45.144.0.179</td>\n",
       "      <td>NaN</td>\n",
       "      <td>473.0</td>\n",
       "    </tr>\n",
       "    <tr>\n",
       "      <th>577</th>\n",
       "      <td>176.222.58.254</td>\n",
       "      <td>NaN</td>\n",
       "      <td>467.0</td>\n",
       "    </tr>\n",
       "    <tr>\n",
       "      <th>1419</th>\n",
       "      <td>45.132.207.154</td>\n",
       "      <td>NaN</td>\n",
       "      <td>445.0</td>\n",
       "    </tr>\n",
       "    <tr>\n",
       "      <th>1450</th>\n",
       "      <td>45.153.227.55</td>\n",
       "      <td>NaN</td>\n",
       "      <td>444.0</td>\n",
       "    </tr>\n",
       "    <tr>\n",
       "      <th>1433</th>\n",
       "      <td>45.138.4.22</td>\n",
       "      <td>NaN</td>\n",
       "      <td>440.0</td>\n",
       "    </tr>\n",
       "    <tr>\n",
       "      <th>1449</th>\n",
       "      <td>45.153.227.31</td>\n",
       "      <td>NaN</td>\n",
       "      <td>438.0</td>\n",
       "    </tr>\n",
       "    <tr>\n",
       "      <th>1434</th>\n",
       "      <td>45.138.4.35</td>\n",
       "      <td>NaN</td>\n",
       "      <td>436.0</td>\n",
       "    </tr>\n",
       "    <tr>\n",
       "      <th>1423</th>\n",
       "      <td>45.132.51.62</td>\n",
       "      <td>NaN</td>\n",
       "      <td>434.0</td>\n",
       "    </tr>\n",
       "    <tr>\n",
       "      <th>578</th>\n",
       "      <td>176.222.58.90</td>\n",
       "      <td>NaN</td>\n",
       "      <td>430.0</td>\n",
       "    </tr>\n",
       "    <tr>\n",
       "      <th>1432</th>\n",
       "      <td>45.138.145.131</td>\n",
       "      <td>NaN</td>\n",
       "      <td>428.0</td>\n",
       "    </tr>\n",
       "    <tr>\n",
       "      <th>1420</th>\n",
       "      <td>45.132.207.221</td>\n",
       "      <td>NaN</td>\n",
       "      <td>425.0</td>\n",
       "    </tr>\n",
       "    <tr>\n",
       "      <th>1431</th>\n",
       "      <td>45.138.145.106</td>\n",
       "      <td>NaN</td>\n",
       "      <td>424.0</td>\n",
       "    </tr>\n",
       "    <tr>\n",
       "      <th>1422</th>\n",
       "      <td>45.132.51.36</td>\n",
       "      <td>NaN</td>\n",
       "      <td>423.0</td>\n",
       "    </tr>\n",
       "    <tr>\n",
       "      <th>1441</th>\n",
       "      <td>45.144.0.98</td>\n",
       "      <td>NaN</td>\n",
       "      <td>413.0</td>\n",
       "    </tr>\n",
       "    <tr>\n",
       "      <th>2040</th>\n",
       "      <td>87.247.143.24</td>\n",
       "      <td>NaN</td>\n",
       "      <td>393.0</td>\n",
       "    </tr>\n",
       "    <tr>\n",
       "      <th>1443</th>\n",
       "      <td>45.145.161.6</td>\n",
       "      <td>NaN</td>\n",
       "      <td>369.0</td>\n",
       "    </tr>\n",
       "    <tr>\n",
       "      <th>1442</th>\n",
       "      <td>45.145.161.12</td>\n",
       "      <td>NaN</td>\n",
       "      <td>364.0</td>\n",
       "    </tr>\n",
       "    <tr>\n",
       "      <th>876</th>\n",
       "      <td>194.156.95.52</td>\n",
       "      <td>NaN</td>\n",
       "      <td>362.0</td>\n",
       "    </tr>\n",
       "    <tr>\n",
       "      <th>875</th>\n",
       "      <td>194.156.95.20</td>\n",
       "      <td>NaN</td>\n",
       "      <td>361.0</td>\n",
       "    </tr>\n",
       "    <tr>\n",
       "      <th>2041</th>\n",
       "      <td>87.247.143.30</td>\n",
       "      <td>NaN</td>\n",
       "      <td>343.0</td>\n",
       "    </tr>\n",
       "    <tr>\n",
       "      <th>366</th>\n",
       "      <td>156.209.63.112</td>\n",
       "      <td>12.0</td>\n",
       "      <td>233.0</td>\n",
       "    </tr>\n",
       "    <tr>\n",
       "      <th>1733</th>\n",
       "      <td>62.138.3.52</td>\n",
       "      <td>1.0</td>\n",
       "      <td>219.0</td>\n",
       "    </tr>\n",
       "    <tr>\n",
       "      <th>2153</th>\n",
       "      <td>94.241.200.191</td>\n",
       "      <td>NaN</td>\n",
       "      <td>201.0</td>\n",
       "    </tr>\n",
       "    <tr>\n",
       "      <th>887</th>\n",
       "      <td>194.96.112.31</td>\n",
       "      <td>25.0</td>\n",
       "      <td>196.0</td>\n",
       "    </tr>\n",
       "    <tr>\n",
       "      <th>1591</th>\n",
       "      <td>51.210.243.185</td>\n",
       "      <td>58.0</td>\n",
       "      <td>189.0</td>\n",
       "    </tr>\n",
       "    <tr>\n",
       "      <th>849</th>\n",
       "      <td>193.106.31.130</td>\n",
       "      <td>NaN</td>\n",
       "      <td>178.0</td>\n",
       "    </tr>\n",
       "  </tbody>\n",
       "</table>\n",
       "</div>"
      ],
      "text/plain": [
       "                  ip  other_req  success_req\n",
       "604    178.44.47.170       11.0       2771.0\n",
       "1588   51.210.183.78        NaN       2684.0\n",
       "1445   45.15.143.155        NaN       1285.0\n",
       "538    173.255.176.5     2800.0       1234.0\n",
       "1440    45.144.0.179        NaN        473.0\n",
       "577   176.222.58.254        NaN        467.0\n",
       "1419  45.132.207.154        NaN        445.0\n",
       "1450   45.153.227.55        NaN        444.0\n",
       "1433     45.138.4.22        NaN        440.0\n",
       "1449   45.153.227.31        NaN        438.0\n",
       "1434     45.138.4.35        NaN        436.0\n",
       "1423    45.132.51.62        NaN        434.0\n",
       "578    176.222.58.90        NaN        430.0\n",
       "1432  45.138.145.131        NaN        428.0\n",
       "1420  45.132.207.221        NaN        425.0\n",
       "1431  45.138.145.106        NaN        424.0\n",
       "1422    45.132.51.36        NaN        423.0\n",
       "1441     45.144.0.98        NaN        413.0\n",
       "2040   87.247.143.24        NaN        393.0\n",
       "1443    45.145.161.6        NaN        369.0\n",
       "1442   45.145.161.12        NaN        364.0\n",
       "876    194.156.95.52        NaN        362.0\n",
       "875    194.156.95.20        NaN        361.0\n",
       "2041   87.247.143.30        NaN        343.0\n",
       "366   156.209.63.112       12.0        233.0\n",
       "1733     62.138.3.52        1.0        219.0\n",
       "2153  94.241.200.191        NaN        201.0\n",
       "887    194.96.112.31       25.0        196.0\n",
       "1591  51.210.243.185       58.0        189.0\n",
       "849   193.106.31.130        NaN        178.0"
      ]
     },
     "execution_count": 12,
     "metadata": {},
     "output_type": "execute_result"
    }
   ],
   "source": [
    "print('Уникальных IP:',pivot.shape[0])\n",
    "pivot.sort_values('success_req', ascending=False).head(30)"
   ]
  },
  {
   "cell_type": "code",
   "execution_count": null,
   "id": "13d4dcf1-897d-4f29-b663-db6c611fae0e",
   "metadata": {},
   "outputs": [],
   "source": []
  }
 ],
 "metadata": {
  "kernelspec": {
   "display_name": "Python 3 (ipykernel)",
   "language": "python",
   "name": "python3"
  },
  "language_info": {
   "codemirror_mode": {
    "name": "ipython",
    "version": 3
   },
   "file_extension": ".py",
   "mimetype": "text/x-python",
   "name": "python",
   "nbconvert_exporter": "python",
   "pygments_lexer": "ipython3",
   "version": "3.9.9"
  }
 },
 "nbformat": 4,
 "nbformat_minor": 5
}
