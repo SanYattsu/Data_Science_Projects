{
 "cells": [
  {
   "cell_type": "markdown",
   "id": "c9dab7f8-2aea-49aa-9899-ef1f5f960d26",
   "metadata": {},
   "source": [
    "# Программа парсер на Python\n",
    "## Цели\n",
    "* Скачать access.log : http://www.almhuette-raith.at/apache-log/access.log\n",
    "* Сформировать CSV файл со списком уникальных IP-адресов из get-запросов. Для каждого из них должно быть указано успешных get-запросов с этого адреса, и количество всех остальных get-запросов.\n",
    "* Вывести на экран список TOP30 IP адресов, с наибольшим количеством успешных get-запросов."
   ]
  },
  {
   "cell_type": "markdown",
   "id": "c3e5b90b-bdc5-4448-9564-d2ecad76b13e",
   "metadata": {},
   "source": [
    "# Импорт библиотек и загрузка данных"
   ]
  },
  {
   "cell_type": "code",
   "execution_count": 1,
   "id": "93ac5e4c-562a-4af6-b645-32708b2d0946",
   "metadata": {},
   "outputs": [],
   "source": [
    "import pandas as pd\n",
    "import numpy as np\n",
    "import wget\n",
    "import re"
   ]
  },
  {
   "cell_type": "code",
   "execution_count": null,
   "id": "d92cd29e-31d1-4c2b-ac3e-087e3aecebbf",
   "metadata": {},
   "outputs": [],
   "source": [
    "wget.download('http://www.almhuette-raith.at/apache-log/access.log')"
   ]
  },
  {
   "cell_type": "markdown",
   "id": "ea958fb5-4f0b-4acc-a0b3-cc16e88ef134",
   "metadata": {},
   "source": [
    "Откроем access.log и сформируем лист log. После чего удалим из него пустые строки."
   ]
  },
  {
   "cell_type": "code",
   "execution_count": 2,
   "id": "5becd2c7-cd0e-453e-bf4c-c2b90894713e",
   "metadata": {},
   "outputs": [],
   "source": [
    "with open('access.log') as fp:\n",
    "    log = []\n",
    "    [log.append(fp.readline()) for _ in range(10000)]\n",
    "log.remove('\\n')"
   ]
  },
  {
   "cell_type": "code",
   "execution_count": 3,
   "id": "9acd3240-7dfb-4eae-9e71-7a051b5b72bd",
   "metadata": {},
   "outputs": [
    {
     "data": {
      "text/plain": [
       "['13.66.139.0 - - [19/Dec/2020:13:57:26 +0100] \"GET /index.php?option=com_phocagallery&view=category&id=1:almhuette-raith&Itemid=53 HTTP/1.1\" 200 32653 \"-\" \"Mozilla/5.0 (compatible; bingbot/2.0; +http://www.bing.com/bingbot.htm)\" \"-\"\\n',\n",
       " '157.48.153.185 - - [19/Dec/2020:14:08:06 +0100] \"GET /apache-log/access.log HTTP/1.1\" 200 233 \"-\" \"Mozilla/5.0 (Windows NT 6.3; Win64; x64) AppleWebKit/537.36 (KHTML, like Gecko) Chrome/87.0.4280.88 Safari/537.36\" \"-\"\\n',\n",
       " '157.48.153.185 - - [19/Dec/2020:14:08:08 +0100] \"GET /favicon.ico HTTP/1.1\" 404 217 \"http://www.almhuette-raith.at/apache-log/access.log\" \"Mozilla/5.0 (Windows NT 6.3; Win64; x64) AppleWebKit/537.36 (KHTML, like Gecko) Chrome/87.0.4280.88 Safari/537.36\" \"-\"\\n',\n",
       " '216.244.66.230 - - [19/Dec/2020:14:14:26 +0100] \"GET /robots.txt HTTP/1.1\" 200 304 \"-\" \"Mozilla/5.0 (compatible; DotBot/1.1; http://www.opensiteexplorer.org/dotbot, help@moz.com)\" \"-\"\\n',\n",
       " '54.36.148.92 - - [19/Dec/2020:14:16:44 +0100] \"GET /index.php?option=com_phocagallery&view=category&id=2%3Awinterfotos&Itemid=53 HTTP/1.1\" 200 30662 \"-\" \"Mozilla/5.0 (compatible; AhrefsBot/7.0; +http://ahrefs.com/robot/)\" \"-\"\\n',\n",
       " '92.101.35.224 - - [19/Dec/2020:14:29:21 +0100] \"GET /administrator/index.php HTTP/1.1\" 200 4263 \"\" \"Mozilla/4.0 (compatible; MSIE 6.0; Windows NT 5.1; SV1; .NET CLR 1.1.4322)\" \"-\"\\n',\n",
       " '73.166.162.225 - - [19/Dec/2020:14:58:59 +0100] \"GET /apache-log/access.log HTTP/1.1\" 200 1299 \"-\" \"Mozilla/5.0 (Windows NT 10.0; Win64; x64) AppleWebKit/537.36 (KHTML, like Gecko) Chrome/87.0.4280.101 Safari/537.36\" \"-\"\\n',\n",
       " '73.166.162.225 - - [19/Dec/2020:14:58:59 +0100] \"GET /favicon.ico HTTP/1.1\" 404 217 \"http://www.almhuette-raith.at/apache-log/access.log\" \"Mozilla/5.0 (Windows NT 10.0; Win64; x64) AppleWebKit/537.36 (KHTML, like Gecko) Chrome/87.0.4280.101 Safari/537.36\" \"-\"\\n',\n",
       " '54.36.148.108 - - [19/Dec/2020:15:09:30 +0100] \"GET /robots.txt HTTP/1.1\" 200 304 \"-\" \"Mozilla/5.0 (compatible; AhrefsBot/7.0; +http://ahrefs.com/robot/)\" \"-\"\\n',\n",
       " '54.36.148.1 - - [19/Dec/2020:15:09:31 +0100] \"GET /index.php?option=com_phocagallery&view=category&id=2%3Awinterfotos&Itemid=53 HTTP/1.1\" 200 30618 \"-\" \"Mozilla/5.0 (compatible; AhrefsBot/7.0; +http://ahrefs.com/robot/)\" \"-\"\\n']"
      ]
     },
     "execution_count": 3,
     "metadata": {},
     "output_type": "execute_result"
    }
   ],
   "source": [
    "log[:10]"
   ]
  },
  {
   "cell_type": "markdown",
   "id": "f11a6f05-a3bc-4b75-aa5d-bfa606ce2092",
   "metadata": {},
   "source": [
    "* Данные имеют не стандартный отличный от \"%h %l %u %t \\\"%r\\\" %>s %b \\\"%{Referer}i\\\" \\\"%{User-Agent}i\\\"\" формат, поэтому вместо apachelogs.LogParser будем использовать регулярные выражения."
   ]
  },
  {
   "cell_type": "markdown",
   "id": "50204f99-7d04-4414-9224-ff73656e30f3",
   "metadata": {},
   "source": [
    "# Формирование CSV файл со списком уникальных IP-адресов из get-запросов"
   ]
  },
  {
   "cell_type": "markdown",
   "id": "6c0828c2-9174-482a-82e7-26b9dc6ce98d",
   "metadata": {},
   "source": [
    "Сформируем датафрейм из трех столбцов: IP-адреса, запросы, из кодов запросов.\n",
    "\n",
    "Распакуем не пустые списки, присвоив остальным значения NaN чтобы удалить строки их содержащие (останутся только запросы GET)."
   ]
  },
  {
   "cell_type": "code",
   "execution_count": 4,
   "id": "47afad73-555d-4c84-a331-3f0bb69f387e",
   "metadata": {},
   "outputs": [
    {
     "data": {
      "text/html": [
       "<div>\n",
       "<style scoped>\n",
       "    .dataframe tbody tr th:only-of-type {\n",
       "        vertical-align: middle;\n",
       "    }\n",
       "\n",
       "    .dataframe tbody tr th {\n",
       "        vertical-align: top;\n",
       "    }\n",
       "\n",
       "    .dataframe thead th {\n",
       "        text-align: right;\n",
       "    }\n",
       "</style>\n",
       "<table border=\"1\" class=\"dataframe\">\n",
       "  <thead>\n",
       "    <tr style=\"text-align: right;\">\n",
       "      <th></th>\n",
       "      <th>ip</th>\n",
       "      <th>get_post</th>\n",
       "      <th>code</th>\n",
       "    </tr>\n",
       "  </thead>\n",
       "  <tbody>\n",
       "    <tr>\n",
       "      <th>4234</th>\n",
       "      <td>45.138.145.106</td>\n",
       "      <td>GET</td>\n",
       "      <td>200</td>\n",
       "    </tr>\n",
       "    <tr>\n",
       "      <th>587</th>\n",
       "      <td>194.156.95.52</td>\n",
       "      <td>GET</td>\n",
       "      <td>200</td>\n",
       "    </tr>\n",
       "    <tr>\n",
       "      <th>408</th>\n",
       "      <td>45.145.161.12</td>\n",
       "      <td>GET</td>\n",
       "      <td>200</td>\n",
       "    </tr>\n",
       "    <tr>\n",
       "      <th>7536</th>\n",
       "      <td>201.137.179.24</td>\n",
       "      <td>GET</td>\n",
       "      <td>200</td>\n",
       "    </tr>\n",
       "    <tr>\n",
       "      <th>38</th>\n",
       "      <td>42.236.10.125</td>\n",
       "      <td>GET</td>\n",
       "      <td>200</td>\n",
       "    </tr>\n",
       "  </tbody>\n",
       "</table>\n",
       "</div>"
      ],
      "text/plain": [
       "                  ip get_post code\n",
       "4234  45.138.145.106      GET  200\n",
       "587    194.156.95.52      GET  200\n",
       "408    45.145.161.12      GET  200\n",
       "7536  201.137.179.24      GET  200\n",
       "38     42.236.10.125      GET  200"
      ]
     },
     "execution_count": 4,
     "metadata": {},
     "output_type": "execute_result"
    }
   ],
   "source": [
    "df = pd.DataFrame(\n",
    "    {\n",
    "        'ip': list(map(lambda x: re.findall(r'(?:\\d{1,3}[.]){3}(?:\\d{1,3})', x), log)),\n",
    "        'get_post': list(map(lambda x: re.findall(r'GET', x), log)),\n",
    "        'code': list(map(lambda x: re.findall(r'\\s(\\d\\d\\d)\\s\\d', x), log)),\n",
    "    }\n",
    ")\n",
    "\n",
    "df = df.applymap(lambda x: x[0] if x != [] else np.nan).dropna(axis=0, how='any')\n",
    "df.sample(5)"
   ]
  },
  {
   "cell_type": "code",
   "execution_count": 5,
   "id": "fb77fce1-648a-41be-a3a7-e7e4b9decf43",
   "metadata": {},
   "outputs": [],
   "source": [
    "# Поменяем тип на int\n",
    "df.code = df.code.map(int)"
   ]
  },
  {
   "cell_type": "markdown",
   "id": "e4cbb39b-b7f2-48bc-b35c-e2196f13de18",
   "metadata": {},
   "source": [
    "Определим столбец success_request, выделив является ли запрос успешным."
   ]
  },
  {
   "cell_type": "code",
   "execution_count": 6,
   "id": "25e52e4d-dee4-4b53-baa8-c572ca1a3c06",
   "metadata": {},
   "outputs": [],
   "source": [
    "df['success_request'] = df.code.apply(lambda x: 200<=x<300)"
   ]
  },
  {
   "cell_type": "markdown",
   "id": "fb4c658c-6a66-4750-96e8-10a767b7b6b1",
   "metadata": {},
   "source": [
    "Сгруппируем данные по ip."
   ]
  },
  {
   "cell_type": "code",
   "execution_count": 7,
   "id": "692200af-d31f-4b2b-9e1a-c021f4b03e76",
   "metadata": {},
   "outputs": [],
   "source": [
    "df_pivot = df.pivot_table(index='ip', columns='success_request', values='get_post', aggfunc='count').reset_index()\n",
    "# Дадим столбцам адекватные имена.\n",
    "df_pivot.columns = ['ip','other_req','success_req']"
   ]
  },
  {
   "cell_type": "markdown",
   "id": "9a3ad926-2f74-4235-b4e6-5afee26295a7",
   "metadata": {},
   "source": [
    "# TOP30 IP адресов, с наибольшим количеством успешных get-запросов"
   ]
  },
  {
   "cell_type": "code",
   "execution_count": 8,
   "id": "f7021367-59bb-4781-a6ab-e76274ae1b32",
   "metadata": {},
   "outputs": [
    {
     "data": {
      "text/html": [
       "<div>\n",
       "<style scoped>\n",
       "    .dataframe tbody tr th:only-of-type {\n",
       "        vertical-align: middle;\n",
       "    }\n",
       "\n",
       "    .dataframe tbody tr th {\n",
       "        vertical-align: top;\n",
       "    }\n",
       "\n",
       "    .dataframe thead th {\n",
       "        text-align: right;\n",
       "    }\n",
       "</style>\n",
       "<table border=\"1\" class=\"dataframe\">\n",
       "  <thead>\n",
       "    <tr style=\"text-align: right;\">\n",
       "      <th></th>\n",
       "      <th>ip</th>\n",
       "      <th>other_req</th>\n",
       "      <th>success_req</th>\n",
       "    </tr>\n",
       "  </thead>\n",
       "  <tbody>\n",
       "    <tr>\n",
       "      <th>163</th>\n",
       "      <td>45.144.0.179</td>\n",
       "      <td>NaN</td>\n",
       "      <td>255.0</td>\n",
       "    </tr>\n",
       "    <tr>\n",
       "      <th>75</th>\n",
       "      <td>176.222.58.254</td>\n",
       "      <td>NaN</td>\n",
       "      <td>250.0</td>\n",
       "    </tr>\n",
       "    <tr>\n",
       "      <th>160</th>\n",
       "      <td>45.138.145.131</td>\n",
       "      <td>NaN</td>\n",
       "      <td>247.0</td>\n",
       "    </tr>\n",
       "    <tr>\n",
       "      <th>158</th>\n",
       "      <td>45.132.51.62</td>\n",
       "      <td>NaN</td>\n",
       "      <td>243.0</td>\n",
       "    </tr>\n",
       "    <tr>\n",
       "      <th>167</th>\n",
       "      <td>45.153.227.31</td>\n",
       "      <td>NaN</td>\n",
       "      <td>243.0</td>\n",
       "    </tr>\n",
       "    <tr>\n",
       "      <th>76</th>\n",
       "      <td>176.222.58.90</td>\n",
       "      <td>NaN</td>\n",
       "      <td>239.0</td>\n",
       "    </tr>\n",
       "    <tr>\n",
       "      <th>157</th>\n",
       "      <td>45.132.51.36</td>\n",
       "      <td>NaN</td>\n",
       "      <td>235.0</td>\n",
       "    </tr>\n",
       "    <tr>\n",
       "      <th>155</th>\n",
       "      <td>45.132.207.154</td>\n",
       "      <td>NaN</td>\n",
       "      <td>232.0</td>\n",
       "    </tr>\n",
       "    <tr>\n",
       "      <th>161</th>\n",
       "      <td>45.138.4.22</td>\n",
       "      <td>NaN</td>\n",
       "      <td>231.0</td>\n",
       "    </tr>\n",
       "    <tr>\n",
       "      <th>168</th>\n",
       "      <td>45.153.227.55</td>\n",
       "      <td>NaN</td>\n",
       "      <td>228.0</td>\n",
       "    </tr>\n",
       "    <tr>\n",
       "      <th>156</th>\n",
       "      <td>45.132.207.221</td>\n",
       "      <td>NaN</td>\n",
       "      <td>224.0</td>\n",
       "    </tr>\n",
       "    <tr>\n",
       "      <th>159</th>\n",
       "      <td>45.138.145.106</td>\n",
       "      <td>NaN</td>\n",
       "      <td>222.0</td>\n",
       "    </tr>\n",
       "    <tr>\n",
       "      <th>164</th>\n",
       "      <td>45.144.0.98</td>\n",
       "      <td>NaN</td>\n",
       "      <td>218.0</td>\n",
       "    </tr>\n",
       "    <tr>\n",
       "      <th>162</th>\n",
       "      <td>45.138.4.35</td>\n",
       "      <td>NaN</td>\n",
       "      <td>218.0</td>\n",
       "    </tr>\n",
       "    <tr>\n",
       "      <th>237</th>\n",
       "      <td>87.247.143.24</td>\n",
       "      <td>NaN</td>\n",
       "      <td>218.0</td>\n",
       "    </tr>\n",
       "    <tr>\n",
       "      <th>166</th>\n",
       "      <td>45.145.161.6</td>\n",
       "      <td>NaN</td>\n",
       "      <td>196.0</td>\n",
       "    </tr>\n",
       "    <tr>\n",
       "      <th>238</th>\n",
       "      <td>87.247.143.30</td>\n",
       "      <td>NaN</td>\n",
       "      <td>188.0</td>\n",
       "    </tr>\n",
       "    <tr>\n",
       "      <th>106</th>\n",
       "      <td>194.156.95.52</td>\n",
       "      <td>NaN</td>\n",
       "      <td>186.0</td>\n",
       "    </tr>\n",
       "    <tr>\n",
       "      <th>105</th>\n",
       "      <td>194.156.95.20</td>\n",
       "      <td>NaN</td>\n",
       "      <td>181.0</td>\n",
       "    </tr>\n",
       "    <tr>\n",
       "      <th>165</th>\n",
       "      <td>45.145.161.12</td>\n",
       "      <td>NaN</td>\n",
       "      <td>181.0</td>\n",
       "    </tr>\n",
       "    <tr>\n",
       "      <th>116</th>\n",
       "      <td>201.137.179.24</td>\n",
       "      <td>5.0</td>\n",
       "      <td>73.0</td>\n",
       "    </tr>\n",
       "    <tr>\n",
       "      <th>243</th>\n",
       "      <td>91.193.4.199</td>\n",
       "      <td>6.0</td>\n",
       "      <td>70.0</td>\n",
       "    </tr>\n",
       "    <tr>\n",
       "      <th>232</th>\n",
       "      <td>83.227.29.211</td>\n",
       "      <td>7.0</td>\n",
       "      <td>66.0</td>\n",
       "    </tr>\n",
       "    <tr>\n",
       "      <th>253</th>\n",
       "      <td>95.52.125.163</td>\n",
       "      <td>6.0</td>\n",
       "      <td>36.0</td>\n",
       "    </tr>\n",
       "    <tr>\n",
       "      <th>108</th>\n",
       "      <td>194.54.183.74</td>\n",
       "      <td>7.0</td>\n",
       "      <td>34.0</td>\n",
       "    </tr>\n",
       "    <tr>\n",
       "      <th>175</th>\n",
       "      <td>46.125.249.79</td>\n",
       "      <td>10.0</td>\n",
       "      <td>34.0</td>\n",
       "    </tr>\n",
       "    <tr>\n",
       "      <th>234</th>\n",
       "      <td>84.57.116.117</td>\n",
       "      <td>3.0</td>\n",
       "      <td>31.0</td>\n",
       "    </tr>\n",
       "    <tr>\n",
       "      <th>18</th>\n",
       "      <td>130.204.55.97</td>\n",
       "      <td>3.0</td>\n",
       "      <td>30.0</td>\n",
       "    </tr>\n",
       "    <tr>\n",
       "      <th>181</th>\n",
       "      <td>46.75.75.131</td>\n",
       "      <td>3.0</td>\n",
       "      <td>29.0</td>\n",
       "    </tr>\n",
       "    <tr>\n",
       "      <th>121</th>\n",
       "      <td>212.40.1.5</td>\n",
       "      <td>2.0</td>\n",
       "      <td>29.0</td>\n",
       "    </tr>\n",
       "  </tbody>\n",
       "</table>\n",
       "</div>"
      ],
      "text/plain": [
       "                 ip  other_req  success_req\n",
       "163    45.144.0.179        NaN        255.0\n",
       "75   176.222.58.254        NaN        250.0\n",
       "160  45.138.145.131        NaN        247.0\n",
       "158    45.132.51.62        NaN        243.0\n",
       "167   45.153.227.31        NaN        243.0\n",
       "76    176.222.58.90        NaN        239.0\n",
       "157    45.132.51.36        NaN        235.0\n",
       "155  45.132.207.154        NaN        232.0\n",
       "161     45.138.4.22        NaN        231.0\n",
       "168   45.153.227.55        NaN        228.0\n",
       "156  45.132.207.221        NaN        224.0\n",
       "159  45.138.145.106        NaN        222.0\n",
       "164     45.144.0.98        NaN        218.0\n",
       "162     45.138.4.35        NaN        218.0\n",
       "237   87.247.143.24        NaN        218.0\n",
       "166    45.145.161.6        NaN        196.0\n",
       "238   87.247.143.30        NaN        188.0\n",
       "106   194.156.95.52        NaN        186.0\n",
       "105   194.156.95.20        NaN        181.0\n",
       "165   45.145.161.12        NaN        181.0\n",
       "116  201.137.179.24        5.0         73.0\n",
       "243    91.193.4.199        6.0         70.0\n",
       "232   83.227.29.211        7.0         66.0\n",
       "253   95.52.125.163        6.0         36.0\n",
       "108   194.54.183.74        7.0         34.0\n",
       "175   46.125.249.79       10.0         34.0\n",
       "234   84.57.116.117        3.0         31.0\n",
       "18    130.204.55.97        3.0         30.0\n",
       "181    46.75.75.131        3.0         29.0\n",
       "121      212.40.1.5        2.0         29.0"
      ]
     },
     "execution_count": 8,
     "metadata": {},
     "output_type": "execute_result"
    }
   ],
   "source": [
    "df_pivot.sort_values('success_req', ascending=False).head(30)"
   ]
  },
  {
   "cell_type": "code",
   "execution_count": null,
   "id": "18a8c63c-4349-4a1c-a6c0-66de378c6ffd",
   "metadata": {},
   "outputs": [],
   "source": []
  }
 ],
 "metadata": {
  "kernelspec": {
   "display_name": "Python 3 (ipykernel)",
   "language": "python",
   "name": "python3"
  },
  "language_info": {
   "codemirror_mode": {
    "name": "ipython",
    "version": 3
   },
   "file_extension": ".py",
   "mimetype": "text/x-python",
   "name": "python",
   "nbconvert_exporter": "python",
   "pygments_lexer": "ipython3",
   "version": "3.9.9"
  }
 },
 "nbformat": 4,
 "nbformat_minor": 5
}
