{
 "cells": [
  {
   "cell_type": "markdown",
   "id": "c9dab7f8-2aea-49aa-9899-ef1f5f960d26",
   "metadata": {},
   "source": [
    "# Программа парсер на Python\n",
    "## Цели\n",
    "* Скачать access.log\n",
    "* Сформировать CSV файл со списком уникальных IP-адресов из get-запросов. Для каждого из них должно быть указано успешных get-запросов с этого адреса, и количество всех остальных get-запросов.\n",
    "* Вывести на экран список TOP30 IP адресов, с наибольшим количеством успешных get-запросов."
   ]
  },
  {
   "cell_type": "markdown",
   "id": "c3e5b90b-bdc5-4448-9564-d2ecad76b13e",
   "metadata": {},
   "source": [
    "# Импорт библиотек и загрузка данных"
   ]
  },
  {
   "cell_type": "code",
   "execution_count": 1,
   "id": "93ac5e4c-562a-4af6-b645-32708b2d0946",
   "metadata": {},
   "outputs": [],
   "source": [
    "import pandas as pd\n",
    "import numpy as np\n",
    "import wget\n",
    "import re\n",
    "\n",
    "import urllib\n",
    "from apachelogs import LogParser"
   ]
  },
  {
   "cell_type": "markdown",
   "id": "ea958fb5-4f0b-4acc-a0b3-cc16e88ef134",
   "metadata": {},
   "source": [
    "Сформируем лист logs. После чего удалим из него пустые строки."
   ]
  },
  {
   "cell_type": "code",
   "execution_count": 2,
   "id": "fbdcff2b-04ba-43b0-a04c-495529687e3f",
   "metadata": {},
   "outputs": [],
   "source": [
    "url = 'http://www.almhuette-raith.at/apache-log/access.log'"
   ]
  },
  {
   "cell_type": "code",
   "execution_count": 3,
   "id": "0f39922d-d9aa-4694-ac1c-5d2267b5354c",
   "metadata": {},
   "outputs": [],
   "source": [
    "with urllib.request.urlopen(url) as fp:\n",
    "    logs = []\n",
    "    [logs.append(fp.readline().decode(\"utf-8\")) for _ in range(20000)]\n",
    "logs.remove('\\n')"
   ]
  },
  {
   "cell_type": "markdown",
   "id": "5e4269d7-8453-41ef-8b9e-981a58189a76",
   "metadata": {},
   "source": [
    "Так же файл целиком можно загрузить через wget. А потом прочитать нужное количество данных из файла.\n",
    "\n",
    "    wget.download('http://www.almhuette-raith.at/apache-log/access.log')\n",
    "    \n",
    "    with open('access.log') as fp:\n",
    "        logs = []\n",
    "        [logs.append(fp.readline()) for _ in range(20000)]\n",
    "    logs.remove('\\n')"
   ]
  },
  {
   "cell_type": "code",
   "execution_count": 4,
   "id": "9acd3240-7dfb-4eae-9e71-7a051b5b72bd",
   "metadata": {},
   "outputs": [
    {
     "data": {
      "text/plain": [
       "['13.66.139.0 - - [19/Dec/2020:13:57:26 +0100] \"GET /index.php?option=com_phocagallery&view=category&id=1:almhuette-raith&Itemid=53 HTTP/1.1\" 200 32653 \"-\" \"Mozilla/5.0 (compatible; bingbot/2.0; +http://www.bing.com/bingbot.htm)\" \"-\"\\n',\n",
       " '157.48.153.185 - - [19/Dec/2020:14:08:06 +0100] \"GET /apache-log/access.log HTTP/1.1\" 200 233 \"-\" \"Mozilla/5.0 (Windows NT 6.3; Win64; x64) AppleWebKit/537.36 (KHTML, like Gecko) Chrome/87.0.4280.88 Safari/537.36\" \"-\"\\n',\n",
       " '157.48.153.185 - - [19/Dec/2020:14:08:08 +0100] \"GET /favicon.ico HTTP/1.1\" 404 217 \"http://www.almhuette-raith.at/apache-log/access.log\" \"Mozilla/5.0 (Windows NT 6.3; Win64; x64) AppleWebKit/537.36 (KHTML, like Gecko) Chrome/87.0.4280.88 Safari/537.36\" \"-\"\\n',\n",
       " '216.244.66.230 - - [19/Dec/2020:14:14:26 +0100] \"GET /robots.txt HTTP/1.1\" 200 304 \"-\" \"Mozilla/5.0 (compatible; DotBot/1.1; http://www.opensiteexplorer.org/dotbot, help@moz.com)\" \"-\"\\n',\n",
       " '54.36.148.92 - - [19/Dec/2020:14:16:44 +0100] \"GET /index.php?option=com_phocagallery&view=category&id=2%3Awinterfotos&Itemid=53 HTTP/1.1\" 200 30662 \"-\" \"Mozilla/5.0 (compatible; AhrefsBot/7.0; +http://ahrefs.com/robot/)\" \"-\"\\n',\n",
       " '92.101.35.224 - - [19/Dec/2020:14:29:21 +0100] \"GET /administrator/index.php HTTP/1.1\" 200 4263 \"\" \"Mozilla/4.0 (compatible; MSIE 6.0; Windows NT 5.1; SV1; .NET CLR 1.1.4322)\" \"-\"\\n',\n",
       " '73.166.162.225 - - [19/Dec/2020:14:58:59 +0100] \"GET /apache-log/access.log HTTP/1.1\" 200 1299 \"-\" \"Mozilla/5.0 (Windows NT 10.0; Win64; x64) AppleWebKit/537.36 (KHTML, like Gecko) Chrome/87.0.4280.101 Safari/537.36\" \"-\"\\n',\n",
       " '73.166.162.225 - - [19/Dec/2020:14:58:59 +0100] \"GET /favicon.ico HTTP/1.1\" 404 217 \"http://www.almhuette-raith.at/apache-log/access.log\" \"Mozilla/5.0 (Windows NT 10.0; Win64; x64) AppleWebKit/537.36 (KHTML, like Gecko) Chrome/87.0.4280.101 Safari/537.36\" \"-\"\\n',\n",
       " '54.36.148.108 - - [19/Dec/2020:15:09:30 +0100] \"GET /robots.txt HTTP/1.1\" 200 304 \"-\" \"Mozilla/5.0 (compatible; AhrefsBot/7.0; +http://ahrefs.com/robot/)\" \"-\"\\n',\n",
       " '54.36.148.1 - - [19/Dec/2020:15:09:31 +0100] \"GET /index.php?option=com_phocagallery&view=category&id=2%3Awinterfotos&Itemid=53 HTTP/1.1\" 200 30618 \"-\" \"Mozilla/5.0 (compatible; AhrefsBot/7.0; +http://ahrefs.com/robot/)\" \"-\"\\n']"
      ]
     },
     "execution_count": 4,
     "metadata": {},
     "output_type": "execute_result"
    }
   ],
   "source": [
    "logs[:10]"
   ]
  },
  {
   "cell_type": "markdown",
   "id": "f11a6f05-a3bc-4b75-aa5d-bfa606ce2092",
   "metadata": {},
   "source": [
    "* Данные имеют не стандартный отличный от \"%h %l %u %t \\\"%r\\\" %>s %b \\\"%{Referer}i\\\" \\\"%{User-Agent}i\\\"\" формат из-за того что на конце  \"-\"\\n\n",
    "* Применим как apachelogs.LogParser так и регулярные выражения."
   ]
  },
  {
   "cell_type": "markdown",
   "id": "50204f99-7d04-4414-9224-ff73656e30f3",
   "metadata": {},
   "source": [
    "# Формирование CSV файл со списком уникальных IP-адресов из get-запросов"
   ]
  },
  {
   "cell_type": "markdown",
   "id": "85b9b2a1-5ed1-44e8-b4a8-f8a7c26933fa",
   "metadata": {},
   "source": [
    "## Используем apachelogs.LogParser"
   ]
  },
  {
   "cell_type": "markdown",
   "id": "03d94434-d76e-4f60-8086-c5dea07559aa",
   "metadata": {},
   "source": [
    "Так как логи содержат строки с элементами которые мешают их автоматической обработке, то будем их сокращать на 6 символов перед отправкой в парсер."
   ]
  },
  {
   "cell_type": "code",
   "execution_count": 5,
   "id": "21e2a4ea-f86f-4282-bf1b-4a8aee900603",
   "metadata": {},
   "outputs": [],
   "source": [
    "dic = {}; i=0\n",
    "parser = LogParser(\"%h %l %u %t \\\"%r\\\" %>s %b \\\"%{Referer}i\\\" \\\"%{User-Agent}i\\\"\")\n",
    "for i in range(len(logs)):\n",
    "    # Парсим данные.\n",
    "    entry = parser.parse(logs[i][0:-5])\n",
    "    # Заносим нужную информацию в словарь.\n",
    "    dic[i] = [entry.remote_host, entry.request_line.split()[0], entry.final_status]"
   ]
  },
  {
   "cell_type": "markdown",
   "id": "8d238cf4-5608-498d-b8dc-f978daa8c0c1",
   "metadata": {},
   "source": [
    "Получаем датафрейм который можно сохранить в .csv"
   ]
  },
  {
   "cell_type": "code",
   "execution_count": 6,
   "id": "fcc49713-cdaa-4916-b6a7-81c7b9b1abe5",
   "metadata": {},
   "outputs": [
    {
     "data": {
      "text/html": [
       "<div>\n",
       "<style scoped>\n",
       "    .dataframe tbody tr th:only-of-type {\n",
       "        vertical-align: middle;\n",
       "    }\n",
       "\n",
       "    .dataframe tbody tr th {\n",
       "        vertical-align: top;\n",
       "    }\n",
       "\n",
       "    .dataframe thead th {\n",
       "        text-align: right;\n",
       "    }\n",
       "</style>\n",
       "<table border=\"1\" class=\"dataframe\">\n",
       "  <thead>\n",
       "    <tr style=\"text-align: right;\">\n",
       "      <th></th>\n",
       "      <th>ip</th>\n",
       "      <th>request</th>\n",
       "      <th>status</th>\n",
       "    </tr>\n",
       "  </thead>\n",
       "  <tbody>\n",
       "    <tr>\n",
       "      <th>0</th>\n",
       "      <td>13.66.139.0</td>\n",
       "      <td>GET</td>\n",
       "      <td>200</td>\n",
       "    </tr>\n",
       "    <tr>\n",
       "      <th>1</th>\n",
       "      <td>157.48.153.185</td>\n",
       "      <td>GET</td>\n",
       "      <td>200</td>\n",
       "    </tr>\n",
       "    <tr>\n",
       "      <th>2</th>\n",
       "      <td>157.48.153.185</td>\n",
       "      <td>GET</td>\n",
       "      <td>404</td>\n",
       "    </tr>\n",
       "    <tr>\n",
       "      <th>3</th>\n",
       "      <td>216.244.66.230</td>\n",
       "      <td>GET</td>\n",
       "      <td>200</td>\n",
       "    </tr>\n",
       "    <tr>\n",
       "      <th>4</th>\n",
       "      <td>54.36.148.92</td>\n",
       "      <td>GET</td>\n",
       "      <td>200</td>\n",
       "    </tr>\n",
       "    <tr>\n",
       "      <th>5</th>\n",
       "      <td>92.101.35.224</td>\n",
       "      <td>GET</td>\n",
       "      <td>200</td>\n",
       "    </tr>\n",
       "    <tr>\n",
       "      <th>6</th>\n",
       "      <td>73.166.162.225</td>\n",
       "      <td>GET</td>\n",
       "      <td>200</td>\n",
       "    </tr>\n",
       "    <tr>\n",
       "      <th>7</th>\n",
       "      <td>73.166.162.225</td>\n",
       "      <td>GET</td>\n",
       "      <td>404</td>\n",
       "    </tr>\n",
       "    <tr>\n",
       "      <th>8</th>\n",
       "      <td>54.36.148.108</td>\n",
       "      <td>GET</td>\n",
       "      <td>200</td>\n",
       "    </tr>\n",
       "    <tr>\n",
       "      <th>9</th>\n",
       "      <td>54.36.148.1</td>\n",
       "      <td>GET</td>\n",
       "      <td>200</td>\n",
       "    </tr>\n",
       "  </tbody>\n",
       "</table>\n",
       "</div>"
      ],
      "text/plain": [
       "               ip request  status\n",
       "0     13.66.139.0     GET     200\n",
       "1  157.48.153.185     GET     200\n",
       "2  157.48.153.185     GET     404\n",
       "3  216.244.66.230     GET     200\n",
       "4    54.36.148.92     GET     200\n",
       "5   92.101.35.224     GET     200\n",
       "6  73.166.162.225     GET     200\n",
       "7  73.166.162.225     GET     404\n",
       "8   54.36.148.108     GET     200\n",
       "9     54.36.148.1     GET     200"
      ]
     },
     "execution_count": 6,
     "metadata": {},
     "output_type": "execute_result"
    }
   ],
   "source": [
    "df_apache = pd.DataFrame.from_dict(dic, orient='index', columns=['ip','request','status'])\n",
    "# Оставляем только GET запросы\n",
    "df_apache = df_apache[df_apache.request == 'GET']\n",
    "df_apache.head(10)"
   ]
  },
  {
   "cell_type": "markdown",
   "id": "c8282769-0d09-438b-9414-02f6e8093da3",
   "metadata": {},
   "source": [
    "## Используем регулярные выражения"
   ]
  },
  {
   "cell_type": "markdown",
   "id": "6c0828c2-9174-482a-82e7-26b9dc6ce98d",
   "metadata": {},
   "source": [
    "Сформируем датафрейм из трех столбцов: IP-адреса, запросы, из кодов запросов.\n",
    "\n",
    "Распакуем не пустые списки, присвоив остальным значения NaN чтобы удалить строки их содержащие (останутся только запросы GET)."
   ]
  },
  {
   "cell_type": "code",
   "execution_count": 7,
   "id": "47afad73-555d-4c84-a331-3f0bb69f387e",
   "metadata": {},
   "outputs": [
    {
     "data": {
      "text/html": [
       "<div>\n",
       "<style scoped>\n",
       "    .dataframe tbody tr th:only-of-type {\n",
       "        vertical-align: middle;\n",
       "    }\n",
       "\n",
       "    .dataframe tbody tr th {\n",
       "        vertical-align: top;\n",
       "    }\n",
       "\n",
       "    .dataframe thead th {\n",
       "        text-align: right;\n",
       "    }\n",
       "</style>\n",
       "<table border=\"1\" class=\"dataframe\">\n",
       "  <thead>\n",
       "    <tr style=\"text-align: right;\">\n",
       "      <th></th>\n",
       "      <th>ip</th>\n",
       "      <th>request</th>\n",
       "      <th>status</th>\n",
       "    </tr>\n",
       "  </thead>\n",
       "  <tbody>\n",
       "    <tr>\n",
       "      <th>0</th>\n",
       "      <td>13.66.139.0</td>\n",
       "      <td>GET</td>\n",
       "      <td>200</td>\n",
       "    </tr>\n",
       "    <tr>\n",
       "      <th>1</th>\n",
       "      <td>157.48.153.185</td>\n",
       "      <td>GET</td>\n",
       "      <td>200</td>\n",
       "    </tr>\n",
       "    <tr>\n",
       "      <th>2</th>\n",
       "      <td>157.48.153.185</td>\n",
       "      <td>GET</td>\n",
       "      <td>404</td>\n",
       "    </tr>\n",
       "    <tr>\n",
       "      <th>3</th>\n",
       "      <td>216.244.66.230</td>\n",
       "      <td>GET</td>\n",
       "      <td>200</td>\n",
       "    </tr>\n",
       "    <tr>\n",
       "      <th>4</th>\n",
       "      <td>54.36.148.92</td>\n",
       "      <td>GET</td>\n",
       "      <td>200</td>\n",
       "    </tr>\n",
       "    <tr>\n",
       "      <th>5</th>\n",
       "      <td>92.101.35.224</td>\n",
       "      <td>GET</td>\n",
       "      <td>200</td>\n",
       "    </tr>\n",
       "    <tr>\n",
       "      <th>6</th>\n",
       "      <td>73.166.162.225</td>\n",
       "      <td>GET</td>\n",
       "      <td>200</td>\n",
       "    </tr>\n",
       "    <tr>\n",
       "      <th>7</th>\n",
       "      <td>73.166.162.225</td>\n",
       "      <td>GET</td>\n",
       "      <td>404</td>\n",
       "    </tr>\n",
       "    <tr>\n",
       "      <th>8</th>\n",
       "      <td>54.36.148.108</td>\n",
       "      <td>GET</td>\n",
       "      <td>200</td>\n",
       "    </tr>\n",
       "    <tr>\n",
       "      <th>9</th>\n",
       "      <td>54.36.148.1</td>\n",
       "      <td>GET</td>\n",
       "      <td>200</td>\n",
       "    </tr>\n",
       "  </tbody>\n",
       "</table>\n",
       "</div>"
      ],
      "text/plain": [
       "               ip request  status\n",
       "0     13.66.139.0     GET     200\n",
       "1  157.48.153.185     GET     200\n",
       "2  157.48.153.185     GET     404\n",
       "3  216.244.66.230     GET     200\n",
       "4    54.36.148.92     GET     200\n",
       "5   92.101.35.224     GET     200\n",
       "6  73.166.162.225     GET     200\n",
       "7  73.166.162.225     GET     404\n",
       "8   54.36.148.108     GET     200\n",
       "9     54.36.148.1     GET     200"
      ]
     },
     "execution_count": 7,
     "metadata": {},
     "output_type": "execute_result"
    }
   ],
   "source": [
    "df_re = pd.DataFrame(\n",
    "    {\n",
    "        'ip': list(map(lambda x: re.findall(r'(?:\\d{1,3}[.]){3}(?:\\d{1,3})', x), logs)),\n",
    "        'request': list(map(lambda x: re.findall(r'GET', x), logs)),\n",
    "        'status': list(map(lambda x: re.findall(r'\\s(\\d\\d\\d)\\s\\d', x), logs)),\n",
    "    }\n",
    ")\n",
    "\n",
    "# Распаковываем массивы \n",
    "df_re = df_re.applymap(lambda x: x[0] if x != [] else np.nan).dropna(axis=0, how='any')\n",
    "\n",
    "# Поменяем тип на int\n",
    "df_re.status = df_re.status.map(int)\n",
    "\n",
    "df_re.head(10)"
   ]
  },
  {
   "cell_type": "markdown",
   "id": "9eea2e65-0d77-48c6-be79-5b381b5bb165",
   "metadata": {
    "tags": []
   },
   "source": [
    "## Сверка полученных результатов"
   ]
  },
  {
   "cell_type": "code",
   "execution_count": 8,
   "id": "d2d5b7c1-8a65-40fe-bb45-1346fea93636",
   "metadata": {},
   "outputs": [
    {
     "data": {
      "text/plain": [
       "True"
      ]
     },
     "execution_count": 8,
     "metadata": {},
     "output_type": "execute_result"
    }
   ],
   "source": [
    "df_re.equals(df_apache)"
   ]
  },
  {
   "cell_type": "markdown",
   "id": "0b1cf28f-2634-4ef3-a49d-fc39807384a7",
   "metadata": {},
   "source": [
    "Видно, что датафреймы идентичны, идем дальше."
   ]
  },
  {
   "cell_type": "code",
   "execution_count": 9,
   "id": "c267f898-bd24-46e0-9dc4-dba4a38e867e",
   "metadata": {},
   "outputs": [],
   "source": [
    "df = df_apache"
   ]
  },
  {
   "cell_type": "markdown",
   "id": "9a3ad926-2f74-4235-b4e6-5afee26295a7",
   "metadata": {
    "tags": []
   },
   "source": [
    "# TOP30 IP адресов, с наибольшим количеством успешных get-запросов"
   ]
  },
  {
   "cell_type": "markdown",
   "id": "e4cbb39b-b7f2-48bc-b35c-e2196f13de18",
   "metadata": {},
   "source": [
    "Определим новый столбец, выделив является ли запрос успешным (2**) или нет."
   ]
  },
  {
   "cell_type": "code",
   "execution_count": 10,
   "id": "25e52e4d-dee4-4b53-baa8-c572ca1a3c06",
   "metadata": {},
   "outputs": [],
   "source": [
    "df['status_2**'] = df.status.apply(lambda x: 200<=x<300)"
   ]
  },
  {
   "cell_type": "markdown",
   "id": "fb4c658c-6a66-4750-96e8-10a767b7b6b1",
   "metadata": {},
   "source": [
    "Сгруппируем данные по ip."
   ]
  },
  {
   "cell_type": "code",
   "execution_count": 11,
   "id": "692200af-d31f-4b2b-9e1a-c021f4b03e76",
   "metadata": {
    "tags": []
   },
   "outputs": [],
   "source": [
    "pivot = df.pivot_table(index='ip', columns='status_2**', values='request', aggfunc='count') \\\n",
    "             .reset_index()\n",
    "# Дадим столбцам адекватные имена.\n",
    "pivot.columns = ['ip','other_req','success_req']"
   ]
  },
  {
   "cell_type": "code",
   "execution_count": 12,
   "id": "f7021367-59bb-4781-a6ab-e76274ae1b32",
   "metadata": {},
   "outputs": [
    {
     "name": "stdout",
     "output_type": "stream",
     "text": [
      "Уникальных IP: 482\n"
     ]
    },
    {
     "data": {
      "text/html": [
       "<div>\n",
       "<style scoped>\n",
       "    .dataframe tbody tr th:only-of-type {\n",
       "        vertical-align: middle;\n",
       "    }\n",
       "\n",
       "    .dataframe tbody tr th {\n",
       "        vertical-align: top;\n",
       "    }\n",
       "\n",
       "    .dataframe thead th {\n",
       "        text-align: right;\n",
       "    }\n",
       "</style>\n",
       "<table border=\"1\" class=\"dataframe\">\n",
       "  <thead>\n",
       "    <tr style=\"text-align: right;\">\n",
       "      <th></th>\n",
       "      <th>ip</th>\n",
       "      <th>other_req</th>\n",
       "      <th>success_req</th>\n",
       "    </tr>\n",
       "  </thead>\n",
       "  <tbody>\n",
       "    <tr>\n",
       "      <th>314</th>\n",
       "      <td>45.144.0.179</td>\n",
       "      <td>NaN</td>\n",
       "      <td>473.0</td>\n",
       "    </tr>\n",
       "    <tr>\n",
       "      <th>136</th>\n",
       "      <td>176.222.58.254</td>\n",
       "      <td>NaN</td>\n",
       "      <td>467.0</td>\n",
       "    </tr>\n",
       "    <tr>\n",
       "      <th>299</th>\n",
       "      <td>45.132.207.154</td>\n",
       "      <td>NaN</td>\n",
       "      <td>445.0</td>\n",
       "    </tr>\n",
       "    <tr>\n",
       "      <th>320</th>\n",
       "      <td>45.153.227.55</td>\n",
       "      <td>NaN</td>\n",
       "      <td>444.0</td>\n",
       "    </tr>\n",
       "    <tr>\n",
       "      <th>309</th>\n",
       "      <td>45.138.4.22</td>\n",
       "      <td>NaN</td>\n",
       "      <td>440.0</td>\n",
       "    </tr>\n",
       "    <tr>\n",
       "      <th>319</th>\n",
       "      <td>45.153.227.31</td>\n",
       "      <td>NaN</td>\n",
       "      <td>438.0</td>\n",
       "    </tr>\n",
       "    <tr>\n",
       "      <th>310</th>\n",
       "      <td>45.138.4.35</td>\n",
       "      <td>NaN</td>\n",
       "      <td>436.0</td>\n",
       "    </tr>\n",
       "    <tr>\n",
       "      <th>302</th>\n",
       "      <td>45.132.51.62</td>\n",
       "      <td>NaN</td>\n",
       "      <td>434.0</td>\n",
       "    </tr>\n",
       "    <tr>\n",
       "      <th>137</th>\n",
       "      <td>176.222.58.90</td>\n",
       "      <td>NaN</td>\n",
       "      <td>430.0</td>\n",
       "    </tr>\n",
       "    <tr>\n",
       "      <th>308</th>\n",
       "      <td>45.138.145.131</td>\n",
       "      <td>NaN</td>\n",
       "      <td>428.0</td>\n",
       "    </tr>\n",
       "    <tr>\n",
       "      <th>300</th>\n",
       "      <td>45.132.207.221</td>\n",
       "      <td>NaN</td>\n",
       "      <td>425.0</td>\n",
       "    </tr>\n",
       "    <tr>\n",
       "      <th>307</th>\n",
       "      <td>45.138.145.106</td>\n",
       "      <td>NaN</td>\n",
       "      <td>424.0</td>\n",
       "    </tr>\n",
       "    <tr>\n",
       "      <th>301</th>\n",
       "      <td>45.132.51.36</td>\n",
       "      <td>NaN</td>\n",
       "      <td>423.0</td>\n",
       "    </tr>\n",
       "    <tr>\n",
       "      <th>315</th>\n",
       "      <td>45.144.0.98</td>\n",
       "      <td>NaN</td>\n",
       "      <td>413.0</td>\n",
       "    </tr>\n",
       "    <tr>\n",
       "      <th>450</th>\n",
       "      <td>87.247.143.24</td>\n",
       "      <td>NaN</td>\n",
       "      <td>393.0</td>\n",
       "    </tr>\n",
       "    <tr>\n",
       "      <th>317</th>\n",
       "      <td>45.145.161.6</td>\n",
       "      <td>NaN</td>\n",
       "      <td>369.0</td>\n",
       "    </tr>\n",
       "    <tr>\n",
       "      <th>316</th>\n",
       "      <td>45.145.161.12</td>\n",
       "      <td>NaN</td>\n",
       "      <td>364.0</td>\n",
       "    </tr>\n",
       "    <tr>\n",
       "      <th>193</th>\n",
       "      <td>194.156.95.52</td>\n",
       "      <td>NaN</td>\n",
       "      <td>362.0</td>\n",
       "    </tr>\n",
       "    <tr>\n",
       "      <th>192</th>\n",
       "      <td>194.156.95.20</td>\n",
       "      <td>NaN</td>\n",
       "      <td>361.0</td>\n",
       "    </tr>\n",
       "    <tr>\n",
       "      <th>451</th>\n",
       "      <td>87.247.143.30</td>\n",
       "      <td>NaN</td>\n",
       "      <td>343.0</td>\n",
       "    </tr>\n",
       "    <tr>\n",
       "      <th>132</th>\n",
       "      <td>174.138.115.170</td>\n",
       "      <td>14.0</td>\n",
       "      <td>93.0</td>\n",
       "    </tr>\n",
       "    <tr>\n",
       "      <th>436</th>\n",
       "      <td>84.142.204.244</td>\n",
       "      <td>8.0</td>\n",
       "      <td>81.0</td>\n",
       "    </tr>\n",
       "    <tr>\n",
       "      <th>211</th>\n",
       "      <td>201.137.179.24</td>\n",
       "      <td>5.0</td>\n",
       "      <td>73.0</td>\n",
       "    </tr>\n",
       "    <tr>\n",
       "      <th>463</th>\n",
       "      <td>91.193.4.199</td>\n",
       "      <td>6.0</td>\n",
       "      <td>70.0</td>\n",
       "    </tr>\n",
       "    <tr>\n",
       "      <th>435</th>\n",
       "      <td>83.227.29.211</td>\n",
       "      <td>7.0</td>\n",
       "      <td>66.0</td>\n",
       "    </tr>\n",
       "    <tr>\n",
       "      <th>401</th>\n",
       "      <td>62.138.3.52</td>\n",
       "      <td>NaN</td>\n",
       "      <td>44.0</td>\n",
       "    </tr>\n",
       "    <tr>\n",
       "      <th>321</th>\n",
       "      <td>45.242.86.62</td>\n",
       "      <td>10.0</td>\n",
       "      <td>41.0</td>\n",
       "    </tr>\n",
       "    <tr>\n",
       "      <th>430</th>\n",
       "      <td>81.16.140.72</td>\n",
       "      <td>NaN</td>\n",
       "      <td>38.0</td>\n",
       "    </tr>\n",
       "    <tr>\n",
       "      <th>312</th>\n",
       "      <td>45.138.6.229</td>\n",
       "      <td>NaN</td>\n",
       "      <td>38.0</td>\n",
       "    </tr>\n",
       "    <tr>\n",
       "      <th>478</th>\n",
       "      <td>95.52.125.163</td>\n",
       "      <td>6.0</td>\n",
       "      <td>36.0</td>\n",
       "    </tr>\n",
       "  </tbody>\n",
       "</table>\n",
       "</div>"
      ],
      "text/plain": [
       "                  ip  other_req  success_req\n",
       "314     45.144.0.179        NaN        473.0\n",
       "136   176.222.58.254        NaN        467.0\n",
       "299   45.132.207.154        NaN        445.0\n",
       "320    45.153.227.55        NaN        444.0\n",
       "309      45.138.4.22        NaN        440.0\n",
       "319    45.153.227.31        NaN        438.0\n",
       "310      45.138.4.35        NaN        436.0\n",
       "302     45.132.51.62        NaN        434.0\n",
       "137    176.222.58.90        NaN        430.0\n",
       "308   45.138.145.131        NaN        428.0\n",
       "300   45.132.207.221        NaN        425.0\n",
       "307   45.138.145.106        NaN        424.0\n",
       "301     45.132.51.36        NaN        423.0\n",
       "315      45.144.0.98        NaN        413.0\n",
       "450    87.247.143.24        NaN        393.0\n",
       "317     45.145.161.6        NaN        369.0\n",
       "316    45.145.161.12        NaN        364.0\n",
       "193    194.156.95.52        NaN        362.0\n",
       "192    194.156.95.20        NaN        361.0\n",
       "451    87.247.143.30        NaN        343.0\n",
       "132  174.138.115.170       14.0         93.0\n",
       "436   84.142.204.244        8.0         81.0\n",
       "211   201.137.179.24        5.0         73.0\n",
       "463     91.193.4.199        6.0         70.0\n",
       "435    83.227.29.211        7.0         66.0\n",
       "401      62.138.3.52        NaN         44.0\n",
       "321     45.242.86.62       10.0         41.0\n",
       "430     81.16.140.72        NaN         38.0\n",
       "312     45.138.6.229        NaN         38.0\n",
       "478    95.52.125.163        6.0         36.0"
      ]
     },
     "execution_count": 12,
     "metadata": {},
     "output_type": "execute_result"
    }
   ],
   "source": [
    "print('Уникальных IP:',pivot.shape[0])\n",
    "pivot.sort_values('success_req', ascending=False).head(30)"
   ]
  },
  {
   "cell_type": "code",
   "execution_count": 13,
   "id": "18a8c63c-4349-4a1c-a6c0-66de378c6ffd",
   "metadata": {},
   "outputs": [],
   "source": [
    "pivot.to_csv('the_name_you_like.csv')"
   ]
  },
  {
   "cell_type": "code",
   "execution_count": null,
   "id": "4c843741-f17f-4503-80ad-bf64fd828177",
   "metadata": {},
   "outputs": [],
   "source": []
  }
 ],
 "metadata": {
  "kernelspec": {
   "display_name": "Python 3 (ipykernel)",
   "language": "python",
   "name": "python3"
  },
  "language_info": {
   "codemirror_mode": {
    "name": "ipython",
    "version": 3
   },
   "file_extension": ".py",
   "mimetype": "text/x-python",
   "name": "python",
   "nbconvert_exporter": "python",
   "pygments_lexer": "ipython3",
   "version": "3.9.9"
  }
 },
 "nbformat": 4,
 "nbformat_minor": 5
}
