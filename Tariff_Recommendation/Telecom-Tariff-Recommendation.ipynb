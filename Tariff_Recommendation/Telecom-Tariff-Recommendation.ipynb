{
 "cells": [
  {
   "cell_type": "markdown",
   "id": "afbf2c08",
   "metadata": {},
   "source": [
    "# Рекомендация тарифов"
   ]
  },
  {
   "cell_type": "markdown",
   "id": "23b272f6",
   "metadata": {},
   "source": [
    "Предобработка данных была выполнена ранее - [Определение перспективного тарифа для телеком-компании](https://github.com/SanYattsu/Data_Science_Projects/blob/main/Yandex_Courseworks/Telecom_Tariff_Determination/Tariff-Determination-for-a-Telecom-Company.ipynb).\n",
    "Нужно провести анализ поведения клиентов пользователей тарифов «Смарт» или «Ультра».\n",
    "\n",
    "**Цель проекта - построить модель для задачи классификации, которая выберет подходящий тариф.**"
   ]
  },
  {
   "cell_type": "markdown",
   "id": "7e5d9bc1",
   "metadata": {},
   "source": [
    "**Описание данных**\n",
    "\n",
    "* сalls — количество звонков,\n",
    "* minutes — суммарная длительность звонков в минутах,\n",
    "* messages — количество sms-сообщений,\n",
    "* mb_used — израсходованный интернет-трафик в Мб,\n",
    "* is_ultra — каким тарифом пользовался в течение месяца («Ультра» — 1, «Смарт» — 0).\n",
    "\n",
    "Каждый объект в наборе данных — это информация о поведении одного пользователя за месяц."
   ]
  },
  {
   "cell_type": "markdown",
   "id": "5c4cd358",
   "metadata": {},
   "source": [
    "# Импорт библиотек и загрузка данных"
   ]
  },
  {
   "cell_type": "code",
   "execution_count": 1,
   "id": "3aba71b1",
   "metadata": {},
   "outputs": [],
   "source": [
    "import pandas as pd\n",
    "import numpy as np\n",
    "import seaborn as sns\n",
    "import matplotlib.pyplot as plt\n",
    "\n",
    "from sklearn import preprocessing\n",
    "from sklearn.model_selection import train_test_split, GridSearchCV\n",
    "from sklearn.ensemble import RandomForestClassifier, GradientBoostingClassifier, VotingClassifier\n",
    "from sklearn.linear_model import LogisticRegression\n",
    "\n",
    "from sklearn.pipeline import Pipeline\n",
    "from sklearn.metrics import accuracy_score, precision_score, recall_score, ConfusionMatrixDisplay\n",
    "\n",
    "import warnings\n",
    "warnings.filterwarnings(\"ignore\")"
   ]
  },
  {
   "cell_type": "code",
   "execution_count": 2,
   "id": "f9fcccfe",
   "metadata": {},
   "outputs": [],
   "source": [
    "# Параметры отображения Seaborn.\n",
    "sns.set_palette('muted')\n",
    "sns.set_style('whitegrid')\n",
    "sns.set_context(\"notebook\", font_scale=1.1, rc={\"lines.linewidth\": 2})\n",
    "\n",
    "# Ограничим число знаков после запятой для вывода табличных данных.\n",
    "pd.options.display.float_format = '{:0.3f}'.format"
   ]
  },
  {
   "cell_type": "markdown",
   "id": "1f8ee15f",
   "metadata": {},
   "source": [
    "Загрузим и посмотрим данные."
   ]
  },
  {
   "cell_type": "code",
   "execution_count": 4,
   "id": "28ca7798",
   "metadata": {},
   "outputs": [],
   "source": [
    "try:\n",
    "    df = pd.read_csv(url + 'users_behavior.csv')\n",
    "    # Дополнительный датафрейм из предыдущего анализа.\n",
    "    tariffs = pd.read_csv(url + 'tariffs.csv')\n",
    "except:\n",
    "    print('Не удалось загрузить файл, проверьте путь.')"
   ]
  },
  {
   "cell_type": "code",
   "execution_count": 5,
   "id": "7df7db27",
   "metadata": {},
   "outputs": [
    {
     "data": {
      "text/html": [
       "<div>\n",
       "<style scoped>\n",
       "    .dataframe tbody tr th:only-of-type {\n",
       "        vertical-align: middle;\n",
       "    }\n",
       "\n",
       "    .dataframe tbody tr th {\n",
       "        vertical-align: top;\n",
       "    }\n",
       "\n",
       "    .dataframe thead th {\n",
       "        text-align: right;\n",
       "    }\n",
       "</style>\n",
       "<table border=\"1\" class=\"dataframe\">\n",
       "  <thead>\n",
       "    <tr style=\"text-align: right;\">\n",
       "      <th></th>\n",
       "      <th>calls</th>\n",
       "      <th>minutes</th>\n",
       "      <th>messages</th>\n",
       "      <th>mb_used</th>\n",
       "      <th>is_ultra</th>\n",
       "    </tr>\n",
       "  </thead>\n",
       "  <tbody>\n",
       "    <tr>\n",
       "      <th>0</th>\n",
       "      <td>40.000</td>\n",
       "      <td>311.900</td>\n",
       "      <td>83.000</td>\n",
       "      <td>19915.420</td>\n",
       "      <td>0</td>\n",
       "    </tr>\n",
       "    <tr>\n",
       "      <th>1</th>\n",
       "      <td>85.000</td>\n",
       "      <td>516.750</td>\n",
       "      <td>56.000</td>\n",
       "      <td>22696.960</td>\n",
       "      <td>0</td>\n",
       "    </tr>\n",
       "    <tr>\n",
       "      <th>2</th>\n",
       "      <td>77.000</td>\n",
       "      <td>467.660</td>\n",
       "      <td>86.000</td>\n",
       "      <td>21060.450</td>\n",
       "      <td>0</td>\n",
       "    </tr>\n",
       "    <tr>\n",
       "      <th>3</th>\n",
       "      <td>106.000</td>\n",
       "      <td>745.530</td>\n",
       "      <td>81.000</td>\n",
       "      <td>8437.390</td>\n",
       "      <td>1</td>\n",
       "    </tr>\n",
       "    <tr>\n",
       "      <th>4</th>\n",
       "      <td>66.000</td>\n",
       "      <td>418.740</td>\n",
       "      <td>1.000</td>\n",
       "      <td>14502.750</td>\n",
       "      <td>0</td>\n",
       "    </tr>\n",
       "  </tbody>\n",
       "</table>\n",
       "</div>"
      ],
      "text/plain": [
       "    calls  minutes  messages   mb_used  is_ultra\n",
       "0  40.000  311.900    83.000 19915.420         0\n",
       "1  85.000  516.750    56.000 22696.960         0\n",
       "2  77.000  467.660    86.000 21060.450         0\n",
       "3 106.000  745.530    81.000  8437.390         1\n",
       "4  66.000  418.740     1.000 14502.750         0"
      ]
     },
     "execution_count": 5,
     "metadata": {},
     "output_type": "execute_result"
    }
   ],
   "source": [
    "df.head()"
   ]
  },
  {
   "cell_type": "code",
   "execution_count": 6,
   "id": "a284d1e8-6392-438a-9e7d-646ea56ede69",
   "metadata": {},
   "outputs": [
    {
     "data": {
      "text/html": [
       "<div>\n",
       "<style scoped>\n",
       "    .dataframe tbody tr th:only-of-type {\n",
       "        vertical-align: middle;\n",
       "    }\n",
       "\n",
       "    .dataframe tbody tr th {\n",
       "        vertical-align: top;\n",
       "    }\n",
       "\n",
       "    .dataframe thead th {\n",
       "        text-align: right;\n",
       "    }\n",
       "</style>\n",
       "<table border=\"1\" class=\"dataframe\">\n",
       "  <thead>\n",
       "    <tr style=\"text-align: right;\">\n",
       "      <th></th>\n",
       "      <th>messages_included</th>\n",
       "      <th>mb_per_month_included</th>\n",
       "      <th>minutes_included</th>\n",
       "      <th>rub_monthly_fee</th>\n",
       "      <th>rub_per_gb</th>\n",
       "      <th>rub_per_message</th>\n",
       "      <th>rub_per_minute</th>\n",
       "      <th>tariff_name</th>\n",
       "    </tr>\n",
       "  </thead>\n",
       "  <tbody>\n",
       "    <tr>\n",
       "      <th>0</th>\n",
       "      <td>50</td>\n",
       "      <td>15360</td>\n",
       "      <td>500</td>\n",
       "      <td>550</td>\n",
       "      <td>200</td>\n",
       "      <td>3</td>\n",
       "      <td>3</td>\n",
       "      <td>smart</td>\n",
       "    </tr>\n",
       "    <tr>\n",
       "      <th>1</th>\n",
       "      <td>1000</td>\n",
       "      <td>30720</td>\n",
       "      <td>3000</td>\n",
       "      <td>1950</td>\n",
       "      <td>150</td>\n",
       "      <td>1</td>\n",
       "      <td>1</td>\n",
       "      <td>ultra</td>\n",
       "    </tr>\n",
       "  </tbody>\n",
       "</table>\n",
       "</div>"
      ],
      "text/plain": [
       "   messages_included  mb_per_month_included  minutes_included  \\\n",
       "0                 50                  15360               500   \n",
       "1               1000                  30720              3000   \n",
       "\n",
       "   rub_monthly_fee  rub_per_gb  rub_per_message  rub_per_minute tariff_name  \n",
       "0              550         200                3               3       smart  \n",
       "1             1950         150                1               1       ultra  "
      ]
     },
     "execution_count": 6,
     "metadata": {},
     "output_type": "execute_result"
    }
   ],
   "source": [
    "tariffs.head()"
   ]
  },
  {
   "cell_type": "code",
   "execution_count": 7,
   "id": "6ede4f32-2610-419d-b023-da70deaf4da1",
   "metadata": {},
   "outputs": [
    {
     "data": {
      "text/plain": [
       "(3214, 5)"
      ]
     },
     "execution_count": 7,
     "metadata": {},
     "output_type": "execute_result"
    }
   ],
   "source": [
    "df.shape"
   ]
  },
  {
   "cell_type": "markdown",
   "id": "415bb0e6",
   "metadata": {},
   "source": [
    "# Исследовательский анализ данных"
   ]
  },
  {
   "cell_type": "markdown",
   "id": "f835a405-7eeb-4dfd-bf4a-57438d6bf526",
   "metadata": {},
   "source": [
    "Построим корреляции чтобы увидеть как связаны независимые параметры. Видна мультиколлинеарность, calls и minutes имеют очевидную положительную связь, логично будет оставить только один из признаков."
   ]
  },
  {
   "cell_type": "code",
   "execution_count": 8,
   "id": "9b186b77-67e0-4399-a856-4ce5368fff45",
   "metadata": {},
   "outputs": [
    {
     "data": {
      "image/png": "[encoded data removed]",
      "text/plain": [
       "<Figure size 432x288 with 2 Axes>"
      ]
     },
     "metadata": {},
     "output_type": "display_data"
    }
   ],
   "source": [
    "sns.heatmap(df.corr(), annot=True, square=True);"
   ]
  },
  {
   "cell_type": "markdown",
   "id": "f5d6d3c2-89a7-4831-9a2d-46ccdc5a3ef7",
   "metadata": {},
   "source": [
    "Гистограммы признаков."
   ]
  },
  {
   "cell_type": "code",
   "execution_count": 9,
   "id": "6e0aa0c2-bd4d-4dbd-a1ad-9b64f73ebe42",
   "metadata": {},
   "outputs": [
    {
     "data": {
      "image/png": "[encoded data removed]",
      "text/plain": [
       "<Figure size 1152x360 with 3 Axes>"
      ]
     },
     "metadata": {},
     "output_type": "display_data"
    }
   ],
   "source": [
    "fig, axes = plt.subplots(1, 3, figsize=(16,5))\n",
    "sns.histplot(data=df, x='calls', stat='probability', ax=axes[0])\n",
    "sns.histplot(data=df, x='messages', stat='probability', ax=axes[1])\n",
    "sns.histplot(data=df, x='mb_used', stat='probability', ax=axes[2])\n",
    "plt.show()"
   ]
  },
  {
   "cell_type": "markdown",
   "id": "19f04855-9261-4616-99bf-a96bd794f51b",
   "metadata": {},
   "source": [
    "Чтобы распределения независимых переменных приняли более \"нормальный\" вид пропустим их через log1p()."
   ]
  },
  {
   "cell_type": "code",
   "execution_count": 10,
   "id": "637c24df-fc74-4804-af8c-5a019f127eaf",
   "metadata": {},
   "outputs": [
    {
     "data": {
      "image/png": "[encoded data removed]",
      "text/plain": [
       "<Figure size 1152x360 with 3 Axes>"
      ]
     },
     "metadata": {},
     "output_type": "display_data"
    }
   ],
   "source": [
    "fig, axes = plt.subplots(1, 3, figsize=(16,5))\n",
    "sns.histplot(data=df, x=np.log1p(df.calls), stat='probability', ax=axes[0])\n",
    "sns.histplot(data=df, x=np.log1p(df.messages), stat='probability', ax=axes[1])\n",
    "sns.histplot(data=df, x=np.log1p(df.mb_used), stat='probability', ax=axes[2])\n",
    "plt.show()"
   ]
  },
  {
   "cell_type": "markdown",
   "id": "69abd1c4-cb90-4f49-ae66-8ba8c1b27fbc",
   "metadata": {},
   "source": [
    "Построим диаграммы размаха. Значения calls выше 150 для is_ultra=0 и выше 220 для is_ultra=1 определим как выбросы и далее исключим.\n",
    "\n",
    "Видно, что в основном пользователи smart не используют услуг больше чем входит в их тариф. Воспользуемся этим."
   ]
  },
  {
   "cell_type": "code",
   "execution_count": 11,
   "id": "8339c981-af83-46b3-8ab7-763aafde9df9",
   "metadata": {},
   "outputs": [
    {
     "data": {
      "image/png": "[encoded data removed]",
      "text/plain": [
       "<Figure size 1152x360 with 3 Axes>"
      ]
     },
     "metadata": {},
     "output_type": "display_data"
    }
   ],
   "source": [
    "fig, axes = plt.subplots(1, 3, figsize=(16,5))\n",
    "sns.boxplot(data=df, y='calls', x='is_ultra', ax=axes[0])\n",
    "sns.boxplot(data=df, y='messages', x='is_ultra', ax=axes[1])\n",
    "sns.boxplot(data=df, y='mb_used', x='is_ultra', ax=axes[2])\n",
    "plt.show()"
   ]
  },
  {
   "cell_type": "markdown",
   "id": "7c01c963-a4cc-489d-89f1-00239468dbfc",
   "metadata": {},
   "source": [
    "# Разработка модели"
   ]
  },
  {
   "cell_type": "markdown",
   "id": "168abbfe-f52e-4ad7-bb36-360b7031a800",
   "metadata": {},
   "source": [
    "Основываясь на данных предыдущего исследования, пользователи тарифа ultra использовали больший объем услуг. Поэтому введем дополнительный признак, который зависит от количества категорий, в которых пользователь превысил бесплатный лимит входящий в пакет smart."
   ]
  },
  {
   "cell_type": "code",
   "execution_count": 12,
   "id": "0f10fde8-e4a5-407d-8edc-974c2a84a08b",
   "metadata": {},
   "outputs": [],
   "source": [
    "df['is_consume_a_lot'] = df.apply(lambda x: (int(x[2]>tariffs.messages_included[0]) +\n",
    "                                             int(x[1]>tariffs.minutes_included[0]) +\n",
    "                                             int(x[3]>tariffs.mb_per_month_included[0]) +\n",
    "                                             2*int(x[3]>tariffs.mb_per_month_included[1])),\n",
    "                                  raw=True, axis=1)"
   ]
  },
  {
   "cell_type": "markdown",
   "id": "9b4c42d8-bd10-46da-867f-f0aff056b75a",
   "metadata": {},
   "source": [
    "Удалим лишний признак и выбросы."
   ]
  },
  {
   "cell_type": "code",
   "execution_count": 13,
   "id": "b204f0a6-79ad-49f5-ae4b-2edea58149b0",
   "metadata": {},
   "outputs": [],
   "source": [
    "df = df.query('(calls < 150 and is_ultra==0) or (calls < 220 and is_ultra==1)')"
   ]
  },
  {
   "cell_type": "code",
   "execution_count": 14,
   "id": "03702b1c-90af-42e3-92fb-5308e64d0583",
   "metadata": {},
   "outputs": [],
   "source": [
    "df.drop(columns='minutes', inplace=True)"
   ]
  },
  {
   "cell_type": "code",
   "execution_count": 15,
   "id": "46ffd66c-e78f-46ad-92fb-6a65c0bee26c",
   "metadata": {},
   "outputs": [
    {
     "data": {
      "text/plain": [
       "(3212, 5)"
      ]
     },
     "execution_count": 15,
     "metadata": {},
     "output_type": "execute_result"
    }
   ],
   "source": [
    "df.shape"
   ]
  },
  {
   "cell_type": "code",
   "execution_count": 16,
   "id": "8ed6335e-1336-4cb7-bce6-3eef02566c6b",
   "metadata": {},
   "outputs": [],
   "source": [
    "# Идеи которые не вошли в итоговое решение.\n",
    "\n",
    "# df.calls = np.log1p(df.calls)\n",
    "# df.messages = np.log1p(df.messages)\n",
    "# df.mb_used = np.log1p(df.mb_used)\n",
    "\n",
    "# bins = [-1, 0, 2, 3.5, 6]\n",
    "# labels = [0, 'low', 'avg', 'big']\n",
    "# df['messages_group'] = pd.cut(df.messages, bins=bins, labels=labels).copy()"
   ]
  },
  {
   "cell_type": "markdown",
   "id": "c424d26c-0bfa-4aba-8c49-40e7d024b2f1",
   "metadata": {
    "tags": []
   },
   "source": [
    "## Разбивание данных на выборки"
   ]
  },
  {
   "cell_type": "code",
   "execution_count": 17,
   "id": "1d44773a-1ed5-4a13-9642-2ab20db0b992",
   "metadata": {},
   "outputs": [],
   "source": [
    "features = df.drop(columns='is_ultra')\n",
    "\n",
    "# X - матрица признаков, y - целевая переменная.\n",
    "X = pd.get_dummies(features).reset_index(drop=True)\n",
    "y = df['is_ultra']"
   ]
  },
  {
   "cell_type": "code",
   "execution_count": 18,
   "id": "fe282df0-d0cd-458d-a2b7-0e37863e2f2a",
   "metadata": {},
   "outputs": [
    {
     "data": {
      "text/html": [
       "<div>\n",
       "<style scoped>\n",
       "    .dataframe tbody tr th:only-of-type {\n",
       "        vertical-align: middle;\n",
       "    }\n",
       "\n",
       "    .dataframe tbody tr th {\n",
       "        vertical-align: top;\n",
       "    }\n",
       "\n",
       "    .dataframe thead th {\n",
       "        text-align: right;\n",
       "    }\n",
       "</style>\n",
       "<table border=\"1\" class=\"dataframe\">\n",
       "  <thead>\n",
       "    <tr style=\"text-align: right;\">\n",
       "      <th></th>\n",
       "      <th>calls</th>\n",
       "      <th>messages</th>\n",
       "      <th>mb_used</th>\n",
       "      <th>is_consume_a_lot</th>\n",
       "    </tr>\n",
       "  </thead>\n",
       "  <tbody>\n",
       "    <tr>\n",
       "      <th>0</th>\n",
       "      <td>40.000</td>\n",
       "      <td>83.000</td>\n",
       "      <td>19915.420</td>\n",
       "      <td>2</td>\n",
       "    </tr>\n",
       "    <tr>\n",
       "      <th>1</th>\n",
       "      <td>85.000</td>\n",
       "      <td>56.000</td>\n",
       "      <td>22696.960</td>\n",
       "      <td>3</td>\n",
       "    </tr>\n",
       "    <tr>\n",
       "      <th>2</th>\n",
       "      <td>77.000</td>\n",
       "      <td>86.000</td>\n",
       "      <td>21060.450</td>\n",
       "      <td>2</td>\n",
       "    </tr>\n",
       "    <tr>\n",
       "      <th>3</th>\n",
       "      <td>106.000</td>\n",
       "      <td>81.000</td>\n",
       "      <td>8437.390</td>\n",
       "      <td>2</td>\n",
       "    </tr>\n",
       "    <tr>\n",
       "      <th>4</th>\n",
       "      <td>66.000</td>\n",
       "      <td>1.000</td>\n",
       "      <td>14502.750</td>\n",
       "      <td>0</td>\n",
       "    </tr>\n",
       "  </tbody>\n",
       "</table>\n",
       "</div>"
      ],
      "text/plain": [
       "    calls  messages   mb_used  is_consume_a_lot\n",
       "0  40.000    83.000 19915.420                 2\n",
       "1  85.000    56.000 22696.960                 3\n",
       "2  77.000    86.000 21060.450                 2\n",
       "3 106.000    81.000  8437.390                 2\n",
       "4  66.000     1.000 14502.750                 0"
      ]
     },
     "execution_count": 18,
     "metadata": {},
     "output_type": "execute_result"
    }
   ],
   "source": [
    "X.head()"
   ]
  },
  {
   "cell_type": "markdown",
   "id": "f24ac710-d0db-4fb8-9d3a-e1e44de3952a",
   "metadata": {},
   "source": [
    "Создадим тренировочные и тестовые выборки."
   ]
  },
  {
   "cell_type": "code",
   "execution_count": 19,
   "id": "f365159f-4b46-4fb4-8e3d-147ccff6b6bd",
   "metadata": {},
   "outputs": [],
   "source": [
    "X_train, X_test, y_train, y_test = train_test_split(X, y, test_size=0.20, random_state=38)"
   ]
  },
  {
   "cell_type": "markdown",
   "id": "b9f4591d-f14c-456f-81fe-03ea021e98c0",
   "metadata": {},
   "source": [
    "## Исследование и выбор моделей"
   ]
  },
  {
   "cell_type": "markdown",
   "id": "46fe821c-1221-4be4-8bb0-a2d32ff0ad0d",
   "metadata": {},
   "source": [
    "Оценим как модели ведут себя со стандартными гиперпараметрами.\n",
    "\n",
    "Для этого сначала определим функцию вывода."
   ]
  },
  {
   "cell_type": "code",
   "execution_count": 20,
   "id": "b0f5ddd8-7147-4ad9-b522-eb51932c9ace",
   "metadata": {},
   "outputs": [],
   "source": [
    "def model_results(func):\n",
    "    model = func\n",
    "    # Находим значение целевой переменной после обучения модели.\n",
    "    y_hat = model.fit(X_train, y_train).predict(X_test)\n",
    "    # Вывод матрицы ошибок.\n",
    "    ConfusionMatrixDisplay.from_predictions(y_test, y_hat,\n",
    "                                            cmap='Blues', colorbar=False)\n",
    "    plt.grid(b=None)\n",
    "    plt.show()\n",
    "    # Отображаем основные оценки классификатора.\n",
    "    print('\\nРезультат на тестовой выборке:')\n",
    "    display(pd.DataFrame({'Качество':[accuracy_score(y_test,y_hat)],\n",
    "                          'Точность':[precision_score(y_test,y_hat)],\n",
    "                          'Полнота':[recall_score(y_test,y_hat)]}, index=['Параметр']))"
   ]
  },
  {
   "cell_type": "code",
   "execution_count": 21,
   "id": "5ef4622f-5470-420f-86f4-0cd8bfd9a029",
   "metadata": {},
   "outputs": [
    {
     "data": {
      "image/png": "[encoded data removed]",
      "text/plain": [
       "<Figure size 432x288 with 1 Axes>"
      ]
     },
     "metadata": {},
     "output_type": "display_data"
    },
    {
     "name": "stdout",
     "output_type": "stream",
     "text": [
      "\n",
      "Результат на тестовой выборке:\n"
     ]
    },
    {
     "data": {
      "text/html": [
       "<div>\n",
       "<style scoped>\n",
       "    .dataframe tbody tr th:only-of-type {\n",
       "        vertical-align: middle;\n",
       "    }\n",
       "\n",
       "    .dataframe tbody tr th {\n",
       "        vertical-align: top;\n",
       "    }\n",
       "\n",
       "    .dataframe thead th {\n",
       "        text-align: right;\n",
       "    }\n",
       "</style>\n",
       "<table border=\"1\" class=\"dataframe\">\n",
       "  <thead>\n",
       "    <tr style=\"text-align: right;\">\n",
       "      <th></th>\n",
       "      <th>Качество</th>\n",
       "      <th>Точность</th>\n",
       "      <th>Полнота</th>\n",
       "    </tr>\n",
       "  </thead>\n",
       "  <tbody>\n",
       "    <tr>\n",
       "      <th>Параметр</th>\n",
       "      <td>0.712</td>\n",
       "      <td>0.688</td>\n",
       "      <td>0.211</td>\n",
       "    </tr>\n",
       "  </tbody>\n",
       "</table>\n",
       "</div>"
      ],
      "text/plain": [
       "          Качество  Точность  Полнота\n",
       "Параметр     0.712     0.688    0.211"
      ]
     },
     "metadata": {},
     "output_type": "display_data"
    }
   ],
   "source": [
    "model_results(LogisticRegression())"
   ]
  },
  {
   "cell_type": "code",
   "execution_count": 22,
   "id": "f8e2022f-7001-4ae0-8c92-5f833761e9f5",
   "metadata": {},
   "outputs": [
    {
     "data": {
      "image/png": "[encoded data removed]",
      "text/plain": [
       "<Figure size 432x288 with 1 Axes>"
      ]
     },
     "metadata": {},
     "output_type": "display_data"
    },
    {
     "name": "stdout",
     "output_type": "stream",
     "text": [
      "\n",
      "Результат на тестовой выборке:\n"
     ]
    },
    {
     "data": {
      "text/html": [
       "<div>\n",
       "<style scoped>\n",
       "    .dataframe tbody tr th:only-of-type {\n",
       "        vertical-align: middle;\n",
       "    }\n",
       "\n",
       "    .dataframe tbody tr th {\n",
       "        vertical-align: top;\n",
       "    }\n",
       "\n",
       "    .dataframe thead th {\n",
       "        text-align: right;\n",
       "    }\n",
       "</style>\n",
       "<table border=\"1\" class=\"dataframe\">\n",
       "  <thead>\n",
       "    <tr style=\"text-align: right;\">\n",
       "      <th></th>\n",
       "      <th>Качество</th>\n",
       "      <th>Точность</th>\n",
       "      <th>Полнота</th>\n",
       "    </tr>\n",
       "  </thead>\n",
       "  <tbody>\n",
       "    <tr>\n",
       "      <th>Параметр</th>\n",
       "      <td>0.799</td>\n",
       "      <td>0.786</td>\n",
       "      <td>0.526</td>\n",
       "    </tr>\n",
       "  </tbody>\n",
       "</table>\n",
       "</div>"
      ],
      "text/plain": [
       "          Качество  Точность  Полнота\n",
       "Параметр     0.799     0.786    0.526"
      ]
     },
     "metadata": {},
     "output_type": "display_data"
    }
   ],
   "source": [
    "model_results(RandomForestClassifier())"
   ]
  },
  {
   "cell_type": "code",
   "execution_count": 23,
   "id": "e056f217-5c46-43ac-935a-a455d6844305",
   "metadata": {},
   "outputs": [
    {
     "data": {
      "image/png": "[encoded data removed]",
      "text/plain": [
       "<Figure size 432x288 with 1 Axes>"
      ]
     },
     "metadata": {},
     "output_type": "display_data"
    },
    {
     "name": "stdout",
     "output_type": "stream",
     "text": [
      "\n",
      "Результат на тестовой выборке:\n"
     ]
    },
    {
     "data": {
      "text/html": [
       "<div>\n",
       "<style scoped>\n",
       "    .dataframe tbody tr th:only-of-type {\n",
       "        vertical-align: middle;\n",
       "    }\n",
       "\n",
       "    .dataframe tbody tr th {\n",
       "        vertical-align: top;\n",
       "    }\n",
       "\n",
       "    .dataframe thead th {\n",
       "        text-align: right;\n",
       "    }\n",
       "</style>\n",
       "<table border=\"1\" class=\"dataframe\">\n",
       "  <thead>\n",
       "    <tr style=\"text-align: right;\">\n",
       "      <th></th>\n",
       "      <th>Качество</th>\n",
       "      <th>Точность</th>\n",
       "      <th>Полнота</th>\n",
       "    </tr>\n",
       "  </thead>\n",
       "  <tbody>\n",
       "    <tr>\n",
       "      <th>Параметр</th>\n",
       "      <td>0.816</td>\n",
       "      <td>0.876</td>\n",
       "      <td>0.507</td>\n",
       "    </tr>\n",
       "  </tbody>\n",
       "</table>\n",
       "</div>"
      ],
      "text/plain": [
       "          Качество  Точность  Полнота\n",
       "Параметр     0.816     0.876    0.507"
      ]
     },
     "metadata": {},
     "output_type": "display_data"
    }
   ],
   "source": [
    "model_results(GradientBoostingClassifier())"
   ]
  },
  {
   "cell_type": "markdown",
   "id": "6a7d5063-97b4-4609-bcef-6a5bdbfae2ef",
   "metadata": {},
   "source": [
    "* Результаты для логистической регрессии благодаря признаку is_consume_a_lot стали лучше, но полнота всё равно не большая, много ошибок второго рода.\n",
    "* Случайный лес и градиентный бустинг показывают хороший результат, хотя полнота равна ~0.5."
   ]
  },
  {
   "cell_type": "markdown",
   "id": "9075e1df-3473-46fa-a9f1-8af329a3738c",
   "metadata": {},
   "source": [
    "## Определение моделей и кросс-валидация"
   ]
  },
  {
   "cell_type": "markdown",
   "id": "8cb72d56-3b07-452e-ac6c-28be5a4a9a16",
   "metadata": {},
   "source": [
    "Для решения задачи используем 2 базовых классификатора RandomForestClassifier и GradientBoostingClassifier. Окончательное решение будет принимать VotingClassifier."
   ]
  },
  {
   "cell_type": "code",
   "execution_count": 24,
   "id": "ca0a24c1-b7e1-452d-8072-5584e28b4da3",
   "metadata": {},
   "outputs": [],
   "source": [
    "rf_cla = RandomForestClassifier(random_state = 38, class_weight='balanced')\n",
    "gb_cla = GradientBoostingClassifier(random_state = 38, min_samples_leaf=9)"
   ]
  },
  {
   "cell_type": "code",
   "execution_count": 25,
   "id": "759116c7-f6f6-4e76-a85a-0cbc1a744e1c",
   "metadata": {},
   "outputs": [],
   "source": [
    "# Сетка гиперпараметров по которым настраивается модель.\n",
    "param_grid = {\n",
    "    \"v_cla__rf_cla__n_estimators\": [100, 125, 150, 200],\n",
    "    \"v_cla__rf_cla__min_samples_split\": [2, 5, 10, 12, 15, 20],\n",
    "    \"v_cla__rf_cla__criterion\": ['gini', 'entropy'],\n",
    "    \"v_cla__gb_cla__n_estimators\": [50, 100, 125],\n",
    "}\n",
    "\n",
    "# Задаем, используем параметр soft так как для всего 2 моделей взвешивание предсказаний подходит лучше.\n",
    "v_cla = VotingClassifier([\n",
    "    ('rf_cla', rf_cla),\n",
    "    ('gb_cla', gb_cla),\n",
    "],  n_jobs=-1, voting='soft')\n",
    "\n",
    "# Формируем пайплайн в котором применяем регуляризацию StandardScaler (среднее=0, sd=1).\n",
    "pipe = Pipeline([\n",
    "    ('scaler', preprocessing.StandardScaler()),\n",
    "    ('v_cla', v_cla)\n",
    "])"
   ]
  },
  {
   "cell_type": "markdown",
   "id": "bc054937-9bf3-484f-b562-a8866db29424",
   "metadata": {},
   "source": [
    "Найдем лучшую комбинацию параметров используя GridSearchCV c 5 фолдами."
   ]
  },
  {
   "cell_type": "code",
   "execution_count": 26,
   "id": "a613ff36-5983-47a0-8e54-e46ed6c7f908",
   "metadata": {},
   "outputs": [
    {
     "data": {
      "text/plain": [
       "GridSearchCV(cv=3,\n",
       "             estimator=Pipeline(steps=[('scaler', StandardScaler()),\n",
       "                                       ('v_cla',\n",
       "                                        VotingClassifier(estimators=[('rf_cla',\n",
       "                                                                      RandomForestClassifier(class_weight='balanced',\n",
       "                                                                                             random_state=38)),\n",
       "                                                                     ('gb_cla',\n",
       "                                                                      GradientBoostingClassifier(min_samples_leaf=9,\n",
       "                                                                                                 random_state=38))],\n",
       "                                                         n_jobs=-1,\n",
       "                                                         voting='soft'))]),\n",
       "             n_jobs=-1,\n",
       "             param_grid={'v_cla__gb_cla__n_estimators': [50, 100, 125],\n",
       "                         'v_cla__rf_cla__criterion': ['gini', 'entropy'],\n",
       "                         'v_cla__rf_cla__min_samples_split': [2, 5, 10, 12, 15,\n",
       "                                                              20],\n",
       "                         'v_cla__rf_cla__n_estimators': [100, 125, 150, 200]})"
      ]
     },
     "execution_count": 26,
     "metadata": {},
     "output_type": "execute_result"
    }
   ],
   "source": [
    "search = GridSearchCV(pipe, param_grid, cv=3, n_jobs=-1)\n",
    "search.fit(X_train, y_train)"
   ]
  },
  {
   "cell_type": "markdown",
   "id": "31fc3696-748f-4558-8fd9-74a44ce037b4",
   "metadata": {},
   "source": [
    "## Проверка модели на тестовой выборке. Sanity check."
   ]
  },
  {
   "cell_type": "code",
   "execution_count": 27,
   "id": "2afae25a-a581-4344-b0ff-64db9b24b8a6",
   "metadata": {},
   "outputs": [
    {
     "data": {
      "image/png": "[encoded data removed]",
      "text/plain": [
       "<Figure size 432x288 with 1 Axes>"
      ]
     },
     "metadata": {},
     "output_type": "display_data"
    },
    {
     "name": "stdout",
     "output_type": "stream",
     "text": [
      "\n",
      "Результат на тестовой выборке:\n"
     ]
    },
    {
     "data": {
      "text/html": [
       "<div>\n",
       "<style scoped>\n",
       "    .dataframe tbody tr th:only-of-type {\n",
       "        vertical-align: middle;\n",
       "    }\n",
       "\n",
       "    .dataframe tbody tr th {\n",
       "        vertical-align: top;\n",
       "    }\n",
       "\n",
       "    .dataframe thead th {\n",
       "        text-align: right;\n",
       "    }\n",
       "</style>\n",
       "<table border=\"1\" class=\"dataframe\">\n",
       "  <thead>\n",
       "    <tr style=\"text-align: right;\">\n",
       "      <th></th>\n",
       "      <th>Качество</th>\n",
       "      <th>Точность</th>\n",
       "      <th>Полнота</th>\n",
       "    </tr>\n",
       "  </thead>\n",
       "  <tbody>\n",
       "    <tr>\n",
       "      <th>Параметр</th>\n",
       "      <td>0.812</td>\n",
       "      <td>0.810</td>\n",
       "      <td>0.550</td>\n",
       "    </tr>\n",
       "  </tbody>\n",
       "</table>\n",
       "</div>"
      ],
      "text/plain": [
       "          Качество  Точность  Полнота\n",
       "Параметр     0.812     0.810    0.550"
      ]
     },
     "metadata": {},
     "output_type": "display_data"
    },
    {
     "name": "stdout",
     "output_type": "stream",
     "text": [
      "Лучшая оценка на тренировочной выборке: 0.867\n",
      "Лучшая оценка на CV: 0.815\n"
     ]
    }
   ],
   "source": [
    "# в качестве модели используем best_estimator_ с оптимизированными гиперпараметрами.\n",
    "model_results(search.best_estimator_)\n",
    "print(f'Лучшая оценка на тренировочной выборке: {search.score(X_train, y_train):0.3f}')\n",
    "print(f'Лучшая оценка на CV: {search.best_score_:0.3f}')"
   ]
  },
  {
   "cell_type": "markdown",
   "id": "93df4d12-e767-4cde-8f66-17ba88fbe5c0",
   "metadata": {},
   "source": [
    "Значения гиперпараметров найденных в результате кросс-валидации."
   ]
  },
  {
   "cell_type": "code",
   "execution_count": 28,
   "id": "fc2bd8d3-c055-4867-9a13-a644189b095c",
   "metadata": {},
   "outputs": [
    {
     "name": "stdout",
     "output_type": "stream",
     "text": [
      "{'v_cla__gb_cla__n_estimators': 100, 'v_cla__rf_cla__criterion': 'gini', 'v_cla__rf_cla__min_samples_split': 10, 'v_cla__rf_cla__n_estimators': 150}\n"
     ]
    }
   ],
   "source": [
    "print(search.best_params_)"
   ]
  },
  {
   "cell_type": "markdown",
   "id": "73b56acb-635f-4e0d-b631-de1f3e2b22a6",
   "metadata": {},
   "source": [
    "# Выводы:\n",
    "\n",
    "* В результате исследования выбрана модель, которая имеет высокое качество и точность.\n",
    "* Подобраны оптимальные гиперпараметры. Выполнена кросс-валидация и проверка на тестовой выборке.\n",
    "* Обнаружено что модели не обеспечивают высокий параметр recall, достаточно много ошибок второго рода.\n",
    "* Получена accuracy ~0.81 на тестовой выборке.\n",
    "* Выполнена проверка модели на адекватность."
   ]
  },
  {
   "cell_type": "markdown",
   "id": "426acc8f-a30d-4b45-8798-db76642d3254",
   "metadata": {},
   "source": [
    "## Чек-лист готовности проекта\n",
    "- [x] Jupyter Notebook открыт\n",
    "- [x] Весь код исполняется без ошибок\n",
    "- [x] Ячейки с кодом расположены в порядке исполнения\n",
    "- [x] Выполнено задание 1: данные загружены и изучены\n",
    "- [x] Выполнено задание 2: данные разбиты на три выборки (GridSearchCV)\n",
    "- [x] Выполнено задание 3: проведено исследование моделей\n",
    "    - [x] Рассмотрено больше одной модели\n",
    "    - [x] Рассмотрено хотя бы 3 значения гипепараметров для какой-нибудь модели\n",
    "    - [x] Написаны выводы по результатам исследования\n",
    "- [x] Выполнено задание 3: Проведено тестирование\n",
    "- [x] Удалось достичь accuracy не меньше 0.75"
   ]
  },
  {
   "cell_type": "code",
   "execution_count": null,
   "id": "b3add116-eddc-4c20-923a-3e91d840e834",
   "metadata": {},
   "outputs": [],
   "source": []
  }
 ],
 "metadata": {
  "ExecuteTimeLog": [
   {
    "duration": 1472,
    "start_time": "2022-03-16T12:06:17.993Z"
   },
   {
    "duration": 282,
    "start_time": "2022-03-16T12:06:20.431Z"
   },
   {
    "duration": 5,
    "start_time": "2022-03-16T12:07:26.803Z"
   },
   {
    "duration": 1493,
    "start_time": "2022-03-16T12:07:37.236Z"
   },
   {
    "duration": 5,
    "start_time": "2022-03-16T12:07:38.731Z"
   },
   {
    "duration": 3,
    "start_time": "2022-03-16T12:07:38.741Z"
   },
   {
    "duration": 184,
    "start_time": "2022-03-16T12:07:38.746Z"
   },
   {
    "duration": 20,
    "start_time": "2022-03-16T12:07:38.933Z"
   },
   {
    "duration": 6,
    "start_time": "2022-03-16T12:07:38.955Z"
   },
   {
    "duration": 13,
    "start_time": "2022-03-16T12:07:38.963Z"
   },
   {
    "duration": 32,
    "start_time": "2022-03-16T12:07:38.979Z"
   },
   {
    "duration": 263,
    "start_time": "2022-03-16T12:07:39.014Z"
   },
   {
    "duration": 20,
    "start_time": "2022-03-16T12:07:39.280Z"
   },
   {
    "duration": 15,
    "start_time": "2022-03-16T12:07:39.301Z"
   },
   {
    "duration": 41,
    "start_time": "2022-03-16T12:07:39.318Z"
   },
   {
    "duration": 9,
    "start_time": "2022-03-16T12:07:39.362Z"
   },
   {
    "duration": 6,
    "start_time": "2022-03-16T12:07:39.374Z"
   },
   {
    "duration": 77,
    "start_time": "2022-03-16T12:07:39.382Z"
   },
   {
    "duration": 23,
    "start_time": "2022-03-16T12:07:39.461Z"
   },
   {
    "duration": 25,
    "start_time": "2022-03-16T12:07:39.486Z"
   },
   {
    "duration": 9,
    "start_time": "2022-03-16T12:07:39.514Z"
   },
   {
    "duration": 35,
    "start_time": "2022-03-16T12:07:39.525Z"
   },
   {
    "duration": 6,
    "start_time": "2022-03-16T12:07:39.563Z"
   },
   {
    "duration": 7,
    "start_time": "2022-03-16T12:07:39.571Z"
   },
   {
    "duration": 6,
    "start_time": "2022-03-16T12:07:39.579Z"
   },
   {
    "duration": 11,
    "start_time": "2022-03-16T12:07:39.587Z"
   },
   {
    "duration": 27,
    "start_time": "2022-03-16T12:07:39.600Z"
   },
   {
    "duration": 37,
    "start_time": "2022-03-16T12:07:39.629Z"
   },
   {
    "duration": 25,
    "start_time": "2022-03-16T12:07:39.670Z"
   },
   {
    "duration": 8,
    "start_time": "2022-03-16T12:07:39.697Z"
   },
   {
    "duration": 7,
    "start_time": "2022-03-16T12:07:39.706Z"
   },
   {
    "duration": 45,
    "start_time": "2022-03-16T12:07:39.715Z"
   },
   {
    "duration": 2225,
    "start_time": "2022-03-16T12:07:39.762Z"
   },
   {
    "duration": 1141,
    "start_time": "2022-03-16T12:07:41.989Z"
   },
   {
    "duration": 449,
    "start_time": "2022-03-16T12:07:43.133Z"
   },
   {
    "duration": 458,
    "start_time": "2022-03-16T12:07:43.584Z"
   },
   {
    "duration": 401,
    "start_time": "2022-03-16T12:07:43.643Z"
   },
   {
    "duration": 400,
    "start_time": "2022-03-16T12:07:43.645Z"
   },
   {
    "duration": 399,
    "start_time": "2022-03-16T12:07:43.647Z"
   },
   {
    "duration": 398,
    "start_time": "2022-03-16T12:07:43.649Z"
   },
   {
    "duration": 396,
    "start_time": "2022-03-16T12:07:43.651Z"
   },
   {
    "duration": 391,
    "start_time": "2022-03-16T12:07:43.657Z"
   },
   {
    "duration": 390,
    "start_time": "2022-03-16T12:07:43.659Z"
   },
   {
    "duration": 397,
    "start_time": "2022-03-16T12:07:43.661Z"
   },
   {
    "duration": 396,
    "start_time": "2022-03-16T12:07:43.664Z"
   },
   {
    "duration": 396,
    "start_time": "2022-03-16T12:07:43.665Z"
   },
   {
    "duration": 395,
    "start_time": "2022-03-16T12:07:43.668Z"
   },
   {
    "duration": 393,
    "start_time": "2022-03-16T12:07:43.671Z"
   },
   {
    "duration": 381,
    "start_time": "2022-03-16T12:07:43.685Z"
   },
   {
    "duration": 381,
    "start_time": "2022-03-16T12:07:43.687Z"
   },
   {
    "duration": 380,
    "start_time": "2022-03-16T12:07:43.689Z"
   },
   {
    "duration": 380,
    "start_time": "2022-03-16T12:07:43.691Z"
   },
   {
    "duration": 380,
    "start_time": "2022-03-16T12:07:43.693Z"
   },
   {
    "duration": 379,
    "start_time": "2022-03-16T12:07:43.696Z"
   },
   {
    "duration": 378,
    "start_time": "2022-03-16T12:07:43.698Z"
   },
   {
    "duration": 758,
    "start_time": "2022-03-16T12:08:12.676Z"
   },
   {
    "duration": 19,
    "start_time": "2022-03-16T12:08:16.755Z"
   },
   {
    "duration": 238,
    "start_time": "2022-03-16T12:08:17.139Z"
   },
   {
    "duration": 4,
    "start_time": "2022-03-16T12:08:17.891Z"
   },
   {
    "duration": 6022,
    "start_time": "2022-03-16T12:08:18.092Z"
   },
   {
    "duration": 372,
    "start_time": "2022-03-16T12:08:24.116Z"
   },
   {
    "duration": 566,
    "start_time": "2022-03-16T12:08:24.490Z"
   },
   {
    "duration": 4,
    "start_time": "2022-03-16T12:08:25.058Z"
   },
   {
    "duration": 645,
    "start_time": "2022-03-16T12:08:25.063Z"
   },
   {
    "duration": 404,
    "start_time": "2022-03-16T12:08:25.306Z"
   },
   {
    "duration": 403,
    "start_time": "2022-03-16T12:08:25.308Z"
   },
   {
    "duration": 403,
    "start_time": "2022-03-16T12:08:25.310Z"
   },
   {
    "duration": 402,
    "start_time": "2022-03-16T12:08:25.312Z"
   },
   {
    "duration": 401,
    "start_time": "2022-03-16T12:08:25.314Z"
   },
   {
    "duration": 398,
    "start_time": "2022-03-16T12:08:25.318Z"
   },
   {
    "duration": 397,
    "start_time": "2022-03-16T12:08:25.320Z"
   },
   {
    "duration": 397,
    "start_time": "2022-03-16T12:08:25.321Z"
   },
   {
    "duration": 396,
    "start_time": "2022-03-16T12:08:25.323Z"
   },
   {
    "duration": 170,
    "start_time": "2022-03-16T12:08:26.347Z"
   },
   {
    "duration": 274,
    "start_time": "2022-03-16T12:08:26.612Z"
   },
   {
    "duration": 642,
    "start_time": "2022-03-16T12:08:45.697Z"
   },
   {
    "duration": 4,
    "start_time": "2022-03-16T12:09:22.364Z"
   },
   {
    "duration": 708,
    "start_time": "2022-03-16T12:09:29.781Z"
   },
   {
    "duration": 4,
    "start_time": "2022-03-16T12:09:43.947Z"
   },
   {
    "duration": 4,
    "start_time": "2022-03-16T12:09:46.627Z"
   },
   {
    "duration": 616,
    "start_time": "2022-03-16T12:09:46.812Z"
   },
   {
    "duration": 4,
    "start_time": "2022-03-16T12:10:09.267Z"
   },
   {
    "duration": 631,
    "start_time": "2022-03-16T12:10:09.939Z"
   },
   {
    "duration": 1083,
    "start_time": "2022-03-16T12:10:12.650Z"
   },
   {
    "duration": 18,
    "start_time": "2022-03-16T12:10:17.538Z"
   },
   {
    "duration": 3,
    "start_time": "2022-03-16T12:10:20.369Z"
   },
   {
    "duration": 19,
    "start_time": "2022-03-16T12:10:21.843Z"
   },
   {
    "duration": 6,
    "start_time": "2022-03-16T12:10:22.660Z"
   },
   {
    "duration": 12,
    "start_time": "2022-03-16T12:10:23.425Z"
   },
   {
    "duration": 12,
    "start_time": "2022-03-16T12:10:24.114Z"
   },
   {
    "duration": 14,
    "start_time": "2022-03-16T12:10:24.858Z"
   },
   {
    "duration": 10,
    "start_time": "2022-03-16T12:10:25.162Z"
   },
   {
    "duration": 8,
    "start_time": "2022-03-16T12:10:27.611Z"
   },
   {
    "duration": 13,
    "start_time": "2022-03-16T12:10:57.971Z"
   },
   {
    "duration": 1454,
    "start_time": "2022-03-16T12:11:07.733Z"
   },
   {
    "duration": 3,
    "start_time": "2022-03-16T12:11:09.190Z"
   },
   {
    "duration": 3,
    "start_time": "2022-03-16T12:11:09.198Z"
   },
   {
    "duration": 133,
    "start_time": "2022-03-16T12:11:09.203Z"
   },
   {
    "duration": 16,
    "start_time": "2022-03-16T12:11:09.338Z"
   },
   {
    "duration": 3,
    "start_time": "2022-03-16T12:11:09.357Z"
   },
   {
    "duration": 11,
    "start_time": "2022-03-16T12:11:09.362Z"
   },
   {
    "duration": 30,
    "start_time": "2022-03-16T12:11:09.376Z"
   },
   {
    "duration": 246,
    "start_time": "2022-03-16T12:11:09.409Z"
   },
   {
    "duration": 17,
    "start_time": "2022-03-16T12:11:09.656Z"
   },
   {
    "duration": 16,
    "start_time": "2022-03-16T12:11:09.675Z"
   },
   {
    "duration": 14,
    "start_time": "2022-03-16T12:11:09.693Z"
   },
   {
    "duration": 18,
    "start_time": "2022-03-16T12:11:09.709Z"
   },
   {
    "duration": 5,
    "start_time": "2022-03-16T12:11:09.728Z"
   },
   {
    "duration": 81,
    "start_time": "2022-03-16T12:11:09.735Z"
   },
   {
    "duration": 20,
    "start_time": "2022-03-16T12:11:09.818Z"
   },
   {
    "duration": 31,
    "start_time": "2022-03-16T12:11:09.840Z"
   },
   {
    "duration": 8,
    "start_time": "2022-03-16T12:11:09.873Z"
   },
   {
    "duration": 4,
    "start_time": "2022-03-16T12:11:09.883Z"
   },
   {
    "duration": 6,
    "start_time": "2022-03-16T12:11:09.889Z"
   },
   {
    "duration": 6,
    "start_time": "2022-03-16T12:11:09.898Z"
   },
   {
    "duration": 4,
    "start_time": "2022-03-16T12:11:09.906Z"
   },
   {
    "duration": 59,
    "start_time": "2022-03-16T12:11:09.912Z"
   },
   {
    "duration": 36,
    "start_time": "2022-03-16T12:11:09.973Z"
   },
   {
    "duration": 9,
    "start_time": "2022-03-16T12:11:10.012Z"
   },
   {
    "duration": 48,
    "start_time": "2022-03-16T12:11:10.026Z"
   },
   {
    "duration": 6,
    "start_time": "2022-03-16T12:11:10.077Z"
   },
   {
    "duration": 12,
    "start_time": "2022-03-16T12:11:10.084Z"
   },
   {
    "duration": 30,
    "start_time": "2022-03-16T12:11:10.098Z"
   },
   {
    "duration": 2090,
    "start_time": "2022-03-16T12:11:10.129Z"
   },
   {
    "duration": 979,
    "start_time": "2022-03-16T12:11:12.220Z"
   },
   {
    "duration": 408,
    "start_time": "2022-03-16T12:11:13.201Z"
   },
   {
    "duration": 756,
    "start_time": "2022-03-16T12:11:13.611Z"
   },
   {
    "duration": 19,
    "start_time": "2022-03-16T12:11:14.369Z"
   },
   {
    "duration": 271,
    "start_time": "2022-03-16T12:11:14.390Z"
   },
   {
    "duration": 4,
    "start_time": "2022-03-16T12:11:14.663Z"
   },
   {
    "duration": 6100,
    "start_time": "2022-03-16T12:11:14.669Z"
   },
   {
    "duration": 332,
    "start_time": "2022-03-16T12:11:20.771Z"
   },
   {
    "duration": 609,
    "start_time": "2022-03-16T12:11:21.106Z"
   },
   {
    "duration": 5,
    "start_time": "2022-03-16T12:11:21.717Z"
   },
   {
    "duration": 630,
    "start_time": "2022-03-16T12:11:21.724Z"
   },
   {
    "duration": 893,
    "start_time": "2022-03-16T12:11:22.355Z"
   },
   {
    "duration": 23,
    "start_time": "2022-03-16T12:11:23.249Z"
   },
   {
    "duration": 5,
    "start_time": "2022-03-16T12:11:23.274Z"
   },
   {
    "duration": 26,
    "start_time": "2022-03-16T12:11:23.281Z"
   },
   {
    "duration": 7,
    "start_time": "2022-03-16T12:11:23.309Z"
   },
   {
    "duration": 12,
    "start_time": "2022-03-16T12:11:23.318Z"
   },
   {
    "duration": 36,
    "start_time": "2022-03-16T12:11:23.332Z"
   },
   {
    "duration": 8,
    "start_time": "2022-03-16T12:11:23.370Z"
   },
   {
    "duration": 17,
    "start_time": "2022-03-16T12:11:23.380Z"
   },
   {
    "duration": 10,
    "start_time": "2022-03-16T12:11:23.399Z"
   },
   {
    "duration": 14,
    "start_time": "2022-03-16T12:11:23.411Z"
   }
  ],
  "kernelspec": {
   "display_name": "Python 3 (ipykernel)",
   "language": "python",
   "name": "python3"
  },
  "language_info": {
   "codemirror_mode": {
    "name": "ipython",
    "version": 3
   },
   "file_extension": ".py",
   "mimetype": "text/x-python",
   "name": "python",
   "nbconvert_exporter": "python",
   "pygments_lexer": "ipython3",
   "version": "3.9.9"
  },
  "toc": {
   "base_numbering": 1,
   "nav_menu": {},
   "number_sections": true,
   "sideBar": true,
   "skip_h1_title": true,
   "title_cell": "Table of Contents",
   "title_sidebar": "Contents",
   "toc_cell": false,
   "toc_position": {},
   "toc_section_display": true,
   "toc_window_display": false
  }
 },
 "nbformat": 4,
 "nbformat_minor": 5
}
