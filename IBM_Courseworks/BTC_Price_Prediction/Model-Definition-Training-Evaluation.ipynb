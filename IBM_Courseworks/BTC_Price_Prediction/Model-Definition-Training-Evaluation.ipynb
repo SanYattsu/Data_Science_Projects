{
 "cells": [
  {
   "cell_type": "markdown",
   "metadata": {
    "tags": []
   },
   "source": [
    "# Import Libraries and Load the Data"
   ]
  },
  {
   "cell_type": "code",
   "execution_count": 1,
   "metadata": {},
   "outputs": [],
   "source": [
    "import pandas as pd\n",
    "import numpy as np; np.random.seed(38)\n",
    "import math\n",
    "from datetime import datetime\n",
    "\n",
    "import matplotlib.pyplot as plt\n",
    "\n",
    "import tensorflow as tf\n",
    "from keras.models import Sequential\n",
    "from keras.models import load_model\n",
    "from keras.layers import LSTM, Dense\n",
    "from keras.layers import TextVectorization\n",
    "from keras.layers.convolutional import Conv1D\n",
    "from keras.layers.convolutional import MaxPooling1D\n",
    "from keras.layers.embeddings import Embedding\n",
    "from keras.preprocessing import sequence\n",
    "\n",
    "from sklearn.preprocessing import MinMaxScaler\n",
    "from sklearn.metrics import mean_squared_error\n",
    "\n",
    "import h5py"
   ]
  },
  {
   "cell_type": "code",
   "execution_count": 2,
   "metadata": {},
   "outputs": [],
   "source": [
    "# Load data\n",
    "btc_df = pd.read_csv('BTC_Finale.csv')"
   ]
  },
  {
   "cell_type": "code",
   "execution_count": 3,
   "metadata": {},
   "outputs": [],
   "source": [
    "btc_df.date = pd.to_datetime(btc_df.date, infer_datetime_format=True)"
   ]
  },
  {
   "cell_type": "code",
   "execution_count": 4,
   "metadata": {},
   "outputs": [
    {
     "data": {
      "text/html": [
       "<div>\n",
       "<style scoped>\n",
       "    .dataframe tbody tr th:only-of-type {\n",
       "        vertical-align: middle;\n",
       "    }\n",
       "\n",
       "    .dataframe tbody tr th {\n",
       "        vertical-align: top;\n",
       "    }\n",
       "\n",
       "    .dataframe thead th {\n",
       "        text-align: right;\n",
       "    }\n",
       "</style>\n",
       "<table border=\"1\" class=\"dataframe\">\n",
       "  <thead>\n",
       "    <tr style=\"text-align: right;\">\n",
       "      <th></th>\n",
       "      <th>date</th>\n",
       "      <th>open</th>\n",
       "      <th>high</th>\n",
       "      <th>low</th>\n",
       "      <th>close</th>\n",
       "      <th>volume</th>\n",
       "      <th>price_var</th>\n",
       "      <th>news</th>\n",
       "      <th>trend</th>\n",
       "    </tr>\n",
       "  </thead>\n",
       "  <tbody>\n",
       "    <tr>\n",
       "      <th>0</th>\n",
       "      <td>2021-01-25 16:00:00</td>\n",
       "      <td>34188.20</td>\n",
       "      <td>34885.56</td>\n",
       "      <td>33616.56</td>\n",
       "      <td>33901.01</td>\n",
       "      <td>136344.59</td>\n",
       "      <td>-0.008400</td>\n",
       "      <td>none</td>\n",
       "      <td>1.0</td>\n",
       "    </tr>\n",
       "    <tr>\n",
       "      <th>1</th>\n",
       "      <td>2021-01-25 20:00:00</td>\n",
       "      <td>33901.01</td>\n",
       "      <td>34262.94</td>\n",
       "      <td>33055.00</td>\n",
       "      <td>33476.34</td>\n",
       "      <td>133618.13</td>\n",
       "      <td>-0.012527</td>\n",
       "      <td>none</td>\n",
       "      <td>1.0</td>\n",
       "    </tr>\n",
       "    <tr>\n",
       "      <th>2</th>\n",
       "      <td>2021-01-26 00:00:00</td>\n",
       "      <td>33476.34</td>\n",
       "      <td>33476.34</td>\n",
       "      <td>31775.00</td>\n",
       "      <td>32518.40</td>\n",
       "      <td>128086.22</td>\n",
       "      <td>-0.028615</td>\n",
       "      <td>none</td>\n",
       "      <td>1.0</td>\n",
       "    </tr>\n",
       "    <tr>\n",
       "      <th>3</th>\n",
       "      <td>2021-01-26 04:00:00</td>\n",
       "      <td>32518.40</td>\n",
       "      <td>32850.88</td>\n",
       "      <td>31459.59</td>\n",
       "      <td>32038.79</td>\n",
       "      <td>127412.83</td>\n",
       "      <td>-0.014749</td>\n",
       "      <td>none</td>\n",
       "      <td>1.0</td>\n",
       "    </tr>\n",
       "    <tr>\n",
       "      <th>4</th>\n",
       "      <td>2021-01-26 08:00:00</td>\n",
       "      <td>32038.79</td>\n",
       "      <td>32353.33</td>\n",
       "      <td>31149.86</td>\n",
       "      <td>31914.98</td>\n",
       "      <td>125831.07</td>\n",
       "      <td>-0.003864</td>\n",
       "      <td>none</td>\n",
       "      <td>1.0</td>\n",
       "    </tr>\n",
       "  </tbody>\n",
       "</table>\n",
       "</div>"
      ],
      "text/plain": [
       "                 date      open      high       low     close     volume  \\\n",
       "0 2021-01-25 16:00:00  34188.20  34885.56  33616.56  33901.01  136344.59   \n",
       "1 2021-01-25 20:00:00  33901.01  34262.94  33055.00  33476.34  133618.13   \n",
       "2 2021-01-26 00:00:00  33476.34  33476.34  31775.00  32518.40  128086.22   \n",
       "3 2021-01-26 04:00:00  32518.40  32850.88  31459.59  32038.79  127412.83   \n",
       "4 2021-01-26 08:00:00  32038.79  32353.33  31149.86  31914.98  125831.07   \n",
       "\n",
       "   price_var  news  trend  \n",
       "0  -0.008400  none    1.0  \n",
       "1  -0.012527  none    1.0  \n",
       "2  -0.028615  none    1.0  \n",
       "3  -0.014749  none    1.0  \n",
       "4  -0.003864  none    1.0  "
      ]
     },
     "execution_count": 4,
     "metadata": {},
     "output_type": "execute_result"
    }
   ],
   "source": [
    "btc_df.head()"
   ]
  },
  {
   "cell_type": "markdown",
   "metadata": {},
   "source": [
    "# Model Definition"
   ]
  },
  {
   "cell_type": "markdown",
   "metadata": {},
   "source": [
    "**We try to solve two different tasks:**\n",
    "- price prediction based on Volume and previous Close value.\n",
    "- trend prediction depending on news.\n",
    "\n",
    "For first task LSTM Model would be used. It proved to be good for such problems.\n",
    "As for trend prediction, we will use Text Vectorization with labels to solve classification problem."
   ]
  },
  {
   "cell_type": "markdown",
   "metadata": {},
   "source": [
    "## LSTM Model - Task 1"
   ]
  },
  {
   "cell_type": "markdown",
   "metadata": {},
   "source": [
    "### Batch-size and trainings-set size"
   ]
  },
  {
   "cell_type": "markdown",
   "metadata": {},
   "source": [
    "With stateful LSTMs the trainings-set size must be divisible without remainder by the batch-size"
   ]
  },
  {
   "cell_type": "code",
   "execution_count": 5,
   "metadata": {},
   "outputs": [],
   "source": [
    "# Defining the batch size and the number of epochs\n",
    "batch_size = 64\n",
    "epochs = 160\n",
    "timesteps = 30 # 5 days for 4-hour time frame"
   ]
  },
  {
   "cell_type": "code",
   "execution_count": 6,
   "metadata": {},
   "outputs": [],
   "source": [
    "# Create MinMaxScalers. We need 2 because array dimensions is different.\n",
    "scaler = MinMaxScaler()\n",
    "scaler2 = MinMaxScaler()"
   ]
  },
  {
   "cell_type": "markdown",
   "metadata": {},
   "source": [
    "Function to split data to train and test."
   ]
  },
  {
   "cell_type": "code",
   "execution_count": 7,
   "metadata": {},
   "outputs": [],
   "source": [
    "# Construct train and test sets\n",
    "def get_train_length(df, test_percent):\n",
    "    \n",
    "    # Number of features\n",
    "    df_c_len = len(df.columns)\n",
    "    df = df.values\n",
    "    \n",
    "    # Define arrays\n",
    "    X_train = []\n",
    "    y_train = []\n",
    "    X_test = []\n",
    "    \n",
    "    ###\n",
    "    \n",
    "    # Substract test_percent to be excluded from training, reserved for testset\n",
    "    train_raw_length = np.floor(len(df) *  (1 - test_percent)).astype(int)\n",
    "    remainder = train_raw_length % batch_size\n",
    "    # The value is now a multiple of batch_size\n",
    "    train_length = train_raw_length - remainder\n",
    "    upper_train = train_length + timesteps*2\n",
    "    \n",
    "    # Find test_length and upper_test for testset\n",
    "    test_raw_length = np.floor(len(df) - timesteps*2 - upper_train).astype(int)\n",
    "    remainder = test_raw_length % batch_size\n",
    "    # The value is now a multiple of batch_size\n",
    "    test_length = test_raw_length - remainder\n",
    "    upper_test = upper_train + test_length + timesteps*2\n",
    "    \n",
    "    # Real price values\n",
    "    real_price = []\n",
    "    real_price = df[upper_train:upper_test,[df_c_len-1]]\n",
    "    scaler2.fit_transform(real_price)\n",
    "    \n",
    "    ###\n",
    "    \n",
    "    # Subsetting training and test sets\n",
    "    train_set = df[:upper_train]\n",
    "    test_set = df[upper_train:upper_test]\n",
    "       \n",
    "    # Scaling\n",
    "    train_scaled = scaler.fit_transform(np.float64(train_set))\n",
    "    test_scaled = scaler.fit_transform(np.float64(test_set))\n",
    "        \n",
    "    ###\n",
    "    \n",
    "    # Creating a data structure with n timesteps\n",
    "    for i in range(timesteps, upper_train - timesteps): \n",
    "        X_train.append(train_scaled[i-timesteps:i,:])\n",
    "        y_train.append(train_scaled[i:i+timesteps,[-1]])\n",
    "        \n",
    "    for i in range(timesteps, upper_test - upper_train - timesteps):\n",
    "        X_test.append(test_scaled[i-timesteps:i,:])\n",
    "        \n",
    "    return np.array(X_train), np.array(X_test), np.array(y_train), np.array(real_price)"
   ]
  },
  {
   "cell_type": "markdown",
   "metadata": {},
   "source": [
    "Call the function."
   ]
  },
  {
   "cell_type": "code",
   "execution_count": 8,
   "metadata": {},
   "outputs": [],
   "source": [
    "X_train, X_test, y_train, real_price = get_train_length(btc_df[['volume','close']], 0.15)"
   ]
  },
  {
   "cell_type": "code",
   "execution_count": 9,
   "metadata": {},
   "outputs": [
    {
     "name": "stdout",
     "output_type": "stream",
     "text": [
      "(1856, 30, 2)\n",
      "(1856, 30, 1)\n",
      "(256, 30, 2)\n"
     ]
    }
   ],
   "source": [
    "# Reshaping\n",
    "X_train = np.reshape(X_train, (X_train.shape[0], X_train.shape[1], 2))\n",
    "y_train = np.reshape(y_train, (y_train.shape[0], y_train.shape[1], 1))\n",
    "X_test = np.reshape(X_test, (X_test.shape[0], X_test.shape[1], 2))\n",
    "\n",
    "print(X_train.shape)\n",
    "print(y_train.shape)\n",
    "print(X_test.shape)"
   ]
  },
  {
   "cell_type": "markdown",
   "metadata": {},
   "source": [
    "### Initialising the Model"
   ]
  },
  {
   "cell_type": "code",
   "execution_count": 10,
   "metadata": {},
   "outputs": [
    {
     "name": "stdout",
     "output_type": "stream",
     "text": [
      "Model: \"sequential\"\n",
      "_________________________________________________________________\n",
      " Layer (type)                Output Shape              Param #   \n",
      "=================================================================\n",
      " lstm (LSTM)                 (64, 30, 10)              520       \n",
      "                                                                 \n",
      " lstm_1 (LSTM)               (64, 30, 10)              840       \n",
      "                                                                 \n",
      " dense (Dense)               (64, 30, 1)               11        \n",
      "                                                                 \n",
      "=================================================================\n",
      "Total params: 1,371\n",
      "Trainable params: 1,371\n",
      "Non-trainable params: 0\n",
      "_________________________________________________________________\n"
     ]
    }
   ],
   "source": [
    "model = Sequential()\n",
    "model.add(LSTM(10, stateful=True, return_sequences=True,\n",
    "               batch_input_shape=(batch_size,timesteps,2))\n",
    ")\n",
    "model.add(LSTM(10, stateful=True, return_sequences=True))\n",
    "model.add(Dense(1))\n",
    "model.compile(loss='mae', optimizer='adam', metrics=['mse'])\n",
    "model.summary()"
   ]
  },
  {
   "cell_type": "code",
   "execution_count": 11,
   "metadata": {
    "scrolled": true,
    "tags": []
   },
   "outputs": [
    {
     "name": "stdout",
     "output_type": "stream",
     "text": [
      "29/29 [==============================] - 2s 7ms/step - loss: 0.3217 - mse: 0.1654\n",
      "29/29 [==============================] - 0s 7ms/step - loss: 0.2125 - mse: 0.0674\n",
      "29/29 [==============================] - 0s 7ms/step - loss: 0.1581 - mse: 0.0350\n",
      "29/29 [==============================] - 0s 7ms/step - loss: 0.1371 - mse: 0.0275\n",
      "29/29 [==============================] - 0s 7ms/step - loss: 0.1197 - mse: 0.0227\n",
      "29/29 [==============================] - 0s 7ms/step - loss: 0.1112 - mse: 0.0211\n",
      "29/29 [==============================] - 0s 7ms/step - loss: 0.1089 - mse: 0.0205\n",
      "29/29 [==============================] - 0s 7ms/step - loss: 0.1089 - mse: 0.0205A: 0s - loss: 0.1098 - mse: 0.021\n",
      "29/29 [==============================] - 0s 7ms/step - loss: 0.1078 - mse: 0.0201\n",
      "29/29 [==============================] - 0s 7ms/step - loss: 0.1063 - mse: 0.0195\n",
      "29/29 [==============================] - 0s 7ms/step - loss: 0.1053 - mse: 0.0191\n",
      "29/29 [==============================] - 0s 7ms/step - loss: 0.1044 - mse: 0.0188\n",
      "29/29 [==============================] - 0s 7ms/step - loss: 0.1037 - mse: 0.0185\n",
      "29/29 [==============================] - 0s 7ms/step - loss: 0.1030 - mse: 0.0183\n",
      "29/29 [==============================] - 0s 7ms/step - loss: 0.1024 - mse: 0.0180\n",
      "29/29 [==============================] - 0s 7ms/step - loss: 0.1019 - mse: 0.0178\n",
      "29/29 [==============================] - 0s 7ms/step - loss: 0.1015 - mse: 0.0177\n",
      "29/29 [==============================] - 0s 7ms/step - loss: 0.1010 - mse: 0.0175\n",
      "29/29 [==============================] - 0s 7ms/step - loss: 0.1005 - mse: 0.0173\n",
      "29/29 [==============================] - 0s 7ms/step - loss: 0.1002 - mse: 0.0172\n",
      "29/29 [==============================] - 0s 7ms/step - loss: 0.0999 - mse: 0.0171\n",
      "29/29 [==============================] - 0s 7ms/step - loss: 0.0995 - mse: 0.0169\n",
      "29/29 [==============================] - 0s 7ms/step - loss: 0.0992 - mse: 0.0168\n",
      "29/29 [==============================] - 0s 7ms/step - loss: 0.0989 - mse: 0.0167\n",
      "29/29 [==============================] - 0s 7ms/step - loss: 0.0986 - mse: 0.0166\n",
      "29/29 [==============================] - 0s 6ms/step - loss: 0.0984 - mse: 0.0165\n",
      "29/29 [==============================] - 0s 7ms/step - loss: 0.0981 - mse: 0.0164\n",
      "29/29 [==============================] - 0s 7ms/step - loss: 0.0978 - mse: 0.0163\n",
      "29/29 [==============================] - 0s 7ms/step - loss: 0.0976 - mse: 0.0162\n",
      "29/29 [==============================] - 0s 7ms/step - loss: 0.0974 - mse: 0.0161\n",
      "29/29 [==============================] - 0s 7ms/step - loss: 0.0972 - mse: 0.0160\n",
      "29/29 [==============================] - 0s 7ms/step - loss: 0.0970 - mse: 0.0160\n",
      "29/29 [==============================] - 0s 7ms/step - loss: 0.0968 - mse: 0.0159\n",
      "29/29 [==============================] - 0s 7ms/step - loss: 0.0966 - mse: 0.0158\n",
      "29/29 [==============================] - 0s 7ms/step - loss: 0.0964 - mse: 0.0157\n",
      "29/29 [==============================] - 0s 7ms/step - loss: 0.0962 - mse: 0.0157\n",
      "29/29 [==============================] - 0s 7ms/step - loss: 0.0960 - mse: 0.0156\n",
      "29/29 [==============================] - 0s 7ms/step - loss: 0.0959 - mse: 0.0155\n",
      "29/29 [==============================] - 0s 7ms/step - loss: 0.0957 - mse: 0.0155\n",
      "29/29 [==============================] - 0s 7ms/step - loss: 0.0955 - mse: 0.0154\n",
      "29/29 [==============================] - 0s 7ms/step - loss: 0.0954 - mse: 0.0153\n",
      "29/29 [==============================] - 0s 6ms/step - loss: 0.0952 - mse: 0.0153\n",
      "29/29 [==============================] - 0s 7ms/step - loss: 0.0951 - mse: 0.0152\n",
      "29/29 [==============================] - 0s 7ms/step - loss: 0.0949 - mse: 0.0152\n",
      "29/29 [==============================] - 0s 7ms/step - loss: 0.0947 - mse: 0.0151A: 0s - loss: 0.0960 - mse: 0.015\n",
      "29/29 [==============================] - 0s 7ms/step - loss: 0.0946 - mse: 0.0151\n",
      "29/29 [==============================] - 0s 6ms/step - loss: 0.0945 - mse: 0.0150\n",
      "29/29 [==============================] - 0s 7ms/step - loss: 0.0944 - mse: 0.0150\n",
      "29/29 [==============================] - 0s 7ms/step - loss: 0.0943 - mse: 0.0150\n",
      "29/29 [==============================] - 0s 7ms/step - loss: 0.0942 - mse: 0.0149\n",
      "29/29 [==============================] - 0s 7ms/step - loss: 0.0940 - mse: 0.0149\n",
      "29/29 [==============================] - 0s 7ms/step - loss: 0.0939 - mse: 0.0148\n",
      "29/29 [==============================] - 0s 7ms/step - loss: 0.0938 - mse: 0.0148\n",
      "29/29 [==============================] - 0s 7ms/step - loss: 0.0937 - mse: 0.0147\n",
      "29/29 [==============================] - 0s 7ms/step - loss: 0.0936 - mse: 0.0147\n",
      "29/29 [==============================] - 0s 7ms/step - loss: 0.0935 - mse: 0.0147\n",
      "29/29 [==============================] - 0s 7ms/step - loss: 0.0933 - mse: 0.0146\n",
      "29/29 [==============================] - 0s 7ms/step - loss: 0.0932 - mse: 0.0146\n",
      "29/29 [==============================] - 0s 7ms/step - loss: 0.0931 - mse: 0.0146\n",
      "29/29 [==============================] - 0s 7ms/step - loss: 0.0930 - mse: 0.0145\n",
      "29/29 [==============================] - 0s 7ms/step - loss: 0.0929 - mse: 0.0145\n",
      "29/29 [==============================] - 0s 7ms/step - loss: 0.0927 - mse: 0.0144\n",
      "29/29 [==============================] - 0s 7ms/step - loss: 0.0926 - mse: 0.0144\n",
      "29/29 [==============================] - 0s 7ms/step - loss: 0.0925 - mse: 0.0143\n",
      "29/29 [==============================] - 0s 7ms/step - loss: 0.0924 - mse: 0.0143\n",
      "29/29 [==============================] - 0s 7ms/step - loss: 0.0923 - mse: 0.0143\n",
      "29/29 [==============================] - 0s 7ms/step - loss: 0.0922 - mse: 0.0142\n",
      "29/29 [==============================] - 0s 7ms/step - loss: 0.0921 - mse: 0.0142\n",
      "29/29 [==============================] - 0s 7ms/step - loss: 0.0920 - mse: 0.0142\n",
      "29/29 [==============================] - 0s 7ms/step - loss: 0.0919 - mse: 0.0141\n",
      "29/29 [==============================] - 0s 7ms/step - loss: 0.0918 - mse: 0.0141\n",
      "29/29 [==============================] - 0s 7ms/step - loss: 0.0917 - mse: 0.0141\n",
      "29/29 [==============================] - 0s 7ms/step - loss: 0.0916 - mse: 0.0140\n",
      "29/29 [==============================] - 0s 7ms/step - loss: 0.0915 - mse: 0.0140\n",
      "29/29 [==============================] - 0s 7ms/step - loss: 0.0914 - mse: 0.0140\n",
      "29/29 [==============================] - 0s 7ms/step - loss: 0.0913 - mse: 0.0139\n",
      "29/29 [==============================] - 0s 7ms/step - loss: 0.0912 - mse: 0.0139\n",
      "29/29 [==============================] - 0s 7ms/step - loss: 0.0911 - mse: 0.0139\n",
      "29/29 [==============================] - 0s 7ms/step - loss: 0.0910 - mse: 0.0139\n",
      "29/29 [==============================] - 0s 7ms/step - loss: 0.0909 - mse: 0.0138\n",
      "29/29 [==============================] - 0s 7ms/step - loss: 0.0908 - mse: 0.0138\n",
      "29/29 [==============================] - 0s 7ms/step - loss: 0.0907 - mse: 0.0138\n",
      "29/29 [==============================] - 0s 7ms/step - loss: 0.0906 - mse: 0.0137\n",
      "29/29 [==============================] - 0s 7ms/step - loss: 0.0905 - mse: 0.0137\n",
      "29/29 [==============================] - 0s 7ms/step - loss: 0.0904 - mse: 0.0137\n",
      "29/29 [==============================] - 0s 7ms/step - loss: 0.0904 - mse: 0.0137\n",
      "29/29 [==============================] - 0s 7ms/step - loss: 0.0903 - mse: 0.0136\n",
      "29/29 [==============================] - 0s 7ms/step - loss: 0.0902 - mse: 0.0136\n",
      "29/29 [==============================] - 0s 7ms/step - loss: 0.0901 - mse: 0.0136\n",
      "29/29 [==============================] - 0s 7ms/step - loss: 0.0900 - mse: 0.0135\n",
      "29/29 [==============================] - 0s 7ms/step - loss: 0.0900 - mse: 0.0135\n",
      "29/29 [==============================] - 0s 7ms/step - loss: 0.0899 - mse: 0.0135\n",
      "29/29 [==============================] - 0s 7ms/step - loss: 0.0898 - mse: 0.0135\n",
      "29/29 [==============================] - 0s 7ms/step - loss: 0.0897 - mse: 0.0135\n",
      "29/29 [==============================] - 0s 7ms/step - loss: 0.0896 - mse: 0.0134\n",
      "29/29 [==============================] - 0s 7ms/step - loss: 0.0895 - mse: 0.0134\n",
      "29/29 [==============================] - 0s 7ms/step - loss: 0.0895 - mse: 0.0134\n",
      "29/29 [==============================] - 0s 6ms/step - loss: 0.0894 - mse: 0.0134\n",
      "29/29 [==============================] - 0s 7ms/step - loss: 0.0893 - mse: 0.0133\n",
      "29/29 [==============================] - 0s 7ms/step - loss: 0.0893 - mse: 0.0133\n",
      "29/29 [==============================] - 0s 7ms/step - loss: 0.0892 - mse: 0.0133\n",
      "29/29 [==============================] - 0s 7ms/step - loss: 0.0891 - mse: 0.0133\n",
      "29/29 [==============================] - 0s 7ms/step - loss: 0.0891 - mse: 0.0133\n",
      "29/29 [==============================] - 0s 7ms/step - loss: 0.0890 - mse: 0.0132A: 0s - loss: 0.0907 - mse: 0.013\n",
      "29/29 [==============================] - 0s 7ms/step - loss: 0.0889 - mse: 0.0132\n",
      "29/29 [==============================] - 0s 7ms/step - loss: 0.0889 - mse: 0.0132\n",
      "29/29 [==============================] - 0s 7ms/step - loss: 0.0888 - mse: 0.0132\n",
      "29/29 [==============================] - 0s 7ms/step - loss: 0.0887 - mse: 0.0131\n",
      "29/29 [==============================] - 0s 7ms/step - loss: 0.0886 - mse: 0.0131\n",
      "29/29 [==============================] - 0s 7ms/step - loss: 0.0886 - mse: 0.0131\n",
      "29/29 [==============================] - 0s 7ms/step - loss: 0.0885 - mse: 0.0131\n",
      "29/29 [==============================] - 0s 7ms/step - loss: 0.0885 - mse: 0.0131\n",
      "29/29 [==============================] - 0s 7ms/step - loss: 0.0884 - mse: 0.0130\n",
      "29/29 [==============================] - 0s 7ms/step - loss: 0.0883 - mse: 0.0130\n",
      "29/29 [==============================] - 0s 7ms/step - loss: 0.0883 - mse: 0.0130A: 0s - loss: 0.0900 - mse: 0.013\n",
      "29/29 [==============================] - 0s 7ms/step - loss: 0.0882 - mse: 0.0130\n",
      "29/29 [==============================] - 0s 7ms/step - loss: 0.0882 - mse: 0.0130\n",
      "29/29 [==============================] - 0s 7ms/step - loss: 0.0881 - mse: 0.0129\n",
      "29/29 [==============================] - 0s 7ms/step - loss: 0.0880 - mse: 0.0129\n",
      "29/29 [==============================] - 0s 7ms/step - loss: 0.0880 - mse: 0.0129\n",
      "29/29 [==============================] - 0s 6ms/step - loss: 0.0879 - mse: 0.0129\n",
      "29/29 [==============================] - 0s 7ms/step - loss: 0.0879 - mse: 0.0129\n",
      "29/29 [==============================] - 0s 7ms/step - loss: 0.0878 - mse: 0.0129\n",
      "29/29 [==============================] - 0s 7ms/step - loss: 0.0878 - mse: 0.0128\n",
      "29/29 [==============================] - 0s 7ms/step - loss: 0.0877 - mse: 0.0128\n",
      "29/29 [==============================] - 0s 7ms/step - loss: 0.0877 - mse: 0.0128\n",
      "29/29 [==============================] - 0s 7ms/step - loss: 0.0876 - mse: 0.0128\n",
      "29/29 [==============================] - 0s 7ms/step - loss: 0.0876 - mse: 0.0128\n",
      "29/29 [==============================] - 0s 7ms/step - loss: 0.0875 - mse: 0.0128\n",
      "29/29 [==============================] - 0s 7ms/step - loss: 0.0875 - mse: 0.0128\n",
      "29/29 [==============================] - 0s 7ms/step - loss: 0.0874 - mse: 0.0127\n",
      "29/29 [==============================] - 0s 7ms/step - loss: 0.0873 - mse: 0.0127\n",
      "29/29 [==============================] - 0s 7ms/step - loss: 0.0873 - mse: 0.0127\n",
      "29/29 [==============================] - 0s 7ms/step - loss: 0.0873 - mse: 0.0127\n",
      "29/29 [==============================] - 0s 7ms/step - loss: 0.0872 - mse: 0.0127\n",
      "29/29 [==============================] - 0s 7ms/step - loss: 0.0872 - mse: 0.0127\n",
      "29/29 [==============================] - 0s 7ms/step - loss: 0.0871 - mse: 0.0127\n",
      "29/29 [==============================] - 0s 7ms/step - loss: 0.0871 - mse: 0.0127\n",
      "29/29 [==============================] - 0s 7ms/step - loss: 0.0871 - mse: 0.0126\n",
      "29/29 [==============================] - 0s 7ms/step - loss: 0.0870 - mse: 0.0126\n",
      "29/29 [==============================] - 0s 7ms/step - loss: 0.0870 - mse: 0.0126\n",
      "29/29 [==============================] - 0s 6ms/step - loss: 0.0870 - mse: 0.0126\n",
      "29/29 [==============================] - 0s 7ms/step - loss: 0.0869 - mse: 0.0126\n",
      "29/29 [==============================] - 0s 7ms/step - loss: 0.0868 - mse: 0.0126\n",
      "29/29 [==============================] - 0s 7ms/step - loss: 0.0868 - mse: 0.0126\n",
      "29/29 [==============================] - 0s 7ms/step - loss: 0.0868 - mse: 0.0125\n",
      "29/29 [==============================] - 0s 7ms/step - loss: 0.0867 - mse: 0.0125\n",
      "29/29 [==============================] - 0s 7ms/step - loss: 0.0867 - mse: 0.0125\n",
      "29/29 [==============================] - 0s 7ms/step - loss: 0.0866 - mse: 0.0125\n",
      "29/29 [==============================] - 0s 7ms/step - loss: 0.0866 - mse: 0.0125\n",
      "29/29 [==============================] - 0s 7ms/step - loss: 0.0866 - mse: 0.0125\n",
      "29/29 [==============================] - 0s 7ms/step - loss: 0.0865 - mse: 0.0125\n",
      "29/29 [==============================] - 0s 7ms/step - loss: 0.0865 - mse: 0.0125\n",
      "29/29 [==============================] - 0s 7ms/step - loss: 0.0865 - mse: 0.0125\n",
      "29/29 [==============================] - 0s 7ms/step - loss: 0.0864 - mse: 0.0124\n",
      "29/29 [==============================] - 0s 7ms/step - loss: 0.0864 - mse: 0.0124\n",
      "29/29 [==============================] - 0s 7ms/step - loss: 0.0864 - mse: 0.0124\n",
      "29/29 [==============================] - 0s 7ms/step - loss: 0.0863 - mse: 0.0124\n",
      "29/29 [==============================] - 0s 7ms/step - loss: 0.0863 - mse: 0.0124\n",
      "29/29 [==============================] - 0s 7ms/step - loss: 0.0863 - mse: 0.0124\n"
     ]
    }
   ],
   "source": [
    "# Statefull\n",
    "for i in range(epochs):\n",
    "    # Run through all data but the cell, hidden state are used for the next batch.\n",
    "    model.fit(X_train, y_train, shuffle=False, verbose=1,\n",
    "                      epochs=1, batch_size=batch_size)\n",
    "    # Resets only the states. The weights, cell and hidden are kept.\n",
    "    model.reset_states() "
   ]
  },
  {
   "cell_type": "code",
   "execution_count": 12,
   "metadata": {},
   "outputs": [],
   "source": [
    "# Predict price\n",
    "y_hat = model.predict(X_test, batch_size=batch_size)\n",
    "model.reset_states()"
   ]
  },
  {
   "cell_type": "code",
   "execution_count": 13,
   "metadata": {},
   "outputs": [
    {
     "name": "stdout",
     "output_type": "stream",
     "text": [
      "(226, 1)\n"
     ]
    }
   ],
   "source": [
    "# Reshaping\n",
    "y_hat = np.reshape(y_hat, (y_hat.shape[0], y_hat.shape[1]))\n",
    "# Inverse transform\n",
    "y_hat = scaler2.inverse_transform(y_hat)\n",
    "#creating y_test data\n",
    "y_test = []\n",
    "for j in range(0, len(X_test) - timesteps):\n",
    "    y_test = np.append(y_test, y_hat[j, timesteps-1])\n",
    "# reshaping\n",
    "y_test = np.reshape(y_test, (y_test.shape[0], 1))\n",
    "print(y_test.shape)"
   ]
  },
  {
   "cell_type": "markdown",
   "metadata": {},
   "source": [
    "Let's visualize the results"
   ]
  },
  {
   "cell_type": "code",
   "execution_count": 14,
   "metadata": {},
   "outputs": [
    {
     "data": {
      "image/png": "[encoded data removed]",
      "text/plain": [
       "<Figure size 432x288 with 1 Axes>"
      ]
     },
     "metadata": {
      "needs_background": "light"
     },
     "output_type": "display_data"
    }
   ],
   "source": [
    "plt.plot(real_price[timesteps:len(y_test)].astype(float), color = 'red', label = 'BTC-USD')\n",
    "plt.plot(y_test[0:len(y_test) - timesteps].astype(float), color = 'blue', label = 'Predicted BTC-USD')\n",
    "plt.title('BTC-USD Prediction')\n",
    "plt.xlabel('Time step')\n",
    "plt.ylabel('BTC Prices')\n",
    "plt.legend()\n",
    "plt.show()"
   ]
  },
  {
   "cell_type": "markdown",
   "metadata": {},
   "source": [
    "### MSE (mean sqared error)"
   ]
  },
  {
   "cell_type": "code",
   "execution_count": 15,
   "metadata": {},
   "outputs": [
    {
     "data": {
      "text/plain": [
       "766.7210288597211"
      ]
     },
     "execution_count": 15,
     "metadata": {},
     "output_type": "execute_result"
    }
   ],
   "source": [
    "mse = math.sqrt(mean_squared_error(real_price[timesteps:len(y_test)], y_test[0:len(y_test) - timesteps]))\n",
    "mse"
   ]
  },
  {
   "cell_type": "markdown",
   "metadata": {},
   "source": [
    "The result is good. It's can be clearly seen than price tend to move around predicted values."
   ]
  },
  {
   "cell_type": "markdown",
   "metadata": {},
   "source": [
    "---"
   ]
  },
  {
   "cell_type": "markdown",
   "metadata": {},
   "source": [
    "## Text Model - Task 2"
   ]
  },
  {
   "cell_type": "markdown",
   "metadata": {},
   "source": [
    "### Text vectorization fot train and test sets."
   ]
  },
  {
   "cell_type": "markdown",
   "metadata": {},
   "source": [
    "Define train and test sets."
   ]
  },
  {
   "cell_type": "code",
   "execution_count": 22,
   "metadata": {},
   "outputs": [],
   "source": [
    "# We will only use data which have news.\n",
    "btc_df_ = btc_df[btc_df.news != 'none']\n",
    "\n",
    "# 15% is dedicated for test.\n",
    "dev_len = int(len(btc_df_) * 0.85)\n",
    "\n",
    "X_train = btc_df_.news[:dev_len].values\n",
    "y_train = btc_df_.trend[:dev_len].values\n",
    "X_test= btc_df_.news[dev_len:-30].values\n",
    "y_test = btc_df_.trend[dev_len:-30].values"
   ]
  },
  {
   "cell_type": "code",
   "execution_count": 23,
   "metadata": {},
   "outputs": [],
   "source": [
    "# Vectorize the text\n",
    "vectorizer = TextVectorization()\n",
    "vectorizer.adapt(X_train)\n",
    "X_train_ = vectorizer(X_train)\n",
    "X_test_ = vectorizer(X_test)"
   ]
  },
  {
   "cell_type": "code",
   "execution_count": 24,
   "metadata": {},
   "outputs": [],
   "source": [
    "# Truncate and pad input sequences\n",
    "max_length = 120\n",
    "X_train_ = sequence.pad_sequences(X_train_, maxlen=max_length)\n",
    "X_test_ = sequence.pad_sequences(X_test_, maxlen=max_length)"
   ]
  },
  {
   "cell_type": "markdown",
   "metadata": {},
   "source": [
    "### Initialising the Model"
   ]
  },
  {
   "cell_type": "code",
   "execution_count": 25,
   "metadata": {},
   "outputs": [
    {
     "name": "stdout",
     "output_type": "stream",
     "text": [
      "Model: \"sequential_2\"\n",
      "_________________________________________________________________\n",
      " Layer (type)                Output Shape              Param #   \n",
      "=================================================================\n",
      " embedding_1 (Embedding)     (None, 120, 32)           160000    \n",
      "                                                                 \n",
      " conv1d_1 (Conv1D)           (None, 120, 32)           3104      \n",
      "                                                                 \n",
      " max_pooling1d_1 (MaxPooling  (None, 60, 32)           0         \n",
      " 1D)                                                             \n",
      "                                                                 \n",
      " lstm_3 (LSTM)               (None, 100)               53200     \n",
      "                                                                 \n",
      " dense_2 (Dense)             (None, 1)                 101       \n",
      "                                                                 \n",
      "=================================================================\n",
      "Total params: 216,405\n",
      "Trainable params: 216,405\n",
      "Non-trainable params: 0\n",
      "_________________________________________________________________\n",
      "None\n"
     ]
    }
   ],
   "source": [
    "embedding_vecor_length=32\n",
    "model = Sequential()\n",
    "model.add(Embedding(5000, embedding_vecor_length, input_length=max_length))\n",
    "model.add(Conv1D(filters=32, kernel_size=3, padding='same', activation='relu'))\n",
    "model.add(MaxPooling1D(pool_size=2))\n",
    "model.add(LSTM(100))\n",
    "model.add(Dense(1))\n",
    "model.compile(loss='binary_crossentropy', optimizer='adam', metrics=['accuracy'])\n",
    "print(model.summary())"
   ]
  },
  {
   "cell_type": "markdown",
   "metadata": {},
   "source": [
    "### Accuracy measurement"
   ]
  },
  {
   "cell_type": "code",
   "execution_count": 26,
   "metadata": {
    "scrolled": true,
    "tags": []
   },
   "outputs": [
    {
     "name": "stdout",
     "output_type": "stream",
     "text": [
      "Epoch 1/30\n",
      "17/17 [==============================] - 2s 29ms/step - loss: 1.0393 - accuracy: 0.5185\n",
      "Epoch 2/30\n",
      "17/17 [==============================] - 0s 29ms/step - loss: 0.7069 - accuracy: 0.4658\n",
      "Epoch 3/30\n",
      "17/17 [==============================] - 0s 29ms/step - loss: 0.6930 - accuracy: 0.5296\n",
      "Epoch 4/30\n",
      "17/17 [==============================] - 0s 29ms/step - loss: 0.6925 - accuracy: 0.5323\n",
      "Epoch 5/30\n",
      "17/17 [==============================] - 0s 29ms/step - loss: 0.6908 - accuracy: 0.5342\n",
      "Epoch 6/30\n",
      "17/17 [==============================] - 0s 29ms/step - loss: 0.6900 - accuracy: 0.5222\n",
      "Epoch 7/30\n",
      "17/17 [==============================] - 0s 29ms/step - loss: 0.6909 - accuracy: 0.5231\n",
      "Epoch 8/30\n",
      "17/17 [==============================] - 1s 29ms/step - loss: 0.6866 - accuracy: 0.5055\n",
      "Epoch 9/30\n",
      "17/17 [==============================] - 0s 29ms/step - loss: 0.6938 - accuracy: 0.6608\n",
      "Epoch 10/30\n",
      "17/17 [==============================] - 0s 28ms/step - loss: 0.7198 - accuracy: 0.7569\n",
      "Epoch 11/30\n",
      "17/17 [==============================] - 1s 29ms/step - loss: 0.3892 - accuracy: 0.8484\n",
      "Epoch 12/30\n",
      "17/17 [==============================] - 1s 30ms/step - loss: 0.2339 - accuracy: 0.9325\n",
      "Epoch 13/30\n",
      "17/17 [==============================] - 0s 29ms/step - loss: 0.2706 - accuracy: 0.9335\n",
      "Epoch 14/30\n",
      "17/17 [==============================] - 0s 29ms/step - loss: 0.2589 - accuracy: 0.9473\n",
      "Epoch 15/30\n",
      "17/17 [==============================] - 1s 30ms/step - loss: 0.1473 - accuracy: 0.9704\n",
      "Epoch 16/30\n",
      "17/17 [==============================] - 0s 29ms/step - loss: 0.2320 - accuracy: 0.9760\n",
      "Epoch 17/30\n",
      "17/17 [==============================] - 1s 29ms/step - loss: 0.2699 - accuracy: 0.9797\n",
      "Epoch 18/30\n",
      "17/17 [==============================] - 1s 30ms/step - loss: 0.1830 - accuracy: 0.9871\n",
      "Epoch 19/30\n",
      "17/17 [==============================] - 1s 30ms/step - loss: 0.1712 - accuracy: 0.9871\n",
      "Epoch 20/30\n",
      "17/17 [==============================] - 1s 30ms/step - loss: 0.1367 - accuracy: 0.9769\n",
      "Epoch 21/30\n",
      "17/17 [==============================] - 1s 31ms/step - loss: 0.1389 - accuracy: 0.9824\n",
      "Epoch 22/30\n",
      "17/17 [==============================] - 1s 30ms/step - loss: 0.1951 - accuracy: 0.9834\n",
      "Epoch 23/30\n",
      "17/17 [==============================] - 1s 30ms/step - loss: 0.1594 - accuracy: 0.9834\n",
      "Epoch 24/30\n",
      "17/17 [==============================] - 1s 30ms/step - loss: 0.1646 - accuracy: 0.9852\n",
      "Epoch 25/30\n",
      "17/17 [==============================] - 1s 30ms/step - loss: 0.1432 - accuracy: 0.9861\n",
      "Epoch 26/30\n",
      "17/17 [==============================] - 0s 29ms/step - loss: 0.1530 - accuracy: 0.9871\n",
      "Epoch 27/30\n",
      "17/17 [==============================] - 1s 30ms/step - loss: 0.1586 - accuracy: 0.9889\n",
      "Epoch 28/30\n",
      "17/17 [==============================] - 1s 30ms/step - loss: 0.1574 - accuracy: 0.9889\n",
      "Epoch 29/30\n",
      "17/17 [==============================] - 0s 29ms/step - loss: 0.1570 - accuracy: 0.9898\n",
      "Epoch 30/30\n",
      "17/17 [==============================] - 1s 30ms/step - loss: 0.1807 - accuracy: 0.9871\n",
      "6/6 [==============================] - 0s 6ms/step - loss: 3.2495 - accuracy: 0.5494\n"
     ]
    }
   ],
   "source": [
    "model.fit(X_train_, y_train, epochs=30, batch_size=64, verbose=1)\n",
    "# Final evaluation of the model\n",
    "scores = model.evaluate(X_test_, y_test, verbose=1)"
   ]
  },
  {
   "cell_type": "markdown",
   "metadata": {},
   "source": [
    "The accuracy above 50% which isn't impressive by itself, but prof the point that news can be used for trading strategy tunning."
   ]
  },
  {
   "cell_type": "code",
   "execution_count": 27,
   "metadata": {},
   "outputs": [],
   "source": [
    "# Save model\n",
    "# moedl.save(filepath=\"model_ts.h5\")\n",
    "\n",
    "# Load model\n",
    "# model = load_model(filepath=\"model_ts.h5\")"
   ]
  },
  {
   "cell_type": "markdown",
   "metadata": {},
   "source": [
    "# Сonclusions"
   ]
  },
  {
   "cell_type": "markdown",
   "metadata": {},
   "source": [
    "The study showed the possibility of using machine learning methods to create a trading system or bot."
   ]
  },
  {
   "cell_type": "code",
   "execution_count": null,
   "metadata": {},
   "outputs": [],
   "source": []
  }
 ],
 "metadata": {
  "kernelspec": {
   "display_name": "Python 3 (ipykernel)",
   "language": "python",
   "name": "python3"
  },
  "language_info": {
   "codemirror_mode": {
    "name": "ipython",
    "version": 3
   },
   "file_extension": ".py",
   "mimetype": "text/x-python",
   "name": "python",
   "nbconvert_exporter": "python",
   "pygments_lexer": "ipython3",
   "version": "3.9.9"
  }
 },
 "nbformat": 4,
 "nbformat_minor": 4
}
