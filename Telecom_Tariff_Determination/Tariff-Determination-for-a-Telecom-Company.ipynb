{
 "cells": [
  {
   "cell_type": "markdown",
   "id": "d39f599c-ffe6-4567-a61c-9a0e77f3cc28",
   "metadata": {},
   "source": [
    "# Импорт библиотек и загрузка данных"
   ]
  },
  {
   "cell_type": "code",
   "execution_count": 1,
   "id": "44fde804-96ba-4623-8c93-06589b14e033",
   "metadata": {},
   "outputs": [],
   "source": [
    "import pandas as pd\n",
    "import numpy as np\n",
    "import seaborn as sns\n",
    "import matplotlib.pyplot as plt\n",
    "import re\n",
    "from scipy import stats as st"
   ]
  },
  {
   "cell_type": "markdown",
   "id": "fa125a9b-83fe-4208-8e37-add59da41360",
   "metadata": {},
   "source": [
    "Загрузим и посмотрим данные."
   ]
  },
  {
   "cell_type": "code",
   "execution_count": 3,
   "id": "8d7da46f-d5c1-485e-a905-3afb0c91b4a7",
   "metadata": {},
   "outputs": [],
   "source": [
    "tariffs = pd.read_csv(url + 'tariffs.csv')\n",
    "users = pd.read_csv(url + 'users.csv')\n",
    "internet = pd.read_csv(url + 'internet.csv')\n",
    "calls = pd.read_csv(url + 'calls.csv')\n",
    "messages = pd.read_csv(url + 'messages.csv')"
   ]
  },
  {
   "cell_type": "code",
   "execution_count": 4,
   "id": "3fb730f3-015d-4d47-a91c-acfdc07906cf",
   "metadata": {},
   "outputs": [
    {
     "name": "stdout",
     "output_type": "stream",
     "text": [
      "\n",
      "\n",
      ">>> \t TARIFFS\n"
     ]
    },
    {
     "data": {
      "text/html": [
       "<div>\n",
       "<style scoped>\n",
       "    .dataframe tbody tr th:only-of-type {\n",
       "        vertical-align: middle;\n",
       "    }\n",
       "\n",
       "    .dataframe tbody tr th {\n",
       "        vertical-align: top;\n",
       "    }\n",
       "\n",
       "    .dataframe thead th {\n",
       "        text-align: right;\n",
       "    }\n",
       "</style>\n",
       "<table border=\"1\" class=\"dataframe\">\n",
       "  <thead>\n",
       "    <tr style=\"text-align: right;\">\n",
       "      <th></th>\n",
       "      <th>messages_included</th>\n",
       "      <th>mb_per_month_included</th>\n",
       "      <th>minutes_included</th>\n",
       "      <th>rub_monthly_fee</th>\n",
       "      <th>rub_per_gb</th>\n",
       "      <th>rub_per_message</th>\n",
       "      <th>rub_per_minute</th>\n",
       "      <th>tariff_name</th>\n",
       "    </tr>\n",
       "  </thead>\n",
       "  <tbody>\n",
       "    <tr>\n",
       "      <th>0</th>\n",
       "      <td>50</td>\n",
       "      <td>15360</td>\n",
       "      <td>500</td>\n",
       "      <td>550</td>\n",
       "      <td>200</td>\n",
       "      <td>3</td>\n",
       "      <td>3</td>\n",
       "      <td>smart</td>\n",
       "    </tr>\n",
       "    <tr>\n",
       "      <th>1</th>\n",
       "      <td>1000</td>\n",
       "      <td>30720</td>\n",
       "      <td>3000</td>\n",
       "      <td>1950</td>\n",
       "      <td>150</td>\n",
       "      <td>1</td>\n",
       "      <td>1</td>\n",
       "      <td>ultra</td>\n",
       "    </tr>\n",
       "  </tbody>\n",
       "</table>\n",
       "</div>"
      ],
      "text/plain": [
       "   messages_included  mb_per_month_included  minutes_included  \\\n",
       "0                 50                  15360               500   \n",
       "1               1000                  30720              3000   \n",
       "\n",
       "   rub_monthly_fee  rub_per_gb  rub_per_message  rub_per_minute tariff_name  \n",
       "0              550         200                3               3       smart  \n",
       "1             1950         150                1               1       ultra  "
      ]
     },
     "metadata": {},
     "output_type": "display_data"
    },
    {
     "name": "stdout",
     "output_type": "stream",
     "text": [
      "<class 'pandas.core.frame.DataFrame'>\n",
      "RangeIndex: 2 entries, 0 to 1\n",
      "Data columns (total 8 columns):\n",
      " #   Column                 Non-Null Count  Dtype \n",
      "---  ------                 --------------  ----- \n",
      " 0   messages_included      2 non-null      int64 \n",
      " 1   mb_per_month_included  2 non-null      int64 \n",
      " 2   minutes_included       2 non-null      int64 \n",
      " 3   rub_monthly_fee        2 non-null      int64 \n",
      " 4   rub_per_gb             2 non-null      int64 \n",
      " 5   rub_per_message        2 non-null      int64 \n",
      " 6   rub_per_minute         2 non-null      int64 \n",
      " 7   tariff_name            2 non-null      object\n",
      "dtypes: int64(7), object(1)\n",
      "memory usage: 256.0+ bytes\n",
      "\n",
      "\n",
      ">>> \t USERS\n"
     ]
    },
    {
     "data": {
      "text/html": [
       "<div>\n",
       "<style scoped>\n",
       "    .dataframe tbody tr th:only-of-type {\n",
       "        vertical-align: middle;\n",
       "    }\n",
       "\n",
       "    .dataframe tbody tr th {\n",
       "        vertical-align: top;\n",
       "    }\n",
       "\n",
       "    .dataframe thead th {\n",
       "        text-align: right;\n",
       "    }\n",
       "</style>\n",
       "<table border=\"1\" class=\"dataframe\">\n",
       "  <thead>\n",
       "    <tr style=\"text-align: right;\">\n",
       "      <th></th>\n",
       "      <th>user_id</th>\n",
       "      <th>age</th>\n",
       "      <th>churn_date</th>\n",
       "      <th>city</th>\n",
       "      <th>first_name</th>\n",
       "      <th>last_name</th>\n",
       "      <th>reg_date</th>\n",
       "      <th>tariff</th>\n",
       "    </tr>\n",
       "  </thead>\n",
       "  <tbody>\n",
       "    <tr>\n",
       "      <th>81</th>\n",
       "      <td>1081</td>\n",
       "      <td>42</td>\n",
       "      <td>NaN</td>\n",
       "      <td>Москва</td>\n",
       "      <td>Софья</td>\n",
       "      <td>Терехова</td>\n",
       "      <td>2018-03-25</td>\n",
       "      <td>ultra</td>\n",
       "    </tr>\n",
       "    <tr>\n",
       "      <th>177</th>\n",
       "      <td>1177</td>\n",
       "      <td>75</td>\n",
       "      <td>NaN</td>\n",
       "      <td>Новосибирск</td>\n",
       "      <td>Лолита</td>\n",
       "      <td>Аничкина</td>\n",
       "      <td>2018-06-19</td>\n",
       "      <td>smart</td>\n",
       "    </tr>\n",
       "  </tbody>\n",
       "</table>\n",
       "</div>"
      ],
      "text/plain": [
       "     user_id  age churn_date         city first_name last_name    reg_date  \\\n",
       "81      1081   42        NaN       Москва      Софья  Терехова  2018-03-25   \n",
       "177     1177   75        NaN  Новосибирск     Лолита  Аничкина  2018-06-19   \n",
       "\n",
       "    tariff  \n",
       "81   ultra  \n",
       "177  smart  "
      ]
     },
     "metadata": {},
     "output_type": "display_data"
    },
    {
     "name": "stdout",
     "output_type": "stream",
     "text": [
      "<class 'pandas.core.frame.DataFrame'>\n",
      "RangeIndex: 500 entries, 0 to 499\n",
      "Data columns (total 8 columns):\n",
      " #   Column      Non-Null Count  Dtype \n",
      "---  ------      --------------  ----- \n",
      " 0   user_id     500 non-null    int64 \n",
      " 1   age         500 non-null    int64 \n",
      " 2   churn_date  38 non-null     object\n",
      " 3   city        500 non-null    object\n",
      " 4   first_name  500 non-null    object\n",
      " 5   last_name   500 non-null    object\n",
      " 6   reg_date    500 non-null    object\n",
      " 7   tariff      500 non-null    object\n",
      "dtypes: int64(2), object(6)\n",
      "memory usage: 31.4+ KB\n",
      "\n",
      "\n",
      ">>> \t INTERNET\n"
     ]
    },
    {
     "data": {
      "text/html": [
       "<div>\n",
       "<style scoped>\n",
       "    .dataframe tbody tr th:only-of-type {\n",
       "        vertical-align: middle;\n",
       "    }\n",
       "\n",
       "    .dataframe tbody tr th {\n",
       "        vertical-align: top;\n",
       "    }\n",
       "\n",
       "    .dataframe thead th {\n",
       "        text-align: right;\n",
       "    }\n",
       "</style>\n",
       "<table border=\"1\" class=\"dataframe\">\n",
       "  <thead>\n",
       "    <tr style=\"text-align: right;\">\n",
       "      <th></th>\n",
       "      <th>Unnamed: 0</th>\n",
       "      <th>id</th>\n",
       "      <th>mb_used</th>\n",
       "      <th>session_date</th>\n",
       "      <th>user_id</th>\n",
       "    </tr>\n",
       "  </thead>\n",
       "  <tbody>\n",
       "    <tr>\n",
       "      <th>108703</th>\n",
       "      <td>108703</td>\n",
       "      <td>1372_71</td>\n",
       "      <td>0.00</td>\n",
       "      <td>2018-05-19</td>\n",
       "      <td>1372</td>\n",
       "    </tr>\n",
       "    <tr>\n",
       "      <th>84315</th>\n",
       "      <td>84315</td>\n",
       "      <td>1285_189</td>\n",
       "      <td>206.78</td>\n",
       "      <td>2018-07-27</td>\n",
       "      <td>1285</td>\n",
       "    </tr>\n",
       "  </tbody>\n",
       "</table>\n",
       "</div>"
      ],
      "text/plain": [
       "        Unnamed: 0        id  mb_used session_date  user_id\n",
       "108703      108703   1372_71     0.00   2018-05-19     1372\n",
       "84315        84315  1285_189   206.78   2018-07-27     1285"
      ]
     },
     "metadata": {},
     "output_type": "display_data"
    },
    {
     "name": "stdout",
     "output_type": "stream",
     "text": [
      "<class 'pandas.core.frame.DataFrame'>\n",
      "RangeIndex: 149396 entries, 0 to 149395\n",
      "Data columns (total 5 columns):\n",
      " #   Column        Non-Null Count   Dtype  \n",
      "---  ------        --------------   -----  \n",
      " 0   Unnamed: 0    149396 non-null  int64  \n",
      " 1   id            149396 non-null  object \n",
      " 2   mb_used       149396 non-null  float64\n",
      " 3   session_date  149396 non-null  object \n",
      " 4   user_id       149396 non-null  int64  \n",
      "dtypes: float64(1), int64(2), object(2)\n",
      "memory usage: 5.7+ MB\n",
      "\n",
      "\n",
      ">>> \t CALLS\n"
     ]
    },
    {
     "data": {
      "text/html": [
       "<div>\n",
       "<style scoped>\n",
       "    .dataframe tbody tr th:only-of-type {\n",
       "        vertical-align: middle;\n",
       "    }\n",
       "\n",
       "    .dataframe tbody tr th {\n",
       "        vertical-align: top;\n",
       "    }\n",
       "\n",
       "    .dataframe thead th {\n",
       "        text-align: right;\n",
       "    }\n",
       "</style>\n",
       "<table border=\"1\" class=\"dataframe\">\n",
       "  <thead>\n",
       "    <tr style=\"text-align: right;\">\n",
       "      <th></th>\n",
       "      <th>id</th>\n",
       "      <th>call_date</th>\n",
       "      <th>duration</th>\n",
       "      <th>user_id</th>\n",
       "    </tr>\n",
       "  </thead>\n",
       "  <tbody>\n",
       "    <tr>\n",
       "      <th>154476</th>\n",
       "      <td>1382_259</td>\n",
       "      <td>2018-12-03</td>\n",
       "      <td>14.45</td>\n",
       "      <td>1382</td>\n",
       "    </tr>\n",
       "    <tr>\n",
       "      <th>135162</th>\n",
       "      <td>1344_979</td>\n",
       "      <td>2018-11-24</td>\n",
       "      <td>0.00</td>\n",
       "      <td>1344</td>\n",
       "    </tr>\n",
       "  </tbody>\n",
       "</table>\n",
       "</div>"
      ],
      "text/plain": [
       "              id   call_date  duration  user_id\n",
       "154476  1382_259  2018-12-03     14.45     1382\n",
       "135162  1344_979  2018-11-24      0.00     1344"
      ]
     },
     "metadata": {},
     "output_type": "display_data"
    },
    {
     "name": "stdout",
     "output_type": "stream",
     "text": [
      "<class 'pandas.core.frame.DataFrame'>\n",
      "RangeIndex: 202607 entries, 0 to 202606\n",
      "Data columns (total 4 columns):\n",
      " #   Column     Non-Null Count   Dtype  \n",
      "---  ------     --------------   -----  \n",
      " 0   id         202607 non-null  object \n",
      " 1   call_date  202607 non-null  object \n",
      " 2   duration   202607 non-null  float64\n",
      " 3   user_id    202607 non-null  int64  \n",
      "dtypes: float64(1), int64(1), object(2)\n",
      "memory usage: 6.2+ MB\n",
      "\n",
      "\n",
      ">>> \t MESSAGES\n"
     ]
    },
    {
     "data": {
      "text/html": [
       "<div>\n",
       "<style scoped>\n",
       "    .dataframe tbody tr th:only-of-type {\n",
       "        vertical-align: middle;\n",
       "    }\n",
       "\n",
       "    .dataframe tbody tr th {\n",
       "        vertical-align: top;\n",
       "    }\n",
       "\n",
       "    .dataframe thead th {\n",
       "        text-align: right;\n",
       "    }\n",
       "</style>\n",
       "<table border=\"1\" class=\"dataframe\">\n",
       "  <thead>\n",
       "    <tr style=\"text-align: right;\">\n",
       "      <th></th>\n",
       "      <th>id</th>\n",
       "      <th>message_date</th>\n",
       "      <th>user_id</th>\n",
       "    </tr>\n",
       "  </thead>\n",
       "  <tbody>\n",
       "    <tr>\n",
       "      <th>51425</th>\n",
       "      <td>1231_46</td>\n",
       "      <td>2018-08-11</td>\n",
       "      <td>1231</td>\n",
       "    </tr>\n",
       "    <tr>\n",
       "      <th>85567</th>\n",
       "      <td>1356_584</td>\n",
       "      <td>2018-04-29</td>\n",
       "      <td>1356</td>\n",
       "    </tr>\n",
       "  </tbody>\n",
       "</table>\n",
       "</div>"
      ],
      "text/plain": [
       "             id message_date  user_id\n",
       "51425   1231_46   2018-08-11     1231\n",
       "85567  1356_584   2018-04-29     1356"
      ]
     },
     "metadata": {},
     "output_type": "display_data"
    },
    {
     "name": "stdout",
     "output_type": "stream",
     "text": [
      "<class 'pandas.core.frame.DataFrame'>\n",
      "RangeIndex: 123036 entries, 0 to 123035\n",
      "Data columns (total 3 columns):\n",
      " #   Column        Non-Null Count   Dtype \n",
      "---  ------        --------------   ----- \n",
      " 0   id            123036 non-null  object\n",
      " 1   message_date  123036 non-null  object\n",
      " 2   user_id       123036 non-null  int64 \n",
      "dtypes: int64(1), object(2)\n",
      "memory usage: 2.8+ MB\n"
     ]
    }
   ],
   "source": [
    "dfs = {'tariffs':tariffs,\n",
    "       'users':users,\n",
    "       'internet':internet,\n",
    "       'calls':calls,\n",
    "       'messages':messages,\n",
    "}\n",
    "\n",
    "# Выведем данные по всем датафреймам\n",
    "for df_name, df in dfs.items():\n",
    "    print('\\n')\n",
    "    print('>>>','\\t',df_name.upper())\n",
    "    display(df.sample(2))\n",
    "    df.info()"
   ]
  },
  {
   "cell_type": "markdown",
   "id": "3b1f7542-e957-433e-aada-bf86a41976e1",
   "metadata": {},
   "source": [
    "## Выводы\n",
    "1. Пропуски в churn_date, в соответсвии с описанием означают что пользователь продолжает использовать тариф.\n",
    "2. reg_date, session_date, call_date, message_date нужно перевести в datatime формат.\n",
    "3. Удалить столбец Unnamed: 0, так как дублирует индекс."
   ]
  },
  {
   "cell_type": "markdown",
   "id": "f413f6f0-46e0-4f2d-9dbe-cd405c403dd8",
   "metadata": {},
   "source": [
    "# Подготовка данных"
   ]
  },
  {
   "cell_type": "code",
   "execution_count": 5,
   "id": "d7a97145-3563-4f42-88ed-d378d678bb4a",
   "metadata": {},
   "outputs": [],
   "source": [
    "# Изменим формат. Используем [M], так как разбивать будем по месяцам и данные по дням не нужны.\n",
    "users.reg_date = users.reg_date.astype('datetime64[M]')\n",
    "internet.session_date = internet.session_date.astype('datetime64[M]')\n",
    "calls.call_date = calls.call_date.astype('datetime64[M]')\n",
    "messages.message_date = messages.message_date.astype('datetime64[M]')"
   ]
  },
  {
   "cell_type": "code",
   "execution_count": 6,
   "id": "adb0be89-855a-4771-9915-7e81cf1bc15e",
   "metadata": {},
   "outputs": [],
   "source": [
    "# Удалим лишний столбец.\n",
    "internet.drop(columns='Unnamed: 0', inplace=True)"
   ]
  },
  {
   "cell_type": "markdown",
   "id": "eefc69bb-d5e7-442b-a52c-cb5ac715e132",
   "metadata": {},
   "source": [
    "Проверим наличие явных дубликатов."
   ]
  },
  {
   "cell_type": "code",
   "execution_count": 7,
   "id": "ba595653-2669-4081-a059-9bd3ee4700a0",
   "metadata": {},
   "outputs": [
    {
     "name": "stdout",
     "output_type": "stream",
     "text": [
      "Число дубликатов в internet.id: 0.0\n",
      "Число дубликатов в calls.id: 0.0\n",
      "Число дубликатов в messages.id: 0.0\n"
     ]
    }
   ],
   "source": [
    "for df_name, df in dfs.items():\n",
    "    for column in df.columns:\n",
    "        if column == 'id':\n",
    "            print(f'Число дубликатов в {df_name}.id:', df[column].duplicated().mean())\n",
    "            # df[column].drop_duplicates(inplace=True)"
   ]
  },
  {
   "cell_type": "markdown",
   "id": "3f53064f-32c9-459c-aa4c-433cdb1500d5",
   "metadata": {},
   "source": [
    "Проверим наличие не явных дубликатов в названиях населенных пунктов и именах тарифов."
   ]
  },
  {
   "cell_type": "code",
   "execution_count": 8,
   "id": "434d4a23-c50e-4ef4-b1d5-8ca30cd95fc7",
   "metadata": {},
   "outputs": [
    {
     "data": {
      "text/plain": [
       "array(['Архангельск', 'Астрахань', 'Балашиха', 'Барнаул', 'Белгород',\n",
       "       'Брянск', 'Владивосток', 'Владикавказ', 'Владимир', 'Волгоград',\n",
       "       'Волжский', 'Вологда', 'Воронеж', 'Грозный', 'Екатеринбург',\n",
       "       'Иваново', 'Ижевск', 'Иркутск', 'Казань', 'Калининград', 'Калуга',\n",
       "       'Кемерово', 'Киров', 'Кострома', 'Краснодар', 'Красноярск',\n",
       "       'Курган', 'Курск', 'Липецк', 'Магнитогорск', 'Махачкала', 'Москва',\n",
       "       'Мурманск', 'Набережные Челны', 'Нижневартовск', 'Нижний Новгород',\n",
       "       'Нижний Тагил', 'Новокузнецк', 'Новороссийск', 'Новосибирск',\n",
       "       'Омск', 'Оренбург', 'Орёл', 'Пенза', 'Пермь', 'Петрозаводск',\n",
       "       'Подольск', 'Ростов-на-Дону', 'Рязань', 'Самара',\n",
       "       'Санкт-Петербург', 'Саранск', 'Саратов', 'Севастополь', 'Смоленск',\n",
       "       'Сочи', 'Ставрополь', 'Стерлитамак', 'Сургут', 'Тамбов', 'Тверь',\n",
       "       'Тольятти', 'Томск', 'Тула', 'Тюмень', 'Улан-Удэ', 'Ульяновск',\n",
       "       'Уфа', 'Хабаровск', 'Химки', 'Чебоксары', 'Челябинск', 'Череповец',\n",
       "       'Чита', 'Якутск', 'Ярославль'], dtype=object)"
      ]
     },
     "execution_count": 8,
     "metadata": {},
     "output_type": "execute_result"
    }
   ],
   "source": [
    "np.sort(users.city.unique())"
   ]
  },
  {
   "cell_type": "code",
   "execution_count": 9,
   "id": "b87f17da-3545-442c-bc78-ddfe11d6bc27",
   "metadata": {},
   "outputs": [
    {
     "data": {
      "text/plain": [
       "array(['ultra', 'smart'], dtype=object)"
      ]
     },
     "execution_count": 9,
     "metadata": {},
     "output_type": "execute_result"
    }
   ],
   "source": [
    "users.tariff.unique()"
   ]
  },
  {
   "cell_type": "markdown",
   "id": "4ff3b703-3f19-4850-9513-adff1ed422fe",
   "metadata": {},
   "source": [
    "Построим диаграммы размаха для calls.duration и users.age."
   ]
  },
  {
   "cell_type": "code",
   "execution_count": 10,
   "id": "d680187a-427d-4bc1-b454-de7ab36402fb",
   "metadata": {},
   "outputs": [
    {
     "data": {
      "image/png": "[encoded data removed]",
      "text/plain": [
       "<Figure size 432x288 with 1 Axes>"
      ]
     },
     "metadata": {
      "needs_background": "light"
     },
     "output_type": "display_data"
    }
   ],
   "source": [
    "pd.plotting.boxplot(calls.duration);"
   ]
  },
  {
   "cell_type": "markdown",
   "id": "367068ec-d621-4ff9-bfab-33840701aff7",
   "metadata": {},
   "source": [
    "У длительности звонков есть смещение вправо и множество выбросов после 25 минуты, в то время как по возрасту получилось близкое к нормальному распределение."
   ]
  },
  {
   "cell_type": "code",
   "execution_count": 11,
   "id": "786a63f0-147a-4f67-8d59-96e4bf483c8c",
   "metadata": {},
   "outputs": [
    {
     "data": {
      "image/png": "[encoded data removed]",
      "text/plain": [
       "<Figure size 432x288 with 1 Axes>"
      ]
     },
     "metadata": {
      "needs_background": "light"
     },
     "output_type": "display_data"
    }
   ],
   "source": [
    "pd.plotting.boxplot(users.age);"
   ]
  },
  {
   "cell_type": "markdown",
   "id": "eea130c5-8892-460a-a5eb-d54a18c16f8e",
   "metadata": {},
   "source": [
    "## Сортировка данных"
   ]
  },
  {
   "cell_type": "markdown",
   "id": "32e2279b-f0d5-409e-99ff-64f2ca44e1c9",
   "metadata": {},
   "source": [
    "*Все данные даны только за 2018 год, поэтому группируем их по месяцам без учета года.*"
   ]
  },
  {
   "cell_type": "markdown",
   "id": "8078e443-a48f-4f61-993d-090cb437a2d9",
   "metadata": {},
   "source": [
    "Сгруппируем суммарный веб трафик по месяцам и уникальным id пользователя."
   ]
  },
  {
   "cell_type": "code",
   "execution_count": 12,
   "id": "74e2917b-a2a2-42fb-9c5f-b0e712b16315",
   "metadata": {},
   "outputs": [],
   "source": [
    "internet_mounth = internet.groupby(['user_id', internet.session_date.dt.month])['mb_used'] \\\n",
    "        .sum() \\\n",
    "        .reset_index()"
   ]
  },
  {
   "cell_type": "markdown",
   "id": "d501c9c2-7e80-4801-bfb8-444916deea02",
   "metadata": {},
   "source": [
    "Округлим гигабайты в большую сторону."
   ]
  },
  {
   "cell_type": "code",
   "execution_count": 13,
   "id": "c9668bb5-3680-4af0-96ac-74874c4823a0",
   "metadata": {},
   "outputs": [],
   "source": [
    "internet_mounth.mb_used = np.ceil(internet_mounth.mb_used/1024).astype(int)"
   ]
  },
  {
   "cell_type": "code",
   "execution_count": 14,
   "id": "2eb573de-e8c5-4f22-9c99-a7e4e647ae82",
   "metadata": {},
   "outputs": [],
   "source": [
    "internet_mounth.rename(columns={'session_date':'month',\n",
    "                                'mb_used':'gb_used'}, inplace=True)"
   ]
  },
  {
   "cell_type": "code",
   "execution_count": 15,
   "id": "f5db9f85-dd53-4d6e-a52e-af35a53716a0",
   "metadata": {},
   "outputs": [
    {
     "name": "stdout",
     "output_type": "stream",
     "text": [
      "(3203, 3)\n"
     ]
    },
    {
     "data": {
      "text/html": [
       "<div>\n",
       "<style scoped>\n",
       "    .dataframe tbody tr th:only-of-type {\n",
       "        vertical-align: middle;\n",
       "    }\n",
       "\n",
       "    .dataframe tbody tr th {\n",
       "        vertical-align: top;\n",
       "    }\n",
       "\n",
       "    .dataframe thead th {\n",
       "        text-align: right;\n",
       "    }\n",
       "</style>\n",
       "<table border=\"1\" class=\"dataframe\">\n",
       "  <thead>\n",
       "    <tr style=\"text-align: right;\">\n",
       "      <th></th>\n",
       "      <th>user_id</th>\n",
       "      <th>month</th>\n",
       "      <th>gb_used</th>\n",
       "    </tr>\n",
       "  </thead>\n",
       "  <tbody>\n",
       "    <tr>\n",
       "      <th>0</th>\n",
       "      <td>1000</td>\n",
       "      <td>5</td>\n",
       "      <td>3</td>\n",
       "    </tr>\n",
       "    <tr>\n",
       "      <th>1</th>\n",
       "      <td>1000</td>\n",
       "      <td>6</td>\n",
       "      <td>23</td>\n",
       "    </tr>\n",
       "    <tr>\n",
       "      <th>2</th>\n",
       "      <td>1000</td>\n",
       "      <td>7</td>\n",
       "      <td>14</td>\n",
       "    </tr>\n",
       "    <tr>\n",
       "      <th>3</th>\n",
       "      <td>1000</td>\n",
       "      <td>8</td>\n",
       "      <td>14</td>\n",
       "    </tr>\n",
       "    <tr>\n",
       "      <th>4</th>\n",
       "      <td>1000</td>\n",
       "      <td>9</td>\n",
       "      <td>15</td>\n",
       "    </tr>\n",
       "  </tbody>\n",
       "</table>\n",
       "</div>"
      ],
      "text/plain": [
       "   user_id  month  gb_used\n",
       "0     1000      5        3\n",
       "1     1000      6       23\n",
       "2     1000      7       14\n",
       "3     1000      8       14\n",
       "4     1000      9       15"
      ]
     },
     "execution_count": 15,
     "metadata": {},
     "output_type": "execute_result"
    }
   ],
   "source": [
    "print(internet_mounth.shape)\n",
    "internet_mounth.head()"
   ]
  },
  {
   "cell_type": "markdown",
   "id": "9682c3d1-b613-4afd-9956-c8dd43306afc",
   "metadata": {},
   "source": [
    "Округлим звоноки до 1 минуты."
   ]
  },
  {
   "cell_type": "code",
   "execution_count": 16,
   "id": "5747886b-8dec-49c7-9cd2-1303d9e1d7f9",
   "metadata": {},
   "outputs": [],
   "source": [
    "calls.duration = np.ceil(calls.duration).astype(int)"
   ]
  },
  {
   "cell_type": "markdown",
   "id": "6b2febef-8e54-4a0e-8688-ca2ccc3afcb9",
   "metadata": {},
   "source": [
    "Определим количество сделанных звонков и число израсходованных минут разговора по месяцам."
   ]
  },
  {
   "cell_type": "code",
   "execution_count": 17,
   "id": "da07e414-3a7d-4950-8da2-bb18f0df4ceb",
   "metadata": {},
   "outputs": [],
   "source": [
    "calls_mounth = calls.groupby(['user_id', calls.call_date.dt.month])['duration'] \\\n",
    "                    .agg(['count','sum']) \\\n",
    "                    .reset_index()"
   ]
  },
  {
   "cell_type": "code",
   "execution_count": 18,
   "id": "57a5dca2-7c4f-4587-9b68-73a80f23859b",
   "metadata": {},
   "outputs": [],
   "source": [
    "calls_mounth.rename(columns={'call_date':'month',\n",
    "                             'sum':'calls_mins',\n",
    "                             'count':'calls_count'}, inplace=True)"
   ]
  },
  {
   "cell_type": "code",
   "execution_count": 19,
   "id": "d7607e9b-a11a-47fe-ba9e-4d6118423d43",
   "metadata": {},
   "outputs": [
    {
     "name": "stdout",
     "output_type": "stream",
     "text": [
      "(3174, 4)\n"
     ]
    },
    {
     "data": {
      "text/html": [
       "<div>\n",
       "<style scoped>\n",
       "    .dataframe tbody tr th:only-of-type {\n",
       "        vertical-align: middle;\n",
       "    }\n",
       "\n",
       "    .dataframe tbody tr th {\n",
       "        vertical-align: top;\n",
       "    }\n",
       "\n",
       "    .dataframe thead th {\n",
       "        text-align: right;\n",
       "    }\n",
       "</style>\n",
       "<table border=\"1\" class=\"dataframe\">\n",
       "  <thead>\n",
       "    <tr style=\"text-align: right;\">\n",
       "      <th></th>\n",
       "      <th>user_id</th>\n",
       "      <th>month</th>\n",
       "      <th>calls_count</th>\n",
       "      <th>calls_mins</th>\n",
       "    </tr>\n",
       "  </thead>\n",
       "  <tbody>\n",
       "    <tr>\n",
       "      <th>0</th>\n",
       "      <td>1000</td>\n",
       "      <td>5</td>\n",
       "      <td>22</td>\n",
       "      <td>159</td>\n",
       "    </tr>\n",
       "    <tr>\n",
       "      <th>1</th>\n",
       "      <td>1000</td>\n",
       "      <td>6</td>\n",
       "      <td>43</td>\n",
       "      <td>172</td>\n",
       "    </tr>\n",
       "    <tr>\n",
       "      <th>2</th>\n",
       "      <td>1000</td>\n",
       "      <td>7</td>\n",
       "      <td>47</td>\n",
       "      <td>340</td>\n",
       "    </tr>\n",
       "    <tr>\n",
       "      <th>3</th>\n",
       "      <td>1000</td>\n",
       "      <td>8</td>\n",
       "      <td>52</td>\n",
       "      <td>408</td>\n",
       "    </tr>\n",
       "    <tr>\n",
       "      <th>4</th>\n",
       "      <td>1000</td>\n",
       "      <td>9</td>\n",
       "      <td>58</td>\n",
       "      <td>466</td>\n",
       "    </tr>\n",
       "  </tbody>\n",
       "</table>\n",
       "</div>"
      ],
      "text/plain": [
       "   user_id  month  calls_count  calls_mins\n",
       "0     1000      5           22         159\n",
       "1     1000      6           43         172\n",
       "2     1000      7           47         340\n",
       "3     1000      8           52         408\n",
       "4     1000      9           58         466"
      ]
     },
     "execution_count": 19,
     "metadata": {},
     "output_type": "execute_result"
    }
   ],
   "source": [
    "print(calls_mounth.shape)\n",
    "calls_mounth.head()"
   ]
  },
  {
   "cell_type": "markdown",
   "id": "5acaa736-3461-4f91-98f6-49ef5f7d840a",
   "metadata": {},
   "source": [
    "Подсчитаем количество отправленных сообщений по месяцам."
   ]
  },
  {
   "cell_type": "code",
   "execution_count": 20,
   "id": "8ac8d593-0be3-46ae-89fb-052b8cf18db2",
   "metadata": {},
   "outputs": [],
   "source": [
    "messages_mounth = messages.groupby(['user_id', messages.message_date.dt.month])['id'] \\\n",
    "                          .count() \\\n",
    "                          .reset_index()"
   ]
  },
  {
   "cell_type": "code",
   "execution_count": 21,
   "id": "600809f0-1d1e-49dd-ac0a-322003c6f3c4",
   "metadata": {},
   "outputs": [],
   "source": [
    "messages_mounth.rename(columns={'message_date':'month',\n",
    "                                'id':'sms_sent'}, inplace=True)"
   ]
  },
  {
   "cell_type": "code",
   "execution_count": 22,
   "id": "2b9e3308-04fc-451a-b477-1780deca7130",
   "metadata": {},
   "outputs": [
    {
     "name": "stdout",
     "output_type": "stream",
     "text": [
      "(2717, 3)\n"
     ]
    },
    {
     "data": {
      "text/html": [
       "<div>\n",
       "<style scoped>\n",
       "    .dataframe tbody tr th:only-of-type {\n",
       "        vertical-align: middle;\n",
       "    }\n",
       "\n",
       "    .dataframe tbody tr th {\n",
       "        vertical-align: top;\n",
       "    }\n",
       "\n",
       "    .dataframe thead th {\n",
       "        text-align: right;\n",
       "    }\n",
       "</style>\n",
       "<table border=\"1\" class=\"dataframe\">\n",
       "  <thead>\n",
       "    <tr style=\"text-align: right;\">\n",
       "      <th></th>\n",
       "      <th>user_id</th>\n",
       "      <th>month</th>\n",
       "      <th>sms_sent</th>\n",
       "    </tr>\n",
       "  </thead>\n",
       "  <tbody>\n",
       "    <tr>\n",
       "      <th>0</th>\n",
       "      <td>1000</td>\n",
       "      <td>5</td>\n",
       "      <td>22</td>\n",
       "    </tr>\n",
       "    <tr>\n",
       "      <th>1</th>\n",
       "      <td>1000</td>\n",
       "      <td>6</td>\n",
       "      <td>60</td>\n",
       "    </tr>\n",
       "    <tr>\n",
       "      <th>2</th>\n",
       "      <td>1000</td>\n",
       "      <td>7</td>\n",
       "      <td>75</td>\n",
       "    </tr>\n",
       "    <tr>\n",
       "      <th>3</th>\n",
       "      <td>1000</td>\n",
       "      <td>8</td>\n",
       "      <td>81</td>\n",
       "    </tr>\n",
       "    <tr>\n",
       "      <th>4</th>\n",
       "      <td>1000</td>\n",
       "      <td>9</td>\n",
       "      <td>57</td>\n",
       "    </tr>\n",
       "  </tbody>\n",
       "</table>\n",
       "</div>"
      ],
      "text/plain": [
       "   user_id  month  sms_sent\n",
       "0     1000      5        22\n",
       "1     1000      6        60\n",
       "2     1000      7        75\n",
       "3     1000      8        81\n",
       "4     1000      9        57"
      ]
     },
     "execution_count": 22,
     "metadata": {},
     "output_type": "execute_result"
    }
   ],
   "source": [
    "print(messages_mounth.shape)\n",
    "messages_mounth.head()"
   ]
  },
  {
   "cell_type": "markdown",
   "id": "52fac78f-11f2-41e7-9685-29324f19afb9",
   "metadata": {},
   "source": [
    "Как видно часть пользователей не используют все доступные услуги."
   ]
  },
  {
   "cell_type": "code",
   "execution_count": 23,
   "id": "2324d53d-0c5c-4d6e-bcf0-a2583e8d6c18",
   "metadata": {},
   "outputs": [
    {
     "name": "stdout",
     "output_type": "stream",
     "text": [
      "Уникальных пользовательских id: 500\n",
      "Число пользователей, использующих интернет: 497\n",
      "Число пользователей, использующих телефон: 492\n",
      "Число пользователей, использующих sms-сообщения: 426\n"
     ]
    }
   ],
   "source": [
    "print('Уникальных пользовательских id:',len(users.user_id.unique()))\n",
    "print('Число пользователей, использующих интернет:',len(internet_mounth.user_id.unique()))\n",
    "print('Число пользователей, использующих телефон:',len(calls_mounth.user_id.unique()))\n",
    "print('Число пользователей, использующих sms-сообщения:',len(messages_mounth.user_id.unique()))"
   ]
  },
  {
   "cell_type": "markdown",
   "id": "79d5649a-ab7c-4e7d-bc4c-578c61b9e83b",
   "metadata": {},
   "source": [
    "Найдем подозрительных пользователей, которые не используют услуги оператора."
   ]
  },
  {
   "cell_type": "code",
   "execution_count": 24,
   "id": "2af5cca2-2bc2-45cb-9efe-6e99c3b0505b",
   "metadata": {},
   "outputs": [],
   "source": [
    "# Проходимся по списку пользователей, отбирая только тех которые отсутствуют в датафреймах internet_mounth, calls_mounth и messages_mounth.\n",
    "strange_ids = [id_ for id_ in users.user_id.unique()\n",
    "               if (id_ not in internet_mounth.user_id.unique()) &\n",
    "               (id_ not in calls_mounth.user_id.unique()) &\n",
    "               (id_ not in messages_mounth.user_id.unique())\n",
    "]"
   ]
  },
  {
   "cell_type": "markdown",
   "id": "d87e31ae-9d5f-49e8-8e0e-6f9c1b9d82bc",
   "metadata": {},
   "source": [
    "Оба абонента использовали свой тариф меньше месяца, так и не воспользовавшись услугами оператора, удаляем их."
   ]
  },
  {
   "cell_type": "code",
   "execution_count": 25,
   "id": "d82fe3a2-1df2-45ca-8a9f-26dc73387d15",
   "metadata": {},
   "outputs": [
    {
     "data": {
      "text/html": [
       "<div>\n",
       "<style scoped>\n",
       "    .dataframe tbody tr th:only-of-type {\n",
       "        vertical-align: middle;\n",
       "    }\n",
       "\n",
       "    .dataframe tbody tr th {\n",
       "        vertical-align: top;\n",
       "    }\n",
       "\n",
       "    .dataframe thead th {\n",
       "        text-align: right;\n",
       "    }\n",
       "</style>\n",
       "<table border=\"1\" class=\"dataframe\">\n",
       "  <thead>\n",
       "    <tr style=\"text-align: right;\">\n",
       "      <th></th>\n",
       "      <th>user_id</th>\n",
       "      <th>age</th>\n",
       "      <th>churn_date</th>\n",
       "      <th>city</th>\n",
       "      <th>first_name</th>\n",
       "      <th>last_name</th>\n",
       "      <th>reg_date</th>\n",
       "      <th>tariff</th>\n",
       "    </tr>\n",
       "  </thead>\n",
       "  <tbody>\n",
       "    <tr>\n",
       "      <th>128</th>\n",
       "      <td>1128</td>\n",
       "      <td>51</td>\n",
       "      <td>2018-12-23</td>\n",
       "      <td>Волжский</td>\n",
       "      <td>Ксения</td>\n",
       "      <td>Агаева</td>\n",
       "      <td>2018-12-01</td>\n",
       "      <td>ultra</td>\n",
       "    </tr>\n",
       "    <tr>\n",
       "      <th>371</th>\n",
       "      <td>1371</td>\n",
       "      <td>50</td>\n",
       "      <td>2018-12-30</td>\n",
       "      <td>Омск</td>\n",
       "      <td>Ириней</td>\n",
       "      <td>Трофимов</td>\n",
       "      <td>2018-12-01</td>\n",
       "      <td>smart</td>\n",
       "    </tr>\n",
       "  </tbody>\n",
       "</table>\n",
       "</div>"
      ],
      "text/plain": [
       "     user_id  age  churn_date      city first_name last_name   reg_date tariff\n",
       "128     1128   51  2018-12-23  Волжский     Ксения    Агаева 2018-12-01  ultra\n",
       "371     1371   50  2018-12-30      Омск     Ириней  Трофимов 2018-12-01  smart"
      ]
     },
     "execution_count": 25,
     "metadata": {},
     "output_type": "execute_result"
    }
   ],
   "source": [
    "users[users.user_id.isin(strange_ids)]"
   ]
  },
  {
   "cell_type": "code",
   "execution_count": 26,
   "id": "04b775bb-a478-49d5-a8be-0e551e1855f9",
   "metadata": {},
   "outputs": [],
   "source": [
    "users = users.query('user_id not in @strange_ids').reset_index(drop=True)"
   ]
  },
  {
   "cell_type": "markdown",
   "id": "afe8aa00-2f1f-4037-b33c-e08785f4d688",
   "metadata": {},
   "source": [
    "## Объединение данных"
   ]
  },
  {
   "cell_type": "markdown",
   "id": "000548c8-7270-4ec6-8ef1-e197bda198c5",
   "metadata": {},
   "source": [
    "Создадим новый столбец в tariffs, так как нас интересуют гишабайты трафика."
   ]
  },
  {
   "cell_type": "code",
   "execution_count": 27,
   "id": "808e7c67-2f0d-45b0-b342-a3d2d209af06",
   "metadata": {},
   "outputs": [],
   "source": [
    "tariffs['gb_per_month_included'] = (tariffs.mb_per_month_included/1024).astype(int)\n",
    "tariffs.drop(columns='mb_per_month_included', inplace=True)"
   ]
  },
  {
   "cell_type": "markdown",
   "id": "24df55b4-497e-44c6-88d6-125042819887",
   "metadata": {},
   "source": [
    "Определим гендер абонентов чтобы в будущем посмотреть как отличается использование услуг у мужчин и женщин."
   ]
  },
  {
   "cell_type": "code",
   "execution_count": 28,
   "id": "32c87892-a1b8-4a76-8b18-e33ab8641b6f",
   "metadata": {},
   "outputs": [],
   "source": [
    "# Женские имена преимущественно оканчиваются на 'а' или 'я', этим можно воспользоваться для определения гендера.\n",
    "# Ищем совпадения - слово должно состоять из последовательности букв и не заканчиваться на \"а\" или \"я\".\n",
    "users['sex'] = users.first_name.map(lambda x: 'm' if bool(re.match(r'\\w+[^ая]\\Z', x)) else 'f')"
   ]
  },
  {
   "cell_type": "code",
   "execution_count": 29,
   "id": "b9058f58-ee9b-4207-b369-23937ddabd4b",
   "metadata": {},
   "outputs": [
    {
     "data": {
      "text/html": [
       "<div>\n",
       "<style scoped>\n",
       "    .dataframe tbody tr th:only-of-type {\n",
       "        vertical-align: middle;\n",
       "    }\n",
       "\n",
       "    .dataframe tbody tr th {\n",
       "        vertical-align: top;\n",
       "    }\n",
       "\n",
       "    .dataframe thead th {\n",
       "        text-align: right;\n",
       "    }\n",
       "</style>\n",
       "<table border=\"1\" class=\"dataframe\">\n",
       "  <thead>\n",
       "    <tr style=\"text-align: right;\">\n",
       "      <th></th>\n",
       "      <th>0</th>\n",
       "      <th>1</th>\n",
       "      <th>2</th>\n",
       "      <th>3</th>\n",
       "      <th>4</th>\n",
       "      <th>5</th>\n",
       "      <th>6</th>\n",
       "      <th>7</th>\n",
       "      <th>8</th>\n",
       "      <th>9</th>\n",
       "      <th>...</th>\n",
       "      <th>236</th>\n",
       "      <th>237</th>\n",
       "      <th>238</th>\n",
       "      <th>239</th>\n",
       "      <th>240</th>\n",
       "      <th>241</th>\n",
       "      <th>242</th>\n",
       "      <th>243</th>\n",
       "      <th>244</th>\n",
       "      <th>245</th>\n",
       "    </tr>\n",
       "  </thead>\n",
       "  <tbody>\n",
       "    <tr>\n",
       "      <th>first_name</th>\n",
       "      <td>Авксентий</td>\n",
       "      <td>Агата</td>\n",
       "      <td>Агафья</td>\n",
       "      <td>Агнесса</td>\n",
       "      <td>Адам</td>\n",
       "      <td>Аким</td>\n",
       "      <td>Аксён</td>\n",
       "      <td>Алан</td>\n",
       "      <td>Алевтина</td>\n",
       "      <td>Александр</td>\n",
       "      <td>...</td>\n",
       "      <td>Эльмира</td>\n",
       "      <td>Эмилия</td>\n",
       "      <td>Эсмеральда</td>\n",
       "      <td>Юзефа</td>\n",
       "      <td>Юлий</td>\n",
       "      <td>Юлия</td>\n",
       "      <td>Юна</td>\n",
       "      <td>Юрий</td>\n",
       "      <td>Яков</td>\n",
       "      <td>Яна</td>\n",
       "    </tr>\n",
       "    <tr>\n",
       "      <th>sex</th>\n",
       "      <td>[m]</td>\n",
       "      <td>[f]</td>\n",
       "      <td>[f]</td>\n",
       "      <td>[f]</td>\n",
       "      <td>[m]</td>\n",
       "      <td>[m]</td>\n",
       "      <td>[m]</td>\n",
       "      <td>[m]</td>\n",
       "      <td>[f]</td>\n",
       "      <td>[m]</td>\n",
       "      <td>...</td>\n",
       "      <td>[f]</td>\n",
       "      <td>[f]</td>\n",
       "      <td>[f]</td>\n",
       "      <td>[f]</td>\n",
       "      <td>[m]</td>\n",
       "      <td>[f]</td>\n",
       "      <td>[f]</td>\n",
       "      <td>[m]</td>\n",
       "      <td>[m]</td>\n",
       "      <td>[f]</td>\n",
       "    </tr>\n",
       "  </tbody>\n",
       "</table>\n",
       "<p>2 rows × 246 columns</p>\n",
       "</div>"
      ],
      "text/plain": [
       "                  0      1       2        3     4     5      6     7    \\\n",
       "first_name  Авксентий  Агата  Агафья  Агнесса  Адам  Аким  Аксён  Алан   \n",
       "sex               [m]    [f]     [f]      [f]   [m]   [m]    [m]   [m]   \n",
       "\n",
       "                 8          9    ...      236     237         238    239  \\\n",
       "first_name  Алевтина  Александр  ...  Эльмира  Эмилия  Эсмеральда  Юзефа   \n",
       "sex              [f]        [m]  ...      [f]     [f]         [f]    [f]   \n",
       "\n",
       "             240   241  242   243   244  245  \n",
       "first_name  Юлий  Юлия  Юна  Юрий  Яков  Яна  \n",
       "sex          [m]   [f]  [f]   [m]   [m]  [f]  \n",
       "\n",
       "[2 rows x 246 columns]"
      ]
     },
     "execution_count": 29,
     "metadata": {},
     "output_type": "execute_result"
    }
   ],
   "source": [
    "# Проверим результат.\n",
    "users.groupby('first_name')['sex'].unique().reset_index().transpose()"
   ]
  },
  {
   "cell_type": "markdown",
   "id": "dcd12127-7773-4ec0-a5da-ae6a4789bedf",
   "metadata": {},
   "source": [
    "Разделим пользователей на возрастные группы."
   ]
  },
  {
   "cell_type": "code",
   "execution_count": 30,
   "id": "006cfbd4-962f-4d60-80b5-a6c381dee7c2",
   "metadata": {},
   "outputs": [],
   "source": [
    "bins = [users.age.min(), 35, 55, users.age.max()]\n",
    "labels = ['young', 'mature', 'old']\n",
    "users['age_group'] = pd.cut(users.age, bins=bins, labels=labels, include_lowest=True).astype(object)"
   ]
  },
  {
   "cell_type": "markdown",
   "id": "a5f7407f-8494-4036-998f-181ead4fa89f",
   "metadata": {},
   "source": [
    "Сгруппируем все услуги."
   ]
  },
  {
   "cell_type": "code",
   "execution_count": 31,
   "id": "3eb9e3f3-f402-4ff2-8d54-c7292edb882f",
   "metadata": {},
   "outputs": [
    {
     "data": {
      "text/html": [
       "<div>\n",
       "<style scoped>\n",
       "    .dataframe tbody tr th:only-of-type {\n",
       "        vertical-align: middle;\n",
       "    }\n",
       "\n",
       "    .dataframe tbody tr th {\n",
       "        vertical-align: top;\n",
       "    }\n",
       "\n",
       "    .dataframe thead th {\n",
       "        text-align: right;\n",
       "    }\n",
       "</style>\n",
       "<table border=\"1\" class=\"dataframe\">\n",
       "  <thead>\n",
       "    <tr style=\"text-align: right;\">\n",
       "      <th></th>\n",
       "      <th>user_id</th>\n",
       "      <th>month</th>\n",
       "      <th>gb_used</th>\n",
       "      <th>calls_count</th>\n",
       "      <th>calls_mins</th>\n",
       "      <th>sms_sent</th>\n",
       "    </tr>\n",
       "  </thead>\n",
       "  <tbody>\n",
       "    <tr>\n",
       "      <th>0</th>\n",
       "      <td>1000</td>\n",
       "      <td>5</td>\n",
       "      <td>3.0</td>\n",
       "      <td>22.0</td>\n",
       "      <td>159.0</td>\n",
       "      <td>22.0</td>\n",
       "    </tr>\n",
       "    <tr>\n",
       "      <th>1</th>\n",
       "      <td>1000</td>\n",
       "      <td>6</td>\n",
       "      <td>23.0</td>\n",
       "      <td>43.0</td>\n",
       "      <td>172.0</td>\n",
       "      <td>60.0</td>\n",
       "    </tr>\n",
       "    <tr>\n",
       "      <th>2</th>\n",
       "      <td>1000</td>\n",
       "      <td>7</td>\n",
       "      <td>14.0</td>\n",
       "      <td>47.0</td>\n",
       "      <td>340.0</td>\n",
       "      <td>75.0</td>\n",
       "    </tr>\n",
       "    <tr>\n",
       "      <th>3</th>\n",
       "      <td>1000</td>\n",
       "      <td>8</td>\n",
       "      <td>14.0</td>\n",
       "      <td>52.0</td>\n",
       "      <td>408.0</td>\n",
       "      <td>81.0</td>\n",
       "    </tr>\n",
       "    <tr>\n",
       "      <th>4</th>\n",
       "      <td>1000</td>\n",
       "      <td>9</td>\n",
       "      <td>15.0</td>\n",
       "      <td>58.0</td>\n",
       "      <td>466.0</td>\n",
       "      <td>57.0</td>\n",
       "    </tr>\n",
       "  </tbody>\n",
       "</table>\n",
       "</div>"
      ],
      "text/plain": [
       "   user_id  month  gb_used  calls_count  calls_mins  sms_sent\n",
       "0     1000      5      3.0         22.0       159.0      22.0\n",
       "1     1000      6     23.0         43.0       172.0      60.0\n",
       "2     1000      7     14.0         47.0       340.0      75.0\n",
       "3     1000      8     14.0         52.0       408.0      81.0\n",
       "4     1000      9     15.0         58.0       466.0      57.0"
      ]
     },
     "execution_count": 31,
     "metadata": {},
     "output_type": "execute_result"
    }
   ],
   "source": [
    "# Используем метод 'outer' чтобы не потерять часть данных.\n",
    "combo_df = internet_mounth.set_index(['user_id','month']) \\\n",
    "                          .join(other=[calls_mounth.set_index(['user_id','month']),\n",
    "                                       messages_mounth.set_index(['user_id','month'])],\n",
    "                                how='outer').reset_index()\n",
    "combo_df.head()"
   ]
  },
  {
   "cell_type": "markdown",
   "id": "7a349e3d-9126-4adc-aa60-8d5b06a56f7c",
   "metadata": {},
   "source": [
    "Добавим информацию по тарифам и пользователям."
   ]
  },
  {
   "cell_type": "code",
   "execution_count": 32,
   "id": "d3e24c2a-2c8c-4630-a517-50fa3c7872d7",
   "metadata": {},
   "outputs": [],
   "source": [
    "# Добавим в датафрейм данные из users, а затем получив имя тарифа из tariffs.\n",
    "# В результате объединения получатся идентичные столбцы, поэтому удалим tariff_name.\n",
    "combo_df = combo_df.merge(users[['age_group','city','tariff','sex','user_id']], on='user_id') \\\n",
    "                   .merge(tariffs, left_on='tariff', right_on='tariff_name') \\\n",
    "                   .drop(columns='tariff_name') \\\n",
    "                   .reset_index(drop=True)"
   ]
  },
  {
   "cell_type": "markdown",
   "id": "aa328548-25fe-469e-b3f0-1c7073377a51",
   "metadata": {},
   "source": [
    "После объединения 'outer' должны были образовать NaN. Заполним их нулями из предположения что пользователь не использовал определённые услуги."
   ]
  },
  {
   "cell_type": "code",
   "execution_count": 33,
   "id": "523ca0a1-6044-4886-a442-e999b57c4e88",
   "metadata": {},
   "outputs": [
    {
     "data": {
      "text/html": [
       "<div>\n",
       "<style scoped>\n",
       "    .dataframe tbody tr th:only-of-type {\n",
       "        vertical-align: middle;\n",
       "    }\n",
       "\n",
       "    .dataframe tbody tr th {\n",
       "        vertical-align: top;\n",
       "    }\n",
       "\n",
       "    .dataframe thead th {\n",
       "        text-align: right;\n",
       "    }\n",
       "</style>\n",
       "<table border=\"1\" class=\"dataframe\">\n",
       "  <thead>\n",
       "    <tr style=\"text-align: right;\">\n",
       "      <th></th>\n",
       "      <th>user_id</th>\n",
       "      <th>month</th>\n",
       "      <th>gb_used</th>\n",
       "      <th>calls_count</th>\n",
       "      <th>calls_mins</th>\n",
       "      <th>sms_sent</th>\n",
       "      <th>age_group</th>\n",
       "      <th>city</th>\n",
       "      <th>tariff</th>\n",
       "      <th>sex</th>\n",
       "      <th>messages_included</th>\n",
       "      <th>minutes_included</th>\n",
       "      <th>rub_monthly_fee</th>\n",
       "      <th>rub_per_gb</th>\n",
       "      <th>rub_per_message</th>\n",
       "      <th>rub_per_minute</th>\n",
       "      <th>gb_per_month_included</th>\n",
       "    </tr>\n",
       "  </thead>\n",
       "  <tbody>\n",
       "    <tr>\n",
       "      <th>26</th>\n",
       "      <td>1018</td>\n",
       "      <td>5</td>\n",
       "      <td>5.0</td>\n",
       "      <td>80.0</td>\n",
       "      <td>507.0</td>\n",
       "      <td>30.0</td>\n",
       "      <td>old</td>\n",
       "      <td>Уфа</td>\n",
       "      <td>ultra</td>\n",
       "      <td>m</td>\n",
       "      <td>1000</td>\n",
       "      <td>3000</td>\n",
       "      <td>1950</td>\n",
       "      <td>150</td>\n",
       "      <td>1</td>\n",
       "      <td>1</td>\n",
       "      <td>30</td>\n",
       "    </tr>\n",
       "    <tr>\n",
       "      <th>1133</th>\n",
       "      <td>1032</td>\n",
       "      <td>4</td>\n",
       "      <td>17.0</td>\n",
       "      <td>76.0</td>\n",
       "      <td>521.0</td>\n",
       "      <td>30.0</td>\n",
       "      <td>young</td>\n",
       "      <td>Ульяновск</td>\n",
       "      <td>smart</td>\n",
       "      <td>f</td>\n",
       "      <td>50</td>\n",
       "      <td>500</td>\n",
       "      <td>550</td>\n",
       "      <td>200</td>\n",
       "      <td>3</td>\n",
       "      <td>3</td>\n",
       "      <td>15</td>\n",
       "    </tr>\n",
       "    <tr>\n",
       "      <th>2185</th>\n",
       "      <td>1262</td>\n",
       "      <td>10</td>\n",
       "      <td>19.0</td>\n",
       "      <td>39.0</td>\n",
       "      <td>309.0</td>\n",
       "      <td>41.0</td>\n",
       "      <td>young</td>\n",
       "      <td>Ульяновск</td>\n",
       "      <td>smart</td>\n",
       "      <td>f</td>\n",
       "      <td>50</td>\n",
       "      <td>500</td>\n",
       "      <td>550</td>\n",
       "      <td>200</td>\n",
       "      <td>3</td>\n",
       "      <td>3</td>\n",
       "      <td>15</td>\n",
       "    </tr>\n",
       "    <tr>\n",
       "      <th>490</th>\n",
       "      <td>1277</td>\n",
       "      <td>5</td>\n",
       "      <td>19.0</td>\n",
       "      <td>47.0</td>\n",
       "      <td>418.0</td>\n",
       "      <td>145.0</td>\n",
       "      <td>young</td>\n",
       "      <td>Новосибирск</td>\n",
       "      <td>ultra</td>\n",
       "      <td>f</td>\n",
       "      <td>1000</td>\n",
       "      <td>3000</td>\n",
       "      <td>1950</td>\n",
       "      <td>150</td>\n",
       "      <td>1</td>\n",
       "      <td>1</td>\n",
       "      <td>30</td>\n",
       "    </tr>\n",
       "    <tr>\n",
       "      <th>2828</th>\n",
       "      <td>1419</td>\n",
       "      <td>10</td>\n",
       "      <td>11.0</td>\n",
       "      <td>69.0</td>\n",
       "      <td>465.0</td>\n",
       "      <td>41.0</td>\n",
       "      <td>young</td>\n",
       "      <td>Новороссийск</td>\n",
       "      <td>smart</td>\n",
       "      <td>f</td>\n",
       "      <td>50</td>\n",
       "      <td>500</td>\n",
       "      <td>550</td>\n",
       "      <td>200</td>\n",
       "      <td>3</td>\n",
       "      <td>3</td>\n",
       "      <td>15</td>\n",
       "    </tr>\n",
       "  </tbody>\n",
       "</table>\n",
       "</div>"
      ],
      "text/plain": [
       "      user_id  month  gb_used  calls_count  calls_mins  sms_sent age_group  \\\n",
       "26       1018      5      5.0         80.0       507.0      30.0       old   \n",
       "1133     1032      4     17.0         76.0       521.0      30.0     young   \n",
       "2185     1262     10     19.0         39.0       309.0      41.0     young   \n",
       "490      1277      5     19.0         47.0       418.0     145.0     young   \n",
       "2828     1419     10     11.0         69.0       465.0      41.0     young   \n",
       "\n",
       "              city tariff sex  messages_included  minutes_included  \\\n",
       "26             Уфа  ultra   m               1000              3000   \n",
       "1133     Ульяновск  smart   f                 50               500   \n",
       "2185     Ульяновск  smart   f                 50               500   \n",
       "490    Новосибирск  ultra   f               1000              3000   \n",
       "2828  Новороссийск  smart   f                 50               500   \n",
       "\n",
       "      rub_monthly_fee  rub_per_gb  rub_per_message  rub_per_minute  \\\n",
       "26               1950         150                1               1   \n",
       "1133              550         200                3               3   \n",
       "2185              550         200                3               3   \n",
       "490              1950         150                1               1   \n",
       "2828              550         200                3               3   \n",
       "\n",
       "      gb_per_month_included  \n",
       "26                       30  \n",
       "1133                     15  \n",
       "2185                     15  \n",
       "490                      30  \n",
       "2828                     15  "
      ]
     },
     "execution_count": 33,
     "metadata": {},
     "output_type": "execute_result"
    }
   ],
   "source": [
    "combo_df.fillna(0, inplace=True)\n",
    "\n",
    "# Выводим окончательный датафрейм:\n",
    "combo_df.sample(5)"
   ]
  },
  {
   "cell_type": "markdown",
   "id": "353285c9-28b9-47a6-846f-a23d92bce6ef",
   "metadata": {},
   "source": [
    "## Помесячная выручка с каждого пользователя"
   ]
  },
  {
   "cell_type": "code",
   "execution_count": 34,
   "id": "a117bac6-efc1-4ddf-89d4-336e8ed23ddb",
   "metadata": {},
   "outputs": [],
   "source": [
    "# Вычитаем из израсходованных услуг бесплатный объем входящий в тариф, после чего умножаем на clip чтобы\n",
    "# не образовалось отрицательных значений, затем умножаем на стоимость единичной услуги и прибавляем абонентскую плату.\n",
    "combo_df['profit'] = (combo_df.gb_used - combo_df.gb_per_month_included).clip(lower=0) * combo_df.rub_per_gb + \\\n",
    "                     (combo_df.calls_mins - combo_df.minutes_included).clip(lower=0) * combo_df.rub_per_minute + \\\n",
    "                     (combo_df.sms_sent - combo_df.messages_included).clip(lower=0) * combo_df.rub_per_message + \\\n",
    "                     combo_df.rub_monthly_fee"
   ]
  },
  {
   "cell_type": "markdown",
   "id": "2c2ae699-a0af-469f-9c09-64256055038b",
   "metadata": {},
   "source": [
    "# Анализ данных"
   ]
  },
  {
   "cell_type": "markdown",
   "id": "66a4b7ca-cd38-446c-b6be-51d6ef2db862",
   "metadata": {},
   "source": [
    "## Гистограммы для разных наборов параметров"
   ]
  },
  {
   "cell_type": "code",
   "execution_count": 35,
   "id": "00a07b99-4ddb-48a8-9b15-0e87a49f923d",
   "metadata": {},
   "outputs": [
    {
     "data": {
      "image/png": "[encoded data removed]",
      "text/plain": [
       "<Figure size 1152x360 with 2 Axes>"
      ]
     },
     "metadata": {
      "needs_background": "light"
     },
     "output_type": "display_data"
    },
    {
     "data": {
      "image/png": "[encoded data removed]",
      "text/plain": [
       "<Figure size 1152x360 with 2 Axes>"
      ]
     },
     "metadata": {
      "needs_background": "light"
     },
     "output_type": "display_data"
    },
    {
     "data": {
      "image/png": "[encoded data removed]",
      "text/plain": [
       "<Figure size 1152x360 with 2 Axes>"
      ]
     },
     "metadata": {
      "needs_background": "light"
     },
     "output_type": "display_data"
    },
    {
     "data": {
      "image/png": "[encoded data removed]",
      "text/plain": [
       "<Figure size 1152x360 with 2 Axes>"
      ]
     },
     "metadata": {
      "needs_background": "light"
     },
     "output_type": "display_data"
    },
    {
     "data": {
      "image/png": "[encoded data removed]",
      "text/plain": [
       "<Figure size 1152x360 with 2 Axes>"
      ]
     },
     "metadata": {
      "needs_background": "light"
     },
     "output_type": "display_data"
    },
    {
     "data": {
      "image/png": "[encoded data removed]",
      "text/plain": [
       "<Figure size 1152x360 with 2 Axes>"
      ]
     },
     "metadata": {
      "needs_background": "light"
     },
     "output_type": "display_data"
    },
    {
     "data": {
      "image/png": "[encoded data removed]",
      "text/plain": [
       "<Figure size 1152x360 with 2 Axes>"
      ]
     },
     "metadata": {
      "needs_background": "light"
     },
     "output_type": "display_data"
    },
    {
     "data": {
      "image/png": "[encoded data removed]",
      "text/plain": [
       "<Figure size 1152x360 with 2 Axes>"
      ]
     },
     "metadata": {
      "needs_background": "light"
     },
     "output_type": "display_data"
    },
    {
     "data": {
      "image/png": "[encoded data removed]",
      "text/plain": [
       "<Figure size 1152x360 with 2 Axes>"
      ]
     },
     "metadata": {
      "needs_background": "light"
     },
     "output_type": "display_data"
    },
    {
     "data": {
      "image/png": "[encoded data removed]",
      "text/plain": [
       "<Figure size 1152x360 with 2 Axes>"
      ]
     },
     "metadata": {
      "needs_background": "light"
     },
     "output_type": "display_data"
    },
    {
     "data": {
      "image/png": "[encoded data removed]",
      "text/plain": [
       "<Figure size 1152x360 with 2 Axes>"
      ]
     },
     "metadata": {
      "needs_background": "light"
     },
     "output_type": "display_data"
    },
    {
     "data": {
      "image/png": "[encoded data removed]",
      "text/plain": [
       "<Figure size 1152x360 with 2 Axes>"
      ]
     },
     "metadata": {
      "needs_background": "light"
     },
     "output_type": "display_data"
    }
   ],
   "source": [
    "for x in ['gb_used','calls_mins','sms_sent','profit']:\n",
    "    for hue in ['tariff','sex','age_group']:\n",
    "        fig, axes = plt.subplots(1, 2, figsize=(16,5), sharex=True, sharey=True)\n",
    "        \n",
    "        sns.histplot(data=combo_df[combo_df.city.isin(['Москва','Санкт-Петербург'])],\n",
    "                     x=x, hue=hue, stat='probability', ax=axes[0])\n",
    "        sns.histplot(data=combo_df,\n",
    "                     x=x, hue=hue, stat='probability', ax=axes[1])\n",
    "        \n",
    "        fig.suptitle(f'Гистограмма использованных {x} для разных {hue}', fontsize=16)\n",
    "        axes[0].set_title('По МСК и СПБ')\n",
    "        axes[1].set_title('По всем городам')\n",
    "        # Отступ чтобы заголовок не пересекался с подзаголовками.\n",
    "        plt.subplots_adjust(top=0.85)\n",
    "        plt.show()"
   ]
  },
  {
   "cell_type": "markdown",
   "id": "2383d0c4-341c-4272-bbb8-066b2a8eaec9",
   "metadata": {},
   "source": [
    "## Среднее количество, медиана, стандартное отклонение и дисперсия"
   ]
  },
  {
   "cell_type": "code",
   "execution_count": 36,
   "id": "c4f62e7b-d346-4d94-94bc-117fcffff69c",
   "metadata": {},
   "outputs": [
    {
     "data": {
      "text/html": [
       "<style type=\"text/css\">\n",
       "</style>\n",
       "<table id=\"T_0f49c_\">\n",
       "  <thead>\n",
       "    <tr>\n",
       "      <th class=\"blank level0\" >&nbsp;</th>\n",
       "      <th class=\"col_heading level0 col0\" colspan=\"2\">mean</th>\n",
       "      <th class=\"col_heading level0 col2\" colspan=\"2\">median</th>\n",
       "      <th class=\"col_heading level0 col4\" colspan=\"2\">std</th>\n",
       "      <th class=\"col_heading level0 col6\" colspan=\"2\">var</th>\n",
       "      <th class=\"col_heading level0 col8\" colspan=\"2\">kurtosis</th>\n",
       "    </tr>\n",
       "    <tr>\n",
       "      <th class=\"index_name level1\" >tariff</th>\n",
       "      <th class=\"col_heading level1 col0\" >smart</th>\n",
       "      <th class=\"col_heading level1 col1\" >ultra</th>\n",
       "      <th class=\"col_heading level1 col2\" >smart</th>\n",
       "      <th class=\"col_heading level1 col3\" >ultra</th>\n",
       "      <th class=\"col_heading level1 col4\" >smart</th>\n",
       "      <th class=\"col_heading level1 col5\" >ultra</th>\n",
       "      <th class=\"col_heading level1 col6\" >smart</th>\n",
       "      <th class=\"col_heading level1 col7\" >ultra</th>\n",
       "      <th class=\"col_heading level1 col8\" >smart</th>\n",
       "      <th class=\"col_heading level1 col9\" >ultra</th>\n",
       "    </tr>\n",
       "  </thead>\n",
       "  <tbody>\n",
       "    <tr>\n",
       "      <th id=\"T_0f49c_level0_row0\" class=\"row_heading level0 row0\" >calls_mins</th>\n",
       "      <td id=\"T_0f49c_row0_col0\" class=\"data row0 col0\" >417.93</td>\n",
       "      <td id=\"T_0f49c_row0_col1\" class=\"data row0 col1\" >526.62</td>\n",
       "      <td id=\"T_0f49c_row0_col2\" class=\"data row0 col2\" >422.00</td>\n",
       "      <td id=\"T_0f49c_row0_col3\" class=\"data row0 col3\" >518.00</td>\n",
       "      <td id=\"T_0f49c_row0_col4\" class=\"data row0 col4\" >190.31</td>\n",
       "      <td id=\"T_0f49c_row0_col5\" class=\"data row0 col5\" >317.61</td>\n",
       "      <td id=\"T_0f49c_row0_col6\" class=\"data row0 col6\" >36219.32</td>\n",
       "      <td id=\"T_0f49c_row0_col7\" class=\"data row0 col7\" >100873.63</td>\n",
       "      <td id=\"T_0f49c_row0_col8\" class=\"data row0 col8\" >0.12</td>\n",
       "      <td id=\"T_0f49c_row0_col9\" class=\"data row0 col9\" >-0.29</td>\n",
       "    </tr>\n",
       "    <tr>\n",
       "      <th id=\"T_0f49c_level0_row1\" class=\"row_heading level0 row1\" >gb_used</th>\n",
       "      <td id=\"T_0f49c_row1_col0\" class=\"data row1 col0\" >16.33</td>\n",
       "      <td id=\"T_0f49c_row1_col1\" class=\"data row1 col1\" >19.49</td>\n",
       "      <td id=\"T_0f49c_row1_col2\" class=\"data row1 col2\" >17.00</td>\n",
       "      <td id=\"T_0f49c_row1_col3\" class=\"data row1 col3\" >19.00</td>\n",
       "      <td id=\"T_0f49c_row1_col4\" class=\"data row1 col4\" >5.75</td>\n",
       "      <td id=\"T_0f49c_row1_col5\" class=\"data row1 col5\" >9.85</td>\n",
       "      <td id=\"T_0f49c_row1_col6\" class=\"data row1 col6\" >33.03</td>\n",
       "      <td id=\"T_0f49c_row1_col7\" class=\"data row1 col7\" >97.09</td>\n",
       "      <td id=\"T_0f49c_row1_col8\" class=\"data row1 col8\" >0.37</td>\n",
       "      <td id=\"T_0f49c_row1_col9\" class=\"data row1 col9\" >-0.46</td>\n",
       "    </tr>\n",
       "    <tr>\n",
       "      <th id=\"T_0f49c_level0_row2\" class=\"row_heading level0 row2\" >profit</th>\n",
       "      <td id=\"T_0f49c_row2_col0\" class=\"data row2 col0\" >1289.97</td>\n",
       "      <td id=\"T_0f49c_row2_col1\" class=\"data row2 col1\" >2070.15</td>\n",
       "      <td id=\"T_0f49c_row2_col2\" class=\"data row2 col2\" >1023.00</td>\n",
       "      <td id=\"T_0f49c_row2_col3\" class=\"data row2 col3\" >1950.00</td>\n",
       "      <td id=\"T_0f49c_row2_col4\" class=\"data row2 col4\" >818.40</td>\n",
       "      <td id=\"T_0f49c_row2_col5\" class=\"data row2 col5\" >376.19</td>\n",
       "      <td id=\"T_0f49c_row2_col6\" class=\"data row2 col6\" >669785.71</td>\n",
       "      <td id=\"T_0f49c_row2_col7\" class=\"data row2 col7\" >141516.75</td>\n",
       "      <td id=\"T_0f49c_row2_col8\" class=\"data row2 col8\" >3.00</td>\n",
       "      <td id=\"T_0f49c_row2_col9\" class=\"data row2 col9\" >14.56</td>\n",
       "    </tr>\n",
       "    <tr>\n",
       "      <th id=\"T_0f49c_level0_row3\" class=\"row_heading level0 row3\" >sms_sent</th>\n",
       "      <td id=\"T_0f49c_row3_col0\" class=\"data row3 col0\" >33.38</td>\n",
       "      <td id=\"T_0f49c_row3_col1\" class=\"data row3 col1\" >49.36</td>\n",
       "      <td id=\"T_0f49c_row3_col2\" class=\"data row3 col2\" >28.00</td>\n",
       "      <td id=\"T_0f49c_row3_col3\" class=\"data row3 col3\" >38.00</td>\n",
       "      <td id=\"T_0f49c_row3_col4\" class=\"data row3 col4\" >28.23</td>\n",
       "      <td id=\"T_0f49c_row3_col5\" class=\"data row3 col5\" >47.80</td>\n",
       "      <td id=\"T_0f49c_row3_col6\" class=\"data row3 col6\" >796.81</td>\n",
       "      <td id=\"T_0f49c_row3_col7\" class=\"data row3 col7\" >2285.27</td>\n",
       "      <td id=\"T_0f49c_row3_col8\" class=\"data row3 col8\" >0.14</td>\n",
       "      <td id=\"T_0f49c_row3_col9\" class=\"data row3 col9\" >0.34</td>\n",
       "    </tr>\n",
       "  </tbody>\n",
       "</table>\n"
      ],
      "text/plain": [
       "<pandas.io.formats.style.Styler at 0x2b2925ca3a0>"
      ]
     },
     "execution_count": 36,
     "metadata": {},
     "output_type": "execute_result"
    }
   ],
   "source": [
    "# Построим сводную таблицу.\n",
    "combo_df.pivot_table(columns='tariff',\n",
    "                     values=['gb_used','calls_mins','sms_sent','profit'],\n",
    "                     aggfunc=['mean','median','std','var',st.kurtosis]) \\\n",
    "        .style.format('{:.2f}')"
   ]
  },
  {
   "cell_type": "markdown",
   "id": "09921c04-7eac-49c1-b75f-425f9f9b0454",
   "metadata": {},
   "source": [
    "## Выводы"
   ]
  },
  {
   "cell_type": "markdown",
   "id": "122e1971-3248-4559-9f77-41f2b9717205",
   "metadata": {},
   "source": [
    "* Распределения преимущественно биноминальные.\n",
    "* Потребление интернет-трафика близко к форме симметричного нормального распределения. 20 ГБ хватает большинству пользователей независимо от тарифа. При этом в тарифе ultra отсутствует выраженный пик и более высокая дисперсия чем в тарифе smart. В столицах женщины обеспечивают больший объем трафика чем мужчины.\n",
    "* Пользователи тарифа ultra в среднем общаются больше. Женщины чаще говорят по телефону чем мужчины. Абоненты из категории mature расходуют больше минут на разговоры. Оба тарифа с запасом перекрывают потребности пользователей в общении.\n",
    "* Количество sms отправленных пользователями не велико (пользователи ultra чаще отправляют sms), при этом женщины предпочитают мессенджеры и соц. сети sms сообщениям. Это заметно в МСК и СПБ. Распределение смещено вправо.\n",
    "* Большинство абонентов тарифа ultra платит в месяц только абонентскую плату, в то время как пользователи smart в среднем платят в 2 раза больше абонентской платы."
   ]
  },
  {
   "cell_type": "markdown",
   "id": "2d9ee734-79eb-428a-b257-1a72da0d1963",
   "metadata": {},
   "source": [
    "# Проверка гипотез"
   ]
  },
  {
   "cell_type": "markdown",
   "id": "295843f5-5951-45fd-ba3f-37becd742365",
   "metadata": {},
   "source": [
    "## Гипотеза 1 - средняя выручка пользователей тарифов «Ультра» и «Смарт» различаются"
   ]
  },
  {
   "cell_type": "markdown",
   "id": "f0620717-61fa-4dee-8f5b-3250b4d492b5",
   "metadata": {},
   "source": [
    "Зададим пороговое значение alpha."
   ]
  },
  {
   "cell_type": "code",
   "execution_count": 37,
   "id": "f11dd4a1-c4c0-46b8-aebf-823f5fba4124",
   "metadata": {},
   "outputs": [],
   "source": [
    "alpha = 0.05"
   ]
  },
  {
   "cell_type": "markdown",
   "id": "ee9288f9-416d-4197-8db3-def46eac9750",
   "metadata": {},
   "source": [
    "Для проверки гипотез будем использовать p-value (вероятность получить наблюдаемый результат при условии, что нулевая гипотеза верна)."
   ]
  },
  {
   "cell_type": "markdown",
   "id": "14e511ff-7f9e-49f4-a4d3-2e0f3b059ac6",
   "metadata": {},
   "source": [
    "* Нулевая гипотеза чаще всего задается равенством, поэтому h<sub>0</sub> - выручка тарифов одинакова.\n",
    "* Альтернативная гипотеза h<sub>1</sub> соответственно выражает неравенство."
   ]
  },
  {
   "cell_type": "code",
   "execution_count": 38,
   "id": "dfc321e0-9b8c-4457-8ce6-169789ccfbe3",
   "metadata": {},
   "outputs": [],
   "source": [
    "# Используем ttest_1samp так как выборки имеют разный размер (хотя ttest_ind с equal_var=False выдает такой же результат).\n",
    "results = st.ttest_1samp(combo_df[combo_df.tariff == 'ultra'].profit,\n",
    "                         combo_df[combo_df.tariff == 'smart'].profit.mean())"
   ]
  },
  {
   "cell_type": "code",
   "execution_count": 39,
   "id": "1048e042-be5c-41b2-8020-6688941fdbf0",
   "metadata": {},
   "outputs": [
    {
     "name": "stdout",
     "output_type": "stream",
     "text": [
      "p-значение: 0.0\n"
     ]
    }
   ],
   "source": [
    "# Тест двухсторонний. Нам не важно больше или меньше выручка у тарифов.\n",
    "print('p-значение:', results.pvalue)"
   ]
  },
  {
   "cell_type": "code",
   "execution_count": 40,
   "id": "b1f69e8a-c21a-4bb3-b8b4-94596150b3d5",
   "metadata": {},
   "outputs": [
    {
     "name": "stdout",
     "output_type": "stream",
     "text": [
      "Среднее для тарифа ultra: 2070.1522842639592\n",
      "Среднее для тарифа smart: 1289.9735307312696\n"
     ]
    }
   ],
   "source": [
    "print('Среднее для тарифа ultra:', combo_df[combo_df.tariff == 'ultra'].profit.mean())\n",
    "print('Среднее для тарифа smart:', combo_df[combo_df.tariff == 'smart'].profit.mean())"
   ]
  },
  {
   "cell_type": "markdown",
   "id": "2df0265d-d7da-40b1-be76-a146ffd113c7",
   "metadata": {},
   "source": [
    "**Отвергаем нулевую гипотезу. Результат статистически значимый, p-значение фактически равно нулю.**"
   ]
  },
  {
   "cell_type": "markdown",
   "id": "b27ac939-6217-43f8-b8c7-571bcbf8a551",
   "metadata": {},
   "source": [
    "## Гипотеза 2 - средняя выручка пользователей из Москвы отличается от выручки пользователей из других регионов"
   ]
  },
  {
   "cell_type": "markdown",
   "id": "f55326a6-dece-4606-a3a6-067c779bbbef",
   "metadata": {},
   "source": [
    "* Нулевая гипотеза h<sub>0</sub> - средняя выручка пользователей в Москве и других регионах одинакова.\n",
    "* Альтернативная гипотеза h<sub>1</sub> - выручка отличается."
   ]
  },
  {
   "cell_type": "code",
   "execution_count": 41,
   "id": "739f6e2b-d358-49d6-a52c-4ccfdee63fa5",
   "metadata": {},
   "outputs": [
    {
     "name": "stdout",
     "output_type": "stream",
     "text": [
      "p-значение: 0.4744239730695693\n"
     ]
    }
   ],
   "source": [
    "results = st.ttest_1samp(combo_df[combo_df.city == 'Москва'].profit,\n",
    "                         combo_df[combo_df.city != 'Москва'].profit.mean())\n",
    "\n",
    "print('p-значение:', results.pvalue)"
   ]
  },
  {
   "cell_type": "code",
   "execution_count": 42,
   "id": "bc2f1e8b-457e-4784-bde3-d55b04b21c48",
   "metadata": {},
   "outputs": [
    {
     "name": "stdout",
     "output_type": "stream",
     "text": [
      "p-значение: 0.2238604899210928\n"
     ]
    }
   ],
   "source": [
    "# Альтернативный вариант расчета. Результат получается в диапазоне 0.2-0.8.\n",
    "results = st.ttest_ind(combo_df[combo_df.city == 'Москва'].profit,\n",
    "                       # Используем sample чтобы выборки получились одинакового размера.\n",
    "                       combo_df[combo_df.city != 'Москва'].profit\n",
    "                           .sample(len(combo_df[combo_df.city == 'Москва'].profit)))\n",
    "\n",
    "print('p-значение:', results.pvalue)"
   ]
  },
  {
   "cell_type": "code",
   "execution_count": 43,
   "id": "3c36fbee-afd4-407d-8f2a-e995fcc93168",
   "metadata": {},
   "outputs": [
    {
     "name": "stdout",
     "output_type": "stream",
     "text": [
      "Среднее для Москвы: 1546.7135842880523\n",
      "Среднее для регионов: 1524.9362274298885\n"
     ]
    }
   ],
   "source": [
    "print('Среднее для Москвы:', combo_df[combo_df.city == 'Москва'].profit.mean())\n",
    "print('Среднее для регионов:', combo_df[combo_df.city != 'Москва'].profit.mean())"
   ]
  },
  {
   "cell_type": "markdown",
   "id": "afe30005-c957-46ec-b02b-958a619e935e",
   "metadata": {},
   "source": [
    "**Не отвергаем нулевую гипотезу о том что средняя выручка одинакова. При этом отмечаем что средние получились почти равные, а значит заметное отличие в выручке не наблюдается.**"
   ]
  },
  {
   "cell_type": "markdown",
   "id": "ebe1d2f5-5448-4826-855d-b1be743ddecd",
   "metadata": {},
   "source": [
    "# Общий вывод"
   ]
  },
  {
   "cell_type": "markdown",
   "id": "2e04d3c0-a8e8-486b-bce3-41e427c7fd27",
   "metadata": {},
   "source": [
    "* Проведен предварительный анализ тарифов на небольшой выборке клиентов, позволяющий определить дальнейшую стратегию телекоммуникационной компании.\n",
    "* Более выгодным для оператора является тариф ultra, объем использованных услуг абонентов сопоставим с тарифом smart, а ежемесячный платеж почти в 2 раза выше.\n",
    "* Пакет услуг в тарифе smart хорошо подобран чтобы стимулировать покупку дополнительных минут и гигабайт, это увеличивает ежемесячный платеж в 2 раза в сравнении с абонентской платой.\n",
    "* Данные не противоречат гипотезе о том, что средняя выручка пользователей тарифов «Ультра» и «Смарт» различаются.\n",
    "* Гипотеза «Средняя выручка пользователей из Москвы отличается от выручки пользователей из других регионов» подтверждение не получила."
   ]
  },
  {
   "cell_type": "code",
   "execution_count": null,
   "id": "89b5c62c-6a06-401a-85b5-137b65ca77a7",
   "metadata": {},
   "outputs": [],
   "source": []
  }
 ],
 "metadata": {
  "kernelspec": {
   "display_name": "Python 3 (ipykernel)",
   "language": "python",
   "name": "python3"
  },
  "language_info": {
   "codemirror_mode": {
    "name": "ipython",
    "version": 3
   },
   "file_extension": ".py",
   "mimetype": "text/x-python",
   "name": "python",
   "nbconvert_exporter": "python",
   "pygments_lexer": "ipython3",
   "version": "3.9.9"
  }
 },
 "nbformat": 4,
 "nbformat_minor": 5
}
